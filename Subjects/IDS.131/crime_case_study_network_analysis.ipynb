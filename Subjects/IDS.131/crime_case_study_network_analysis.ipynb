{
 "cells": [
  {
   "cell_type": "markdown",
   "metadata": {},
   "source": [
    "### PS4"
   ]
  },
  {
   "cell_type": "markdown",
   "metadata": {},
   "source": [
    "\n",
    "\n",
    "**Problem 4.1**\n",
    "\n",
    "If $A$ is a citation matrix with $a_{ij}$ as its entries, where $i$ and $j$ are indexes of papers, such that $a_{ij}=1$ when $i$ is *cited by* $j$. \n",
    "\n",
    "**(a)**\n",
    "\n",
    "$B = AA^T$ with entires $b_{ij}$ is the co-citation adjacency matrix. Each entry contains the number of papers that cite both paper $i$ and $j$.\n",
    "\n",
    "\n",
    "**(b)**\n",
    "\n",
    "$C = A^TA$ with entires $c_{ij}$ is the bibliographic coupling adjacency matrix. Each entry contains the number of papers that are cited by both paper $i$ as well as $j$.\n",
    "\n",
    "**(c)**\n",
    "\n",
    "They give different results for a few reasons. The co-citation matrix can evolve over time and contains more entries, as more people continue to cite both the papers. In a field there can be some highly decorated works that are similar and cited by a lot of further research. The biblographic coupling on the other hand is fixed because it refers to past research, and has a smaller body of work that can be cited.  \n",
    "\n",
    "Both can be useful metrics to determine similarity and a combination of the results of the two matrices should be seen (maybe a weighted sum or a index-wise product). However, if I had to pick one- it would be the cocitation matrix. If a lot of papers in the future keep citing two papers among a growing body of work, it is highly likely they are similar. Meanwhile a bibliographic matrix could just identify some of the main works in the field that a lot of papers (including the two under consideration) cite."
   ]
  },
  {
   "cell_type": "markdown",
   "metadata": {},
   "source": [
    " **Problem 4.2(a)**"
   ]
  },
  {
   "cell_type": "code",
   "execution_count": 2,
   "metadata": {},
   "outputs": [],
   "source": [
    "\n",
    "import pandas as pd\n",
    "import numpy as np\n",
    "import networkx as nx\n",
    "import matplotlib.pyplot as plt\n",
    "import math\n",
    "import seaborn as sns\n",
    "\n",
    "phase1= pd.read_csv('CAVIAR_Phases/phase1.csv', index_col=0)\n",
    "phase2= pd.read_csv('CAVIAR_Phases/phase2.csv', index_col=0)\n",
    "\n",
    "deg= []\n",
    "bet= []\n",
    "eig= []\n",
    "data=[]\n",
    "x=str(0)\n",
    "\n",
    "for i in range(1,12):\n",
    "    x=str(i)+\".csv\"\n",
    "    #print(x)\n",
    "    phase = pd.read_csv('CAVIAR_Phases/phase'+x, index_col=0)\n",
    "    colnames=list(phase.columns.values)\n",
    "    Dict={}\n",
    "    for i in range(len(colnames)):\n",
    "        Dict[i]=colnames[i]\n",
    "    G=nx.DiGraph(phase.values, with_labels = True)\n",
    "    G=nx.relabel_nodes(G,Dict)\n",
    "    data.append(G)\n",
    "\n",
    "G = data[0]\n",
    "\n",
    "#degre_dict['1']\n",
    "\n",
    "#nx.draw(G)\n"
   ]
  },
  {
   "cell_type": "code",
   "execution_count": 3,
   "metadata": {},
   "outputs": [
    {
     "data": {
      "text/html": [
       "<div>\n",
       "<style scoped>\n",
       "    .dataframe tbody tr th:only-of-type {\n",
       "        vertical-align: middle;\n",
       "    }\n",
       "\n",
       "    .dataframe tbody tr th {\n",
       "        vertical-align: top;\n",
       "    }\n",
       "\n",
       "    .dataframe thead th {\n",
       "        text-align: right;\n",
       "    }\n",
       "</style>\n",
       "<table border=\"1\" class=\"dataframe\">\n",
       "  <thead>\n",
       "    <tr style=\"text-align: right;\">\n",
       "      <th></th>\n",
       "      <th>0</th>\n",
       "      <th>1</th>\n",
       "      <th>2</th>\n",
       "      <th>3</th>\n",
       "      <th>4</th>\n",
       "      <th>5</th>\n",
       "      <th>6</th>\n",
       "      <th>7</th>\n",
       "      <th>8</th>\n",
       "      <th>9</th>\n",
       "      <th>10</th>\n",
       "      <th>Average</th>\n",
       "    </tr>\n",
       "  </thead>\n",
       "  <tbody>\n",
       "    <tr>\n",
       "      <th>1</th>\n",
       "      <td>16</td>\n",
       "      <td>25</td>\n",
       "      <td>36</td>\n",
       "      <td>32</td>\n",
       "      <td>29</td>\n",
       "      <td>30</td>\n",
       "      <td>33</td>\n",
       "      <td>29</td>\n",
       "      <td>14</td>\n",
       "      <td>21</td>\n",
       "      <td>12</td>\n",
       "      <td>25.1818</td>\n",
       "    </tr>\n",
       "    <tr>\n",
       "      <th>3</th>\n",
       "      <td>4</td>\n",
       "      <td>3</td>\n",
       "      <td>12</td>\n",
       "      <td>10</td>\n",
       "      <td>7</td>\n",
       "      <td>18</td>\n",
       "      <td>11</td>\n",
       "      <td>17</td>\n",
       "      <td>16</td>\n",
       "      <td>2</td>\n",
       "      <td>1</td>\n",
       "      <td>9.18182</td>\n",
       "    </tr>\n",
       "    <tr>\n",
       "      <th>12</th>\n",
       "      <td>0</td>\n",
       "      <td>1</td>\n",
       "      <td>2</td>\n",
       "      <td>2</td>\n",
       "      <td>10</td>\n",
       "      <td>17</td>\n",
       "      <td>6</td>\n",
       "      <td>12</td>\n",
       "      <td>12</td>\n",
       "      <td>9</td>\n",
       "      <td>18</td>\n",
       "      <td>8.09091</td>\n",
       "    </tr>\n",
       "    <tr>\n",
       "      <th>76</th>\n",
       "      <td>0</td>\n",
       "      <td>2</td>\n",
       "      <td>3</td>\n",
       "      <td>3</td>\n",
       "      <td>3</td>\n",
       "      <td>10</td>\n",
       "      <td>8</td>\n",
       "      <td>7</td>\n",
       "      <td>6</td>\n",
       "      <td>4</td>\n",
       "      <td>10</td>\n",
       "      <td>5.09091</td>\n",
       "    </tr>\n",
       "    <tr>\n",
       "      <th>85</th>\n",
       "      <td>5</td>\n",
       "      <td>2</td>\n",
       "      <td>4</td>\n",
       "      <td>9</td>\n",
       "      <td>4</td>\n",
       "      <td>6</td>\n",
       "      <td>5</td>\n",
       "      <td>5</td>\n",
       "      <td>5</td>\n",
       "      <td>4</td>\n",
       "      <td>5</td>\n",
       "      <td>4.90909</td>\n",
       "    </tr>\n",
       "    <tr>\n",
       "      <th>87</th>\n",
       "      <td>0</td>\n",
       "      <td>0</td>\n",
       "      <td>0</td>\n",
       "      <td>0</td>\n",
       "      <td>0</td>\n",
       "      <td>2</td>\n",
       "      <td>4</td>\n",
       "      <td>13</td>\n",
       "      <td>12</td>\n",
       "      <td>14</td>\n",
       "      <td>7</td>\n",
       "      <td>4.72727</td>\n",
       "    </tr>\n",
       "    <tr>\n",
       "      <th>83</th>\n",
       "      <td>2</td>\n",
       "      <td>2</td>\n",
       "      <td>10</td>\n",
       "      <td>10</td>\n",
       "      <td>3</td>\n",
       "      <td>3</td>\n",
       "      <td>4</td>\n",
       "      <td>1</td>\n",
       "      <td>1</td>\n",
       "      <td>3</td>\n",
       "      <td>1</td>\n",
       "      <td>3.63636</td>\n",
       "    </tr>\n",
       "    <tr>\n",
       "      <th>82</th>\n",
       "      <td>0</td>\n",
       "      <td>0</td>\n",
       "      <td>0</td>\n",
       "      <td>0</td>\n",
       "      <td>2</td>\n",
       "      <td>2</td>\n",
       "      <td>0</td>\n",
       "      <td>2</td>\n",
       "      <td>9</td>\n",
       "      <td>8</td>\n",
       "      <td>7</td>\n",
       "      <td>2.72727</td>\n",
       "    </tr>\n",
       "    <tr>\n",
       "      <th>8</th>\n",
       "      <td>1</td>\n",
       "      <td>4</td>\n",
       "      <td>2</td>\n",
       "      <td>4</td>\n",
       "      <td>2</td>\n",
       "      <td>5</td>\n",
       "      <td>1</td>\n",
       "      <td>3</td>\n",
       "      <td>4</td>\n",
       "      <td>3</td>\n",
       "      <td>0</td>\n",
       "      <td>2.63636</td>\n",
       "    </tr>\n",
       "    <tr>\n",
       "      <th>88</th>\n",
       "      <td>8</td>\n",
       "      <td>4</td>\n",
       "      <td>2</td>\n",
       "      <td>3</td>\n",
       "      <td>2</td>\n",
       "      <td>0</td>\n",
       "      <td>2</td>\n",
       "      <td>0</td>\n",
       "      <td>1</td>\n",
       "      <td>0</td>\n",
       "      <td>1</td>\n",
       "      <td>2.09091</td>\n",
       "    </tr>\n",
       "    <tr>\n",
       "      <th>89</th>\n",
       "      <td>4</td>\n",
       "      <td>4</td>\n",
       "      <td>2</td>\n",
       "      <td>8</td>\n",
       "      <td>3</td>\n",
       "      <td>0</td>\n",
       "      <td>0</td>\n",
       "      <td>0</td>\n",
       "      <td>1</td>\n",
       "      <td>0</td>\n",
       "      <td>0</td>\n",
       "      <td>2</td>\n",
       "    </tr>\n",
       "    <tr>\n",
       "      <th>6</th>\n",
       "      <td>4</td>\n",
       "      <td>1</td>\n",
       "      <td>5</td>\n",
       "      <td>2</td>\n",
       "      <td>3</td>\n",
       "      <td>1</td>\n",
       "      <td>2</td>\n",
       "      <td>1</td>\n",
       "      <td>1</td>\n",
       "      <td>0</td>\n",
       "      <td>0</td>\n",
       "      <td>1.81818</td>\n",
       "    </tr>\n",
       "    <tr>\n",
       "      <th>86</th>\n",
       "      <td>0</td>\n",
       "      <td>1</td>\n",
       "      <td>7</td>\n",
       "      <td>5</td>\n",
       "      <td>2</td>\n",
       "      <td>0</td>\n",
       "      <td>0</td>\n",
       "      <td>2</td>\n",
       "      <td>0</td>\n",
       "      <td>1</td>\n",
       "      <td>1</td>\n",
       "      <td>1.72727</td>\n",
       "    </tr>\n",
       "    <tr>\n",
       "      <th>11</th>\n",
       "      <td>0</td>\n",
       "      <td>2</td>\n",
       "      <td>3</td>\n",
       "      <td>2</td>\n",
       "      <td>1</td>\n",
       "      <td>2</td>\n",
       "      <td>3</td>\n",
       "      <td>3</td>\n",
       "      <td>1</td>\n",
       "      <td>0</td>\n",
       "      <td>2</td>\n",
       "      <td>1.72727</td>\n",
       "    </tr>\n",
       "    <tr>\n",
       "      <th>84</th>\n",
       "      <td>0</td>\n",
       "      <td>0</td>\n",
       "      <td>5</td>\n",
       "      <td>3</td>\n",
       "      <td>1</td>\n",
       "      <td>2</td>\n",
       "      <td>0</td>\n",
       "      <td>1</td>\n",
       "      <td>0</td>\n",
       "      <td>2</td>\n",
       "      <td>2</td>\n",
       "      <td>1.45455</td>\n",
       "    </tr>\n",
       "    <tr>\n",
       "      <th>5</th>\n",
       "      <td>1</td>\n",
       "      <td>1</td>\n",
       "      <td>2</td>\n",
       "      <td>2</td>\n",
       "      <td>2</td>\n",
       "      <td>4</td>\n",
       "      <td>1</td>\n",
       "      <td>0</td>\n",
       "      <td>0</td>\n",
       "      <td>0</td>\n",
       "      <td>0</td>\n",
       "      <td>1.18182</td>\n",
       "    </tr>\n",
       "    <tr>\n",
       "      <th>96</th>\n",
       "      <td>0</td>\n",
       "      <td>0</td>\n",
       "      <td>0</td>\n",
       "      <td>0</td>\n",
       "      <td>0</td>\n",
       "      <td>0</td>\n",
       "      <td>0</td>\n",
       "      <td>0</td>\n",
       "      <td>5</td>\n",
       "      <td>3</td>\n",
       "      <td>3</td>\n",
       "      <td>1</td>\n",
       "    </tr>\n",
       "    <tr>\n",
       "      <th>17</th>\n",
       "      <td>0</td>\n",
       "      <td>0</td>\n",
       "      <td>0</td>\n",
       "      <td>0</td>\n",
       "      <td>1</td>\n",
       "      <td>2</td>\n",
       "      <td>1</td>\n",
       "      <td>1</td>\n",
       "      <td>2</td>\n",
       "      <td>1</td>\n",
       "      <td>3</td>\n",
       "      <td>1</td>\n",
       "    </tr>\n",
       "    <tr>\n",
       "      <th>77</th>\n",
       "      <td>0</td>\n",
       "      <td>0</td>\n",
       "      <td>0</td>\n",
       "      <td>0</td>\n",
       "      <td>0</td>\n",
       "      <td>4</td>\n",
       "      <td>4</td>\n",
       "      <td>1</td>\n",
       "      <td>0</td>\n",
       "      <td>0</td>\n",
       "      <td>0</td>\n",
       "      <td>0.818182</td>\n",
       "    </tr>\n",
       "    <tr>\n",
       "      <th>16</th>\n",
       "      <td>0</td>\n",
       "      <td>0</td>\n",
       "      <td>0</td>\n",
       "      <td>0</td>\n",
       "      <td>0</td>\n",
       "      <td>0</td>\n",
       "      <td>1</td>\n",
       "      <td>1</td>\n",
       "      <td>2</td>\n",
       "      <td>2</td>\n",
       "      <td>2</td>\n",
       "      <td>0.727273</td>\n",
       "    </tr>\n",
       "    <tr>\n",
       "      <th>106</th>\n",
       "      <td>0</td>\n",
       "      <td>0</td>\n",
       "      <td>0</td>\n",
       "      <td>2</td>\n",
       "      <td>0</td>\n",
       "      <td>0</td>\n",
       "      <td>0</td>\n",
       "      <td>0</td>\n",
       "      <td>0</td>\n",
       "      <td>0</td>\n",
       "      <td>0</td>\n",
       "      <td>0.181818</td>\n",
       "    </tr>\n",
       "    <tr>\n",
       "      <th>80</th>\n",
       "      <td>0</td>\n",
       "      <td>0</td>\n",
       "      <td>0</td>\n",
       "      <td>0</td>\n",
       "      <td>0</td>\n",
       "      <td>0</td>\n",
       "      <td>0</td>\n",
       "      <td>1</td>\n",
       "      <td>0</td>\n",
       "      <td>0</td>\n",
       "      <td>0</td>\n",
       "      <td>0.0909091</td>\n",
       "    </tr>\n",
       "    <tr>\n",
       "      <th>33</th>\n",
       "      <td>0</td>\n",
       "      <td>0</td>\n",
       "      <td>0</td>\n",
       "      <td>0</td>\n",
       "      <td>0</td>\n",
       "      <td>0</td>\n",
       "      <td>0</td>\n",
       "      <td>1</td>\n",
       "      <td>0</td>\n",
       "      <td>0</td>\n",
       "      <td>0</td>\n",
       "      <td>0.0909091</td>\n",
       "    </tr>\n",
       "  </tbody>\n",
       "</table>\n",
       "</div>"
      ],
      "text/plain": [
       "      0   1   2   3   4   5   6   7   8   9  10    Average\n",
       "1    16  25  36  32  29  30  33  29  14  21  12    25.1818\n",
       "3     4   3  12  10   7  18  11  17  16   2   1    9.18182\n",
       "12    0   1   2   2  10  17   6  12  12   9  18    8.09091\n",
       "76    0   2   3   3   3  10   8   7   6   4  10    5.09091\n",
       "85    5   2   4   9   4   6   5   5   5   4   5    4.90909\n",
       "87    0   0   0   0   0   2   4  13  12  14   7    4.72727\n",
       "83    2   2  10  10   3   3   4   1   1   3   1    3.63636\n",
       "82    0   0   0   0   2   2   0   2   9   8   7    2.72727\n",
       "8     1   4   2   4   2   5   1   3   4   3   0    2.63636\n",
       "88    8   4   2   3   2   0   2   0   1   0   1    2.09091\n",
       "89    4   4   2   8   3   0   0   0   1   0   0          2\n",
       "6     4   1   5   2   3   1   2   1   1   0   0    1.81818\n",
       "86    0   1   7   5   2   0   0   2   0   1   1    1.72727\n",
       "11    0   2   3   2   1   2   3   3   1   0   2    1.72727\n",
       "84    0   0   5   3   1   2   0   1   0   2   2    1.45455\n",
       "5     1   1   2   2   2   4   1   0   0   0   0    1.18182\n",
       "96    0   0   0   0   0   0   0   0   5   3   3          1\n",
       "17    0   0   0   0   1   2   1   1   2   1   3          1\n",
       "77    0   0   0   0   0   4   4   1   0   0   0   0.818182\n",
       "16    0   0   0   0   0   0   1   1   2   2   2   0.727273\n",
       "106   0   0   0   2   0   0   0   0   0   0   0   0.181818\n",
       "80    0   0   0   0   0   0   0   1   0   0   0  0.0909091\n",
       "33    0   0   0   0   0   0   0   1   0   0   0  0.0909091"
      ]
     },
     "execution_count": 3,
     "metadata": {},
     "output_type": "execute_result"
    }
   ],
   "source": [
    "suspects= ['1','3','83','86','85','6','11','88','106','89','84','5','8','76','77','87','82','96','12','17','80','33','16']\n",
    "\n",
    "degrees= pd.DataFrame(columns=(suspects), index=range(0,11))\n",
    "for j in range (0,11):\n",
    "    degree_phase = nx.degree(data[j])\n",
    "    for i in (suspects):\n",
    "        try:\n",
    "            degrees[i][j]=degree_phase[i]\n",
    "        except:\n",
    "            degrees[i][j]=0\n",
    "    \n",
    "degrees.loc['Average']= degrees.sum()/11\n",
    "degrees=degrees.transpose()\n",
    "degrees=degrees.sort_values('Average', ascending= False)\n",
    "\n",
    "degrees"
   ]
  },
  {
   "cell_type": "markdown",
   "metadata": {},
   "source": [
    "        The Table above shows the values of all degrees for suspects (y) over phases (x)"
   ]
  },
  {
   "cell_type": "code",
   "execution_count": 4,
   "metadata": {},
   "outputs": [
    {
     "data": {
      "text/html": [
       "<div>\n",
       "<style scoped>\n",
       "    .dataframe tbody tr th:only-of-type {\n",
       "        vertical-align: middle;\n",
       "    }\n",
       "\n",
       "    .dataframe tbody tr th {\n",
       "        vertical-align: top;\n",
       "    }\n",
       "\n",
       "    .dataframe thead th {\n",
       "        text-align: right;\n",
       "    }\n",
       "</style>\n",
       "<table border=\"1\" class=\"dataframe\">\n",
       "  <thead>\n",
       "    <tr style=\"text-align: right;\">\n",
       "      <th></th>\n",
       "      <th>0</th>\n",
       "      <th>1</th>\n",
       "      <th>2</th>\n",
       "      <th>3</th>\n",
       "      <th>4</th>\n",
       "      <th>5</th>\n",
       "      <th>6</th>\n",
       "      <th>7</th>\n",
       "      <th>8</th>\n",
       "      <th>9</th>\n",
       "      <th>10</th>\n",
       "      <th>Average</th>\n",
       "    </tr>\n",
       "  </thead>\n",
       "  <tbody>\n",
       "    <tr>\n",
       "      <th>1</th>\n",
       "      <td>0.387363</td>\n",
       "      <td>0.34585</td>\n",
       "      <td>0.334341</td>\n",
       "      <td>0.428931</td>\n",
       "      <td>0.372043</td>\n",
       "      <td>0.450513</td>\n",
       "      <td>0.318487</td>\n",
       "      <td>0.300813</td>\n",
       "      <td>0.0929609</td>\n",
       "      <td>0.206707</td>\n",
       "      <td>0.107372</td>\n",
       "      <td>0.304126</td>\n",
       "    </tr>\n",
       "    <tr>\n",
       "      <th>12</th>\n",
       "      <td>0</td>\n",
       "      <td>0</td>\n",
       "      <td>0</td>\n",
       "      <td>0</td>\n",
       "      <td>0.112366</td>\n",
       "      <td>0.305641</td>\n",
       "      <td>0.00336134</td>\n",
       "      <td>0.170732</td>\n",
       "      <td>0.187658</td>\n",
       "      <td>0.0152439</td>\n",
       "      <td>0.120726</td>\n",
       "      <td>0.083248</td>\n",
       "    </tr>\n",
       "    <tr>\n",
       "      <th>3</th>\n",
       "      <td>0</td>\n",
       "      <td>0</td>\n",
       "      <td>0.0512433</td>\n",
       "      <td>0.0645161</td>\n",
       "      <td>0.0919355</td>\n",
       "      <td>0.125128</td>\n",
       "      <td>0.0239496</td>\n",
       "      <td>0.125711</td>\n",
       "      <td>0.313605</td>\n",
       "      <td>0</td>\n",
       "      <td>0</td>\n",
       "      <td>0.0723717</td>\n",
       "    </tr>\n",
       "    <tr>\n",
       "      <th>76</th>\n",
       "      <td>0</td>\n",
       "      <td>0</td>\n",
       "      <td>0</td>\n",
       "      <td>0</td>\n",
       "      <td>0</td>\n",
       "      <td>0.0733333</td>\n",
       "      <td>0.0773109</td>\n",
       "      <td>0.0377033</td>\n",
       "      <td>0.0980114</td>\n",
       "      <td>0.0329268</td>\n",
       "      <td>0.0323718</td>\n",
       "      <td>0.0319689</td>\n",
       "    </tr>\n",
       "    <tr>\n",
       "      <th>87</th>\n",
       "      <td>0</td>\n",
       "      <td>0</td>\n",
       "      <td>0</td>\n",
       "      <td>0</td>\n",
       "      <td>0</td>\n",
       "      <td>0</td>\n",
       "      <td>0</td>\n",
       "      <td>0.0912602</td>\n",
       "      <td>0.151042</td>\n",
       "      <td>0.0707317</td>\n",
       "      <td>0.0108974</td>\n",
       "      <td>0.0294483</td>\n",
       "    </tr>\n",
       "    <tr>\n",
       "      <th>85</th>\n",
       "      <td>0.00824176</td>\n",
       "      <td>0</td>\n",
       "      <td>0</td>\n",
       "      <td>0.0863575</td>\n",
       "      <td>0.0419355</td>\n",
       "      <td>0.00230769</td>\n",
       "      <td>0.0256303</td>\n",
       "      <td>0</td>\n",
       "      <td>0.0326705</td>\n",
       "      <td>0.0158537</td>\n",
       "      <td>0.0025641</td>\n",
       "      <td>0.0195964</td>\n",
       "    </tr>\n",
       "    <tr>\n",
       "      <th>89</th>\n",
       "      <td>0.0989011</td>\n",
       "      <td>0.0326087</td>\n",
       "      <td>0</td>\n",
       "      <td>0.0826613</td>\n",
       "      <td>0</td>\n",
       "      <td>0</td>\n",
       "      <td>0</td>\n",
       "      <td>0</td>\n",
       "      <td>0</td>\n",
       "      <td>0</td>\n",
       "      <td>0</td>\n",
       "      <td>0.0194701</td>\n",
       "    </tr>\n",
       "    <tr>\n",
       "      <th>82</th>\n",
       "      <td>0</td>\n",
       "      <td>0</td>\n",
       "      <td>0</td>\n",
       "      <td>0</td>\n",
       "      <td>0</td>\n",
       "      <td>0</td>\n",
       "      <td>0</td>\n",
       "      <td>0</td>\n",
       "      <td>0.088226</td>\n",
       "      <td>0.0493902</td>\n",
       "      <td>0.0314103</td>\n",
       "      <td>0.015366</td>\n",
       "    </tr>\n",
       "    <tr>\n",
       "      <th>88</th>\n",
       "      <td>0.0851648</td>\n",
       "      <td>0.0444664</td>\n",
       "      <td>0</td>\n",
       "      <td>0</td>\n",
       "      <td>0</td>\n",
       "      <td>0</td>\n",
       "      <td>0</td>\n",
       "      <td>0</td>\n",
       "      <td>0</td>\n",
       "      <td>0</td>\n",
       "      <td>0</td>\n",
       "      <td>0.0117847</td>\n",
       "    </tr>\n",
       "    <tr>\n",
       "      <th>83</th>\n",
       "      <td>0</td>\n",
       "      <td>0</td>\n",
       "      <td>0.0213374</td>\n",
       "      <td>0.0650202</td>\n",
       "      <td>0.0193548</td>\n",
       "      <td>0</td>\n",
       "      <td>0</td>\n",
       "      <td>0</td>\n",
       "      <td>0</td>\n",
       "      <td>0.0103659</td>\n",
       "      <td>0</td>\n",
       "      <td>0.0105526</td>\n",
       "    </tr>\n",
       "    <tr>\n",
       "      <th>8</th>\n",
       "      <td>0</td>\n",
       "      <td>0.0335968</td>\n",
       "      <td>0</td>\n",
       "      <td>0.0181452</td>\n",
       "      <td>0</td>\n",
       "      <td>0</td>\n",
       "      <td>0</td>\n",
       "      <td>0</td>\n",
       "      <td>0.00331439</td>\n",
       "      <td>0.0103659</td>\n",
       "      <td>0</td>\n",
       "      <td>0.00594748</td>\n",
       "    </tr>\n",
       "    <tr>\n",
       "      <th>86</th>\n",
       "      <td>0</td>\n",
       "      <td>0</td>\n",
       "      <td>0.0100806</td>\n",
       "      <td>0.0263777</td>\n",
       "      <td>0</td>\n",
       "      <td>0</td>\n",
       "      <td>0</td>\n",
       "      <td>0.000914634</td>\n",
       "      <td>0</td>\n",
       "      <td>0</td>\n",
       "      <td>0</td>\n",
       "      <td>0.00339754</td>\n",
       "    </tr>\n",
       "    <tr>\n",
       "      <th>6</th>\n",
       "      <td>0.00274725</td>\n",
       "      <td>0</td>\n",
       "      <td>0.0287298</td>\n",
       "      <td>0</td>\n",
       "      <td>0</td>\n",
       "      <td>0</td>\n",
       "      <td>0</td>\n",
       "      <td>0</td>\n",
       "      <td>0</td>\n",
       "      <td>0</td>\n",
       "      <td>0</td>\n",
       "      <td>0.00286155</td>\n",
       "    </tr>\n",
       "    <tr>\n",
       "      <th>11</th>\n",
       "      <td>0</td>\n",
       "      <td>0</td>\n",
       "      <td>0.000504032</td>\n",
       "      <td>0</td>\n",
       "      <td>0</td>\n",
       "      <td>0</td>\n",
       "      <td>0.0142857</td>\n",
       "      <td>0.0146341</td>\n",
       "      <td>0</td>\n",
       "      <td>0</td>\n",
       "      <td>0</td>\n",
       "      <td>0.0026749</td>\n",
       "    </tr>\n",
       "    <tr>\n",
       "      <th>84</th>\n",
       "      <td>0</td>\n",
       "      <td>0</td>\n",
       "      <td>0.000336022</td>\n",
       "      <td>0.0122648</td>\n",
       "      <td>0</td>\n",
       "      <td>0</td>\n",
       "      <td>0</td>\n",
       "      <td>0</td>\n",
       "      <td>0</td>\n",
       "      <td>0</td>\n",
       "      <td>0</td>\n",
       "      <td>0.00114553</td>\n",
       "    </tr>\n",
       "    <tr>\n",
       "      <th>96</th>\n",
       "      <td>0</td>\n",
       "      <td>0</td>\n",
       "      <td>0</td>\n",
       "      <td>0</td>\n",
       "      <td>0</td>\n",
       "      <td>0</td>\n",
       "      <td>0</td>\n",
       "      <td>0</td>\n",
       "      <td>0.00694444</td>\n",
       "      <td>0</td>\n",
       "      <td>0.00448718</td>\n",
       "      <td>0.00103924</td>\n",
       "    </tr>\n",
       "    <tr>\n",
       "      <th>17</th>\n",
       "      <td>0</td>\n",
       "      <td>0</td>\n",
       "      <td>0</td>\n",
       "      <td>0</td>\n",
       "      <td>0</td>\n",
       "      <td>0</td>\n",
       "      <td>0</td>\n",
       "      <td>0</td>\n",
       "      <td>0</td>\n",
       "      <td>0</td>\n",
       "      <td>0</td>\n",
       "      <td>0</td>\n",
       "    </tr>\n",
       "    <tr>\n",
       "      <th>33</th>\n",
       "      <td>0</td>\n",
       "      <td>0</td>\n",
       "      <td>0</td>\n",
       "      <td>0</td>\n",
       "      <td>0</td>\n",
       "      <td>0</td>\n",
       "      <td>0</td>\n",
       "      <td>0</td>\n",
       "      <td>0</td>\n",
       "      <td>0</td>\n",
       "      <td>0</td>\n",
       "      <td>0</td>\n",
       "    </tr>\n",
       "    <tr>\n",
       "      <th>80</th>\n",
       "      <td>0</td>\n",
       "      <td>0</td>\n",
       "      <td>0</td>\n",
       "      <td>0</td>\n",
       "      <td>0</td>\n",
       "      <td>0</td>\n",
       "      <td>0</td>\n",
       "      <td>0</td>\n",
       "      <td>0</td>\n",
       "      <td>0</td>\n",
       "      <td>0</td>\n",
       "      <td>0</td>\n",
       "    </tr>\n",
       "    <tr>\n",
       "      <th>5</th>\n",
       "      <td>0</td>\n",
       "      <td>0</td>\n",
       "      <td>0</td>\n",
       "      <td>0</td>\n",
       "      <td>0</td>\n",
       "      <td>0</td>\n",
       "      <td>0</td>\n",
       "      <td>0</td>\n",
       "      <td>0</td>\n",
       "      <td>0</td>\n",
       "      <td>0</td>\n",
       "      <td>0</td>\n",
       "    </tr>\n",
       "    <tr>\n",
       "      <th>77</th>\n",
       "      <td>0</td>\n",
       "      <td>0</td>\n",
       "      <td>0</td>\n",
       "      <td>0</td>\n",
       "      <td>0</td>\n",
       "      <td>0</td>\n",
       "      <td>0</td>\n",
       "      <td>0</td>\n",
       "      <td>0</td>\n",
       "      <td>0</td>\n",
       "      <td>0</td>\n",
       "      <td>0</td>\n",
       "    </tr>\n",
       "    <tr>\n",
       "      <th>106</th>\n",
       "      <td>0</td>\n",
       "      <td>0</td>\n",
       "      <td>0</td>\n",
       "      <td>0</td>\n",
       "      <td>0</td>\n",
       "      <td>0</td>\n",
       "      <td>0</td>\n",
       "      <td>0</td>\n",
       "      <td>0</td>\n",
       "      <td>0</td>\n",
       "      <td>0</td>\n",
       "      <td>0</td>\n",
       "    </tr>\n",
       "    <tr>\n",
       "      <th>16</th>\n",
       "      <td>0</td>\n",
       "      <td>0</td>\n",
       "      <td>0</td>\n",
       "      <td>0</td>\n",
       "      <td>0</td>\n",
       "      <td>0</td>\n",
       "      <td>0</td>\n",
       "      <td>0</td>\n",
       "      <td>0</td>\n",
       "      <td>0</td>\n",
       "      <td>0</td>\n",
       "      <td>0</td>\n",
       "    </tr>\n",
       "  </tbody>\n",
       "</table>\n",
       "</div>"
      ],
      "text/plain": [
       "              0          1            2          3          4           5  \\\n",
       "1      0.387363    0.34585     0.334341   0.428931   0.372043    0.450513   \n",
       "12            0          0            0          0   0.112366    0.305641   \n",
       "3             0          0    0.0512433  0.0645161  0.0919355    0.125128   \n",
       "76            0          0            0          0          0   0.0733333   \n",
       "87            0          0            0          0          0           0   \n",
       "85   0.00824176          0            0  0.0863575  0.0419355  0.00230769   \n",
       "89    0.0989011  0.0326087            0  0.0826613          0           0   \n",
       "82            0          0            0          0          0           0   \n",
       "88    0.0851648  0.0444664            0          0          0           0   \n",
       "83            0          0    0.0213374  0.0650202  0.0193548           0   \n",
       "8             0  0.0335968            0  0.0181452          0           0   \n",
       "86            0          0    0.0100806  0.0263777          0           0   \n",
       "6    0.00274725          0    0.0287298          0          0           0   \n",
       "11            0          0  0.000504032          0          0           0   \n",
       "84            0          0  0.000336022  0.0122648          0           0   \n",
       "96            0          0            0          0          0           0   \n",
       "17            0          0            0          0          0           0   \n",
       "33            0          0            0          0          0           0   \n",
       "80            0          0            0          0          0           0   \n",
       "5             0          0            0          0          0           0   \n",
       "77            0          0            0          0          0           0   \n",
       "106           0          0            0          0          0           0   \n",
       "16            0          0            0          0          0           0   \n",
       "\n",
       "              6            7           8          9          10     Average  \n",
       "1      0.318487     0.300813   0.0929609   0.206707    0.107372    0.304126  \n",
       "12   0.00336134     0.170732    0.187658  0.0152439    0.120726    0.083248  \n",
       "3     0.0239496     0.125711    0.313605          0           0   0.0723717  \n",
       "76    0.0773109    0.0377033   0.0980114  0.0329268   0.0323718   0.0319689  \n",
       "87            0    0.0912602    0.151042  0.0707317   0.0108974   0.0294483  \n",
       "85    0.0256303            0   0.0326705  0.0158537   0.0025641   0.0195964  \n",
       "89            0            0           0          0           0   0.0194701  \n",
       "82            0            0    0.088226  0.0493902   0.0314103    0.015366  \n",
       "88            0            0           0          0           0   0.0117847  \n",
       "83            0            0           0  0.0103659           0   0.0105526  \n",
       "8             0            0  0.00331439  0.0103659           0  0.00594748  \n",
       "86            0  0.000914634           0          0           0  0.00339754  \n",
       "6             0            0           0          0           0  0.00286155  \n",
       "11    0.0142857    0.0146341           0          0           0   0.0026749  \n",
       "84            0            0           0          0           0  0.00114553  \n",
       "96            0            0  0.00694444          0  0.00448718  0.00103924  \n",
       "17            0            0           0          0           0           0  \n",
       "33            0            0           0          0           0           0  \n",
       "80            0            0           0          0           0           0  \n",
       "5             0            0           0          0           0           0  \n",
       "77            0            0           0          0           0           0  \n",
       "106           0            0           0          0           0           0  \n",
       "16            0            0           0          0           0           0  "
      ]
     },
     "execution_count": 4,
     "metadata": {},
     "output_type": "execute_result"
    }
   ],
   "source": [
    "betweenness= pd.DataFrame(columns=(suspects), index=range(0,11))\n",
    "for j in range (0,11):\n",
    "    betweenness_phase = nx.betweenness_centrality(data[j])\n",
    "    for i in (suspects):\n",
    "        try:\n",
    "            betweenness[i][j]=betweenness_phase[i]\n",
    "        except:\n",
    "            betweenness[i][j]=0\n",
    "            \n",
    "betweenness.loc['Average']= betweenness.sum()/11\n",
    "betweenness=betweenness.transpose()\n",
    "betweenness=betweenness.sort_values('Average', ascending= False)\n",
    "betweenness"
   ]
  },
  {
   "cell_type": "markdown",
   "metadata": {},
   "source": [
    "        The Table above shows the values of all betweenness centralities for suspects (y) over phases (x)"
   ]
  },
  {
   "cell_type": "code",
   "execution_count": 5,
   "metadata": {},
   "outputs": [
    {
     "data": {
      "text/html": [
       "<div>\n",
       "<style scoped>\n",
       "    .dataframe tbody tr th:only-of-type {\n",
       "        vertical-align: middle;\n",
       "    }\n",
       "\n",
       "    .dataframe tbody tr th {\n",
       "        vertical-align: top;\n",
       "    }\n",
       "\n",
       "    .dataframe thead th {\n",
       "        text-align: right;\n",
       "    }\n",
       "</style>\n",
       "<table border=\"1\" class=\"dataframe\">\n",
       "  <thead>\n",
       "    <tr style=\"text-align: right;\">\n",
       "      <th></th>\n",
       "      <th>0</th>\n",
       "      <th>1</th>\n",
       "      <th>2</th>\n",
       "      <th>3</th>\n",
       "      <th>4</th>\n",
       "      <th>5</th>\n",
       "      <th>6</th>\n",
       "      <th>7</th>\n",
       "      <th>8</th>\n",
       "      <th>9</th>\n",
       "      <th>10</th>\n",
       "      <th>Average</th>\n",
       "    </tr>\n",
       "  </thead>\n",
       "  <tbody>\n",
       "    <tr>\n",
       "      <th>1</th>\n",
       "      <td>0.469658</td>\n",
       "      <td>0.477329</td>\n",
       "      <td>0.46321</td>\n",
       "      <td>0.442196</td>\n",
       "      <td>0.469624</td>\n",
       "      <td>0.537529</td>\n",
       "      <td>0.514212</td>\n",
       "      <td>0.451554</td>\n",
       "      <td>0.424935</td>\n",
       "      <td>0.505938</td>\n",
       "      <td>0.426256</td>\n",
       "      <td>0.471131</td>\n",
       "    </tr>\n",
       "    <tr>\n",
       "      <th>3</th>\n",
       "      <td>0.335413</td>\n",
       "      <td>0.188748</td>\n",
       "      <td>0.295962</td>\n",
       "      <td>0.275366</td>\n",
       "      <td>0.30563</td>\n",
       "      <td>0.401055</td>\n",
       "      <td>0.18386</td>\n",
       "      <td>0.40222</td>\n",
       "      <td>0.322402</td>\n",
       "      <td>0.143575</td>\n",
       "      <td>4.56392e-44</td>\n",
       "      <td>0.259475</td>\n",
       "    </tr>\n",
       "    <tr>\n",
       "      <th>85</th>\n",
       "      <td>0.335413</td>\n",
       "      <td>1.34136e-09</td>\n",
       "      <td>0.227458</td>\n",
       "      <td>0.379397</td>\n",
       "      <td>0.173268</td>\n",
       "      <td>0.199379</td>\n",
       "      <td>0.209441</td>\n",
       "      <td>0.217421</td>\n",
       "      <td>0.209178</td>\n",
       "      <td>0.184318</td>\n",
       "      <td>0.243606</td>\n",
       "      <td>0.216262</td>\n",
       "    </tr>\n",
       "    <tr>\n",
       "      <th>76</th>\n",
       "      <td>0</td>\n",
       "      <td>0.188748</td>\n",
       "      <td>0.11986</td>\n",
       "      <td>0.222663</td>\n",
       "      <td>0.154512</td>\n",
       "      <td>0.341037</td>\n",
       "      <td>0.26238</td>\n",
       "      <td>0.114992</td>\n",
       "      <td>0.211156</td>\n",
       "      <td>0.19588</td>\n",
       "      <td>0.325083</td>\n",
       "      <td>0.19421</td>\n",
       "    </tr>\n",
       "    <tr>\n",
       "      <th>8</th>\n",
       "      <td>0.163082</td>\n",
       "      <td>0.263384</td>\n",
       "      <td>0.178718</td>\n",
       "      <td>0.194469</td>\n",
       "      <td>0.154512</td>\n",
       "      <td>0.265988</td>\n",
       "      <td>0.143701</td>\n",
       "      <td>0.272789</td>\n",
       "      <td>0.209178</td>\n",
       "      <td>0.143575</td>\n",
       "      <td>0</td>\n",
       "      <td>0.180854</td>\n",
       "    </tr>\n",
       "    <tr>\n",
       "      <th>83</th>\n",
       "      <td>2.21035e-12</td>\n",
       "      <td>0.188748</td>\n",
       "      <td>0.216181</td>\n",
       "      <td>0.237031</td>\n",
       "      <td>0.173268</td>\n",
       "      <td>0.199379</td>\n",
       "      <td>0.270745</td>\n",
       "      <td>0.114992</td>\n",
       "      <td>0.118938</td>\n",
       "      <td>0.143575</td>\n",
       "      <td>4.56392e-44</td>\n",
       "      <td>0.151169</td>\n",
       "    </tr>\n",
       "    <tr>\n",
       "      <th>82</th>\n",
       "      <td>0</td>\n",
       "      <td>0</td>\n",
       "      <td>0</td>\n",
       "      <td>0</td>\n",
       "      <td>0.154512</td>\n",
       "      <td>0.114185</td>\n",
       "      <td>0</td>\n",
       "      <td>0.217421</td>\n",
       "      <td>0.373054</td>\n",
       "      <td>0.38131</td>\n",
       "      <td>0.275009</td>\n",
       "      <td>0.137772</td>\n",
       "    </tr>\n",
       "    <tr>\n",
       "      <th>87</th>\n",
       "      <td>0</td>\n",
       "      <td>0</td>\n",
       "      <td>0</td>\n",
       "      <td>0</td>\n",
       "      <td>0</td>\n",
       "      <td>9.69891e-13</td>\n",
       "      <td>0.143701</td>\n",
       "      <td>0.279796</td>\n",
       "      <td>0.404375</td>\n",
       "      <td>0.29248</td>\n",
       "      <td>0.332772</td>\n",
       "      <td>0.132102</td>\n",
       "    </tr>\n",
       "    <tr>\n",
       "      <th>12</th>\n",
       "      <td>0</td>\n",
       "      <td>1.34136e-09</td>\n",
       "      <td>0.196443</td>\n",
       "      <td>0.0746273</td>\n",
       "      <td>0.286034</td>\n",
       "      <td>0.280844</td>\n",
       "      <td>4.48385e-07</td>\n",
       "      <td>0.0636224</td>\n",
       "      <td>0.117969</td>\n",
       "      <td>9.10382e-06</td>\n",
       "      <td>0.329563</td>\n",
       "      <td>0.122647</td>\n",
       "    </tr>\n",
       "    <tr>\n",
       "      <th>88</th>\n",
       "      <td>0.496295</td>\n",
       "      <td>0.188748</td>\n",
       "      <td>6.28039e-09</td>\n",
       "      <td>0.222663</td>\n",
       "      <td>0.0570069</td>\n",
       "      <td>0</td>\n",
       "      <td>0.109912</td>\n",
       "      <td>0</td>\n",
       "      <td>3.68927e-17</td>\n",
       "      <td>0</td>\n",
       "      <td>0.105402</td>\n",
       "      <td>0.107275</td>\n",
       "    </tr>\n",
       "    <tr>\n",
       "      <th>5</th>\n",
       "      <td>0.163082</td>\n",
       "      <td>0.188748</td>\n",
       "      <td>0.11986</td>\n",
       "      <td>0.119841</td>\n",
       "      <td>0.205348</td>\n",
       "      <td>0.114185</td>\n",
       "      <td>0.143701</td>\n",
       "      <td>0</td>\n",
       "      <td>0</td>\n",
       "      <td>0</td>\n",
       "      <td>0</td>\n",
       "      <td>0.0958878</td>\n",
       "    </tr>\n",
       "    <tr>\n",
       "      <th>6</th>\n",
       "      <td>0.288797</td>\n",
       "      <td>1.34136e-09</td>\n",
       "      <td>0.175799</td>\n",
       "      <td>0.119841</td>\n",
       "      <td>0.154512</td>\n",
       "      <td>9.69891e-13</td>\n",
       "      <td>0.143701</td>\n",
       "      <td>3.61989e-13</td>\n",
       "      <td>0.118938</td>\n",
       "      <td>0</td>\n",
       "      <td>0</td>\n",
       "      <td>0.0910535</td>\n",
       "    </tr>\n",
       "    <tr>\n",
       "      <th>89</th>\n",
       "      <td>0.185443</td>\n",
       "      <td>0.223735</td>\n",
       "      <td>0.11986</td>\n",
       "      <td>0.129341</td>\n",
       "      <td>0.205348</td>\n",
       "      <td>0</td>\n",
       "      <td>0</td>\n",
       "      <td>0</td>\n",
       "      <td>0.0902398</td>\n",
       "      <td>0</td>\n",
       "      <td>0</td>\n",
       "      <td>0.0867243</td>\n",
       "    </tr>\n",
       "    <tr>\n",
       "      <th>11</th>\n",
       "      <td>0</td>\n",
       "      <td>0.163109</td>\n",
       "      <td>0.055939</td>\n",
       "      <td>0.119841</td>\n",
       "      <td>1.57466e-10</td>\n",
       "      <td>9.69891e-13</td>\n",
       "      <td>0.143701</td>\n",
       "      <td>0.114992</td>\n",
       "      <td>0.118938</td>\n",
       "      <td>0</td>\n",
       "      <td>0.138205</td>\n",
       "      <td>0.0777022</td>\n",
       "    </tr>\n",
       "    <tr>\n",
       "      <th>86</th>\n",
       "      <td>0</td>\n",
       "      <td>1.34136e-09</td>\n",
       "      <td>0.252382</td>\n",
       "      <td>0.184081</td>\n",
       "      <td>0.0570069</td>\n",
       "      <td>0</td>\n",
       "      <td>0</td>\n",
       "      <td>0.102429</td>\n",
       "      <td>0</td>\n",
       "      <td>0.0407434</td>\n",
       "      <td>3.24038e-42</td>\n",
       "      <td>0.0578766</td>\n",
       "    </tr>\n",
       "    <tr>\n",
       "      <th>84</th>\n",
       "      <td>0</td>\n",
       "      <td>0</td>\n",
       "      <td>0.206814</td>\n",
       "      <td>0.0642401</td>\n",
       "      <td>1.57466e-10</td>\n",
       "      <td>9.69891e-13</td>\n",
       "      <td>0</td>\n",
       "      <td>0.114992</td>\n",
       "      <td>0</td>\n",
       "      <td>0.143575</td>\n",
       "      <td>4.56392e-44</td>\n",
       "      <td>0.0481473</td>\n",
       "    </tr>\n",
       "    <tr>\n",
       "      <th>77</th>\n",
       "      <td>0</td>\n",
       "      <td>0</td>\n",
       "      <td>0</td>\n",
       "      <td>0</td>\n",
       "      <td>0</td>\n",
       "      <td>0.199379</td>\n",
       "      <td>0.195082</td>\n",
       "      <td>0.114992</td>\n",
       "      <td>0</td>\n",
       "      <td>0</td>\n",
       "      <td>0</td>\n",
       "      <td>0.046314</td>\n",
       "    </tr>\n",
       "    <tr>\n",
       "      <th>96</th>\n",
       "      <td>0</td>\n",
       "      <td>0</td>\n",
       "      <td>0</td>\n",
       "      <td>0</td>\n",
       "      <td>0</td>\n",
       "      <td>0</td>\n",
       "      <td>0</td>\n",
       "      <td>0</td>\n",
       "      <td>0.274048</td>\n",
       "      <td>0.138915</td>\n",
       "      <td>0.0891661</td>\n",
       "      <td>0.0456481</td>\n",
       "    </tr>\n",
       "    <tr>\n",
       "      <th>17</th>\n",
       "      <td>0</td>\n",
       "      <td>0</td>\n",
       "      <td>0</td>\n",
       "      <td>0</td>\n",
       "      <td>1.57466e-10</td>\n",
       "      <td>0.0596595</td>\n",
       "      <td>1.1403e-12</td>\n",
       "      <td>3.61989e-13</td>\n",
       "      <td>0.0330205</td>\n",
       "      <td>4.34489e-06</td>\n",
       "      <td>0.172713</td>\n",
       "      <td>0.024127</td>\n",
       "    </tr>\n",
       "    <tr>\n",
       "      <th>106</th>\n",
       "      <td>0</td>\n",
       "      <td>0</td>\n",
       "      <td>0</td>\n",
       "      <td>0.184081</td>\n",
       "      <td>0</td>\n",
       "      <td>0</td>\n",
       "      <td>0</td>\n",
       "      <td>0</td>\n",
       "      <td>0</td>\n",
       "      <td>0</td>\n",
       "      <td>0</td>\n",
       "      <td>0.0167347</td>\n",
       "    </tr>\n",
       "    <tr>\n",
       "      <th>16</th>\n",
       "      <td>0</td>\n",
       "      <td>0</td>\n",
       "      <td>0</td>\n",
       "      <td>0</td>\n",
       "      <td>0</td>\n",
       "      <td>0</td>\n",
       "      <td>1.1403e-12</td>\n",
       "      <td>3.61989e-13</td>\n",
       "      <td>0.0330205</td>\n",
       "      <td>4.34489e-06</td>\n",
       "      <td>0.106856</td>\n",
       "      <td>0.0127165</td>\n",
       "    </tr>\n",
       "    <tr>\n",
       "      <th>80</th>\n",
       "      <td>0</td>\n",
       "      <td>0</td>\n",
       "      <td>0</td>\n",
       "      <td>0</td>\n",
       "      <td>0</td>\n",
       "      <td>0</td>\n",
       "      <td>0</td>\n",
       "      <td>3.61989e-13</td>\n",
       "      <td>0</td>\n",
       "      <td>0</td>\n",
       "      <td>0</td>\n",
       "      <td>3.29081e-14</td>\n",
       "    </tr>\n",
       "    <tr>\n",
       "      <th>33</th>\n",
       "      <td>0</td>\n",
       "      <td>0</td>\n",
       "      <td>0</td>\n",
       "      <td>0</td>\n",
       "      <td>0</td>\n",
       "      <td>0</td>\n",
       "      <td>0</td>\n",
       "      <td>3.61989e-13</td>\n",
       "      <td>0</td>\n",
       "      <td>0</td>\n",
       "      <td>0</td>\n",
       "      <td>3.29081e-14</td>\n",
       "    </tr>\n",
       "  </tbody>\n",
       "</table>\n",
       "</div>"
      ],
      "text/plain": [
       "               0            1            2          3            4  \\\n",
       "1       0.469658     0.477329      0.46321   0.442196     0.469624   \n",
       "3       0.335413     0.188748     0.295962   0.275366      0.30563   \n",
       "85      0.335413  1.34136e-09     0.227458   0.379397     0.173268   \n",
       "76             0     0.188748      0.11986   0.222663     0.154512   \n",
       "8       0.163082     0.263384     0.178718   0.194469     0.154512   \n",
       "83   2.21035e-12     0.188748     0.216181   0.237031     0.173268   \n",
       "82             0            0            0          0     0.154512   \n",
       "87             0            0            0          0            0   \n",
       "12             0  1.34136e-09     0.196443  0.0746273     0.286034   \n",
       "88      0.496295     0.188748  6.28039e-09   0.222663    0.0570069   \n",
       "5       0.163082     0.188748      0.11986   0.119841     0.205348   \n",
       "6       0.288797  1.34136e-09     0.175799   0.119841     0.154512   \n",
       "89      0.185443     0.223735      0.11986   0.129341     0.205348   \n",
       "11             0     0.163109     0.055939   0.119841  1.57466e-10   \n",
       "86             0  1.34136e-09     0.252382   0.184081    0.0570069   \n",
       "84             0            0     0.206814  0.0642401  1.57466e-10   \n",
       "77             0            0            0          0            0   \n",
       "96             0            0            0          0            0   \n",
       "17             0            0            0          0  1.57466e-10   \n",
       "106            0            0            0   0.184081            0   \n",
       "16             0            0            0          0            0   \n",
       "80             0            0            0          0            0   \n",
       "33             0            0            0          0            0   \n",
       "\n",
       "               5            6            7            8            9  \\\n",
       "1       0.537529     0.514212     0.451554     0.424935     0.505938   \n",
       "3       0.401055      0.18386      0.40222     0.322402     0.143575   \n",
       "85      0.199379     0.209441     0.217421     0.209178     0.184318   \n",
       "76      0.341037      0.26238     0.114992     0.211156      0.19588   \n",
       "8       0.265988     0.143701     0.272789     0.209178     0.143575   \n",
       "83      0.199379     0.270745     0.114992     0.118938     0.143575   \n",
       "82      0.114185            0     0.217421     0.373054      0.38131   \n",
       "87   9.69891e-13     0.143701     0.279796     0.404375      0.29248   \n",
       "12      0.280844  4.48385e-07    0.0636224     0.117969  9.10382e-06   \n",
       "88             0     0.109912            0  3.68927e-17            0   \n",
       "5       0.114185     0.143701            0            0            0   \n",
       "6    9.69891e-13     0.143701  3.61989e-13     0.118938            0   \n",
       "89             0            0            0    0.0902398            0   \n",
       "11   9.69891e-13     0.143701     0.114992     0.118938            0   \n",
       "86             0            0     0.102429            0    0.0407434   \n",
       "84   9.69891e-13            0     0.114992            0     0.143575   \n",
       "77      0.199379     0.195082     0.114992            0            0   \n",
       "96             0            0            0     0.274048     0.138915   \n",
       "17     0.0596595   1.1403e-12  3.61989e-13    0.0330205  4.34489e-06   \n",
       "106            0            0            0            0            0   \n",
       "16             0   1.1403e-12  3.61989e-13    0.0330205  4.34489e-06   \n",
       "80             0            0  3.61989e-13            0            0   \n",
       "33             0            0  3.61989e-13            0            0   \n",
       "\n",
       "              10      Average  \n",
       "1       0.426256     0.471131  \n",
       "3    4.56392e-44     0.259475  \n",
       "85      0.243606     0.216262  \n",
       "76      0.325083      0.19421  \n",
       "8              0     0.180854  \n",
       "83   4.56392e-44     0.151169  \n",
       "82      0.275009     0.137772  \n",
       "87      0.332772     0.132102  \n",
       "12      0.329563     0.122647  \n",
       "88      0.105402     0.107275  \n",
       "5              0    0.0958878  \n",
       "6              0    0.0910535  \n",
       "89             0    0.0867243  \n",
       "11      0.138205    0.0777022  \n",
       "86   3.24038e-42    0.0578766  \n",
       "84   4.56392e-44    0.0481473  \n",
       "77             0     0.046314  \n",
       "96     0.0891661    0.0456481  \n",
       "17      0.172713     0.024127  \n",
       "106            0    0.0167347  \n",
       "16      0.106856    0.0127165  \n",
       "80             0  3.29081e-14  \n",
       "33             0  3.29081e-14  "
      ]
     },
     "execution_count": 5,
     "metadata": {},
     "output_type": "execute_result"
    }
   ],
   "source": [
    "eigen_centrality= pd.DataFrame(columns=(suspects), index=range(0,11))\n",
    "for j in range (0,11):\n",
    "    eigen_phase = nx.eigenvector_centrality(data[j])\n",
    "    for i in (suspects):\n",
    "        try:\n",
    "            eigen_centrality[i][j]=eigen_phase[i]\n",
    "        except:\n",
    "            eigen_centrality[i][j]=0\n",
    "\n",
    "eigen_centrality.loc['Average']= eigen_centrality.sum()/11\n",
    "eigen_centrality=eigen_centrality.transpose()\n",
    "eigen_centrality=eigen_centrality.sort_values('Average', ascending= False)\n",
    "\n",
    "eigen_centrality"
   ]
  },
  {
   "cell_type": "markdown",
   "metadata": {},
   "source": [
    "    The Table above shows the values of all eigenvector centralities for suspects (y) over phases (x)"
   ]
  },
  {
   "cell_type": "markdown",
   "metadata": {},
   "source": [
    "**Problem 4.2(b)**"
   ]
  },
  {
   "cell_type": "code",
   "execution_count": 6,
   "metadata": {
    "scrolled": true
   },
   "outputs": [
    {
     "data": {
      "image/png": "[encoded data removed]",
      "text/plain": [
       "<Figure size 576x432 with 1 Axes>"
      ]
     },
     "metadata": {
      "needs_background": "light"
     },
     "output_type": "display_data"
    }
   ],
   "source": [
    "plt.figure(figsize=(8,6))\n",
    "plt.plot(degrees['Average'])\n",
    "plt.xlabel('Criminal Code')\n",
    "plt.ylabel('Average Degree over 11 phases')\n",
    "plt.show()"
   ]
  },
  {
   "cell_type": "markdown",
   "metadata": {},
   "source": [
    "    The above graph shows the average degrees in descending order from most connected to least connected"
   ]
  },
  {
   "cell_type": "code",
   "execution_count": 7,
   "metadata": {},
   "outputs": [
    {
     "data": {
      "image/png": "[encoded data removed]",
      "text/plain": [
       "<Figure size 576x432 with 1 Axes>"
      ]
     },
     "metadata": {
      "needs_background": "light"
     },
     "output_type": "display_data"
    }
   ],
   "source": [
    "plt.figure(figsize=(8,6))\n",
    "plt.plot(betweenness['Average'])\n",
    "plt.xlabel('Criminal Code')\n",
    "plt.ylabel('Average Betweenness over 11 phases')\n",
    "plt.show()\n"
   ]
  },
  {
   "cell_type": "markdown",
   "metadata": {},
   "source": [
    "    The graph above shows the average betweenness centrality in descending order from most to least connected"
   ]
  },
  {
   "cell_type": "code",
   "execution_count": 8,
   "metadata": {},
   "outputs": [
    {
     "data": {
      "image/png": "[encoded data removed]",
      "text/plain": [
       "<Figure size 576x432 with 1 Axes>"
      ]
     },
     "metadata": {
      "needs_background": "light"
     },
     "output_type": "display_data"
    }
   ],
   "source": [
    "\n",
    "plt.figure(figsize=(8,6))\n",
    "plt.plot(eigen_centrality['Average'])\n",
    "plt.xlabel('Criminal Code')\n",
    "plt.ylabel('Average Eigenvector Centrality over 11 phases')\n",
    "plt.show()\n"
   ]
  },
  {
   "cell_type": "markdown",
   "metadata": {},
   "source": [
    "        This graph shows the average eigen centrality in descending order from most connected to least connected"
   ]
  },
  {
   "cell_type": "markdown",
   "metadata": {},
   "source": [
    "Serero, Daniel (n1; Mastermind of the network) appears in all 3 measures of importance in the criminal network.\n",
    "Pierre Perlini (n3; Principal lieutenant of Serero) also is part of the top 3 in all measurements.\n",
    "\n",
    "So Serero is likely the kingpin and Perlini his deputy.\n",
    "\n",
    "In the Top 5, Ernesto Morales (n12; Principal organizer of the cocaine import) occurs twice.\n",
    "\n",
    "Gabrielle Casale (n76; Charged with recuperating the marijuana) also occurs in the top 4 of all metrics. Gleeson(n5) and Quinzio (n8) alongwith Casale are in charge of marijuana but only Casale shows up in the top by these metrics- suggesting that he may be more important than them.\n",
    "\n",
    "Wallace Lee (n85; accountant occurs in the top 6 of all metrics)\n",
    "\n",
    "These all seem to serve three different important roles- Morales is important in cocaine business, Casale in marijuana. Morales and Casale alternate in importance based on what kind of shipment is caught. \n",
    "Lee is important for finances. Interestingly, his eigenvector centrality is higher than other measures- he has friends who has friends, although he isn't directly connected as much.\n"
   ]
  },
  {
   "cell_type": "markdown",
   "metadata": {},
   "source": [
    "**Problem 4.2(c)**"
   ]
  },
  {
   "cell_type": "code",
   "execution_count": 9,
   "metadata": {
    "scrolled": true
   },
   "outputs": [
    {
     "data": {
      "text/html": [
       "<div>\n",
       "<style scoped>\n",
       "    .dataframe tbody tr th:only-of-type {\n",
       "        vertical-align: middle;\n",
       "    }\n",
       "\n",
       "    .dataframe tbody tr th {\n",
       "        vertical-align: top;\n",
       "    }\n",
       "\n",
       "    .dataframe thead th {\n",
       "        text-align: right;\n",
       "    }\n",
       "</style>\n",
       "<table border=\"1\" class=\"dataframe\">\n",
       "  <thead>\n",
       "    <tr style=\"text-align: right;\">\n",
       "      <th></th>\n",
       "      <th>0</th>\n",
       "      <th>1</th>\n",
       "      <th>2</th>\n",
       "      <th>3</th>\n",
       "      <th>4</th>\n",
       "      <th>5</th>\n",
       "      <th>6</th>\n",
       "      <th>7</th>\n",
       "      <th>8</th>\n",
       "      <th>9</th>\n",
       "      <th>10</th>\n",
       "      <th>Average</th>\n",
       "    </tr>\n",
       "  </thead>\n",
       "  <tbody>\n",
       "    <tr>\n",
       "      <th>2</th>\n",
       "      <td>1</td>\n",
       "      <td>2</td>\n",
       "      <td>3</td>\n",
       "      <td>2</td>\n",
       "      <td>2</td>\n",
       "      <td>3</td>\n",
       "      <td>3</td>\n",
       "      <td>6</td>\n",
       "      <td>1</td>\n",
       "      <td>0</td>\n",
       "      <td>0</td>\n",
       "      <td>2.09091</td>\n",
       "    </tr>\n",
       "    <tr>\n",
       "      <th>9</th>\n",
       "      <td>0</td>\n",
       "      <td>1</td>\n",
       "      <td>6</td>\n",
       "      <td>4</td>\n",
       "      <td>2</td>\n",
       "      <td>2</td>\n",
       "      <td>4</td>\n",
       "      <td>2</td>\n",
       "      <td>0</td>\n",
       "      <td>1</td>\n",
       "      <td>0</td>\n",
       "      <td>2</td>\n",
       "    </tr>\n",
       "    <tr>\n",
       "      <th>37</th>\n",
       "      <td>0</td>\n",
       "      <td>0</td>\n",
       "      <td>0</td>\n",
       "      <td>0</td>\n",
       "      <td>0</td>\n",
       "      <td>0</td>\n",
       "      <td>0</td>\n",
       "      <td>3</td>\n",
       "      <td>1</td>\n",
       "      <td>13</td>\n",
       "      <td>5</td>\n",
       "      <td>2</td>\n",
       "    </tr>\n",
       "    <tr>\n",
       "      <th>14</th>\n",
       "      <td>0</td>\n",
       "      <td>0</td>\n",
       "      <td>0</td>\n",
       "      <td>1</td>\n",
       "      <td>0</td>\n",
       "      <td>3</td>\n",
       "      <td>1</td>\n",
       "      <td>6</td>\n",
       "      <td>1</td>\n",
       "      <td>6</td>\n",
       "      <td>4</td>\n",
       "      <td>2</td>\n",
       "    </tr>\n",
       "    <tr>\n",
       "      <th>19</th>\n",
       "      <td>0</td>\n",
       "      <td>0</td>\n",
       "      <td>0</td>\n",
       "      <td>0</td>\n",
       "      <td>2</td>\n",
       "      <td>4</td>\n",
       "      <td>6</td>\n",
       "      <td>3</td>\n",
       "      <td>0</td>\n",
       "      <td>1</td>\n",
       "      <td>0</td>\n",
       "      <td>1.45455</td>\n",
       "    </tr>\n",
       "  </tbody>\n",
       "</table>\n",
       "</div>"
      ],
      "text/plain": [
       "    0  1  2  3  4  5  6  7  8   9 10  Average\n",
       "2   1  2  3  2  2  3  3  6  1   0  0  2.09091\n",
       "9   0  1  6  4  2  2  4  2  0   1  0        2\n",
       "37  0  0  0  0  0  0  0  3  1  13  5        2\n",
       "14  0  0  0  1  0  3  1  6  1   6  4        2\n",
       "19  0  0  0  0  2  4  6  3  0   1  0  1.45455"
      ]
     },
     "execution_count": 9,
     "metadata": {},
     "output_type": "execute_result"
    }
   ],
   "source": [
    "node=[]\n",
    "for e in range(1,111):\n",
    "        node.append(str(e))\n",
    "        \n",
    "\n",
    "degrees= pd.DataFrame(index=range(0,11), columns=(node))\n",
    "for j in range (0,11):\n",
    "    degree_phase = nx.degree(data[j])\n",
    "    for i in node:\n",
    "        if i not in suspects:\n",
    "            try:\n",
    "                degrees[i][j]=degree_phase[i]\n",
    "            except:\n",
    "                degrees[i][j]=0\n",
    "   \n",
    "    \n",
    "degrees.loc['Average']= degrees.sum()/11\n",
    "degrees=degrees.transpose()\n",
    "degrees=degrees.sort_values('Average', ascending= False)\n",
    "\n",
    "#node\n",
    "degrees.head()\n",
    "\n",
    "#plt.figure(figsize=(8,6))\n",
    "#plt.plot(degrees['Average'])\n",
    "#plt.xlabel('Criminal Code')\n",
    "#plt.ylabel('Average Degree over 11 phases')\n",
    "#plt.show()\n"
   ]
  },
  {
   "cell_type": "markdown",
   "metadata": {},
   "source": [
    "    These are the top 5 non-suspects in terms of degree"
   ]
  },
  {
   "cell_type": "code",
   "execution_count": 10,
   "metadata": {},
   "outputs": [
    {
     "data": {
      "text/html": [
       "<div>\n",
       "<style scoped>\n",
       "    .dataframe tbody tr th:only-of-type {\n",
       "        vertical-align: middle;\n",
       "    }\n",
       "\n",
       "    .dataframe tbody tr th {\n",
       "        vertical-align: top;\n",
       "    }\n",
       "\n",
       "    .dataframe thead th {\n",
       "        text-align: right;\n",
       "    }\n",
       "</style>\n",
       "<table border=\"1\" class=\"dataframe\">\n",
       "  <thead>\n",
       "    <tr style=\"text-align: right;\">\n",
       "      <th></th>\n",
       "      <th>0</th>\n",
       "      <th>1</th>\n",
       "      <th>2</th>\n",
       "      <th>3</th>\n",
       "      <th>4</th>\n",
       "      <th>5</th>\n",
       "      <th>6</th>\n",
       "      <th>7</th>\n",
       "      <th>8</th>\n",
       "      <th>9</th>\n",
       "      <th>10</th>\n",
       "      <th>Average</th>\n",
       "    </tr>\n",
       "  </thead>\n",
       "  <tbody>\n",
       "    <tr>\n",
       "      <th>14</th>\n",
       "      <td>0</td>\n",
       "      <td>0</td>\n",
       "      <td>0</td>\n",
       "      <td>0</td>\n",
       "      <td>0</td>\n",
       "      <td>0</td>\n",
       "      <td>0</td>\n",
       "      <td>0.15752</td>\n",
       "      <td>0</td>\n",
       "      <td>0.00853659</td>\n",
       "      <td>0.0314103</td>\n",
       "      <td>0.0179516</td>\n",
       "    </tr>\n",
       "    <tr>\n",
       "      <th>41</th>\n",
       "      <td>0</td>\n",
       "      <td>0</td>\n",
       "      <td>0</td>\n",
       "      <td>0</td>\n",
       "      <td>0</td>\n",
       "      <td>0</td>\n",
       "      <td>0</td>\n",
       "      <td>0</td>\n",
       "      <td>0</td>\n",
       "      <td>0</td>\n",
       "      <td>0.105556</td>\n",
       "      <td>0.00959596</td>\n",
       "    </tr>\n",
       "    <tr>\n",
       "      <th>37</th>\n",
       "      <td>0</td>\n",
       "      <td>0</td>\n",
       "      <td>0</td>\n",
       "      <td>0</td>\n",
       "      <td>0</td>\n",
       "      <td>0</td>\n",
       "      <td>0</td>\n",
       "      <td>0</td>\n",
       "      <td>0</td>\n",
       "      <td>0.0859756</td>\n",
       "      <td>0.000534188</td>\n",
       "      <td>0.00786453</td>\n",
       "    </tr>\n",
       "    <tr>\n",
       "      <th>79</th>\n",
       "      <td>0</td>\n",
       "      <td>0</td>\n",
       "      <td>0</td>\n",
       "      <td>0</td>\n",
       "      <td>0</td>\n",
       "      <td>0</td>\n",
       "      <td>0</td>\n",
       "      <td>0</td>\n",
       "      <td>0.0596591</td>\n",
       "      <td>0</td>\n",
       "      <td>0.0195513</td>\n",
       "      <td>0.00720094</td>\n",
       "    </tr>\n",
       "    <tr>\n",
       "      <th>78</th>\n",
       "      <td>0</td>\n",
       "      <td>0</td>\n",
       "      <td>0</td>\n",
       "      <td>0</td>\n",
       "      <td>0</td>\n",
       "      <td>0</td>\n",
       "      <td>0.0193277</td>\n",
       "      <td>0</td>\n",
       "      <td>0.0539773</td>\n",
       "      <td>0</td>\n",
       "      <td>0</td>\n",
       "      <td>0.00666409</td>\n",
       "    </tr>\n",
       "  </tbody>\n",
       "</table>\n",
       "</div>"
      ],
      "text/plain": [
       "    0  1  2  3  4  5          6        7          8           9           10  \\\n",
       "14  0  0  0  0  0  0          0  0.15752          0  0.00853659    0.0314103   \n",
       "41  0  0  0  0  0  0          0        0          0           0     0.105556   \n",
       "37  0  0  0  0  0  0          0        0          0   0.0859756  0.000534188   \n",
       "79  0  0  0  0  0  0          0        0  0.0596591           0    0.0195513   \n",
       "78  0  0  0  0  0  0  0.0193277        0  0.0539773           0            0   \n",
       "\n",
       "       Average  \n",
       "14   0.0179516  \n",
       "41  0.00959596  \n",
       "37  0.00786453  \n",
       "79  0.00720094  \n",
       "78  0.00666409  "
      ]
     },
     "execution_count": 10,
     "metadata": {},
     "output_type": "execute_result"
    }
   ],
   "source": [
    "betweenness= pd.DataFrame(columns=(node), index=range(0,11))\n",
    "for j in range (0,11):\n",
    "    betweenness_phase = nx.betweenness_centrality(data[j])\n",
    "    for i in (node):\n",
    "        if i not in suspects:\n",
    "            try:\n",
    "                betweenness[i][j]=betweenness_phase[i]\n",
    "            except:\n",
    "                betweenness[i][j]=0\n",
    "            \n",
    "betweenness.loc['Average']= betweenness.sum()/11\n",
    "betweenness=betweenness.transpose()\n",
    "betweenness=betweenness.sort_values('Average', ascending= False)\n",
    "betweenness\n",
    "\n",
    "betweenness.head()"
   ]
  },
  {
   "cell_type": "markdown",
   "metadata": {},
   "source": [
    "    These are the top 5 non suspects in terms of betweenness centrality"
   ]
  },
  {
   "cell_type": "code",
   "execution_count": 11,
   "metadata": {
    "scrolled": true
   },
   "outputs": [
    {
     "data": {
      "text/html": [
       "<div>\n",
       "<style scoped>\n",
       "    .dataframe tbody tr th:only-of-type {\n",
       "        vertical-align: middle;\n",
       "    }\n",
       "\n",
       "    .dataframe tbody tr th {\n",
       "        vertical-align: top;\n",
       "    }\n",
       "\n",
       "    .dataframe thead th {\n",
       "        text-align: right;\n",
       "    }\n",
       "</style>\n",
       "<table border=\"1\" class=\"dataframe\">\n",
       "  <thead>\n",
       "    <tr style=\"text-align: right;\">\n",
       "      <th></th>\n",
       "      <th>0</th>\n",
       "      <th>1</th>\n",
       "      <th>2</th>\n",
       "      <th>3</th>\n",
       "      <th>4</th>\n",
       "      <th>5</th>\n",
       "      <th>6</th>\n",
       "      <th>7</th>\n",
       "      <th>8</th>\n",
       "      <th>9</th>\n",
       "      <th>10</th>\n",
       "      <th>Average</th>\n",
       "    </tr>\n",
       "  </thead>\n",
       "  <tbody>\n",
       "    <tr>\n",
       "      <th>9</th>\n",
       "      <td>0</td>\n",
       "      <td>0.188748</td>\n",
       "      <td>0.227458</td>\n",
       "      <td>0.276896</td>\n",
       "      <td>0.194667</td>\n",
       "      <td>0.144854</td>\n",
       "      <td>0.270745</td>\n",
       "      <td>0.186244</td>\n",
       "      <td>0</td>\n",
       "      <td>0.0407434</td>\n",
       "      <td>0</td>\n",
       "      <td>0.139123</td>\n",
       "    </tr>\n",
       "    <tr>\n",
       "      <th>2</th>\n",
       "      <td>0.163082</td>\n",
       "      <td>0.188748</td>\n",
       "      <td>0.11986</td>\n",
       "      <td>0.119841</td>\n",
       "      <td>0.154512</td>\n",
       "      <td>0.114185</td>\n",
       "      <td>0.195082</td>\n",
       "      <td>0.15086</td>\n",
       "      <td>0.0902398</td>\n",
       "      <td>0</td>\n",
       "      <td>0</td>\n",
       "      <td>0.117855</td>\n",
       "    </tr>\n",
       "    <tr>\n",
       "      <th>4</th>\n",
       "      <td>0.163082</td>\n",
       "      <td>0</td>\n",
       "      <td>6.28039e-09</td>\n",
       "      <td>0.119841</td>\n",
       "      <td>0.154512</td>\n",
       "      <td>0.114185</td>\n",
       "      <td>0.143701</td>\n",
       "      <td>0.114992</td>\n",
       "      <td>0</td>\n",
       "      <td>0.143575</td>\n",
       "      <td>0</td>\n",
       "      <td>0.0867171</td>\n",
       "    </tr>\n",
       "    <tr>\n",
       "      <th>81</th>\n",
       "      <td>0</td>\n",
       "      <td>0</td>\n",
       "      <td>0</td>\n",
       "      <td>0</td>\n",
       "      <td>0</td>\n",
       "      <td>0</td>\n",
       "      <td>0.18386</td>\n",
       "      <td>0.186244</td>\n",
       "      <td>0.113183</td>\n",
       "      <td>0.226574</td>\n",
       "      <td>0.107894</td>\n",
       "      <td>0.0743414</td>\n",
       "    </tr>\n",
       "    <tr>\n",
       "      <th>19</th>\n",
       "      <td>0</td>\n",
       "      <td>0</td>\n",
       "      <td>0</td>\n",
       "      <td>0</td>\n",
       "      <td>0.154512</td>\n",
       "      <td>0.18663</td>\n",
       "      <td>0.322923</td>\n",
       "      <td>0.144275</td>\n",
       "      <td>0</td>\n",
       "      <td>5.24683e-19</td>\n",
       "      <td>0</td>\n",
       "      <td>0.0734855</td>\n",
       "    </tr>\n",
       "  </tbody>\n",
       "</table>\n",
       "</div>"
      ],
      "text/plain": [
       "           0         1            2         3         4         5         6  \\\n",
       "9          0  0.188748     0.227458  0.276896  0.194667  0.144854  0.270745   \n",
       "2   0.163082  0.188748      0.11986  0.119841  0.154512  0.114185  0.195082   \n",
       "4   0.163082         0  6.28039e-09  0.119841  0.154512  0.114185  0.143701   \n",
       "81         0         0            0         0         0         0   0.18386   \n",
       "19         0         0            0         0  0.154512   0.18663  0.322923   \n",
       "\n",
       "           7          8            9        10    Average  \n",
       "9   0.186244          0    0.0407434         0   0.139123  \n",
       "2    0.15086  0.0902398            0         0   0.117855  \n",
       "4   0.114992          0     0.143575         0  0.0867171  \n",
       "81  0.186244   0.113183     0.226574  0.107894  0.0743414  \n",
       "19  0.144275          0  5.24683e-19         0  0.0734855  "
      ]
     },
     "execution_count": 11,
     "metadata": {},
     "output_type": "execute_result"
    }
   ],
   "source": [
    "eigen_centrality= pd.DataFrame(columns=(node), index=range(0,11))\n",
    "for j in range (0,11):\n",
    "    eigen_phase = nx.eigenvector_centrality(data[j])\n",
    "    for i in (node):\n",
    "        if i not in suspects:\n",
    "            try:\n",
    "                eigen_centrality[i][j]=eigen_phase[i]\n",
    "            except:\n",
    "                eigen_centrality[i][j]=0\n",
    "\n",
    "eigen_centrality.loc['Average']= eigen_centrality.sum()/11\n",
    "eigen_centrality=eigen_centrality.transpose()\n",
    "eigen_centrality=eigen_centrality.sort_values('Average', ascending= False)\n",
    "\n",
    "eigen_centrality.head(n=5)"
   ]
  },
  {
   "cell_type": "markdown",
   "metadata": {},
   "source": [
    "    These are the top 5 non suspects in terms of eigenvector centrality"
   ]
  },
  {
   "cell_type": "markdown",
   "metadata": {},
   "source": [
    "While none of these actors listed above have high enough values for degree or centrality to compare to the top 5 suspects. However they do figure near the top 10 compared to the suspects, so these people maybe worth including in suspects.\n",
    "\n",
    "It might be worthwhile to include n14 in the suspects list because his/hers betweenness centrality would be 8th (averaged over phases). This means that many people are connected through n14. The degree for n14 is also reasonably high.\n",
    "\n",
    "n9 is 7th by eigenvector centrality so he/she has friends who has friends- might be worthwhile to include him/her in suspects to see who n9 is connected to. n9 also has a degree of 2 which would put him/her in the top 15 compared to suspects, so might be useful to examine n9 closely.\n",
    "\n",
    "n2, like n9, figures high on both eigenvector centrality and degree. Comparatively both of them are lower according to betweenness suggesting that they may be important in isolated/separated networks within the larger network."
   ]
  },
  {
   "cell_type": "markdown",
   "metadata": {},
   "source": [
    "**Problem 4.2(d)**"
   ]
  },
  {
   "cell_type": "markdown",
   "metadata": {},
   "source": [
    "First let us look at whether total communication in the network is affected by seizures of drugs"
   ]
  },
  {
   "cell_type": "code",
   "execution_count": 12,
   "metadata": {},
   "outputs": [
    {
     "data": {
      "image/png": "[encoded data removed]",
      "text/plain": [
       "<Figure size 576x432 with 1 Axes>"
      ]
     },
     "metadata": {
      "needs_background": "light"
     },
     "output_type": "display_data"
    }
   ],
   "source": [
    "degrees= pd.DataFrame(index=range(0,11), columns=(node))\n",
    "for j in range (0,11):\n",
    "    degree_phase = nx.degree(data[j])\n",
    "    for i in node:\n",
    "        try:\n",
    "            degrees[i][j]=degree_phase[i]\n",
    "        except:\n",
    "            degrees[i][j]=0\n",
    "\n",
    "degrees=degrees.transpose()    \n",
    "degrees.loc['Phase_Sum']= degrees.sum()\n",
    "degrees=degrees.transpose()    \n",
    "\n",
    "#degrees.reset_index()\n",
    "#degrees.reindex(index=range(1,12))\n",
    "degrees.index=range(1,12)\n",
    "\n",
    "plt.figure(figsize=(8,6))\n",
    "plt.plot(degrees['Phase_Sum'])\n",
    "plt.xlabel('Phase')\n",
    "plt.ylabel('Total communication (sum of degrees for all nodes)')\n",
    "#plt.axvline(x=6, color='red', linestyle='--')\n",
    "#plt.axvline(x=9, color='red', linestyle='--')\n",
    "plt.show()\n",
    "#degrees=degrees.sort_values('Average', ascending= False)\n",
    "\n",
    "#degrees"
   ]
  },
  {
   "cell_type": "markdown",
   "metadata": {},
   "source": [
    "It doesn't seem that there is an overall decrease in communication. After the first seizure, there is a decrease in communication (maybe due to fear of arrest) but then communication goes up again (maybe because no arrests).\n",
    "\n",
    "**Problem 4.2(e)**\n",
    "\n",
    "Now lets analyse those who were identified in the earlier question. First lets look at those charged with recuperating the marijuana ( Casale (n76), Gleeson(n5) and Quinzio (n8) ) and see if the seizures had any effect on their communication"
   ]
  },
  {
   "cell_type": "code",
   "execution_count": 13,
   "metadata": {},
   "outputs": [
    {
     "data": {
      "text/plain": [
       "<matplotlib.lines.Line2D at 0x1a1f12dac8>"
      ]
     },
     "execution_count": 13,
     "metadata": {},
     "output_type": "execute_result"
    },
    {
     "data": {
      "image/png": "[encoded data removed]",
      "text/plain": [
       "<Figure size 576x432 with 1 Axes>"
      ]
     },
     "metadata": {
      "needs_background": "light"
     },
     "output_type": "display_data"
    }
   ],
   "source": [
    "betweenness= pd.DataFrame(columns=['76','5','8'], index=range(0,11))\n",
    "for j in range (0,11):\n",
    "    betweenness_phase = nx.betweenness_centrality(data[j])\n",
    "    for i in ['76','5','8']:\n",
    "        try:\n",
    "            betweenness[i][j]=betweenness_phase[i]\n",
    "        except:\n",
    "            betweenness[i][j]=0\n",
    "\n",
    "                                   \n",
    "betweenness=betweenness.transpose()\n",
    "betweenness.loc['Phase_Sum']= betweenness.sum()\n",
    "betweenness=betweenness.transpose()\n",
    "#betweenness=betweenness.sort_values('Phase_Sum', ascending= False)\n",
    "                                                                   \n",
    "betweenness.index=range(1,12)\n",
    "plt.figure(figsize=(8,6))\n",
    "plt.plot(betweenness['Phase_Sum'])\n",
    "plt.xlabel('Phase')\n",
    "plt.ylabel('Sum of Betweenness of Marijuana Recuperaters')\n",
    "plt.axvline(x=4, color='y', linestyle='--')\n",
    "plt.axvline(x=6, color='y', linestyle='--')\n",
    "plt.axvline(x=7, color='y', linestyle='--')\n",
    "plt.axvline(x=9, color='y', linestyle='--')\n",
    "plt.axvline(x=10, color='y', linestyle='--')\n"
   ]
  },
  {
   "cell_type": "markdown",
   "metadata": {},
   "source": [
    "The yellow lines are marijuana seizures. You can see that there is a decrease in communication (when measured by betweenness) after every time there is a seizure of marijuana."
   ]
  },
  {
   "cell_type": "code",
   "execution_count": 14,
   "metadata": {},
   "outputs": [
    {
     "data": {
      "image/png": "[encoded data removed]",
      "text/plain": [
       "<Figure size 576x432 with 1 Axes>"
      ]
     },
     "metadata": {
      "needs_background": "light"
     },
     "output_type": "display_data"
    }
   ],
   "source": [
    "degrees= pd.DataFrame(index=range(0,11), columns=['76','5','8'])\n",
    "for j in range (0,11):\n",
    "    degree_phase = nx.degree(data[j])\n",
    "    for i in ['76','5','8']:\n",
    "        try:\n",
    "            degrees[i][j]=degree_phase[i]\n",
    "        except:\n",
    "            degrees[i][j]=0\n",
    "\n",
    "degrees=degrees.transpose()    \n",
    "degrees.loc['Phase_Sum']= degrees.sum()\n",
    "degrees=degrees.transpose()    \n",
    "\n",
    "#degrees.reset_index()\n",
    "#degrees.reindex(index=range(1,12))\n",
    "degrees.index=range(1,12)\n",
    "\n",
    "plt.figure(figsize=(8,6))\n",
    "plt.plot(degrees['Phase_Sum'], color= 'green')\n",
    "plt.xlabel('Phase')\n",
    "plt.ylabel('Sum of degree for Marijuana Recuperaters')\n",
    "plt.axvline(x=4, color='y', linestyle='--')\n",
    "plt.axvline(x=6, color='y', linestyle='--')\n",
    "plt.axvline(x=7, color='y', linestyle='--')\n",
    "plt.axvline(x=9, color='y', linestyle='--')\n",
    "plt.axvline(x=10, color='y', linestyle='--')\n",
    "plt.show()\n",
    "#degrees=degrees.sort_values('Average', ascending= False)\n",
    "\n",
    "#degrees"
   ]
  },
  {
   "cell_type": "markdown",
   "metadata": {},
   "source": [
    "This is communication between marijuana gang members when measured by degree"
   ]
  },
  {
   "cell_type": "markdown",
   "metadata": {},
   "source": [
    "It feels like betweenness is a measure that better fits the story. This is perhaps due to the fact that in a criminal network, the degree (no. of immediate connections) isn't as important as being connected to everyone through paths."
   ]
  },
  {
   "cell_type": "markdown",
   "metadata": {},
   "source": [
    "Now let's analyse the effect of seizures on Morales (n12), organiser of the cocaine import"
   ]
  },
  {
   "cell_type": "code",
   "execution_count": 15,
   "metadata": {},
   "outputs": [
    {
     "data": {
      "text/plain": [
       "<matplotlib.lines.Line2D at 0x1a1f2b1ac8>"
      ]
     },
     "execution_count": 15,
     "metadata": {},
     "output_type": "execute_result"
    },
    {
     "data": {
      "image/png": "[encoded data removed]",
      "text/plain": [
       "<Figure size 576x432 with 1 Axes>"
      ]
     },
     "metadata": {
      "needs_background": "light"
     },
     "output_type": "display_data"
    }
   ],
   "source": [
    "betweenness= pd.DataFrame(columns=['12'], index=range(0,11))\n",
    "for j in range (0,11):\n",
    "    betweenness_phase = nx.betweenness_centrality(data[j])\n",
    "    for i in ['12']:\n",
    "        try:\n",
    "            betweenness[i][j]=betweenness_phase[i]\n",
    "        except:\n",
    "            betweenness[i][j]=0\n",
    "\n",
    "                                   \n",
    "betweenness=betweenness.transpose()\n",
    "#betweenness.loc['Phase_Sum']= betweenness.sum()\n",
    "betweenness=betweenness.transpose()                                                                   \n",
    "betweenness.index=range(1,12)\n",
    "\n",
    "plt.figure(figsize=(8,6))\n",
    "plt.plot(betweenness['12'])\n",
    "plt.xlabel('Phase')\n",
    "plt.ylabel('Betweenness of Morales (Cocaine Organiser)')\n",
    "\n",
    "plt.axvline(x=6, color='orange', linestyle='--')\n",
    "plt.axvline(x=8, color='orange', linestyle='--')\n",
    "plt.axvline(x=9, color='orange', linestyle='--')\n",
    "plt.axvline(x=11, color='orange', linestyle='--')"
   ]
  },
  {
   "cell_type": "markdown",
   "metadata": {},
   "source": [
    "Even for Cocaine, it seems like every time there is a seizure, there is a reduction in influence/communication through Morales. However comunication resumes after one more phase (when not seized)!\n",
    "\n",
    "**Problem 4.2(f)**\n",
    "\n",
    "Now let us observe what is the behaviour of the kingpin at different phases"
   ]
  },
  {
   "cell_type": "code",
   "execution_count": 20,
   "metadata": {},
   "outputs": [
    {
     "data": {
      "text/plain": [
       "<matplotlib.lines.Line2D at 0x1a1f87aeb8>"
      ]
     },
     "execution_count": 20,
     "metadata": {},
     "output_type": "execute_result"
    },
    {
     "data": {
      "image/png": "[encoded data removed]",
      "text/plain": [
       "<Figure size 648x432 with 1 Axes>"
      ]
     },
     "metadata": {
      "needs_background": "light"
     },
     "output_type": "display_data"
    }
   ],
   "source": [
    "in_degrees= pd.DataFrame(index=range(0,11), columns=['1'])\n",
    "for j in range (0,11):\n",
    "    degree_phase = (data[j]).in_degree\n",
    "    for i in ['1']:\n",
    "        try:\n",
    "            in_degrees[i][j]=degree_phase[i]\n",
    "        except:\n",
    "            in_degrees[i][j]=0\n",
    "\n",
    "in_degrees.index=range(1,12)\n",
    "\n",
    "out_degrees= pd.DataFrame(index=range(0,11), columns=['1'])\n",
    "for j in range (0,11):\n",
    "    degree_phase = (data[j]).out_degree\n",
    "    for i in ['1']:\n",
    "        try:\n",
    "            out_degrees[i][j]=degree_phase[i]\n",
    "        except:\n",
    "            out_degrees[i][j]=0\n",
    "    \n",
    "out_degrees.index=range(1,12)\n",
    "\n",
    "plt.figure(figsize=(9,6))\n",
    "plt.plot(in_degrees['1'], color = 'red', label= 'In Degrees')\n",
    "plt.plot(out_degrees['1'], color = 'blue', label= 'Out Degrees')\n",
    "plt.plot(in_degrees['1']+out_degrees['1'], color = 'green', label= 'Total Degree')\n",
    "plt.legend()\n",
    "plt.xlabel('Phase')\n",
    "plt.ylabel('Degree of n1')\n",
    "\n",
    "#plt.hold(True)\n",
    "\n",
    "line1=plt.axvline(x=6, color='yellowgreen', linestyle='--')\n",
    "line2=plt.axvline(x=8, color='yellowgreen', linestyle='--')\n",
    "line3=plt.axvline(x=4, color='yellowgreen', linestyle='--')\n",
    "plt.axvline(x=9, color='yellowgreen', linestyle='--')\n",
    "plt.axvline(x=11, color='skyblue', linestyle='--')\n",
    "plt.axvline(x=7, color='yellowgreen', linestyle='--')\n",
    "plt.axvline(x=10, color='yellowgreen', linestyle='--')\n",
    "\n",
    "#plt.legend([line1, line2, line3],['Both Seized','Only Cocaine Seized','Only Marijuana Seized'])\n",
    "\n"
   ]
  },
  {
   "cell_type": "markdown",
   "metadata": {},
   "source": [
    "While n1 seems to have decreased degree over time, the entire network had increasing degree. Maybe this means that n1 is isolating himself and more people are communicating in other parts of the network to keep business running. n1 had increasing degree until the first interception by the police.\n",
    "\n",
    "In the period after the first seizure of drugs, n1 has decreasing communications outward but more communication inward.\n",
    "One possible explanation is that more people are calling him to ask about what to do but he doesn't want to call people because he is afraid of there being a rat.\n"
   ]
  },
  {
   "cell_type": "markdown",
   "metadata": {},
   "source": [
    "**Problem 4.2(g)**\n",
    "\n",
    "Now lets look at activity of both Cocaine and Marijuana dealers at different periods. We will plot the periods where the police seized shipments on the same graph to examine the effect of the police action."
   ]
  },
  {
   "cell_type": "code",
   "execution_count": 125,
   "metadata": {},
   "outputs": [
    {
     "data": {
      "image/png": "[encoded data removed]",
      "text/plain": [
       "<Figure size 576x432 with 1 Axes>"
      ]
     },
     "metadata": {
      "needs_background": "light"
     },
     "output_type": "display_data"
    }
   ],
   "source": [
    "betweenness= pd.DataFrame(columns=['12','76','5','8'], index=range(0,11))\n",
    "for j in range (0,11):\n",
    "    betweenness_phase = nx.betweenness_centrality(data[j])\n",
    "    for i in ['12','76','5','8']:\n",
    "        try:\n",
    "            betweenness[i][j]=betweenness_phase[i]\n",
    "        except:\n",
    "            betweenness[i][j]=0\n",
    "\n",
    "                                   \n",
    "betweenness=betweenness.transpose()\n",
    "#betweenness.loc['Phase_Sum']= betweenness.sum()\n",
    "betweenness=betweenness.transpose()                                                                   \n",
    "betweenness.index=range(1,12)\n",
    "\n",
    "plt.figure(figsize=(8,6))\n",
    "coc=plt.plot(betweenness['12'],label='Cocaine (Morales)')\n",
    "mar=plt.plot(betweenness['76']+betweenness['5']+betweenness['8'], color= 'green', label='Marijuana (Recuperators)')\n",
    "plt.xlabel('Phase')\n",
    "plt.ylabel('Betweenness')\n",
    "\n",
    "line1=plt.axvline(x=6, color='red', linestyle='--')\n",
    "line2=plt.axvline(x=8, color='skyblue', linestyle='--')\n",
    "line3=plt.axvline(x=4, color='yellowgreen', linestyle='--')\n",
    "plt.axvline(x=9, color='red', linestyle='--')\n",
    "plt.axvline(x=11, color='skyblue', linestyle='--')\n",
    "plt.axvline(x=7, color='yellowgreen', linestyle='--')\n",
    "plt.axvline(x=10, color='yellowgreen', linestyle='--')\n",
    "\n",
    "legend1=plt.legend([line1, line2, line3],['Both Seized','Only Cocaine Seized','Only Marijuana Seized'], loc=1)\n",
    "plt.legend()\n",
    "plt.gca().add_artist(legend1)\n",
    "plt.show()\n"
   ]
  },
  {
   "cell_type": "markdown",
   "metadata": {},
   "source": [
    "As you can see, when both cocaine and marijuana is seized, betweenness for both cocaine and marijuana organisers goes down showing that there is less communication. It is interesting to note that, when only marijuana is seized, while marijuana betweenness reduces, cocaine betweenness goes up. This suggests that the criminal network changes the drug its dealing after one of the drugs gets seized by authorities. \n",
    "\n",
    "The police didn't decrease drug trading overall but only displaced communication from one drug to the other every time they seized a particular drug. So different parts of the criminal network are more active based on whether there has been interception by the police. The overall communication of the kingpin seems to have decreased over time, suggesting that the network gets more scattered.\n",
    "\n",
    "\n"
   ]
  },
  {
   "cell_type": "markdown",
   "metadata": {},
   "source": [
    "**Problem 4.3 (a,b,c,d)"
   ]
  },
  {
   "cell_type": "code",
   "execution_count": 21,
   "metadata": {},
   "outputs": [],
   "source": [
    "cooffend= pd.read_csv('Cooffending.csv')"
   ]
  },
  {
   "cell_type": "code",
   "execution_count": 22,
   "metadata": {},
   "outputs": [
    {
     "name": "stdout",
     "output_type": "stream",
     "text": [
      "No. of cases: 1280459\n"
     ]
    }
   ],
   "source": [
    "print ('No. of cases: {}'.format(len(cooffend['NoUnique'])))"
   ]
  },
  {
   "cell_type": "code",
   "execution_count": 23,
   "metadata": {},
   "outputs": [
    {
     "name": "stdout",
     "output_type": "stream",
     "text": [
      "No. of unique offenders: 539593\n"
     ]
    }
   ],
   "source": [
    "print ('No. of unique offenders: {}'.format(len(set(cooffend['NoUnique']))))"
   ]
  },
  {
   "cell_type": "code",
   "execution_count": 24,
   "metadata": {},
   "outputs": [
    {
     "name": "stdout",
     "output_type": "stream",
     "text": [
      "No. of unique events: 1164836\n"
     ]
    }
   ],
   "source": [
    "print ('No. of unique events: {}'.format(len(set(cooffend['SeqE']))))"
   ]
  },
  {
   "cell_type": "code",
   "execution_count": 25,
   "metadata": {},
   "outputs": [
    {
     "name": "stdout",
     "output_type": "stream",
     "text": [
      "No of events per year\n"
     ]
    },
    {
     "data": {
      "text/plain": [
       "[(2003, 122284),\n",
       " (2004, 133705),\n",
       " (2005, 188115),\n",
       " (2006, 203381),\n",
       " (2007, 214315),\n",
       " (2008, 220791),\n",
       " (2009, 197861),\n",
       " (2010, 7)]"
      ]
     },
     "execution_count": 25,
     "metadata": {},
     "output_type": "execute_result"
    }
   ],
   "source": [
    "from collections import Counter\n",
    "print ('No of events per year')\n",
    "sorted(Counter(cooffend['annee']).items())\n",
    "#print ('No. of unique events: {}'.format((cooffend['annee'].count(str(i)))))"
   ]
  },
  {
   "cell_type": "code",
   "execution_count": 131,
   "metadata": {},
   "outputs": [
    {
     "name": "stdout",
     "output_type": "stream",
     "text": [
      "Event with most offenders (Event No., No. of people involved)\n",
      "[(27849, 156)]\n"
     ]
    }
   ],
   "source": [
    "print ('Event with most offenders (Event No., No. of people involved)')\n",
    "print (Counter(cooffend['SeqE']).most_common(1))\n"
   ]
  },
  {
   "cell_type": "code",
   "execution_count": 132,
   "metadata": {},
   "outputs": [
    {
     "name": "stdout",
     "output_type": "stream",
     "text": [
      "Municipality with crime that had most offenders: [66023]\n"
     ]
    }
   ],
   "source": [
    "a=(cooffend.loc[cooffend['SeqE'] == 27849,'MUN'].head(1)).values\n",
    "print ('Municipality with crime that had most offenders:', a)"
   ]
  },
  {
   "cell_type": "markdown",
   "metadata": {},
   "source": [
    "**Problem 4.3(e)**"
   ]
  },
  {
   "cell_type": "code",
   "execution_count": 35,
   "metadata": {},
   "outputs": [
    {
     "name": "stdout",
     "output_type": "stream",
     "text": [
      "(670537, 670537) (1639824, 1639824)\n"
     ]
    }
   ],
   "source": [
    "from scipy import sparse\n",
    "from scipy.sparse import coo_matrix\n",
    "#peoplecrime=sparse\n",
    "#M = coo_matrix(max(cooffend['NoUnique']),max(cooffend['SeqE']))\n",
    "#sparse.coo_matrix((data, (row_ind, col_ind)))\n",
    "#for i in range(0,len(cooffend)):\n",
    " #   x= cooffend['NoUnique'][i]\n",
    "#    y= cooffend['SeqE'][i]\n",
    "#    M[x,y]=1\n",
    "    \n",
    "#M = sparse.coo_matrix((data, (rows, cols)), shape=(100,100))\n",
    "#data = np.ones(rows.shape, dtype=int)\n",
    "data = np.ones(len(cooffend), dtype=int)\n",
    "M = sparse.coo_matrix((data, (cooffend['NoUnique'].values, cooffend['SeqE'].values)))\n",
    "#M = M.tocsr()\n",
    "#M.get_shape()\n",
    "#cooff=M.dot(M)\n",
    "cooff=M*np.transpose(M)\n",
    "\n",
    "cooff2=np.transpose(M)*M\n",
    "print(cooff.shape, cooff2.shape)\n",
    "#cooff.index(cooff.max())\n",
    "#print(np.any(cooff == cooff.max()))\n",
    "#print(cooff2.max())"
   ]
  },
  {
   "cell_type": "code",
   "execution_count": 27,
   "metadata": {},
   "outputs": [],
   "source": [
    "#print(cooff)\n",
    "#G=nx.from_scipy_sparse_matrix(cooff, parallel_edges=False, create_using=None, edge_attribute='weight')\n",
    "#cooff.setdiag(0)\n",
    "\n",
    "G=nx.from_scipy_sparse_matrix(cooff)\n"
   ]
  },
  {
   "cell_type": "code",
   "execution_count": 28,
   "metadata": {},
   "outputs": [],
   "source": [
    "#max(G.degree())\n",
    "#sorted(G.degree, key=lambda x: x[1], reverse=True)"
   ]
  },
  {
   "cell_type": "code",
   "execution_count": 29,
   "metadata": {},
   "outputs": [],
   "source": [
    "#max(G.degree())\n",
    "#sorted(G.degree, key=lambda x: x[1], reverse=True)"
   ]
  },
  {
   "cell_type": "code",
   "execution_count": 30,
   "metadata": {},
   "outputs": [
    {
     "name": "stdout",
     "output_type": "stream",
     "text": [
      "No. of nodes (including sole offenders) is 539593\n",
      "No of sole offenders is 418434\n"
     ]
    }
   ],
   "source": [
    "G.remove_nodes_from(list(nx.isolates(G)))\n",
    "G.nodes()\n",
    "print ('No. of nodes (including sole offenders) is', len(G))\n",
    "#if degree=2, it is a sole offender [2 is added as degree for each offender]\n",
    "sole = [node for node,degree in G.degree() if degree <= 2]\n",
    "print('No of sole offenders is', len(sole)) "
   ]
  },
  {
   "cell_type": "code",
   "execution_count": 31,
   "metadata": {},
   "outputs": [],
   "source": [
    "#G.number_of_edges()  #this contains an \"edge\" if one connected to itself"
   ]
  },
  {
   "cell_type": "code",
   "execution_count": 32,
   "metadata": {},
   "outputs": [
    {
     "name": "stdout",
     "output_type": "stream",
     "text": [
      "No of Edges 178413\n",
      "No of Nodes (after removing sole offenders) 121159\n"
     ]
    }
   ],
   "source": [
    "remove = [node for node,degree in G.degree() if degree <= 2]\n",
    "G.remove_nodes_from(remove)\n",
    "#if degree=3, two connected criminals\n",
    "print('No of Edges', G.number_of_edges()-len(G))\n",
    "print ('No of Nodes (after removing sole offenders)',len(G))"
   ]
  },
  {
   "cell_type": "code",
   "execution_count": 33,
   "metadata": {},
   "outputs": [],
   "source": [
    "#G.degree(112701)-2"
   ]
  },
  {
   "cell_type": "markdown",
   "metadata": {},
   "source": [
    "**Problem 4.3(f)**"
   ]
  },
  {
   "cell_type": "code",
   "execution_count": 38,
   "metadata": {},
   "outputs": [
    {
     "data": {
      "text/plain": [
       "<Figure size 1080x720 with 0 Axes>"
      ]
     },
     "metadata": {},
     "output_type": "display_data"
    },
    {
     "data": {
      "image/png": "[encoded data removed]",
      "text/plain": [
       "<Figure size 432x288 with 1 Axes>"
      ]
     },
     "metadata": {
      "needs_background": "light"
     },
     "output_type": "display_data"
    }
   ],
   "source": [
    "import collections\n",
    "degree_sequence = sorted([d for n, d in G.degree()], reverse=True)  # degree sequence\n",
    "# print \"Degree sequence\", degree_sequence\n",
    "degreeCount = collections.Counter(degree_sequence)\n",
    "deg, cnt = zip(*degreeCount.items())\n",
    "\n",
    "#deg \n",
    "\n",
    "plt.figure(figsize=(15,10))\n",
    "fig, ax = plt.subplots()\n",
    "plt.bar(deg, cnt, color = 'r')\n",
    "#, width=0.80, color='b'\n",
    "plt.title(\"Degree Histogram (ylim = 5000) \")\n",
    "plt.ylabel(\"Count\")\n",
    "plt.xlabel(\"Degree\")\n",
    "ax.set_ylim([0,5000])\n",
    "#ax.set_xticks([d + 0.4 for d in deg])\n",
    "#ax.set_xticklabels(deg)\n",
    "plt.show()"
   ]
  },
  {
   "cell_type": "markdown",
   "metadata": {},
   "source": [
    "    Note that this graph has been cut at count of 4000\n",
    "\n",
    "We can see a steep drop with a flat tail.\n",
    "\n",
    "Using a log-log representation of the degree distribution we get:"
   ]
  },
  {
   "cell_type": "code",
   "execution_count": 39,
   "metadata": {},
   "outputs": [
    {
     "data": {
      "text/plain": [
       "<Figure size 1080x720 with 0 Axes>"
      ]
     },
     "metadata": {},
     "output_type": "display_data"
    },
    {
     "data": {
      "image/png": "[encoded data removed]",
      "text/plain": [
       "<Figure size 432x288 with 1 Axes>"
      ]
     },
     "metadata": {
      "needs_background": "light"
     },
     "output_type": "display_data"
    }
   ],
   "source": [
    "import collections\n",
    "degree_sequence = sorted([d for n, d in G.degree()], reverse=True)  # degree sequence\n",
    "# print \"Degree sequence\", degree_sequence\n",
    "degreeCount = collections.Counter(degree_sequence)\n",
    "deg, cnt = zip(*degreeCount.items())\n",
    "\n",
    "plt.figure(figsize=(15,10))\n",
    "fig, ax = plt.subplots()\n",
    "plt.scatter(np.log(deg), np.log(cnt),color = 'g')\n",
    "#, width=0.80, color='b'\n",
    "plt.title(\"Degree Distribution\")\n",
    "plt.ylabel(\"Count\")\n",
    "plt.xlabel(\"Degree\")\n",
    "#ax.set_ylim([0,2000])\n",
    "#ax.set_xticks([d + 0.4 for d in deg])\n",
    "#ax.set_xticklabels(deg)\n",
    "plt.show()"
   ]
  },
  {
   "cell_type": "markdown",
   "metadata": {},
   "source": [
    "As you can see the network seems to be following the power law because the log-log is a straight line. At the end it deviates from the straight line. This is probably because we have limited distribution of degrees (it doesn't go up to infinity).\n",
    "\n",
    "**Problem 4.3(g)**"
   ]
  },
  {
   "cell_type": "code",
   "execution_count": 143,
   "metadata": {},
   "outputs": [
    {
     "name": "stdout",
     "output_type": "stream",
     "text": [
      "Number of connected components: 36098\n"
     ]
    }
   ],
   "source": [
    "print( 'Number of connected components:', len(list(nx.connected_components(G))))"
   ]
  },
  {
   "cell_type": "markdown",
   "metadata": {},
   "source": [
    "**Problem 4.3(h)**"
   ]
  },
  {
   "cell_type": "code",
   "execution_count": 40,
   "metadata": {},
   "outputs": [
    {
     "name": "stderr",
     "output_type": "stream",
     "text": [
      "/anaconda3/lib/python3.7/site-packages/scipy/sparse/compressed.py:746: SparseEfficiencyWarning: Changing the sparsity structure of a csr_matrix is expensive. lil_matrix is more efficient.\n",
      "  SparseEfficiencyWarning)\n"
     ]
    },
    {
     "name": "stdout",
     "output_type": "stream",
     "text": [
      "Number of nodes in the largest connected component: 19924\n"
     ]
    }
   ],
   "source": [
    "cooff.setdiag(0)\n",
    "cooff.eliminate_zeros()\n",
    "G=nx.from_scipy_sparse_matrix(cooff)\n",
    "G.remove_nodes_from(list(nx.isolates(G)))\n",
    "largest_cc = max(nx.connected_component_subgraphs(G), key=len)\n",
    "largest_cc\n",
    "print( 'Number of nodes in the largest connected component:', len(largest_cc))\n",
    "#largest_cc.degree()"
   ]
  },
  {
   "cell_type": "markdown",
   "metadata": {},
   "source": [
    "**Problem 4.3(i)**\n",
    "\n",
    "We will now see the degrees of the nodes and plot it's distribution both as a histogram and in log-log"
   ]
  },
  {
   "cell_type": "code",
   "execution_count": 145,
   "metadata": {},
   "outputs": [
    {
     "data": {
      "text/plain": [
       "DegreeView({524292: 4, 524294: 7, 524295: 9, 262159: 5, 17: 2, 524305: 4, 262163: 13, 131092: 41, 655401: 2, 655403: 1, 262198: 2, 524343: 3, 655414: 3, 131132: 56, 262206: 3, 655429: 2, 524367: 1, 262224: 1, 262233: 2, 655453: 1, 655461: 4, 655469: 4, 524401: 29, 655480: 10, 524409: 1, 524411: 3, 131198: 15, 393347: 9, 393361: 2, 131225: 28, 393373: 6, 655520: 2, 393379: 1, 655525: 1, 655533: 1, 655536: 5, 393392: 2, 524468: 4, 524472: 4, 524490: 2, 393427: 4, 524500: 1, 524502: 1, 655574: 6, 393430: 24, 393439: 1, 524513: 5, 524515: 5, 524524: 1, 524527: 1, 524528: 2, 393458: 1, 393463: 1, 655610: 1, 655611: 9, 524555: 3, 393485: 2, 524559: 5, 524562: 6, 524574: 2, 393506: 2, 524579: 1, 524582: 2, 524584: 17, 524586: 1, 309: 1, 524620: 2, 262478: 1, 655709: 3, 393568: 2, 524644: 11, 524646: 2, 524649: 3, 524651: 2, 524658: 2, 393611: 4, 524691: 3, 524692: 4, 524693: 3, 524694: 4, 393623: 59, 262547: 3, 524700: 1, 524707: 2, 419: 1, 655807: 4, 524741: 5, 524743: 1, 524745: 2, 655825: 1, 524757: 1, 262622: 1, 131553: 1, 655847: 4, 655853: 2, 524792: 4, 655864: 2, 508: 1, 524801: 2, 524803: 3, 262669: 4, 655885: 1, 655888: 1, 655896: 3, 393755: 2, 524848: 2, 524849: 1, 524856: 2, 655949: 3, 655954: 3, 524889: 3, 393835: 4, 655979: 5, 655982: 3, 262771: 2, 262774: 5, 656003: 3, 524945: 2, 656021: 1, 656022: 3, 393879: 4, 656034: 7, 656037: 3, 131758: 59, 393907: 3, 656056: 2, 524990: 14, 262850: 24, 393925: 1, 656071: 8, 656081: 7, 525010: 2, 525017: 3, 262877: 4, 393958: 1, 656104: 1, 525033: 6, 525038: 2, 525042: 1, 525047: 2, 393982: 6, 656130: 3, 656140: 1, 262942: 3, 525089: 2, 656167: 1, 262971: 1, 262977: 2, 525128: 3, 525130: 5, 656211: 3, 394078: 1, 263014: 1, 263015: 2, 656241: 5, 656248: 2, 656249: 5, 656251: 1, 656257: 3, 656261: 4, 656262: 17, 656281: 7, 656290: 1, 525228: 19, 525229: 1, 525230: 6, 656303: 4, 656304: 6, 394161: 1, 525232: 4, 525237: 3, 656318: 2, 394178: 2, 656323: 4, 525252: 2, 656328: 6, 656329: 4, 525263: 1, 525266: 4, 525267: 3, 656340: 1, 394196: 1, 656342: 2, 394200: 4, 263139: 8, 525291: 3, 525299: 4, 656379: 5, 656390: 3, 263179: 4, 656404: 2, 525343: 3, 656423: 3, 394286: 4, 656435: 5, 394294: 2, 525375: 4, 656449: 10, 132162: 2, 525381: 9, 656465: 3, 525403: 1, 656481: 2, 394345: 6, 394348: 2, 1135: 3, 525436: 2, 525442: 4, 263301: 2, 525446: 3, 656526: 3, 656538: 2, 1184: 7, 656548: 3, 656549: 7, 656556: 6, 656559: 1, 525487: 2, 263350: 1, 394442: 6, 525519: 5, 394454: 4, 525526: 5, 525531: 101, 525551: 4, 263427: 23, 656668: 3, 263464: 163, 656689: 1, 525618: 12, 263474: 26, 525620: 6, 525624: 5, 656716: 4, 656719: 5, 656728: 1, 263520: 3, 656742: 2, 525679: 2, 394610: 1, 656755: 8, 525693: 1, 656771: 6, 525715: 4, 525721: 2, 525722: 6, 525737: 4, 656854: 3, 656857: 5, 525787: 4, 656862: 3, 656863: 4, 656874: 4, 525811: 1, 525813: 1, 656887: 3, 132625: 6, 656917: 5, 132630: 3, 525863: 4, 525870: 9, 656943: 6, 132675: 2, 525891: 14, 525900: 4, 525903: 22, 656996: 7, 657004: 5, 657013: 6, 657018: 1, 525950: 3, 525957: 2, 263816: 1, 525965: 1, 657038: 5, 657042: 12, 525979: 16, 263837: 2, 132767: 156, 525984: 4, 132774: 1, 657073: 2, 526011: 6, 526012: 5, 526021: 1, 657101: 1, 263888: 4, 657110: 2, 263896: 2, 657115: 5, 657117: 2, 657122: 3, 657130: 1, 657138: 3, 394994: 2, 657146: 8, 526081: 3, 263940: 3, 526096: 1, 657174: 1, 526103: 2, 657190: 1, 395047: 1, 263986: 1, 657204: 5, 657205: 20, 526141: 3, 526149: 6, 526157: 14, 395088: 3, 132950: 3, 395094: 7, 526167: 2, 657242: 3, 526170: 1, 526183: 1, 132969: 6, 657271: 8, 395129: 6, 657285: 6, 657286: 2, 657293: 2, 395152: 2, 526227: 7, 264099: 59, 395175: 2, 395186: 7, 395188: 2, 133048: 3, 657341: 5, 657342: 1, 526291: 7, 395220: 8, 657363: 3, 526299: 4, 395227: 13, 395229: 13, 526304: 1, 657382: 3, 657384: 7, 264170: 34, 657387: 1, 526318: 1, 657404: 2, 657419: 2, 264205: 3, 526353: 2, 395284: 1, 395294: 1, 526391: 31, 395326: 28, 526408: 3, 657485: 1, 133199: 7, 264271: 2, 657489: 8, 395360: 28, 657504: 2, 395364: 6, 526437: 2, 395368: 20, 526445: 3, 526456: 1, 657531: 4, 526461: 3, 526463: 5, 264326: 1, 526477: 1, 395407: 57, 395408: 1, 264337: 158, 395410: 5, 395411: 1, 526480: 5, 264353: 2, 395427: 1, 526503: 4, 657600: 1, 395458: 3, 526530: 4, 526532: 2, 526541: 2, 657616: 2, 657621: 2, 395485: 4, 526558: 4, 526593: 10, 657666: 2, 526595: 3, 526594: 1, 657673: 8, 657687: 3, 526630: 3, 264493: 1, 526654: 8, 657733: 2, 526662: 2, 395591: 1, 395598: 2, 395601: 3, 657746: 3, 657751: 5, 395620: 177, 264558: 5, 395631: 2, 264583: 2, 526728: 1, 657805: 3, 264592: 4, 657816: 4, 657818: 7, 264605: 1, 526751: 2, 133557: 2, 657848: 1, 133568: 41, 395717: 4, 395719: 6, 657865: 3, 526794: 8, 657866: 3, 657868: 1, 526797: 11, 395732: 2, 657882: 4, 395740: 37, 526814: 1, 526838: 3, 526845: 5, 657933: 8, 657946: 2, 526877: 4, 395808: 2, 2596: 1, 526886: 4, 264744: 2, 526891: 4, 526894: 2, 526899: 4, 395832: 3, 657979: 6, 395842: 6, 526917: 1, 657990: 8, 133707: 16, 658001: 2, 133714: 1, 395861: 4, 395864: 59, 658021: 11, 264817: 59, 526975: 1, 658049: 3, 658064: 3, 526993: 7, 395929: 2, 527003: 13, 658094: 3, 527024: 1, 264882: 7, 527033: 2, 264895: 2, 658114: 2, 658120: 6, 658123: 1, 527054: 5, 527056: 1, 395984: 1, 658136: 4, 527072: 3, 264932: 3, 658154: 7, 396017: 1, 527123: 2, 658195: 6, 658196: 1, 527127: 2, 396058: 3, 396067: 3, 133928: 3, 265000: 3, 658217: 2, 396079: 3, 396094: 4, 133974: 41, 658264: 2, 527193: 3, 265053: 1, 658279: 4, 527219: 2, 396148: 1, 658306: 3, 527237: 1, 396182: 26, 658334: 3, 265121: 2, 527267: 8, 396217: 5, 265148: 12, 265149: 101, 265157: 4, 527309: 2, 658387: 6, 527323: 1, 265184: 155, 527340: 2, 265200: 9, 396274: 1, 527348: 1, 265209: 2, 527373: 1, 658457: 3, 134183: 19, 527402: 3, 527403: 1, 527404: 2, 396339: 2, 527420: 1, 396351: 3, 527424: 1, 658519: 3, 527460: 3, 265320: 9, 658539: 6, 396406: 11, 396419: 1, 265358: 155, 527508: 1, 396443: 4, 527518: 2, 396449: 5, 527538: 2, 658615: 4, 527545: 4, 396494: 1, 527567: 1, 527569: 5, 527571: 20, 265441: 1, 527607: 3, 527617: 1, 527639: 1, 658716: 6, 527644: 4, 527650: 3, 658728: 1, 527657: 9, 396588: 19, 134449: 5, 658738: 7, 527665: 1, 527670: 3, 658747: 3, 527683: 1, 527684: 5, 396623: 8, 265557: 2, 527708: 4, 658780: 3, 527716: 8, 527718: 2, 527719: 11, 658798: 5, 396668: 5, 396669: 101, 527746: 8, 527747: 3, 265626: 4, 527793: 3, 527806: 7, 265665: 1, 265666: 6, 527813: 1, 658891: 3, 265695: 155, 658918: 2, 396775: 1, 658921: 5, 527855: 16, 396783: 2, 527857: 1, 658945: 1, 134663: 13, 527892: 3, 658975: 2, 527910: 1, 396848: 2, 396849: 5, 658994: 3, 527925: 1, 659005: 1, 527957: 4, 265821: 1, 527967: 1, 527978: 2, 528013: 4, 528050: 11, 659135: 9, 659136: 14, 659139: 2, 659142: 1, 397000: 6, 397005: 1, 659150: 11, 659156: 3, 528095: 3, 528098: 8, 659172: 4, 528101: 6, 528102: 6, 659174: 2, 659177: 6, 659180: 8, 528111: 7, 528115: 2, 659191: 1, 528121: 1, 659203: 4, 659204: 7, 528148: 4, 266006: 2, 528154: 1, 528156: 2, 266016: 1, 397090: 2, 528170: 1, 397133: 56, 266069: 2, 528220: 3, 528228: 3, 528229: 1, 397156: 5, 266089: 2, 528237: 5, 528243: 4, 528254: 4, 397185: 3, 528261: 6, 266124: 15, 659345: 1, 659350: 1, 659352: 3, 397209: 2, 659365: 5, 4009: 5, 266153: 3, 659373: 5, 528313: 4, 528314: 18, 397251: 7, 4044: 1, 528334: 1, 659407: 1, 659410: 3, 397266: 4, 397273: 24, 528350: 2, 659428: 5, 659460: 1, 528396: 13, 659474: 5, 266264: 3, 528410: 3, 397338: 23, 528411: 3, 266269: 3, 659492: 5, 528421: 13, 659520: 3, 397386: 3, 528462: 1, 528477: 3, 266333: 1, 397415: 14, 528491: 2, 659563: 4, 528493: 2, 397442: 9, 659607: 2, 528535: 2, 659612: 3, 659636: 4, 659637: 1, 659653: 9, 397517: 8, 397521: 6, 659667: 1, 528624: 10, 528628: 11, 659701: 5, 135412: 155, 528629: 3, 397560: 6, 397556: 1, 135425: 31, 397573: 1, 528646: 1, 528649: 3, 659733: 6, 528668: 1, 528673: 1, 528679: 1, 528682: 14, 266540: 2, 528696: 1, 659769: 3, 528707: 1, 659780: 10, 528713: 1, 659785: 2, 135501: 55, 528720: 10, 528726: 1, 528727: 5, 528740: 1, 659838: 3, 528768: 6, 528770: 12, 135562: 3, 397707: 5, 659852: 2, 266641: 2, 659857: 1, 528787: 1, 397718: 4, 135590: 34, 528807: 1, 528817: 2, 528819: 3, 528823: 1, 528824: 3, 528828: 7, 528837: 2, 659924: 3, 528864: 3, 528867: 1, 397803: 21, 528875: 4, 528877: 8, 659950: 2, 266735: 5, 528880: 10, 135668: 2, 528884: 1, 135671: 3, 659968: 1, 528910: 1, 528931: 2, 528933: 24, 135728: 2, 528946: 1, 528949: 25, 135748: 7, 397897: 2, 528978: 1, 660055: 5, 528988: 3, 266846: 7, 266850: 29, 397933: 60, 266884: 3, 660101: 6, 529042: 1, 529044: 2, 397976: 6, 529050: 2, 529083: 1, 135868: 4, 529087: 1, 398018: 8, 529091: 1, 529092: 1, 660170: 2, 398055: 12, 660211: 2, 398073: 1, 529150: 2, 267010: 2, 267017: 3, 660250: 6, 660252: 9, 398109: 3, 660254: 2, 529186: 1, 135991: 2, 135994: 22, 267085: 4, 529230: 2, 529238: 10, 529249: 4, 660322: 6, 529250: 4, 398189: 3, 660333: 5, 529275: 1, 398205: 9, 660352: 1, 529285: 1, 529287: 2, 529292: 1, 136080: 1, 529306: 5, 529310: 2, 267166: 2, 398244: 7, 398252: 4, 529327: 3, 398278: 5, 529352: 3, 529362: 2, 267221: 4, 398295: 1, 529371: 1, 660455: 3, 529383: 2, 398322: 3, 398328: 7, 660481: 3, 529410: 3, 660494: 6, 398363: 2, 529447: 1, 529450: 1, 529456: 4, 529462: 55, 529464: 3, 398395: 2, 660547: 3, 267332: 13, 529480: 3, 398410: 1, 660558: 1, 660567: 3, 529498: 8, 529516: 3, 136312: 7, 529531: 1, 660609: 2, 136322: 41, 529541: 1, 267411: 26, 398484: 4, 660636: 2, 660637: 1, 529567: 2, 529574: 2, 398518: 1, 529597: 2, 267454: 12, 267456: 4, 529608: 1, 267467: 1, 529622: 1, 398551: 3, 660701: 3, 529630: 4, 398561: 4, 529633: 7, 529635: 11, 398563: 9, 398592: 2, 529679: 5, 529691: 6, 267548: 11, 529712: 1, 267578: 6, 267582: 4, 529733: 3, 267594: 1, 529740: 2, 529742: 7, 398672: 2, 660816: 7, 136531: 24, 398686: 7, 529776: 1, 267633: 4, 529784: 1, 529788: 3, 660872: 3, 660874: 2, 529802: 5, 529810: 56, 529811: 4, 529812: 4, 529841: 2, 529852: 1, 529866: 1, 267737: 5, 398809: 6, 529884: 5, 529885: 3, 529892: 5, 398823: 2, 398830: 1, 267766: 18, 267767: 1, 267772: 1, 529936: 3, 267815: 3, 529962: 3, 530011: 9, 530018: 4, 661091: 4, 530021: 3, 530026: 3, 530028: 1, 661100: 1, 661103: 11, 267904: 1, 661129: 8, 661144: 1, 399002: 1, 530084: 4, 530097: 1, 530104: 4, 399034: 3, 661178: 2, 267965: 1, 267973: 4, 267983: 50, 136914: 1, 530135: 3, 267991: 1, 530141: 1, 530145: 6, 268004: 155, 399086: 2, 661235: 2, 661245: 1, 661254: 3, 399115: 9, 530189: 3, 530192: 12, 399122: 4, 661274: 1, 530206: 5, 530212: 3, 530216: 101, 268081: 1, 268090: 2, 530238: 3, 661312: 2, 530264: 6, 530265: 6, 530272: 8, 530285: 1, 268168: 3, 268169: 3, 530314: 1, 530318: 9, 661408: 5, 530337: 5, 399266: 2, 661423: 2, 530351: 1, 661430: 4, 530362: 1, 661443: 1, 399301: 3, 530373: 3, 399302: 1, 661446: 1, 399306: 1, 268242: 34, 530396: 6, 661473: 2, 137196: 2, 530418: 2, 530421: 2, 268288: 2, 137218: 1, 399363: 47, 268314: 2, 137243: 3, 661531: 18, 530472: 1, 399404: 2, 530477: 102, 268334: 1, 268351: 6, 530500: 6, 530509: 2, 268365: 4, 661590: 7, 399457: 1, 268390: 2, 530547: 2, 399475: 1, 661622: 1, 137345: 14, 399490: 155, 661647: 2, 137362: 1, 399516: 3, 137372: 2, 399526: 1, 661670: 1, 530601: 6, 399536: 1, 137394: 1, 268479: 3, 530631: 1, 661713: 2, 530642: 1, 661718: 2, 399588: 2, 530664: 37, 399592: 2, 399607: 1, 268549: 1, 137479: 6, 530695: 1, 399626: 3, 530700: 5, 530704: 5, 530711: 1, 661795: 3, 137513: 155, 661808: 5, 399685: 2, 661838: 2, 661840: 6, 399717: 4, 530797: 3, 530799: 3, 399727: 1, 661879: 2, 268689: 28, 399777: 3, 268725: 2, 530879: 2, 530880: 13, 530892: 5, 399820: 4, 661967: 1, 137683: 1, 661985: 8, 268773: 59, 662001: 1, 399859: 155, 530933: 11, 530938: 4, 530941: 14, 268803: 2, 399885: 11, 662036: 1, 399892: 4, 530983: 25, 530984: 3, 399923: 1, 662067: 5, 662073: 7, 662084: 4, 662088: 5, 662089: 2, 268874: 1, 531021: 3, 137808: 1, 399956: 1, 137816: 5, 531033: 9, 137824: 1, 399973: 4, 268903: 2, 399978: 5, 268907: 1, 531062: 16, 531070: 3, 137863: 7, 662157: 2, 400022: 1, 268975: 3, 137904: 1, 531121: 5, 268976: 3, 400055: 3, 531128: 1, 662203: 4, 400063: 6, 531145: 5, 137936: 1, 662226: 3, 662228: 2, 137941: 1, 662234: 9, 531166: 2, 531169: 11, 531196: 1, 662268: 1, 400129: 3, 269060: 1, 531210: 5, 531224: 1, 269088: 2, 662311: 5, 400173: 1, 531251: 1, 531264: 2, 662358: 6, 531304: 3, 531314: 7, 531315: 5, 531318: 14, 662391: 3, 531321: 2, 400250: 4, 269196: 2, 531341: 10, 531340: 1, 269199: 1, 662434: 2, 400299: 24, 269236: 2, 531380: 2, 531387: 3, 662467: 1, 531430: 2, 531439: 4, 531453: 5, 531458: 2, 531461: 1, 531475: 4, 662550: 1, 531479: 7, 269347: 4, 531504: 2, 531514: 5, 400445: 2, 531519: 1, 269384: 2, 531529: 1, 531531: 7, 138316: 2, 269388: 1, 531538: 2, 662610: 13, 400501: 2, 531574: 2, 531585: 3, 138378: 4, 531601: 2, 531613: 6, 531630: 5, 531632: 2, 269499: 4, 662719: 4, 400588: 1, 662748: 4, 269533: 2, 531678: 7, 400610: 3, 400612: 1, 138469: 3, 400624: 1, 400629: 2, 400630: 41, 531701: 2, 400635: 1, 400637: 4, 531710: 1, 7426: 6, 531719: 1, 662800: 1, 531729: 7, 400659: 2, 531744: 4, 662819: 1, 531748: 1, 531753: 1, 662833: 2, 269631: 1, 662848: 1, 269632: 2, 531779: 4, 531783: 5, 662862: 4, 531792: 2, 531818: 3, 531824: 2, 662903: 1, 662904: 2, 531855: 2, 531864: 1, 531869: 1, 531870: 2, 269741: 1, 531889: 4, 662976: 1, 400837: 1, 531915: 1, 531922: 15, 663007: 2, 138729: 6, 400885: 1, 400889: 5, 531965: 4, 269825: 1, 531975: 1, 531979: 3, 532020: 1, 532021: 1, 400961: 1, 663114: 1, 532058: 1, 401022: 4, 7809: 6, 401040: 17, 663187: 1, 532116: 1, 663191: 2, 269982: 10, 663201: 1, 663204: 2, 663205: 4, 401071: 1, 532146: 5, 532156: 3, 532157: 3, 401090: 2, 401093: 1, 532166: 2, 532171: 4, 532173: 31, 270040: 2, 532200: 1, 401128: 3, 401129: 1, 401134: 9, 532210: 6, 401150: 1, 532227: 34, 270087: 2, 532253: 1, 270117: 101, 270118: 58, 663356: 3, 663357: 2, 663378: 2, 532315: 2, 663391: 2, 663392: 2, 663419: 2, 532354: 2, 532367: 3, 401295: 1, 663442: 4, 663476: 7, 401337: 4, 401352: 2, 532456: 9, 401395: 2, 663540: 4, 532470: 2, 663551: 4, 532483: 2, 270347: 2, 532500: 7, 270364: 3, 532509: 2, 139296: 1, 532513: 3, 139300: 2, 401445: 6, 663608: 6, 401472: 6, 532548: 2, 663629: 8, 532560: 3, 139348: 11, 401496: 2, 401500: 4, 401508: 3, 663652: 6, 532586: 3, 270459: 26, 532621: 1, 663695: 2, 532641: 2, 270503: 3, 532660: 3, 532662: 3, 270526: 1, 532670: 4, 401600: 2, 139465: 16, 663753: 13, 532689: 2, 270546: 2, 139489: 158, 401636: 2, 8430: 15, 532719: 3, 532726: 1, 8455: 55, 401699: 12, 401711: 1, 663858: 1, 663862: 1, 532800: 9, 532802: 5, 663878: 1, 401737: 3, 139599: 1, 401758: 2, 663927: 5, 532862: 1, 663935: 3, 270724: 1, 663946: 2, 532876: 5, 532880: 10, 663954: 4, 401829: 1, 532907: 5, 532916: 5, 532917: 4, 532943: 1, 139743: 1, 270821: 4, 270842: 3, 532993: 2, 532994: 1, 664086: 8, 533018: 2, 664096: 3, 533026: 1, 664106: 2, 401964: 5, 533038: 2, 664116: 4, 664123: 4, 533056: 1, 533060: 1, 533061: 6, 139855: 1, 270932: 3, 402004: 11, 139867: 1, 533087: 3, 533088: 2, 533089: 9, 270957: 1, 270958: 1, 270960: 5, 664185: 2, 139902: 3, 402057: 3, 402058: 2, 664226: 9, 664256: 6, 664292: 15, 533221: 5, 664299: 4, 664304: 1, 402165: 4, 402187: 45, 402244: 3, 271188: 2, 140132: 2, 140159: 41, 271231: 4, 402319: 1, 533393: 1, 271255: 3, 664474: 1, 664478: 5, 402341: 3, 533431: 2, 9162: 2, 533451: 1, 664535: 2, 402391: 1, 664538: 4, 271350: 5, 140282: 2, 402431: 4, 140288: 5, 664578: 5, 402442: 1, 533528: 1, 664604: 4, 402475: 2, 402476: 2, 664620: 4, 533556: 3, 402508: 4, 664655: 2, 664657: 5, 533602: 2, 664677: 3, 533611: 4, 402542: 1, 402545: 1, 402547: 1, 533627: 2, 533652: 12, 271520: 1, 271525: 2, 271536: 3, 402624: 2, 140481: 14, 533705: 5, 664790: 5, 664840: 3, 402699: 4, 664847: 6, 664851: 1, 271647: 9, 664867: 10, 533809: 8, 271667: 28, 402749: 3, 533826: 22, 533830: 1, 402796: 1, 140653: 8, 9596: 3, 271741: 41, 533885: 3, 664956: 4, 271750: 42, 140678: 1, 140682: 3, 271757: 3, 533930: 4, 140728: 6, 533950: 3, 533951: 4, 533954: 1, 533956: 2, 533959: 2, 402906: 5, 533987: 3, 665061: 1, 140774: 3, 665072: 1, 271868: 1, 402963: 1, 534035: 5, 140823: 158, 271901: 1, 534048: 5, 402984: 2, 403000: 2, 665147: 3, 534077: 6, 534079: 7, 665155: 2, 534086: 1, 534090: 1, 534098: 3, 140891: 8, 140902: 7, 534136: 2, 665224: 2, 403087: 3, 534164: 2, 534172: 1, 665261: 8, 534195: 2, 534212: 12, 534216: 7, 272077: 1, 534222: 13, 141018: 3, 665319: 2, 272105: 5, 534265: 3, 272122: 1, 403195: 3, 272121: 2, 534275: 1, 534279: 1, 534280: 2, 403236: 1, 665382: 1, 665386: 2, 534316: 1, 403256: 2, 534348: 2, 141133: 4, 403286: 26, 272236: 2, 403308: 1, 403316: 3, 403324: 1, 272263: 2, 272266: 1, 534412: 9, 272273: 2, 534420: 6, 534425: 6, 403359: 6, 534436: 3, 403385: 4, 534463: 1, 665543: 3, 534478: 3, 665555: 2, 665556: 2, 141269: 34, 534491: 4, 534498: 5, 534505: 4, 665583: 7, 534514: 8, 534541: 3, 141332: 1, 272411: 4, 534558: 7, 665634: 7, 272438: 1, 272441: 2, 272447: 1, 272449: 2, 665666: 1, 534607: 2, 272472: 155, 534618: 4, 403555: 2, 403567: 1, 534644: 6, 534645: 7, 534646: 8, 534654: 1, 403584: 2, 141449: 101, 534672: 1, 665753: 2, 141470: 1, 272545: 7, 534697: 2, 403645: 1, 403649: 4, 403654: 31, 403655: 2, 534733: 1, 534738: 3, 534753: 5, 141545: 1, 272619: 4, 534768: 2, 665849: 3, 534781: 10, 534782: 3, 534785: 5, 10499: 3, 272648: 13, 534796: 1, 534797: 1, 141582: 1, 272655: 2, 141588: 1, 534820: 3, 403768: 2, 272697: 3, 141627: 2, 272701: 2, 272703: 11, 534858: 5, 534859: 4, 534863: 14, 534875: 6, 272751: 55, 534909: 2, 534912: 3, 665998: 6, 534950: 4, 141736: 2, 534956: 3, 534957: 1, 272814: 3, 534958: 2, 534966: 1, 534974: 2, 534996: 2, 534998: 3, 272883: 2, 535034: 5, 535036: 2, 10754: 23, 535049: 1, 666123: 5, 10769: 1, 403985: 5, 535065: 2, 141856: 24, 535080: 2, 404013: 9, 535092: 7, 404025: 1, 272954: 1, 404028: 1, 272956: 6, 535105: 3, 404034: 61, 535106: 2, 404036: 4, 535108: 2, 666188: 1, 10828: 2, 404065: 1, 404073: 9, 535148: 1, 404077: 1, 273004: 4, 535158: 3, 535160: 2, 273016: 1, 535168: 1, 404104: 5, 666256: 3, 273041: 1, 404116: 6, 535189: 4, 404122: 2, 404123: 2, 535196: 2, 404131: 3, 666311: 3, 535240: 3, 666324: 4, 535261: 2, 273136: 5, 273148: 1, 535295: 2, 273157: 4, 273166: 41, 142107: 8, 535323: 3, 535325: 2, 11053: 2, 535346: 7, 142148: 57, 273235: 2, 404307: 11, 273243: 5, 11099: 3, 404377: 1, 535450: 7, 666523: 8, 273325: 6, 535476: 1, 535487: 2, 535498: 1, 666571: 2, 142302: 5, 535522: 1, 535528: 6, 535540: 2, 142325: 24, 535545: 3, 273423: 1, 142362: 1, 142364: 2, 142368: 1, 142376: 1, 404524: 1, 666673: 1, 273457: 2, 666677: 3, 142390: 6, 535608: 3, 535611: 8, 535616: 3, 535618: 7, 535619: 1, 535620: 3, 535623: 17, 404554: 1, 404559: 1, 273495: 3, 535642: 16, 404588: 1, 404594: 61, 273548: 62, 404622: 6, 404632: 2, 404633: 5, 535705: 2, 535713: 5, 273610: 59, 666848: 4, 404706: 1, 535791: 10, 535794: 3, 535813: 1, 535825: 1, 273686: 2, 142619: 1, 11548: 6, 142620: 4, 273691: 4, 404773: 2, 535863: 3, 142648: 155, 535871: 5, 142657: 1, 404815: 3, 404817: 8, 666972: 3, 404835: 1, 535911: 2, 666995: 1, 535929: 1, 535949: 3, 273824: 16, 404903: 2, 404908: 101, 535985: 1, 667061: 5, 142777: 41, 667085: 1, 667086: 10, 667094: 2, 536024: 2, 536029: 1, 536030: 1, 404959: 1, 536032: 2, 536034: 2, 273890: 1, 536050: 1, 536051: 4, 536057: 2, 667132: 1, 536063: 2, 667143: 3, 536089: 3, 142875: 13, 536098: 3, 142909: 28, 536129: 9, 536148: 2, 536156: 3, 536158: 2, 405098: 6, 536184: 1, 536189: 4, 405127: 2, 536201: 4, 536203: 2, 536204: 2, 142993: 158, 536232: 2, 536255: 4, 405196: 4, 405199: 13, 405205: 10, 536282: 1, 143088: 1, 405236: 1, 667382: 3, 667383: 3, 667385: 6, 667386: 6, 667392: 1, 12034: 2, 536329: 6, 536337: 2, 143126: 4, 405274: 2, 536366: 1, 143155: 1, 536378: 5, 405308: 6, 405330: 1, 405331: 1, 536404: 5, 667497: 1, 667500: 4, 536429: 5, 405366: 2, 405374: 14, 667518: 4, 536469: 1, 12186: 1, 536479: 1, 536482: 1, 405423: 8, 536528: 3, 536530: 3, 536532: 4, 536533: 1, 405467: 5, 405485: 2, 536576: 2, 274436: 1, 274440: 1, 405531: 3, 536617: 2, 536634: 3, 405563: 3, 536641: 2, 405570: 2, 143442: 2, 405597: 1, 274526: 1, 143465: 1, 536690: 2, 274559: 2, 536708: 1, 405637: 31, 536717: 1, 536724: 3, 143541: 2, 405690: 1, 536762: 5, 536765: 4, 143554: 3, 536789: 1, 667881: 2, 536812: 5, 536817: 3, 405749: 2, 536821: 3, 274681: 2, 536833: 2, 536839: 2, 143630: 2, 274702: 101, 536869: 3, 274738: 1, 536893: 1, 536894: 1, 536912: 3, 405842: 1, 274778: 7, 536923: 2, 536922: 7, 143715: 1, 274788: 1, 143719: 1, 274796: 1, 274798: 1, 274810: 1, 536971: 5, 536980: 1, 143776: 1, 536996: 1, 143781: 2, 405944: 1, 537051: 1, 537053: 2, 274910: 4, 537086: 1, 537095: 15, 274954: 50, 537098: 2, 406029: 1, 274958: 4, 406037: 12, 537127: 59, 274986: 50, 406061: 1, 537140: 6, 537142: 3, 143930: 3, 537150: 1, 537155: 1, 406098: 2, 143965: 1, 143971: 2, 537193: 4, 668279: 7, 537221: 2, 144005: 2, 275079: 59, 537224: 3, 537228: 4, 537238: 2, 275101: 9, 537253: 4, 668334: 2, 537262: 4, 537264: 2, 275126: 63, 537270: 2, 537288: 1, 537289: 3, 275149: 1, 406230: 2, 275159: 3, 144091: 3, 275168: 2, 537318: 6, 406249: 4, 537324: 6, 537334: 1, 275215: 2, 144144: 155, 537364: 1, 537374: 5, 406311: 2, 668480: 4, 275267: 56, 537412: 3, 406347: 5, 537419: 2, 406353: 8, 537429: 3, 144228: 101, 13174: 4, 537465: 1, 537468: 37, 144256: 2, 537473: 2, 537478: 4, 406421: 1, 275351: 3, 537500: 23, 406432: 2, 537508: 1, 537511: 1, 537521: 3, 537522: 33, 406465: 1, 537539: 5, 537560: 1, 406496: 4, 144353: 3, 275429: 1, 668669: 4, 537613: 2, 144398: 1, 275494: 155, 537640: 4, 668712: 7, 537642: 1, 537646: 5, 275509: 2, 144458: 1, 537679: 2, 537686: 1, 406616: 1, 537696: 3, 668770: 3, 406630: 11, 537713: 8, 537717: 2, 537721: 4, 537724: 1, 537725: 2, 144514: 11, 537733: 2, 406671: 1, 537751: 1, 275621: 4, 668844: 2, 406702: 6, 537774: 1, 275631: 1, 144564: 2, 275655: 19, 406727: 2, 406733: 5, 537807: 3, 406735: 1, 537815: 4, 406749: 1, 144608: 2, 668902: 5, 406765: 4, 275693: 1, 537851: 2, 144637: 1, 537869: 23, 275728: 8, 406809: 5, 537882: 2, 406823: 5, 144680: 155, 144681: 1, 668979: 2, 537914: 1, 537926: 5, 537928: 2, 275785: 1, 537932: 2, 537936: 20, 275794: 13, 537942: 1, 275798: 5, 406872: 3, 537949: 1, 275805: 55, 537951: 3, 406882: 4, 537971: 13, 275837: 37, 144787: 60, 406952: 3, 144820: 2, 538039: 38, 538050: 2, 275920: 4, 538078: 4, 538082: 3, 144872: 60, 275960: 1, 407046: 41, 13830: 11, 407049: 50, 538121: 2, 538128: 4, 538130: 5, 275986: 10, 538135: 3, 538136: 3, 538138: 4, 538153: 3, 144937: 1, 144942: 2, 538186: 22, 538188: 4, 538192: 2, 538215: 4, 145007: 2, 407152: 43, 407158: 2, 538247: 5, 538248: 5, 538255: 2, 538278: 3, 276137: 6, 276142: 1, 145073: 4, 145079: 3, 145080: 41, 407231: 2, 407240: 6, 14030: 4, 276203: 7, 407284: 9, 538361: 12, 276218: 1, 145147: 1, 145148: 1, 145168: 1, 276248: 26, 276263: 2, 538407: 14, 145208: 1, 538428: 1, 538429: 7, 538435: 3, 145251: 1, 538487: 4, 538492: 2, 407436: 2, 407474: 8, 538553: 3, 538562: 3, 276422: 10, 145359: 1, 538580: 1, 538585: 5, 538592: 4, 538598: 3, 538609: 39, 276472: 1, 538630: 2, 538632: 4, 407566: 4, 538640: 1, 407582: 2, 538657: 1, 407587: 3, 276517: 2, 407617: 1, 407620: 3, 538696: 1, 145484: 32, 145506: 1, 276599: 2, 538757: 4, 538760: 1, 407724: 22, 538796: 3, 407736: 3, 407740: 1, 538817: 1, 407750: 3, 538829: 7, 538830: 1, 538849: 5, 538889: 18, 538895: 2, 407825: 57, 145688: 5, 276774: 59, 407853: 6, 407854: 2, 407860: 1, 145717: 22, 145722: 25, 407873: 1, 276805: 4, 145752: 6, 538978: 1, 538984: 3, 276840: 9, 538986: 1, 538989: 3, 407920: 2, 407921: 2, 407928: 15, 407937: 1, 539014: 2, 276882: 3, 407968: 16, 276898: 2, 539045: 1, 407979: 4, 276921: 3, 539069: 1, 407999: 37, 408007: 2, 539107: 4, 276964: 3, 408050: 58, 408060: 2, 539146: 1, 539148: 6, 408078: 3, 539152: 7, 539156: 5, 539162: 1, 408092: 1, 408103: 3, 277032: 6, 408131: 6, 539203: 9, 539212: 5, 408148: 1, 539222: 3, 539237: 3, 146025: 1, 146031: 101, 408179: 1, 539261: 21, 408190: 16, 539291: 2, 277152: 1, 539310: 7, 277176: 7, 539325: 2, 277183: 4, 408259: 2, 408260: 6, 277191: 2, 539347: 4, 408277: 55, 146135: 1, 408286: 1, 539360: 7, 146164: 8, 408313: 2, 539398: 5, 539403: 3, 277262: 9, 408341: 1, 408376: 5, 539451: 4, 539452: 2, 539453: 1, 539480: 7, 408415: 4, 277351: 2, 539497: 1, 539498: 3, 277370: 4, 408446: 4, 408451: 3, 539537: 2, 539552: 3, 539554: 2, 277423: 101, 539571: 1, 146358: 2, 408503: 5, 539576: 2, 539590: 2, 277454: 3, 539603: 1, 539615: 2, 408546: 10, 539620: 1, 408555: 1, 277485: 3, 277492: 1, 539639: 1, 146438: 2, 277517: 3, 539662: 7, 539675: 2, 539676: 3, 539692: 4, 277558: 1, 539708: 1, 539709: 7, 539716: 3, 539733: 1, 408669: 3, 539748: 2, 539760: 9, 408714: 41, 539811: 1, 539812: 5, 408742: 2, 277675: 3, 539832: 3, 277700: 163, 408791: 8, 408793: 6, 539866: 8, 539865: 2, 408796: 3, 539869: 10, 539873: 1, 408802: 4, 408805: 2, 146661: 3, 277768: 2, 408842: 7, 408851: 37, 539928: 1, 146716: 1, 146728: 22, 408875: 1, 408878: 1, 408882: 5, 146744: 22, 277816: 2, 277818: 1, 408890: 4, 277820: 45, 539970: 14, 539974: 2, 146758: 20, 539980: 5, 277837: 3, 539982: 7, 408911: 4, 408920: 1, 408946: 8, 408957: 59, 540042: 2, 540050: 7, 146860: 8, 540078: 6, 15796: 59, 146875: 2, 540097: 1, 540119: 3, 540122: 4, 277981: 28, 540133: 2, 409069: 5, 540146: 2, 278009: 3, 540155: 1, 278012: 14, 540175: 1, 278035: 1, 409110: 1, 540183: 1, 409131: 12, 540214: 1, 540217: 6, 409149: 3, 278077: 57, 540227: 12, 278102: 1, 540251: 11, 409181: 3, 278111: 3, 540290: 2, 278168: 1, 540318: 3, 540339: 1, 540347: 1, 540348: 2, 540357: 8, 278228: 9, 540376: 1, 147167: 1, 278247: 32, 540400: 1, 540404: 1, 278272: 9, 540429: 2, 540431: 1, 540445: 3, 540475: 1, 540493: 1, 540515: 2, 540529: 26, 540532: 1, 540562: 1, 540577: 8, 540582: 1, 540588: 3, 147395: 5, 278471: 41, 409546: 1, 540622: 42, 409556: 3, 540632: 2, 540658: 2, 540670: 8, 540671: 1, 147486: 1, 540724: 4, 540726: 7, 540736: 1, 540746: 3, 16464: 3, 409711: 12, 540807: 1, 409737: 24, 540813: 3, 409752: 28, 540824: 1, 409758: 2, 540836: 1, 540837: 1, 409765: 1, 278699: 101, 147633: 1, 540850: 3, 540852: 3, 540859: 2, 540861: 3, 540865: 2, 540869: 2, 278736: 9, 409836: 5, 409840: 1, 540916: 1, 540917: 1, 540918: 2, 278791: 4, 540949: 1, 16666: 1, 540961: 2, 540971: 1, 409903: 1, 540978: 1, 409910: 8, 409914: 1, 409916: 3, 409923: 2, 409926: 1, 278857: 1, 541017: 2, 278879: 3, 409952: 4, 147830: 4, 541072: 5, 541081: 1, 147867: 5, 541087: 1, 410027: 3, 541103: 8, 410032: 1, 541107: 2, 541108: 3, 541110: 3, 147910: 2, 16864: 6, 541153: 2, 410082: 1, 541155: 22, 410094: 2, 541170: 5, 541174: 9, 410104: 2, 410121: 2, 410126: 7, 410128: 1, 16918: 3, 541213: 1, 410142: 2, 541216: 9, 410146: 58, 279084: 1, 410164: 2, 410168: 2, 410169: 56, 148029: 44, 279126: 6, 541271: 24, 541273: 5, 541278: 2, 541283: 3, 541294: 4, 541305: 3, 148089: 4, 410256: 2, 541333: 5, 541334: 4, 410274: 2, 541362: 2, 541374: 1, 410303: 1, 541379: 4, 541383: 2, 541393: 1, 541401: 4, 541404: 163, 279265: 1, 541453: 8, 541454: 5, 148248: 1, 541465: 34, 17190: 2, 541487: 6, 541491: 17, 541499: 5, 541511: 22, 410448: 11, 541535: 6, 279392: 2, 279416: 3, 148365: 3, 541598: 1, 148387: 1, 410542: 4, 541636: 2, 410567: 4, 148425: 101, 279499: 4, 541646: 2, 541653: 4, 279518: 1, 541669: 1, 410610: 1, 279543: 8, 410616: 8, 410617: 1, 410618: 1, 541697: 1, 541713: 37, 541721: 2, 410656: 42, 410657: 2, 541742: 7, 541745: 3, 541750: 1, 410679: 5, 541752: 1, 541753: 5, 541756: 2, 541783: 3, 410715: 16, 541787: 7, 541792: 11, 541793: 1, 541815: 5, 541816: 22, 541817: 8, 541823: 24, 541829: 2, 541854: 3, 279712: 2, 410785: 5, 541862: 8, 410826: 1, 410843: 1, 279781: 55, 410861: 10, 279812: 4, 541960: 4, 541962: 1, 279840: 155, 541995: 1, 542017: 1, 542023: 5, 148813: 1, 542030: 5, 410961: 40, 410962: 1, 542035: 1, 411005: 5, 411006: 3, 411007: 4, 411014: 10, 542096: 9, 542111: 2, 279972: 2, 148910: 2, 148911: 2, 542135: 1, 148924: 3, 542152: 3, 542161: 1, 280029: 1, 542196: 38, 17914: 2, 280075: 6, 411151: 55, 280080: 5, 17965: 3, 411183: 3, 411185: 8, 542264: 2, 411205: 3, 411214: 1, 280161: 155, 542305: 12, 542309: 2, 542314: 6, 411245: 2, 542321: 5, 280182: 3, 542328: 3, 411274: 1, 542364: 1, 280221: 1, 411300: 1, 280232: 3, 411309: 6, 411310: 1, 411332: 9, 542408: 5, 280279: 2, 280281: 5, 542438: 4, 411377: 4, 411390: 32, 280330: 4, 542485: 6, 542486: 5, 542493: 1, 542497: 5, 542506: 2, 280364: 4, 542512: 3, 411441: 9, 411457: 6, 280402: 4, 542565: 3, 411503: 2, 411514: 12, 411530: 21, 411534: 1, 542607: 7, 411538: 14, 542611: 1, 542621: 3, 542633: 1, 280490: 1, 411575: 2, 542651: 10, 280508: 1, 280519: 1, 411592: 4, 542668: 3, 542672: 6, 411602: 5, 542685: 3, 280601: 1, 542750: 1, 18470: 1, 411696: 1, 411698: 2, 280631: 5, 280632: 3, 542777: 1, 542781: 1, 542784: 5, 542787: 3, 411716: 3, 542800: 3, 542822: 1, 411750: 1, 542840: 3, 149629: 1, 411776: 3, 280716: 23, 542871: 3, 542873: 6, 411809: 14, 542897: 1, 411833: 2, 542907: 1, 542909: 9, 542910: 5, 542911: 2, 411840: 3, 280771: 4, 280772: 4, 542925: 5, 542927: 1, 280807: 8, 280811: 3, 280836: 1, 411918: 6, 542990: 5, 411920: 3, 542997: 1, 280866: 1, 543010: 2, 149801: 2, 543030: 28, 18747: 3, 543066: 1, 149858: 2, 149859: 5, 543078: 1, 412007: 1, 543080: 12, 543081: 5, 412012: 1, 543088: 4, 412029: 1, 149895: 4, 543112: 3, 543116: 1, 280974: 5, 149903: 2, 543128: 1, 412060: 2, 543137: 2, 543148: 1, 281023: 5, 543184: 3, 543185: 5, 543186: 3, 543190: 5, 543193: 2, 281055: 8, 281064: 59, 412162: 4, 412170: 3, 18954: 1, 412174: 156, 543256: 2, 543259: 2, 412193: 3, 150053: 1, 543271: 1, 543300: 1, 543309: 5, 543311: 1, 281181: 2, 150130: 11, 150140: 2, 150142: 2, 281215: 4, 543359: 7, 412294: 5, 543370: 2, 543371: 1, 19086: 3, 543387: 2, 281245: 2, 543398: 1, 543405: 3, 412348: 3, 543422: 1, 543436: 2, 543445: 4, 543458: 3, 412386: 7, 543461: 5, 412392: 3, 412394: 1, 150253: 6, 281340: 2, 543503: 6, 543507: 3, 281383: 6, 150316: 7, 543542: 3, 412485: 1, 543596: 1, 412529: 17, 412530: 4, 281463: 2, 412539: 4, 543626: 3, 412555: 55, 543646: 1, 412610: 2, 412617: 1, 543700: 2, 412630: 1, 543710: 3, 543715: 2, 150503: 101, 543730: 3, 543732: 11, 150535: 3, 281635: 37, 543782: 2, 543785: 3, 412729: 23, 412740: 37, 543823: 1, 543829: 1, 543831: 3, 543837: 1, 412765: 2, 543843: 3, 281713: 11, 543875: 3, 543876: 1, 412840: 2, 543920: 1, 543950: 1, 412880: 3, 543954: 1, 543980: 7, 543983: 3, 543986: 1, 150771: 8, 412916: 4, 281864: 6, 544030: 3, 544033: 3, 412989: 2, 544061: 2, 281918: 2, 544071: 1, 544077: 5, 544082: 2, 544092: 2, 544114: 2, 281971: 6, 150905: 2, 544126: 4, 19843: 59, 413070: 2, 413075: 1, 544151: 6, 544192: 6, 544197: 3, 282069: 4, 413155: 6, 151021: 2, 413166: 13, 544240: 1, 544262: 1, 544263: 2, 413207: 3, 544282: 2, 544292: 3, 282149: 2, 282160: 3, 151101: 28, 282182: 1, 544345: 1, 544366: 7, 20080: 19, 413297: 6, 413296: 2, 544383: 3, 544412: 4, 413348: 2, 413365: 4, 413382: 2, 544472: 11, 544474: 1, 544475: 3, 413404: 2, 282350: 1, 544495: 4, 544496: 1, 544499: 1, 544522: 4, 413451: 8, 544524: 4, 282379: 1, 20249: 1, 544538: 1, 544559: 1, 413504: 37, 413527: 1, 544603: 3, 544606: 2, 544608: 2, 413566: 1, 413580: 2, 544655: 3, 282514: 3, 282515: 6, 544659: 1, 544710: 3, 413644: 1, 413645: 1, 413646: 159, 413647: 3, 544730: 4, 282594: 2, 544747: 4, 544757: 5, 151575: 3, 413734: 8, 151592: 1, 413740: 1, 544818: 2, 544834: 1, 544851: 159, 544889: 4, 282747: 1, 413823: 3, 413849: 9, 544933: 4, 544943: 2, 544947: 5, 544949: 1, 544958: 5, 151758: 1, 282834: 2, 544979: 3, 413913: 1, 413922: 158, 545006: 4, 413934: 4, 282871: 6, 282875: 1, 151813: 3, 413960: 5, 545034: 3, 413962: 5, 545056: 2, 151851: 1, 545075: 3, 545077: 19, 20794: 1, 414037: 4, 414040: 7, 414050: 2, 545128: 5, 545136: 2, 545139: 5, 545150: 5, 151939: 3, 545166: 1, 545181: 2, 283045: 1, 545197: 2, 545212: 22, 545213: 6, 545215: 2, 545216: 4, 414150: 1, 414151: 20, 545235: 24, 414184: 1, 545257: 3, 414205: 1, 545290: 5, 545291: 2, 152076: 3, 414228: 5, 414234: 2, 545315: 2, 414244: 3, 152112: 2, 545351: 1, 545361: 9, 283256: 4, 545405: 2, 545419: 1, 152205: 26, 545433: 3, 545445: 2, 414377: 2, 414378: 1, 283308: 1, 283315: 6, 545460: 4, 21175: 34, 283319: 5, 21178: 56, 545466: 4, 545472: 2, 545495: 1, 414425: 2, 283353: 1, 545501: 3, 152304: 1, 283379: 155, 414458: 1, 545560: 1, 545563: 2, 152352: 4, 545576: 1, 545579: 2, 545591: 2, 545594: 2, 545595: 2, 545596: 7, 545598: 4, 414529: 2, 545601: 1, 545602: 2, 283459: 1, 283465: 1, 545613: 1, 545633: 1, 545640: 11, 545641: 4, 545642: 1, 414577: 5, 545651: 4, 414581: 3, 545657: 2, 283541: 15, 283547: 4, 545702: 9, 545704: 5, 545707: 4, 545728: 3, 414684: 9, 545759: 1, 21472: 56, 545764: 5, 545768: 4, 283626: 37, 283642: 2, 545811: 2, 414749: 2, 414764: 2, 414775: 30, 283704: 155, 21560: 11, 283703: 1, 283710: 5, 545854: 2, 283712: 6, 152645: 37, 545867: 1, 545870: 3, 21588: 1, 545878: 1, 152667: 1, 545885: 3, 152686: 28, 414831: 31, 545908: 2, 414849: 4, 414851: 2, 152717: 6, 21654: 2, 545957: 2, 545972: 1, 414908: 1, 283848: 2, 545997: 2, 546013: 8, 546039: 1, 546051: 2, 414983: 68, 21772: 18, 414996: 2, 546069: 9, 415014: 2, 283943: 9, 415030: 3, 415031: 10, 546110: 32, 546124: 2, 546128: 2, 284007: 6, 546156: 8, 546166: 3, 415101: 4, 546187: 4, 546199: 1, 284061: 2, 546222: 7, 546240: 2, 415168: 1, 284113: 1, 546259: 3, 546260: 5, 546262: 2, 546277: 3, 284156: 2, 284162: 55, 284168: 14, 546323: 17, 546349: 39, 284215: 3, 153145: 2, 22078: 59, 546371: 10, 415312: 24, 415329: 3, 284280: 2, 415352: 3, 415375: 1, 546466: 4, 546467: 10, 546473: 5, 546478: 3, 415425: 1, 284355: 26, 546519: 7, 546531: 3, 546538: 2, 284396: 2, 546551: 2, 415486: 2, 284432: 2, 546579: 23, 415522: 3, 415524: 1, 415527: 5, 415533: 3, 415534: 9, 546620: 1, 546622: 3, 546623: 6, 546626: 5, 546628: 1, 546634: 1, 546637: 3, 415568: 1, 415569: 1, 415572: 38, 415576: 13, 415581: 3, 546661: 19, 284524: 4, 284538: 2, 546687: 2, 546690: 16, 415618: 4, 546699: 2, 546714: 1, 284572: 1, 415652: 8, 153537: 1, 546797: 6, 546800: 5, 415731: 6, 415736: 3, 415741: 5, 22535: 1, 546846: 3, 546852: 5, 546853: 2, 284720: 2, 546882: 3, 284742: 2, 284754: 2, 546915: 2, 284777: 12, 546933: 4, 153722: 1, 415872: 15, 415878: 3, 546956: 2, 153762: 50, 546979: 2, 153767: 23, 284842: 13, 546993: 1, 415924: 6, 153780: 1, 547010: 1, 547015: 1, 547019: 4, 547030: 2, 547059: 2, 547072: 3, 547075: 2, 416009: 6, 284937: 1, 547081: 1, 416013: 2, 547094: 3, 547101: 1, 547130: 3, 547135: 1, 285024: 4, 22887: 3, 547176: 4, 416116: 2, 547192: 1, 153979: 31, 285064: 2, 153997: 1, 416146: 4, 154009: 1, 22943: 2, 547240: 2, 416174: 6, 416178: 5, 547261: 2, 416194: 5, 416199: 5, 416200: 13, 285137: 1, 547294: 5, 154086: 1, 23029: 3, 416249: 20, 285178: 4, 547335: 4, 547338: 2, 547351: 4, 285232: 2, 547379: 11, 23094: 1, 547393: 5, 285262: 28, 547422: 3, 285291: 2, 416371: 8, 547448: 3, 547451: 2, 547457: 4, 285317: 1, 547462: 6, 285322: 3, 416399: 37, 547493: 3, 547494: 7, 547523: 1, 547539: 5, 416471: 1, 547545: 4, 285402: 41, 547564: 3, 547569: 3, 285439: 4, 154368: 1, 416515: 1, 547591: 3, 154381: 55, 547635: 1, 154420: 1, 547652: 1, 154458: 2, 547677: 5, 285534: 3, 547681: 2, 547683: 4, 416614: 4, 547686: 4, 416620: 5, 547699: 1, 547702: 2, 285561: 2, 285565: 1, 547711: 3, 547735: 3, 547743: 2, 547745: 2, 416674: 1, 547748: 13, 285604: 4, 547749: 5, 23461: 1, 154552: 101, 547777: 2, 154579: 6, 547798: 5, 416755: 1, 547839: 3, 547887: 4, 416819: 5, 416820: 3, 23610: 18, 416847: 2, 416856: 6, 23652: 9, 547943: 2, 154736: 1, 154738: 1, 547956: 1, 547961: 2, 547995: 2, 416933: 2, 154790: 2, 548014: 2, 548026: 2, 548035: 7, 548061: 2, 548068: 1, 548071: 3, 285935: 4, 417011: 3, 417018: 3, 23812: 60, 154903: 2, 154917: 1, 548139: 1, 548140: 3, 154925: 18, 548177: 5, 154967: 2, 548184: 1, 154975: 1, 548219: 4, 286089: 2, 417166: 1, 548250: 7, 548251: 2, 548259: 2, 548261: 5, 155052: 3, 417200: 11, 417202: 6, 548280: 1, 417214: 101, 548294: 7, 286153: 10, 548312: 4, 286172: 4, 548320: 2, 548323: 1, 417261: 1, 548345: 2, 548346: 3, 548347: 6, 548351: 2, 417299: 4, 286233: 2, 155162: 1, 417306: 2, 548382: 17, 155167: 1, 417324: 37, 548398: 3, 286259: 3, 548403: 6, 548406: 1, 417336: 2, 155193: 4, 417339: 4, 417340: 5, 417347: 3, 548437: 10, 548447: 2, 155234: 13, 548452: 25, 286313: 7, 286316: 2, 548461: 2, 548464: 1, 548471: 1, 548478: 6, 548485: 6, 417417: 3, 417422: 4, 548500: 5, 417429: 1, 548523: 5, 548534: 1, 548536: 1, 548540: 3, 548567: 2, 548571: 5, 286428: 2, 417513: 14, 417515: 14, 155372: 7, 548597: 3, 286454: 155, 548599: 5, 548598: 2, 286459: 2, 286463: 2, 286466: 3, 548618: 4, 417555: 3, 548627: 1, 286486: 155, 417562: 2, 548636: 1, 417568: 3, 548641: 3, 548646: 4, 417576: 1, 548649: 3, 548669: 4, 548675: 6, 548676: 1, 286551: 1, 286553: 11, 155490: 3, 417656: 4, 417659: 3, 155536: 1, 286614: 2, 548762: 2, 286624: 2, 548779: 1, 286647: 12, 548804: 5, 548812: 4, 417742: 3, 548836: 6, 548842: 1, 286704: 3, 548872: 3, 286729: 59, 548878: 1, 417815: 2, 417816: 1, 417817: 2, 548890: 2, 548926: 9, 548929: 7, 548930: 6, 548936: 2, 548940: 1, 417882: 1, 24670: 3, 548976: 13, 548978: 5, 548986: 7, 548994: 2, 417928: 3, 286866: 4, 549020: 1, 155805: 3, 286886: 5, 549039: 4, 417978: 69, 549051: 32, 549052: 4, 24774: 1, 286919: 13, 549088: 6, 549098: 2, 286964: 42, 549134: 1, 418063: 2, 549137: 3, 549141: 3, 286999: 1, 418072: 6, 418077: 2, 24868: 1, 549170: 1, 418099: 3, 287027: 2, 549174: 4, 549178: 2, 155981: 9, 418127: 1, 287057: 3, 549202: 4, 549201: 1, 549203: 2, 155995: 2, 24951: 42, 549240: 1, 418167: 2, 156036: 2, 287118: 1, 549263: 3, 549265: 2, 549266: 1, 549267: 26, 549268: 1, 287124: 1, 156061: 1, 24992: 4, 549282: 1, 156067: 12, 549289: 5, 549317: 1, 418247: 2, 549333: 1, 549347: 2, 549358: 1, 156146: 60, 549370: 3, 418299: 6, 287238: 2, 549403: 1, 156188: 4, 549409: 2, 549412: 4, 418367: 16, 287297: 1, 549452: 7, 549455: 3, 549463: 1, 287324: 4, 418405: 41, 549486: 1, 418430: 6, 549516: 1, 287380: 2, 549527: 8, 549528: 1, 549533: 1, 549535: 1, 418468: 9, 549543: 1, 549556: 2, 549568: 3, 156353: 13, 25287: 6, 549578: 2, 549581: 2, 25322: 3, 418556: 1, 156434: 59, 549665: 2, 549696: 1, 549703: 3, 549707: 1, 549709: 9, 549712: 15, 549715: 3, 549716: 7, 418647: 8, 418648: 2, 549723: 4, 418653: 55, 549726: 3, 549729: 1, 418662: 11, 156534: 3, 549758: 2, 549774: 4, 549793: 4, 418723: 10, 549813: 3, 418745: 1, 287679: 1, 549829: 2, 549832: 1, 549854: 7, 549881: 3, 549886: 3, 418819: 4, 549908: 3, 156703: 2, 549923: 1, 549927: 2, 549934: 3, 549938: 5, 549945: 2, 549947: 2, 549962: 4, 549983: 2, 549985: 3, 549986: 3, 418915: 19, 156799: 15, 418952: 6, 550029: 1, 418959: 3, 418961: 1, 550034: 4, 550033: 5, 550041: 5, 550061: 1, 419001: 2, 550081: 9, 550083: 6, 550087: 3, 550094: 1, 550099: 1, 419043: 3, 156904: 3, 419050: 9, 550126: 6, 550158: 1, 25883: 3, 550171: 6, 550173: 3, 288037: 2, 550198: 6, 288057: 7, 550202: 34, 550204: 4, 419138: 3, 419147: 3, 288076: 3, 550221: 2, 550223: 3, 550224: 2, 550241: 4, 419179: 1, 550251: 4, 419189: 3, 157048: 2, 550277: 8, 550280: 8, 550281: 2, 550287: 5, 26017: 1, 419237: 2, 288178: 4, 419273: 3, 550354: 27, 550356: 6, 288212: 1, 157140: 1, 288220: 3, 419317: 2, 550392: 2, 288248: 1, 550394: 12, 288255: 1, 550402: 18, 550405: 4, 157192: 1, 419344: 2, 288276: 6, 550454: 5, 288310: 10, 550461: 3, 550464: 5, 550468: 4, 550474: 1, 550476: 1, 550478: 15, 550499: 11, 550508: 3, 288380: 50, 419452: 2, 550526: 4, 419495: 37, 419502: 5, 419504: 7, 419507: 2, 550582: 7, 550588: 2, 550589: 8, 419525: 2, 419530: 7, 550619: 1, 419549: 11, 550626: 1, 157416: 1, 550641: 5, 550647: 2, 157436: 1, 157441: 1, 550659: 2, 419604: 7, 550682: 8, 550686: 7, 550706: 3, 550708: 5, 550711: 2, 419641: 8, 288571: 3, 550722: 1, 419651: 1, 419671: 9, 419677: 1, 550753: 3, 419684: 2, 550759: 3, 419694: 2, 550774: 1, 550786: 1, 288643: 4, 419725: 2, 550801: 59, 550813: 11, 157600: 11, 550824: 32, 288681: 104, 550827: 6, 550833: 5, 550838: 1, 288706: 37, 419778: 1, 419784: 2, 550865: 4, 550874: 6, 419818: 1, 288756: 1, 157696: 2, 157726: 11, 550942: 5, 419873: 13, 550948: 7, 419879: 1, 157745: 3, 419904: 3, 550994: 1, 551016: 1, 288877: 2, 419951: 12, 419952: 2, 551026: 4, 551028: 2, 288892: 7, 419978: 2, 419984: 3, 288921: 1, 288926: 3, 551078: 1, 551079: 1, 157865: 6, 420011: 1, 288941: 1, 288946: 8, 420053: 14, 420056: 1, 420063: 4, 288995: 2, 551151: 1, 551175: 1, 420126: 5, 420127: 2, 420139: 2, 420156: 2, 289086: 15, 420160: 2, 420172: 1, 551245: 1, 158062: 59, 420212: 3, 27005: 2, 420221: 1, 551304: 10, 551305: 1, 420234: 3, 551313: 8, 551320: 5, 158105: 5, 551330: 5, 420285: 2, 420291: 3, 158150: 2, 551370: 1, 551373: 1, 551393: 6, 420330: 2, 551404: 2, 289273: 11, 551417: 3, 551419: 4, 158205: 4, 551427: 9, 420362: 1, 551456: 4, 158248: 2, 27179: 3, 551468: 6, 289335: 1, 27210: 2, 420434: 4, 551527: 2, 551530: 9, 551535: 4, 420463: 55, 551539: 7, 289399: 5, 289404: 1, 551565: 59, 420500: 17, 420503: 4, 551579: 4, 551586: 2, 551612: 2, 551625: 1, 420562: 1, 158438: 17, 289527: 1, 420627: 6, 551702: 3, 420668: 1, 420672: 1, 289605: 3, 420678: 1, 158539: 8, 420698: 1, 551780: 9, 551784: 2, 551786: 3, 551787: 3, 289646: 2, 551817: 3, 551818: 2, 158603: 6, 289681: 2, 289685: 2, 551835: 2, 551838: 2, 420768: 1, 551844: 3, 551856: 4, 551858: 6, 551860: 1, 551861: 1, 289731: 1, 420825: 1, 551901: 7, 551902: 3, 551904: 2, 289764: 2, 551908: 2, 158710: 6, 551941: 3, 551945: 4, 289802: 31, 420880: 3, 420881: 2, 551954: 1, 420905: 1, 420911: 1, 551986: 3, 420914: 3, 420932: 1, 552004: 1, 289863: 3, 420939: 31, 552014: 5, 289878: 159, 420955: 1, 552028: 1, 552037: 10, 289897: 9, 289900: 5, 552046: 3, 552048: 4, 289915: 4, 158855: 13, 289932: 11, 552091: 5, 552094: 1, 552095: 4, 552096: 2, 158892: 1, 552119: 1, 421058: 1, 552135: 3, 421068: 4, 421074: 4, 290015: 2, 290018: 1, 158949: 1, 290026: 3, 421100: 4, 158963: 4, 290056: 7, 421130: 2, 552210: 8, 552217: 4, 159003: 50, 290078: 24, 552227: 1, 290090: 2, 421166: 2, 552253: 3, 421182: 9, 421213: 1, 421222: 5, 28007: 2, 421237: 1, 421238: 5, 421241: 2, 552323: 1, 421251: 3, 552335: 2, 552346: 4, 552350: 3, 421291: 3, 552372: 1, 552378: 1, 552388: 4, 552393: 5, 552406: 4, 421350: 1, 552428: 4, 159215: 2, 28147: 2, 552466: 3, 421396: 1, 290334: 3, 552482: 11, 421412: 1, 159274: 6, 28212: 50, 552506: 2, 552516: 1, 290373: 6, 552518: 3, 421449: 3, 421451: 2, 552527: 2, 421477: 3, 159344: 2, 421499: 3, 159356: 2, 421501: 12, 290440: 2, 552602: 2, 421535: 3, 552608: 2, 552610: 2, 421543: 11, 552616: 6, 552625: 4, 552628: 3, 159436: 1, 159447: 2, 552665: 4, 159449: 2, 552678: 8, 552707: 4, 552714: 1, 552726: 1, 290584: 3, 552728: 2, 290591: 10, 159535: 9, 552755: 12, 290629: 3, 290632: 1, 552780: 9, 552783: 3, 421718: 14, 552794: 1, 421727: 4, 552804: 7, 552814: 1, 552836: 6, 421772: 21, 421773: 1, 552853: 1, 552864: 6, 552865: 5, 552876: 1, 421808: 2, 421813: 1, 421820: 12, 421834: 1, 552908: 1, 552950: 2, 552953: 4, 552956: 4, 552967: 1, 552970: 1, 552975: 2, 421906: 14, 290835: 4, 553009: 24, 421940: 4, 421945: 2, 421947: 4, 553022: 2, 421972: 2, 421989: 1, 553075: 3, 422015: 1, 422020: 3, 422023: 55, 28812: 4, 553131: 1, 553133: 1, 553137: 1, 291020: 101, 422110: 1, 291048: 2, 553195: 4, 553202: 2, 422132: 1, 422137: 2, 291087: 7, 291088: 1, 422170: 60, 160032: 32, 422176: 1, 422185: 2, 291152: 2, 553298: 1, 553306: 3, 291163: 2, 291167: 3, 291173: 11, 291184: 1, 553334: 1, 160129: 41, 160133: 3, 160139: 1, 422294: 11, 553369: 7, 422308: 55, 291246: 11, 553397: 2, 553402: 1, 422343: 2, 291285: 23, 553432: 3, 553437: 3, 553438: 6, 553441: 5, 553446: 4, 29160: 50, 291304: 1, 422378: 2, 553463: 1, 422404: 5, 553476: 3, 553487: 3, 422418: 2, 291348: 2, 422420: 2, 422427: 4, 553500: 3, 553509: 1, 422441: 7, 553516: 2, 553517: 3, 291374: 41, 553527: 5, 553533: 7, 422461: 3, 29249: 31, 553562: 1, 422491: 3, 553567: 7, 553568: 8, 553570: 2, 422499: 2, 553574: 3, 553578: 10, 553587: 1, 422530: 41, 553613: 2, 422544: 1, 160412: 12, 553630: 4, 160435: 1, 29365: 1, 553654: 2, 160444: 1, 422590: 4, 553663: 5, 422593: 3, 291521: 2, 553667: 1, 160487: 2, 553705: 4, 160492: 2, 422640: 5, 160496: 55, 553726: 1, 553730: 2, 553732: 5, 291589: 42, 553737: 16, 160533: 3, 291612: 8, 553769: 3, 553772: 3, 160558: 41, 291633: 14, 553801: 2, 291659: 5, 553811: 5, 422746: 1, 553823: 1, 422753: 6, 553866: 1, 422795: 4, 422797: 3, 422803: 2, 553896: 1, 553898: 3, 553904: 5, 553907: 3, 553910: 3, 422842: 5, 422843: 1, 553914: 4, 553918: 1, 291788: 1, 553950: 4, 422888: 2, 422901: 3, 553978: 3, 553995: 1, 553999: 4, 554001: 1, 554010: 1, 422942: 6, 554030: 5, 554031: 3, 554037: 1, 554039: 2, 554066: 3, 554068: 6, 291928: 1, 554083: 1, 423033: 1, 291962: 4, 554109: 1, 554114: 1, 554127: 2, 423062: 1, 554147: 6, 554148: 1, 554152: 11, 160938: 3, 554154: 8, 29885: 41, 554204: 3, 554210: 1, 423144: 3, 554217: 1, 161003: 4, 554227: 1, 423163: 2, 554242: 1, 554245: 1, 423183: 3, 554257: 1, 554263: 1, 292150: 2, 554303: 6, 554332: 8, 161117: 1, 292205: 4, 30064: 55, 161150: 3, 423304: 4, 161177: 2, 292258: 25, 423341: 2, 423350: 15, 554435: 6, 554438: 1, 554440: 4, 554446: 2, 554449: 2, 292310: 6, 423385: 2, 423386: 2, 423387: 60, 292318: 3, 554462: 5, 161249: 4, 554483: 3, 554488: 3, 554489: 3, 554495: 1, 423435: 3, 554514: 3, 554522: 2, 554526: 1, 423470: 3, 554548: 2, 554551: 5, 161338: 3, 292416: 1, 554576: 2, 554582: 4, 554583: 1, 554588: 5, 554610: 1, 554615: 2, 423552: 6, 554633: 1, 554636: 3, 554644: 1, 554680: 1, 554684: 2, 554685: 2, 292543: 28, 423637: 5, 554727: 11, 30441: 9, 554749: 2, 554756: 3, 292619: 1, 423693: 2, 292623: 8, 554777: 3, 554782: 4, 292638: 2, 423717: 6, 423720: 7, 423722: 1, 554795: 3, 423731: 3, 554804: 3, 554827: 1, 554836: 4, 554844: 3, 292701: 1, 292704: 1, 554855: 2, 554875: 1, 554882: 3, 161675: 1, 554897: 1, 554907: 2, 554914: 1, 554928: 2, 554933: 56, 161718: 2, 554934: 1, 554954: 1, 423886: 2, 423895: 2, 554974: 2, 554981: 1, 161781: 1, 292858: 9, 423935: 3, 423951: 2, 555031: 6, 555035: 3, 555046: 3, 292910: 2, 292935: 1, 555086: 2, 555091: 10, 555092: 16, 292951: 6, 292956: 163, 555102: 3, 424032: 1, 555107: 3, 292966: 1, 424041: 60, 555121: 2, 424056: 54, 161940: 8, 424090: 4, 161959: 3, 555185: 2, 424132: 4, 424159: 2, 424161: 1, 424162: 2, 555235: 3, 424184: 7, 162065: 2, 555301: 3, 424231: 4, 555305: 1, 555332: 3, 555336: 26, 162123: 2, 424269: 4, 293199: 1, 293204: 1, 555348: 2, 424280: 8, 555352: 4, 162139: 1, 424296: 1, 555371: 12, 293236: 3, 555388: 1, 424318: 14, 424319: 3, 162176: 13, 424323: 1, 555407: 1, 555430: 3, 293287: 4, 424373: 15, 555449: 1, 293309: 3, 424387: 56, 555461: 1, 555476: 2, 424411: 3, 555491: 3, 31211: 2, 555512: 2, 555515: 1, 555520: 2, 555522: 7, 555533: 3, 555556: 10, 555563: 9, 555565: 25, 555567: 2, 293431: 1, 555577: 2, 555603: 2, 424535: 13, 555616: 3, 555617: 2, 293472: 1, 424551: 15, 555634: 5, 293500: 1, 555659: 4, 424606: 4, 424610: 1, 555693: 6, 555710: 3, 424650: 3, 424686: 1, 293626: 1, 31486: 26, 162562: 1, 293648: 1, 555794: 4, 555798: 2, 555804: 1, 555807: 2, 424738: 2, 293681: 1, 31537: 3, 424755: 2, 555833: 24, 555836: 6, 555839: 3, 555841: 1, 293705: 1, 555854: 5, 424790: 1, 162649: 2, 555876: 2, 555883: 2, 293753: 1, 293799: 41, 162728: 4, 555964: 2, 293823: 1, 162754: 59, 162768: 1, 555989: 5, 556023: 2, 556030: 3, 556047: 3, 556051: 7, 556052: 9, 556067: 3, 556068: 1, 556073: 1, 556076: 4, 162861: 4, 556079: 3, 293951: 3, 556103: 5, 556104: 6, 31839: 1, 556132: 1, 293991: 34, 294018: 28, 31876: 6, 294022: 1, 556167: 4, 556168: 10, 31928: 62, 556219: 4, 556251: 6, 294107: 3, 556254: 3, 163039: 2, 556267: 1, 556271: 1, 556280: 2, 294140: 2, 556294: 2, 556309: 2, 425249: 19, 556323: 3, 294184: 7, 425262: 10, 425264: 5, 556336: 4, 556338: 9, 425271: 2, 556346: 2, 556356: 11, 425286: 2, 556369: 1, 425302: 24, 556385: 2, 294243: 22, 425319: 2, 294250: 15, 425323: 1, 294252: 4, 556396: 11, 294256: 2, 163192: 1, 556414: 3, 556438: 3, 556452: 1, 294311: 9, 556459: 4, 294317: 39, 294321: 1, 556517: 3, 556521: 56, 425458: 1, 425461: 2, 425465: 4, 294407: 2, 556558: 3, 163343: 2, 556563: 2, 556567: 1, 425497: 2, 556570: 10, 32281: 28, 425500: 2, 425508: 2, 425509: 5, 425521: 1, 32318: 1, 425538: 13, 556611: 4, 556610: 3, 32330: 1, 425549: 13, 556622: 1, 294488: 1, 556644: 3, 556649: 8, 556651: 1, 425584: 9, 163450: 2, 425608: 4, 556681: 1, 556692: 3, 556699: 2, 556725: 8, 556727: 11, 425688: 4, 425690: 25, 556784: 1, 556788: 3, 163573: 101, 556797: 3, 556800: 14, 556805: 4, 294675: 4, 163625: 8, 556845: 4, 32560: 7, 556857: 1, 556860: 1, 425790: 2, 294726: 2, 556872: 2, 425829: 2, 556906: 4, 425835: 1, 556908: 3, 294766: 1, 556912: 6, 556915: 1, 556916: 5, 425876: 2, 425878: 1, 556970: 3, 556974: 3, 556976: 1, 163761: 2, 556978: 5, 556980: 2, 556981: 2, 294838: 14, 163765: 3, 425912: 6, 425914: 1, 425915: 2, 556988: 1, 556989: 2, 557012: 1, 294870: 3, 294876: 1, 425961: 4, 294890: 2, 557050: 4, 557054: 5, 425987: 5, 294915: 2, 557060: 3, 425988: 1, 557067: 4, 294938: 5, 294941: 3, 426061: 4, 163928: 155, 557148: 5, 557165: 2, 557168: 4, 426097: 4, 426101: 4, 426113: 1, 557193: 2, 426122: 16, 32915: 1, 557204: 7, 163990: 1, 32923: 68, 557212: 7, 557217: 2, 557227: 2, 426158: 3, 426167: 3, 557250: 8, 557252: 1, 557256: 4, 295131: 3, 557276: 6, 295132: 58, 295146: 2, 164083: 24, 426240: 7, 426246: 2, 557330: 5, 426258: 11, 557334: 1, 557349: 3, 426281: 2, 557360: 6, 426293: 1, 557379: 2, 426308: 34, 557381: 23, 426307: 9, 557385: 6, 164185: 26, 295266: 2, 557426: 4, 557427: 3, 295282: 7, 164221: 1, 426394: 2, 164256: 1, 557482: 16, 557487: 4, 295351: 3, 295356: 17, 557510: 4, 557528: 2, 295393: 101, 426466: 5, 557555: 5, 295417: 13, 295420: 2, 426504: 2, 557579: 3, 164385: 2, 295460: 8, 33319: 3, 557624: 3, 426558: 3, 557631: 7, 557632: 1, 426563: 14, 557638: 3, 557641: 1, 295518: 1, 557666: 1, 557677: 3, 557688: 2, 295561: 7, 557712: 3, 557714: 3, 557722: 2, 295585: 6, 164513: 1, 426668: 25, 295596: 1, 557753: 3, 426682: 2, 426683: 7, 557759: 3, 557768: 4, 426729: 12, 295671: 6, 426747: 3, 557826: 9, 557827: 2, 557829: 6, 557832: 2, 557838: 2, 557844: 4, 557845: 4, 33577: 5, 557873: 2, 295738: 5, 295744: 4, 557899: 2, 557901: 3, 426838: 4, 164703: 2, 557939: 9, 557950: 2, 557952: 1, 426887: 1, 557960: 5, 426895: 12, 557973: 1, 426914: 59, 426921: 6, 426922: 39, 164783: 1, 558008: 6, 295865: 2, 558022: 1, 426953: 17, 558038: 2, 164844: 3, 558064: 2, 558067: 1, 558068: 5, 558071: 15, 164873: 2, 558099: 2, 295955: 2, 164908: 1, 33845: 34, 295994: 42, 295997: 3, 558149: 1, 558150: 18, 558157: 5, 427091: 6, 164950: 1, 558175: 4, 558179: 1, 427125: 2, 558210: 1, 427138: 20, 427143: 5, 427151: 6, 558229: 2, 558230: 1, 296089: 1, 296092: 1, 296111: 3, 558269: 3, 558272: 5, 558273: 28, 558275: 7, 558280: 3, 427211: 1, 558285: 3, 427242: 1, 427245: 1, 558320: 6, 165114: 2, 558332: 3, 296202: 3, 427288: 7, 558368: 7, 427297: 1, 558370: 3, 296227: 1, 558371: 3, 558385: 7, 296245: 3, 34119: 11, 558427: 4, 558432: 3, 558433: 3, 558460: 3, 558464: 2, 558466: 2, 558467: 1, 296327: 2, 427412: 1, 165270: 11, 427419: 3, 165279: 4, 558515: 4, 165304: 7, 558530: 1, 34252: 5, 558544: 1, 558552: 7, 558558: 5, 427486: 1, 558583: 1, 427515: 1, 558591: 5, 558595: 1, 558597: 1, 558601: 3, 558605: 10, 558606: 1, 296469: 104, 34330: 2, 427549: 3, 558622: 13, 296485: 1, 558632: 2, 427560: 1, 427572: 1, 427573: 59, 296505: 7, 558654: 1, 427606: 42, 558690: 1, 427626: 5, 558701: 2, 427636: 2, 558718: 6, 427648: 3, 558726: 16, 558729: 3, 558731: 5, 34446: 41, 558735: 1, 558736: 1, 296595: 1, 558739: 2, 296598: 3, 558743: 1, 34456: 2, 427673: 2, 296601: 4, 558750: 2, 558752: 2, 165537: 1, 558764: 1, 427700: 10, 558775: 2, 558781: 4, 165569: 28, 558788: 2, 558792: 2, 558832: 4, 427761: 4, 558834: 6, 165618: 1, 558835: 5, 296708: 4, 427785: 10, 558861: 5, 427798: 9, 558872: 1, 34594: 6, 296738: 4, 558889: 2, 558892: 4, 558897: 5, 296764: 2, 165708: 155, 558930: 1, 427861: 6, 558937: 4, 558940: 3, 427869: 4, 558950: 26, 427881: 20, 296822: 3, 558966: 1, 427901: 1, 558989: 1, 165784: 2, 296880: 2, 559037: 1, 427967: 1, 428006: 6, 428007: 5, 559090: 3, 296960: 3, 296964: 1, 428037: 4, 428044: 3, 428052: 3, 559132: 5, 559142: 3, 297018: 1, 428099: 2, 428103: 5, 559184: 22, 559188: 7, 165976: 11, 165978: 2, 559204: 1, 559206: 1, 34933: 3, 559225: 3, 559227: 35, 559233: 4, 428173: 2, 428192: 12, 428222: 2, 559296: 2, 559302: 5, 559307: 1, 297173: 3, 559319: 1, 559335: 4, 166120: 6, 35059: 2, 559360: 6, 297217: 8, 559361: 1, 428324: 4, 559400: 3, 559408: 1, 559430: 1, 428359: 3, 559434: 1, 297292: 101, 559436: 1, 559438: 3, 559447: 5, 428377: 39, 559449: 3, 428382: 14, 297310: 1, 559464: 3, 297323: 3, 35186: 3, 559487: 3, 559488: 2, 559489: 9, 428421: 1, 559494: 2, 297353: 3, 559502: 3, 559507: 1, 297384: 1, 297400: 1, 559559: 1, 297426: 2, 559579: 1, 559596: 13, 559600: 3, 428530: 4, 559604: 3, 428607: 1, 166468: 3, 297541: 39, 428640: 2, 297568: 4, 166503: 2, 428670: 2, 166534: 6, 559754: 3, 297613: 3, 166543: 1, 559762: 1, 166552: 3, 428711: 3, 297643: 16, 559790: 4, 559792: 4, 559797: 3, 559800: 1, 559802: 1, 166594: 1, 35544: 3, 428763: 2, 166624: 41, 297697: 14, 297714: 1, 166650: 5, 559869: 3, 166660: 59, 559877: 7, 559882: 2, 297739: 4, 559919: 10, 559920: 3, 559923: 1, 559931: 3, 559933: 2, 297791: 2, 559941: 1, 428871: 3, 428878: 1, 297823: 3, 559973: 19, 559977: 2, 559979: 1, 166765: 2, 559985: 1, 560005: 9, 560014: 4, 560020: 4, 560026: 4, 297889: 1, 560043: 2, 560044: 2, 297903: 4, 297904: 26, 560056: 4, 560076: 2, 429018: 2, 560093: 3, 560094: 9, 429040: 4, 560125: 1, 560129: 3, 560131: 8, 429062: 3, 560134: 1, 560137: 13, 166922: 3, 429099: 9, 166958: 50, 560199: 2, 429140: 1, 298071: 8, 560222: 3, 560227: 6, 429172: 3, 298108: 32, 429188: 1, 560264: 1, 35984: 34, 560280: 3, 167066: 1, 560285: 4, 298144: 2, 560300: 9, 298160: 1, 429233: 2, 167098: 1, 298171: 11, 298170: 3, 560330: 1, 560333: 1, 560334: 3, 560343: 2, 560367: 5, 560368: 2, 560371: 6, 36115: 1, 429337: 6, 560412: 9, 560415: 5, 560423: 2, 429353: 4, 429363: 1, 167219: 1, 167231: 3, 560452: 1, 560462: 4, 36175: 18, 560463: 3, 429394: 12, 560468: 3, 560487: 1, 429417: 3, 429421: 6, 560510: 2, 560512: 10, 429444: 3, 560517: 3, 560518: 4, 429447: 3, 560521: 3, 429453: 1, 560526: 2, 560528: 4, 298387: 13, 560533: 2, 560535: 14, 560588: 3, 298445: 1, 560594: 3, 560597: 3, 298454: 2, 560601: 2, 429541: 56, 560617: 3, 560621: 3, 560628: 1, 560640: 3, 560650: 1, 560654: 4, 560660: 1, 429588: 10, 298520: 3, 560664: 2, 298531: 4, 298534: 7, 298544: 40, 429619: 67, 429622: 5, 429627: 6, 560711: 2, 560714: 2, 429645: 2, 429658: 59, 429672: 3, 429673: 14, 429674: 1, 298608: 8, 560757: 3, 560769: 2, 560773: 3, 560779: 1, 298641: 3, 298646: 5, 298648: 1, 429722: 2, 560799: 6, 560804: 2, 560805: 5, 429740: 4, 429752: 1, 560825: 5, 298682: 1, 36553: 1, 560855: 1, 167640: 9, 560857: 2, 298715: 1, 36581: 3, 560877: 8, 560889: 4, 298770: 41, 560919: 3, 560921: 2, 298780: 7, 429885: 14, 167743: 9, 429888: 4, 298821: 3, 560968: 12, 560972: 5, 560990: 2, 560998: 2, 561016: 4, 561017: 5, 561031: 2, 298907: 1, 561057: 2, 561058: 3, 429989: 2, 167847: 5, 429992: 2, 561068: 5, 430016: 6, 561090: 2, 298955: 5, 561101: 3, 561114: 6, 430048: 3, 430052: 4, 561129: 4, 298999: 1, 561161: 5, 561181: 3, 299043: 1, 561190: 2, 299054: 2, 561205: 3, 430135: 2, 430141: 11, 168002: 3, 430148: 5, 299080: 1, 561229: 1, 36944: 1, 299097: 163, 430175: 43, 561257: 3, 561260: 8, 561263: 43, 561292: 6, 561300: 4, 561310: 4, 561311: 25, 299173: 1, 561324: 9, 430253: 4, 168111: 4, 168121: 1, 561358: 3, 561362: 3, 561388: 3, 561424: 6, 561429: 4, 561432: 4, 561441: 5, 299302: 34, 561449: 1, 430378: 1, 561454: 1, 561460: 2, 37179: 1, 561479: 5, 561484: 1, 430456: 1, 430460: 1, 37273: 2, 561563: 2, 430507: 5, 37308: 1, 561608: 4, 561609: 6, 299470: 3, 37330: 2, 299492: 1, 561639: 5, 561640: 38, 561645: 2, 561649: 1, 561674: 3, 430603: 1, 299535: 3, 561686: 1, 430617: 7, 430624: 1, 561700: 2, 561707: 1, 430637: 6, 299574: 17, 561723: 1, 430667: 24, 168533: 1, 561757: 4, 561767: 1, 299646: 6, 430739: 2, 430741: 2, 561840: 4, 561841: 5, 299698: 155, 561844: 3, 561845: 3, 561847: 1, 561848: 2, 561850: 2, 299713: 3, 430786: 7, 430787: 3, 299720: 3, 168672: 2, 561895: 3, 561896: 2, 561909: 2, 430863: 1, 430865: 7, 430869: 4, 430872: 3, 299802: 3, 561966: 7, 561967: 1, 168757: 1, 561978: 1, 430910: 5, 562001: 4, 299880: 7, 430954: 2, 299883: 8, 562031: 2, 168816: 6, 168817: 56, 562060: 12, 562069: 7, 431002: 5, 562077: 2, 562114: 7, 431075: 19, 431080: 2, 431081: 7, 431087: 2, 562163: 2, 431105: 2, 300050: 2, 168983: 2, 168998: 1, 562217: 2, 562224: 3, 562226: 1, 562227: 1, 169021: 14, 169026: 4, 562246: 4, 431176: 1, 562250: 6, 562255: 8, 562260: 2, 562261: 1, 562269: 2, 169065: 155, 562282: 4, 431214: 1, 300145: 1, 562292: 2, 562294: 4, 300169: 2, 562314: 1, 562323: 1, 431255: 1, 562331: 2, 562352: 4, 300217: 3, 562395: 1, 169196: 5, 562416: 3, 169204: 1, 38136: 8, 562450: 9, 562452: 1, 562469: 1, 169253: 4, 300339: 8, 300343: 11, 562496: 2, 300381: 3, 562538: 2, 562544: 2, 562550: 2, 562561: 7, 562566: 5, 431503: 6, 431507: 1, 300450: 18, 562598: 4, 169399: 7, 562622: 2, 431557: 1, 169416: 155, 562633: 2, 431564: 6, 562643: 5, 562666: 2, 300523: 158, 431605: 7, 169472: 43, 300545: 2, 169473: 34, 431622: 1, 431628: 2, 562703: 4, 431643: 4, 431644: 3, 431647: 3, 169507: 2, 562726: 2, 562727: 1, 562747: 3, 300623: 3, 431705: 1, 431706: 2, 38497: 1, 562789: 1, 562796: 10, 562805: 1, 300669: 10, 431750: 1, 300680: 18, 431766: 5, 300702: 1, 431775: 1, 300704: 7, 562849: 4, 431780: 5, 169648: 155, 562875: 1, 562891: 6, 431829: 32, 431830: 2, 431834: 2, 431845: 11, 562923: 6, 562929: 24, 562934: 1, 431871: 1, 431873: 2, 562969: 3, 562972: 7, 300834: 19, 562979: 5, 562985: 2, 562993: 9, 431931: 2, 300860: 37, 563017: 3, 431954: 2, 169821: 6, 300895: 7, 169828: 31, 431974: 2, 169831: 1, 563058: 3, 563066: 1, 563088: 1, 563093: 10, 563096: 4, 432029: 1, 563104: 1, 169889: 7, 563113: 2, 563133: 1, 432062: 5, 563146: 6, 563151: 14, 563152: 1, 563158: 2, 563166: 1, 563179: 3, 169965: 6, 563184: 3, 169985: 18, 432135: 9, 432137: 2, 563215: 6, 563217: 1, 563240: 1, 170028: 1, 170038: 3, 432188: 39, 563276: 2, 563283: 1, 563287: 2, 563289: 8, 563291: 7, 432230: 3, 432232: 4, 432249: 2, 432251: 39, 432282: 3, 432294: 2, 170158: 1, 432304: 34, 170161: 11, 563431: 10, 432363: 3, 563438: 3, 170227: 1, 563459: 5, 563464: 1, 170251: 6, 563489: 12, 563490: 3, 563495: 6, 563496: 3, 170284: 5, 563511: 4, 563539: 3, 563546: 2, 563562: 2, 301419: 3, 170363: 2, 563580: 7, 563582: 1, 170369: 5, 432540: 3, 432542: 3, 563620: 5, 432550: 1, 170407: 6, 563625: 3, 563632: 9, 432573: 1, 563651: 19, 432582: 8, 563656: 1, 432593: 2, 170455: 2, 563687: 3, 563691: 4, 563698: 11, 301580: 4, 563725: 1, 563737: 3, 432668: 4, 563745: 2, 39461: 1, 170547: 1, 301624: 3, 170559: 1, 432717: 1, 563798: 3, 301655: 1, 563816: 5, 301673: 1, 563817: 5, 301691: 37, 563836: 3, 563840: 1, 563851: 4, 563853: 5, 563858: 3, 301717: 1, 563862: 1, 563876: 4, 301737: 1, 432811: 2, 432819: 3, 563899: 1, 432835: 1, 563910: 2, 563917: 4, 563937: 14, 432873: 2, 432880: 1, 563958: 5, 432897: 2, 563987: 4, 563990: 1, 432954: 5, 432973: 28, 564046: 17, 564062: 2, 564072: 23, 433004: 1, 564076: 1, 170864: 1, 301938: 4, 170883: 1, 301957: 2, 433030: 10, 301975: 2, 564130: 3, 564131: 3, 433074: 3, 302012: 1, 433085: 2, 564172: 2, 433128: 10, 39923: 3, 39930: 1, 564226: 1, 302083: 3, 564237: 28, 433170: 9, 433181: 5, 564276: 1, 564302: 6, 564305: 2, 564308: 3, 564330: 2, 171114: 3, 433265: 1, 433270: 7, 564346: 6, 564356: 3, 564386: 2, 433330: 2, 433333: 3, 433336: 2, 433345: 34, 433364: 3, 302295: 15, 171227: 2, 564482: 5, 171271: 2, 564497: 1, 433455: 2, 433466: 3, 564541: 1, 564570: 6, 564577: 1, 564578: 1, 433510: 3, 171376: 9, 564596: 1, 564600: 4, 171384: 2, 564602: 2, 564605: 3, 433546: 5, 171413: 5, 564641: 3, 171426: 11, 433581: 4, 564660: 2, 564667: 3, 564676: 3, 564677: 2, 564685: 9, 564687: 5, 40405: 1, 171478: 3, 171483: 2, 564726: 5, 564730: 101, 433663: 7, 302593: 7, 171527: 3, 564759: 1, 564782: 2, 171569: 12, 564789: 1, 433720: 16, 564812: 5, 564820: 6, 564822: 1, 433753: 2, 171609: 101, 564830: 6, 302687: 6, 433765: 2, 564848: 6, 564859: 1, 433793: 2, 564870: 1, 564873: 1, 171659: 9, 433805: 1, 564878: 3, 302746: 5, 564913: 1, 302779: 1, 564930: 6, 433869: 4, 171753: 6, 302830: 1, 564979: 2, 433913: 2, 564988: 2, 565005: 31, 171790: 5, 302871: 4, 565029: 4, 171834: 1, 302921: 2, 171853: 1, 565070: 22, 434016: 2, 302954: 2, 171892: 1, 434046: 4, 565120: 3, 565122: 6, 565141: 2, 434077: 4, 434107: 3, 565182: 3, 171967: 3, 565185: 3, 171981: 101, 303077: 6, 434159: 3, 434176: 2, 565253: 3, 40968: 24, 565258: 5, 434190: 66, 565272: 3, 565278: 3, 565279: 2, 565303: 2, 565304: 3, 565305: 13, 303166: 14, 565317: 2, 565330: 25, 434268: 1, 565347: 4, 565351: 3, 565358: 4, 303226: 2, 434306: 2, 434324: 7, 565400: 6, 565406: 2, 565409: 3, 565441: 1, 565442: 1, 565445: 13, 434378: 1, 565457: 2, 172243: 4, 565460: 2, 41182: 1, 434402: 5, 565484: 13, 303355: 101, 434468: 56, 565544: 5, 303409: 8, 434484: 1, 565559: 4, 303416: 1, 565561: 3, 565567: 1, 565583: 3, 434513: 2, 41303: 2, 565594: 2, 303455: 9, 565604: 3, 565607: 4, 565609: 3, 565624: 1, 565628: 1, 303488: 5, 565640: 5, 434569: 6, 434570: 1, 565642: 3, 565647: 6, 303516: 1, 434594: 3, 303537: 2, 565683: 5, 565690: 5, 565691: 2, 303550: 2, 565697: 2, 434632: 2, 565715: 1, 565719: 1, 565722: 3, 565723: 9, 565727: 8, 434663: 2, 565736: 1, 303619: 8, 565765: 2, 172553: 3, 434698: 5, 565778: 1, 303644: 4, 565792: 3, 565793: 3, 565795: 1, 565802: 2, 565883: 2, 172671: 2, 434816: 2, 565889: 11, 565891: 4, 565894: 5, 565902: 3, 434837: 6, 434846: 3, 434851: 2, 565928: 6, 565930: 1, 565943: 1, 565944: 1, 303802: 22, 303803: 1, 41661: 8, 41666: 3, 434884: 3, 565965: 4, 565966: 3, 303827: 1, 303829: 6, 565974: 2, 303837: 2, 434923: 4, 566011: 3, 303875: 1, 434962: 2, 434963: 1, 566038: 1, 566053: 10, 303918: 11, 303921: 5, 172859: 1, 566094: 1, 303951: 8, 303955: 1, 303958: 1, 303961: 59, 435034: 3, 566110: 4, 303972: 1, 566117: 3, 435044: 37, 303979: 3, 304003: 2, 566150: 4, 566158: 59, 566168: 2, 435100: 4, 304031: 5, 41889: 59, 566189: 2, 435138: 1, 566217: 34, 435161: 23, 566252: 3, 435182: 1, 435195: 4, 41980: 55, 566277: 10, 566286: 3, 566300: 6, 566301: 3, 566303: 1, 566304: 3, 304161: 1, 566307: 4, 304179: 103, 566330: 3, 566343: 2, 435273: 3, 566352: 4, 304209: 1, 566354: 1, 304221: 1, 566380: 7, 566382: 3, 304253: 2, 566403: 4, 435346: 15, 435369: 1, 435404: 1, 566499: 2, 566535: 28, 304398: 2, 304408: 28, 566568: 7, 566573: 1, 435513: 6, 566593: 2, 304450: 50, 566602: 4, 566604: 4, 566606: 3, 42330: 50, 304494: 1, 566640: 1, 566641: 12, 435572: 3, 435597: 10, 435599: 1, 566672: 9, 435605: 1, 42393: 1, 173479: 8, 566698: 1, 435628: 2, 435634: 2, 566710: 11, 566734: 2, 435674: 6, 304608: 15, 435687: 15, 566760: 8, 566764: 8, 566786: 3, 304647: 41, 566791: 4, 173577: 13, 566792: 1, 42505: 6, 566800: 6, 566804: 1, 566808: 1, 566810: 1, 566818: 1, 566823: 3, 566824: 6, 435758: 4, 304689: 3, 304692: 3, 435807: 16, 566883: 2, 173669: 2, 435815: 4, 435821: 1, 435822: 3, 566915: 1, 566927: 2, 566929: 6, 435859: 4, 566941: 3, 566943: 1, 566962: 3, 304818: 26, 304827: 2, 304848: 14, 566994: 6, 566998: 5, 567006: 3, 173794: 1, 567011: 3, 567015: 5, 567021: 3, 435956: 11, 173817: 1, 304894: 1, 435973: 5, 567046: 2, 304925: 17, 567071: 3, 567086: 4, 567093: 1, 304950: 155, 567096: 2, 567098: 13, 567106: 6, 567133: 8, 304994: 2, 567142: 6, 567150: 12, 436093: 2, 436097: 2, 567187: 3, 567189: 1, 436120: 1, 436123: 2, 173996: 1, 436142: 3, 567225: 2, 436154: 16, 436159: 5, 567235: 3, 567236: 4, 305103: 2, 567250: 1, 567263: 2, 305120: 24, 567278: 2, 436208: 1, 436210: 3, 436213: 3, 174096: 7, 436246: 59, 567323: 2, 567325: 2, 567357: 3, 567358: 1, 174143: 1, 567361: 2, 174156: 161, 567375: 2, 567376: 1, 567380: 2, 567382: 1, 436320: 5, 174176: 2, 567414: 6, 567423: 1, 305284: 64, 305289: 2, 567443: 2, 305309: 155, 567463: 2, 567464: 1, 567465: 8, 567466: 2, 567470: 8, 436406: 2, 567483: 13, 305358: 2, 43248: 15, 436465: 2, 567559: 5, 567560: 1, 43273: 3, 567577: 3, 305454: 1, 567598: 1, 436533: 2, 567606: 5, 567611: 2, 305473: 1, 567632: 2, 567634: 8, 567636: 1, 567637: 2, 174421: 15, 567641: 6, 567648: 3, 567653: 1, 305511: 1, 567663: 2, 305524: 57, 174453: 1, 567676: 1, 567680: 3, 567683: 2, 567684: 2, 436622: 1, 305570: 1, 436663: 1, 567737: 2, 567739: 4, 436720: 6, 43510: 2, 567814: 1, 567817: 13, 567819: 2, 436816: 2, 567901: 5, 567902: 1, 436832: 40, 567923: 2, 567932: 13, 567934: 4, 436864: 3, 567938: 1, 436873: 3, 305803: 11, 567966: 5, 174761: 155, 305846: 1, 305861: 7, 174801: 155, 568023: 1, 174814: 10, 568032: 3, 436962: 1, 568035: 1, 436965: 2, 436977: 2, 174841: 104, 568058: 2, 174865: 24, 305939: 4, 568085: 2, 305941: 1, 305947: 3, 174886: 1, 568109: 1, 437073: 2, 437076: 1, 306012: 1, 437088: 2, 306043: 3, 437125: 5, 306069: 3, 306076: 1, 437173: 3, 306106: 2, 175049: 7, 437229: 5, 437261: 1, 568343: 1, 568346: 6, 175131: 1, 568355: 3, 568374: 6, 568396: 1, 568400: 1, 568403: 5, 568409: 3, 568410: 2, 568412: 7, 568440: 2, 568444: 2, 568465: 2, 44185: 4, 568475: 2, 175259: 2, 175270: 3, 306362: 101, 437441: 1, 568530: 7, 568535: 2, 175320: 2, 568542: 1, 437495: 1, 568567: 1, 306433: 2, 568585: 9, 568599: 1, 437554: 2, 437555: 3, 568638: 2, 175423: 2, 437579: 1, 175437: 41, 568653: 2, 437592: 1, 437604: 1, 568686: 3, 568695: 10, 568711: 3, 437647: 5, 568724: 3, 568729: 4, 568730: 2, 568740: 3, 568742: 2, 44466: 1, 306613: 4, 44470: 3, 306616: 1, 437690: 5, 568781: 2, 437719: 3, 568793: 2, 568796: 4, 568806: 1, 306666: 1, 437746: 50, 568838: 1, 568839: 1, 306700: 8, 568861: 3, 568863: 2, 175653: 5, 568881: 3, 568882: 3, 306761: 3, 568945: 3, 437874: 2, 568966: 3, 437902: 1, 568978: 6, 568982: 1, 568988: 1, 568989: 6, 568994: 30, 568995: 5, 568999: 3, 437941: 8, 569034: 24, 306893: 4, 569039: 2, 175839: 1, 569068: 3, 306925: 16, 306935: 14, 569081: 2, 569112: 1, 569122: 2, 569143: 2, 569144: 2, 44856: 56, 569157: 4, 438087: 6, 438096: 1, 438109: 1, 438136: 2, 176004: 5, 438161: 3, 438164: 6, 438166: 3, 44953: 7, 569243: 5, 569244: 3, 307101: 1, 438179: 1, 569254: 5, 438212: 1, 438215: 5, 438216: 3, 176084: 1, 569307: 1, 176097: 1, 569328: 2, 438260: 2, 569347: 3, 569355: 4, 569357: 1, 569368: 1, 569375: 3, 438321: 2, 438332: 2, 438346: 14, 45130: 1, 176214: 3, 569443: 4, 569450: 10, 45172: 4, 438392: 4, 307331: 102, 438407: 1, 176267: 4, 176280: 155, 569497: 7, 438426: 105, 569502: 3, 569508: 6, 45242: 10, 307398: 2, 569545: 4, 569546: 3, 438474: 3, 569552: 4, 438482: 1, 569557: 7, 569564: 1, 569565: 6, 569566: 4, 176351: 3, 307425: 10, 569577: 3, 438508: 2, 307439: 4, 569588: 4, 569590: 5, 569597: 3, 569600: 1, 569602: 1, 569614: 2, 569615: 3, 569617: 3, 569636: 1, 569638: 8, 569639: 6, 569640: 6, 569647: 1, 569656: 7, 45379: 1, 569671: 1, 307541: 41, 438616: 62, 569688: 7, 569690: 3, 569693: 4, 569701: 2, 569707: 1, 569717: 1, 569763: 2, 569765: 1, 438695: 6, 438700: 59, 176573: 43, 569818: 2, 569820: 2, 438750: 3, 176610: 9, 176614: 1, 307689: 155, 45552: 50, 569842: 6, 569849: 16, 438796: 1, 176655: 1, 569875: 3, 438819: 4, 569896: 8, 438825: 1, 569902: 1, 569906: 4, 569911: 4, 569912: 2, 569918: 42, 438860: 1, 438861: 4, 307792: 2, 438895: 3, 569968: 17, 176771: 6, 438934: 2, 176798: 3, 176822: 2, 176825: 9, 570046: 5, 570055: 1, 570079: 1, 570083: 4, 570084: 1, 570085: 5, 570109: 5, 307966: 4, 570127: 3, 570128: 6, 439057: 55, 570130: 2, 570131: 7, 439063: 41, 570142: 1, 570147: 3, 439080: 5, 439091: 4, 45894: 2, 439112: 2, 308052: 9, 308062: 1, 45919: 1, 570216: 2, 570217: 28, 570232: 101, 570233: 5, 570240: 7, 439168: 2, 439186: 5, 45979: 1, 570270: 2, 439210: 10, 308154: 11, 439231: 1, 570314: 3, 439243: 4, 570328: 5, 46045: 50, 570339: 1, 570341: 2, 308198: 2, 46055: 42, 439274: 32, 570347: 2, 439281: 2, 570355: 2, 308213: 1, 570358: 6, 439289: 3, 570363: 2, 308223: 2, 570379: 2, 570398: 4, 439328: 5, 570408: 3, 177193: 2, 570417: 32, 570424: 9, 570429: 2, 570436: 1, 570438: 5, 570439: 6, 439373: 6, 570452: 4, 439381: 8, 570457: 1, 308315: 1, 570461: 2, 439391: 2, 308342: 2, 439437: 5, 570510: 2, 439447: 2, 570522: 2, 570528: 2, 570529: 7, 570533: 4, 46252: 41, 570543: 1, 439486: 2, 308414: 59, 439488: 1, 308418: 1, 570568: 4, 570576: 2, 570580: 1, 308437: 1, 570588: 1, 308445: 6, 439528: 3, 570603: 2, 177394: 2, 570617: 5, 570623: 4, 570624: 9, 570630: 4, 308489: 19, 46348: 10, 439578: 3, 570661: 1, 439620: 2, 308552: 1, 570702: 3, 439652: 2, 46443: 10, 177518: 1, 177527: 1, 439674: 7, 439682: 1, 570760: 7, 308623: 9, 177554: 7, 570777: 1, 308636: 2, 570781: 5, 570788: 1, 570792: 4, 439720: 3, 570793: 1, 439743: 2, 308677: 1, 439751: 14, 570823: 26, 439757: 5, 570846: 1, 308705: 37, 570859: 5, 570860: 2, 308717: 4, 570862: 21, 570865: 2, 570873: 15, 308730: 6, 439802: 1, 439804: 1, 177678: 1, 177698: 4, 439859: 1, 177716: 163, 308792: 1, 570944: 5, 439878: 3, 439898: 2, 177758: 1, 439908: 1, 570993: 3, 177779: 1, 439929: 1, 439935: 10, 571007: 4, 308896: 4, 439974: 7, 177839: 4, 571060: 5, 439991: 1, 571073: 5, 571085: 4, 308941: 4, 571087: 1, 571093: 1, 440024: 4, 440028: 2, 440033: 1, 571112: 5, 571129: 5, 571201: 1, 178009: 1, 440157: 3, 440163: 1, 571247: 10, 571250: 4, 571251: 101, 571278: 4, 309139: 3, 440219: 1, 571300: 2, 440238: 2, 571316: 11, 440247: 1, 309177: 3, 571321: 1, 47053: 155, 440275: 1, 309211: 8, 571368: 1, 571376: 3, 571404: 2, 309270: 5, 571418: 4, 571430: 3, 309290: 2, 440383: 3, 309334: 3, 178275: 4, 440432: 2, 47221: 101, 571510: 2, 440442: 9, 571519: 3, 571528: 2, 571537: 1, 440469: 10, 571541: 2, 571567: 12, 309427: 3, 571578: 4, 571588: 1, 440516: 1, 440520: 7, 440529: 2, 47315: 2, 571609: 1, 571610: 1, 440541: 8, 440567: 7, 309497: 4, 571653: 7, 571658: 1, 571666: 3, 571670: 2, 47386: 26, 440613: 5, 440615: 7, 309543: 2, 571696: 1, 571709: 1, 571716: 10, 571721: 5, 571728: 9, 571737: 3, 571745: 2, 440675: 2, 571754: 2, 178538: 9, 440682: 2, 178546: 12, 571776: 2, 440714: 4, 571787: 2, 178590: 7, 571821: 5, 571824: 4, 440756: 6, 571829: 29, 571832: 2, 440793: 9, 571873: 7, 440801: 3, 571874: 2, 571882: 3, 440820: 8, 571893: 4, 440821: 2, 571924: 12, 571926: 4, 309788: 10, 571937: 2, 440877: 2, 309813: 1, 571968: 9, 571970: 2, 571971: 2, 178779: 37, 47710: 3, 572001: 6, 440958: 1, 572040: 4, 440971: 3, 572045: 5, 178833: 1, 572060: 4, 572062: 2, 440992: 1, 572068: 1, 178868: 1, 178875: 3, 441021: 28, 47814: 55, 572112: 2, 572113: 1, 572125: 3, 441070: 9, 572153: 4, 441084: 4, 441085: 2, 572157: 3, 572159: 26, 572161: 28, 572164: 2, 572172: 22, 572175: 14, 572198: 3, 441128: 4, 572203: 3, 572204: 2, 310076: 13, 310079: 13, 572229: 2, 441167: 4, 572240: 2, 572247: 3, 572287: 2, 572288: 4, 572291: 3, 48008: 1, 179087: 1, 572305: 1, 572307: 4, 310179: 10, 572323: 5, 572327: 1, 441259: 7, 441260: 5, 441275: 6, 572358: 2, 179154: 25, 572376: 3, 441308: 6, 572394: 1, 310263: 1, 572416: 4, 572425: 3, 572437: 42, 572467: 11, 441398: 3, 572477: 1, 572489: 1, 441421: 26, 441450: 3, 310392: 4, 572541: 9, 572545: 3, 572546: 5, 572548: 5, 572571: 8, 572577: 1, 572600: 60, 572603: 6, 572604: 56, 441533: 5, 572608: 2, 441536: 2, 48323: 5, 179404: 1, 48341: 1, 572634: 12, 572636: 9, 179433: 2, 441578: 5, 572662: 1, 441625: 2, 310560: 2, 441633: 2, 572722: 3, 441666: 4, 441670: 1, 48455: 55, 572768: 5, 572771: 6, 441706: 4, 441725: 2, 572808: 1, 572813: 1, 572815: 4, 310674: 1, 572827: 1, 310684: 1, 48543: 3, 441771: 2, 310717: 1, 572865: 16, 572874: 3, 310733: 2, 441822: 4, 310761: 1, 572907: 6, 310764: 59, 572916: 9, 572918: 1, 572920: 6, 572922: 3, 572923: 4, 572952: 4, 572956: 1, 572959: 1, 572961: 3, 310825: 1, 441900: 1, 572984: 1, 572992: 1, 573034: 3, 310901: 2, 310909: 2, 573061: 2, 48795: 3, 573092: 12, 573101: 1, 179924: 1, 311001: 2, 573154: 2, 179951: 2, 573171: 1, 573178: 1, 311041: 3, 311043: 2, 311080: 2, 573226: 1, 573233: 1, 573240: 2, 573259: 2, 573266: 1, 311133: 2, 573289: 2, 180080: 4, 573299: 1, 311161: 4, 442245: 4, 573324: 1, 442265: 14, 573347: 3, 573355: 4, 573365: 6, 573367: 3, 573378: 2, 442317: 3, 442347: 3, 573427: 4, 573433: 5, 573434: 3, 442362: 4, 442368: 1, 573456: 2, 573458: 1, 573465: 56, 442399: 7, 573511: 4, 573515: 1, 442446: 4, 442447: 1, 442449: 1, 573526: 13, 442483: 1, 573576: 1, 573580: 9, 442519: 3, 573592: 7, 573595: 3, 573606: 2, 442541: 6, 311471: 3, 311477: 37, 573631: 4, 573636: 12, 311501: 8, 573654: 1, 442595: 6, 311524: 39, 573669: 2, 442603: 5, 180465: 2, 573682: 6, 311537: 1, 311540: 1, 442626: 5, 573699: 2, 573701: 1, 442638: 1, 442639: 1, 573720: 1, 311579: 5, 573725: 5, 573726: 16, 573728: 13, 180518: 1, 442680: 12, 442685: 9, 573760: 5, 311618: 2, 573771: 1, 442707: 1, 311667: 3, 573835: 1, 311695: 6, 573841: 4, 180626: 1, 442779: 10, 311732: 2, 180666: 3, 180669: 3, 573891: 3, 442825: 28, 573898: 3, 311761: 3, 573920: 13, 311783: 35, 573929: 6, 573934: 2, 573935: 3, 573942: 2, 442873: 1, 180743: 1, 311815: 5, 311832: 59, 442905: 24, 442917: 2, 442924: 1, 574020: 2, 574030: 2, 574031: 16, 574047: 12, 49765: 1, 311911: 4, 443004: 1, 574082: 4, 311943: 3, 574092: 2, 443029: 1, 311958: 2, 574124: 9, 574134: 1, 574138: 2, 311997: 1, 443076: 1, 443077: 8, 574161: 7, 574165: 6, 574168: 4, 574180: 2, 574191: 2, 574193: 3, 574203: 1, 574209: 1, 574210: 9, 574223: 8, 574226: 1, 574229: 22, 312102: 2, 181050: 2, 312135: 1, 574280: 6, 443210: 1, 443211: 10, 574287: 3, 50006: 3, 443224: 2, 443240: 3, 443250: 2, 574327: 2, 574332: 11, 443269: 13, 312206: 6, 443293: 2, 574366: 5, 181161: 16, 574381: 3, 312269: 2, 443351: 3, 574459: 7, 312315: 2, 574461: 2, 574465: 3, 574477: 2, 443418: 4, 312353: 2, 574531: 2, 312392: 3, 574549: 1, 574555: 1, 574558: 4, 443491: 2, 443514: 3, 574591: 3, 443520: 4, 312453: 2, 574604: 4, 312471: 2, 443552: 1, 312482: 3, 574638: 1, 312497: 1, 574649: 2, 312514: 1, 574658: 4, 312521: 1, 312522: 4, 443602: 7, 574700: 1, 574702: 5, 574706: 3, 312564: 2, 181493: 3, 312568: 2, 443654: 3, 181515: 26, 574735: 7, 574739: 2, 312605: 13, 574752: 1, 443686: 1, 574766: 1, 574768: 4, 574787: 2, 574791: 3, 443723: 7, 312656: 57, 574807: 2, 443737: 57, 312665: 6, 574819: 4, 443748: 23, 574821: 1, 574822: 4, 443759: 4, 443764: 4, 574846: 2, 443799: 1, 312728: 1, 181658: 4, 574878: 9, 312736: 4, 574888: 6, 443831: 2, 312759: 1, 574909: 4, 574923: 5, 574927: 5, 443856: 1, 574928: 9, 312784: 3, 574931: 1, 574932: 2, 574945: 4, 443888: 22, 443894: 2, 574970: 1, 181773: 7, 50705: 59, 443927: 3, 312858: 11, 575004: 2, 181792: 2, 312870: 15, 443944: 1, 443945: 1, 443995: 5, 575073: 4, 575077: 1, 575081: 4, 181867: 1, 181876: 1, 444029: 3, 575105: 4, 181890: 13, 575127: 3, 444056: 3, 444066: 26, 575139: 2, 313007: 13, 575157: 2, 313014: 1, 575161: 1, 181960: 3, 313034: 1, 181963: 4, 575197: 5, 575210: 1, 444143: 5, 575232: 2, 444163: 2, 313096: 1, 575249: 1, 575252: 1, 50965: 1, 575257: 2, 444185: 1, 313117: 55, 575266: 2, 313129: 1, 444204: 1, 575280: 1, 575285: 2, 444222: 2, 444242: 1, 444247: 5, 575331: 4, 313193: 2, 575338: 4, 575351: 1, 444306: 1, 575410: 3, 575417: 1, 182202: 163, 575430: 1, 182219: 2, 313296: 1, 575444: 1, 444375: 1, 575459: 6, 575483: 3, 51207: 2, 575497: 5, 575520: 1, 182322: 3, 575548: 2, 575552: 4, 575555: 1, 575559: 5, 575569: 2, 575571: 5, 182362: 10, 575592: 4, 575603: 1, 313471: 3, 444549: 2, 575625: 4, 575630: 5, 575632: 2, 313488: 3, 575636: 3, 444603: 3, 313533: 37, 575681: 4, 575685: 2, 313550: 2, 575707: 3, 444656: 59, 313587: 13, 444662: 3, 575741: 3, 575743: 2, 182531: 3, 575757: 2, 313614: 155, 575768: 1, 444706: 2, 313635: 3, 575780: 2, 444720: 13, 51511: 28, 575814: 13, 575816: 3, 182604: 3, 575831: 1, 313688: 4, 575838: 2, 444769: 1, 575855: 2, 182648: 4, 575869: 4, 313731: 5, 444810: 6, 575891: 3, 575915: 3, 51629: 2, 51655: 30, 575950: 3, 575955: 4, 313815: 2, 575986: 7, 576003: 7, 313867: 1, 444953: 105, 576027: 1, 444959: 25, 576041: 2, 51760: 2, 576052: 3, 576068: 3, 576072: 1, 313932: 39, 576076: 7, 51795: 155, 445011: 3, 576083: 3, 313943: 14, 313947: 1, 576102: 3, 445041: 3, 576115: 4, 576118: 3, 576119: 1, 576120: 1, 576121: 2, 576123: 1, 313988: 4, 182925: 5, 576142: 25, 445073: 5, 445076: 7, 576152: 4, 314011: 4, 576173: 3, 576180: 5, 576183: 8, 445114: 2, 182989: 8, 314077: 1, 576225: 1, 576235: 2, 576237: 2, 183042: 1, 576262: 1, 445196: 1, 576280: 1, 576286: 1, 445220: 12, 576293: 2, 314160: 4, 445233: 1, 576321: 6, 183122: 4, 183125: 4, 576350: 2, 183146: 9, 576365: 3, 576370: 6, 576375: 5, 314257: 1, 576421: 3, 183213: 1, 445372: 1, 314308: 3, 576457: 3, 314315: 1, 576463: 2, 576470: 3, 445409: 5, 576483: 3, 445413: 1, 314342: 3, 183304: 5, 576524: 5, 445463: 5, 445470: 3, 576552: 1, 445493: 34, 576565: 3, 576566: 2, 445503: 2, 576586: 9, 576588: 15, 576589: 4, 576590: 6, 445516: 2, 445517: 2, 183373: 1, 183378: 55, 576597: 1, 576618: 1, 576629: 7, 576634: 2, 445568: 22, 183424: 3, 576646: 4, 576648: 2, 445582: 1, 183463: 1, 576696: 1, 576698: 5, 183484: 2, 52412: 1, 314565: 1, 576724: 1, 576725: 7, 445655: 14, 445660: 1, 314595: 1, 576745: 2, 576784: 12, 576797: 1, 445734: 1, 52522: 5, 576826: 11, 576831: 5, 576834: 6, 576835: 1, 576855: 1, 445786: 43, 576859: 3, 183647: 2, 576865: 4, 576885: 3, 445818: 2, 445819: 1, 445820: 2, 576895: 3, 445832: 2, 52623: 1, 576922: 3, 445855: 1, 445856: 15, 576938: 3, 576939: 9, 576941: 3, 445870: 9, 576947: 1, 445905: 3, 576982: 4, 576990: 2, 576995: 2, 577012: 2, 52727: 1, 183802: 1, 577026: 9, 314883: 1, 314887: 2, 445978: 1, 445999: 5, 446002: 4, 446007: 2, 446017: 1, 183878: 11, 314953: 11, 314957: 163, 577106: 3, 577113: 3, 577115: 4, 52834: 2, 446060: 19, 314991: 6, 446064: 2, 577149: 2, 577155: 4, 183941: 1, 446086: 2, 446087: 1, 577173: 1, 446101: 1, 577178: 4, 577179: 5, 577182: 7, 577189: 4, 577192: 10, 315057: 7, 577205: 3, 446148: 14, 315079: 14, 577226: 1, 446157: 4, 577235: 3, 577240: 5, 577252: 1, 184044: 4, 315124: 3, 184065: 8, 577307: 13, 577310: 13, 577314: 4, 577322: 2, 184109: 2, 53064: 1, 184139: 3, 577359: 2, 577374: 1, 315248: 3, 446322: 1, 577402: 3, 577424: 3, 315288: 3, 184234: 1, 577454: 9, 577459: 1, 577464: 2, 315327: 1, 446408: 1, 577483: 3, 577484: 2, 315347: 4, 315349: 9, 577498: 1, 577499: 3, 577501: 5, 577503: 1, 315366: 5, 184304: 1, 446450: 2, 577545: 1, 446482: 2, 315420: 1, 577574: 15, 577587: 60, 577594: 2, 577596: 1, 577597: 1, 577602: 2, 184411: 7, 446558: 42, 577634: 4, 577637: 1, 577641: 2, 577646: 3, 315511: 56, 577669: 1, 577676: 2, 577685: 2, 446625: 31, 577700: 5, 577706: 6, 446634: 1, 577709: 6, 577714: 5, 184501: 4, 315574: 5, 446646: 6, 577723: 2, 577748: 2, 577750: 4, 577753: 1, 577754: 6, 446693: 1, 577765: 8, 446699: 11, 577776: 2, 577799: 5, 577800: 7, 577803: 11, 53519: 4, 577829: 1, 446767: 2, 184657: 2, 577874: 2, 315732: 26, 577887: 1, 315749: 155, 577901: 3, 184697: 155, 446842: 4, 446847: 1, 577923: 11, 577924: 7, 446859: 2, 577948: 4, 577950: 22, 446880: 5, 446884: 2, 446886: 4, 446890: 1, 446893: 3, 577974: 1, 577988: 3, 315845: 1, 315844: 6, 184782: 2, 315873: 2, 446951: 101, 578026: 2, 578027: 60, 578028: 1, 184839: 1, 315920: 23, 578078: 5, 578081: 4, 578088: 1, 578089: 1, 578109: 1, 578110: 3, 578112: 9, 447047: 2, 578132: 2, 578133: 2, 578158: 1, 184949: 2, 578178: 3, 447127: 1, 316075: 1, 578224: 3, 447153: 3, 316084: 1, 316085: 4, 53948: 1, 447169: 1, 578255: 5, 578259: 5, 578265: 4, 578266: 10, 447195: 4, 447196: 8, 578269: 5, 578278: 3, 447210: 56, 447213: 2, 447215: 2, 185071: 10, 578290: 4, 447244: 1, 316189: 26, 578387: 59, 316244: 1, 316250: 3, 185178: 3, 578395: 1, 578421: 6, 578434: 2, 578437: 6, 578439: 2, 185229: 41, 578447: 4, 578448: 1, 578450: 2, 578461: 3, 578463: 3, 578465: 6, 54178: 41, 578468: 3, 578469: 1, 578502: 1, 54216: 20, 578519: 1, 447449: 4, 578525: 9, 185311: 163, 316413: 4, 578565: 1, 447494: 101, 578571: 7, 447515: 5, 578589: 1, 447558: 3, 578632: 1, 578637: 16, 578640: 5, 316496: 29, 447568: 4, 447577: 1, 316518: 1, 578686: 6, 185471: 3, 578694: 2, 578695: 1, 447628: 39, 185496: 159, 447644: 5, 447648: 18, 578731: 3, 578740: 8, 185530: 2, 447677: 1, 447681: 2, 578763: 12, 185555: 59, 578780: 1, 578781: 2, 578783: 7, 185577: 41, 185579: 2, 578826: 7, 316685: 1, 578830: 3, 447768: 5, 447770: 3, 578865: 3, 185655: 33, 578875: 4, 578876: 2, 578877: 5, 578879: 5, 578880: 5, 447808: 1, 578882: 3, 578887: 3, 447817: 1, 185674: 8, 447827: 3, 185685: 1, 578924: 1, 316784: 3, 316792: 28, 316814: 5, 578962: 2, 447902: 6, 578976: 2, 447917: 4, 447924: 2, 447929: 2, 579006: 1, 579011: 5, 579015: 3, 185801: 25, 316874: 155, 579020: 101, 579023: 1, 447952: 1, 447969: 5, 316904: 6, 579082: 2, 579084: 4, 316953: 41, 448027: 22, 579100: 1, 316963: 1, 579112: 2, 448044: 2, 448052: 44, 579127: 4, 448056: 3, 579131: 7, 579141: 1, 579146: 4, 448090: 5, 448091: 14, 579173: 6, 579178: 3, 579184: 5, 185973: 4, 54917: 1, 317066: 1, 317080: 4, 317090: 2, 579236: 5, 448172: 2, 448175: 3, 448177: 1, 448185: 3, 448186: 8, 579260: 6, 448189: 3, 579263: 3, 448204: 37, 579292: 2, 579307: 1, 448281: 10, 448283: 3, 579362: 1, 186162: 1, 579386: 1, 579388: 7, 579392: 2, 448345: 2, 55136: 2, 579432: 4, 579437: 1, 186222: 1, 579441: 2, 448373: 7, 448377: 2, 55170: 32, 317316: 2, 55184: 1, 448407: 7, 579479: 2, 448415: 4, 448418: 7, 579501: 5, 579505: 2, 579516: 2, 317383: 8, 579533: 3, 186319: 1, 579536: 1, 186320: 3, 579539: 4, 579547: 2, 317407: 1, 448509: 3, 317438: 2, 448511: 15, 579592: 19, 55313: 1, 579602: 8, 579623: 5, 579624: 3, 448556: 2, 579631: 2, 579633: 6, 448564: 1, 579640: 11, 317502: 2, 186432: 23, 579660: 6, 579682: 5, 317540: 5, 579697: 3, 55416: 12, 579715: 3, 579719: 3, 317579: 104, 55456: 2, 579755: 4, 579791: 2, 579792: 43, 579793: 3, 579800: 1, 448755: 6, 579836: 2, 579843: 7, 55560: 3, 579852: 1, 317708: 4, 579855: 12, 579856: 7, 317716: 1, 579862: 18, 579880: 1, 448819: 3, 579892: 1, 317753: 37, 448852: 2, 579930: 1, 579941: 4, 448878: 1, 579952: 3, 579954: 4, 579957: 1, 579961: 3, 579963: 1, 55688: 5, 579982: 5, 579984: 1, 186774: 1, 579997: 3, 580001: 8, 448932: 2, 580019: 4, 448952: 1, 580026: 2, 448966: 1, 580053: 1, 580061: 1, 580062: 41, 580067: 7, 580071: 3, 580075: 2, 317960: 2, 580121: 5, 580123: 1, 449052: 12, 580139: 4, 449074: 1, 580149: 1, 449090: 5, 449091: 2, 580165: 10, 580167: 4, 449098: 6, 580171: 8, 449100: 2, 580199: 2, 580204: 4, 449143: 3, 580216: 3, 580220: 13, 580261: 4, 580264: 6, 449192: 7, 580269: 4, 580276: 2, 580281: 2, 580286: 5, 56003: 155, 580295: 2, 449233: 1, 449239: 3, 580312: 12, 318172: 6, 580325: 5, 449286: 1, 580368: 4, 580375: 1, 580376: 8, 580385: 2, 580402: 4, 318274: 1, 56145: 6, 449364: 2, 449374: 1, 580459: 3, 580463: 1, 580471: 1, 580490: 4, 187275: 28, 580499: 2, 580514: 13, 580522: 2, 449456: 2, 580540: 1, 580564: 1, 580574: 3, 580583: 2, 449513: 2, 580600: 6, 318459: 5, 318471: 1, 449547: 1, 449548: 2, 580623: 1, 56343: 1, 580633: 6, 580634: 3, 449576: 6, 318504: 1, 580655: 2, 580671: 1, 449599: 1, 318529: 2, 449600: 15, 580677: 1, 449605: 4, 449614: 1, 580713: 5, 318579: 39, 318595: 5, 318620: 3, 580769: 6, 318627: 4, 318629: 2, 449709: 3, 449717: 3, 580790: 4, 580792: 2, 449724: 3, 580797: 2, 449728: 2, 449751: 7, 580830: 2, 449786: 4, 318714: 2, 580862: 1, 187647: 2, 449793: 2, 449796: 1, 449797: 1, 580879: 1, 580881: 4, 318737: 1, 449813: 3, 580886: 2, 580889: 1, 580893: 1, 187679: 1, 56609: 1, 318779: 19, 449853: 4, 449862: 1, 187739: 1, 580965: 5, 318826: 6, 56687: 2, 449904: 1, 449918: 56, 581005: 2, 581007: 5, 318874: 1, 581020: 7, 187817: 1, 581035: 2, 318895: 2, 449969: 1, 56755: 4, 318904: 2, 581063: 5, 449996: 6, 449999: 1, 450002: 59, 581076: 3, 450011: 1, 318946: 1, 581103: 1, 187919: 163, 450063: 3, 450075: 1, 581161: 5, 581170: 2, 581181: 4, 581185: 11, 319046: 7, 187975: 1, 450120: 2, 581197: 1, 581207: 1, 581209: 5, 581210: 2, 56922: 56, 581219: 6, 581224: 1, 450152: 58, 581230: 7, 450161: 1, 319100: 23, 188033: 1, 581257: 10, 581269: 5, 188056: 3, 450214: 8, 581291: 7, 581299: 2, 450261: 7, 581335: 1, 188122: 4, 188139: 34, 581372: 2, 450300: 5, 450307: 1, 450308: 2, 581384: 5, 188172: 3, 581395: 3, 581401: 2, 450351: 10, 319280: 5, 450355: 2, 319288: 155, 319345: 50, 188273: 37, 188275: 155, 581505: 1, 581507: 3, 581508: 2, 450446: 6, 188303: 1, 188308: 2, 581535: 5, 581548: 4, 450485: 4, 581566: 1, 450495: 2, 581575: 2, 319438: 6, 581607: 3, 581609: 2, 581611: 2, 188396: 1, 450544: 3, 450558: 1, 581636: 5, 581640: 7, 319498: 4, 450573: 3, 319502: 3, 450575: 10, 581650: 1, 581652: 1, 581656: 1, 581658: 2, 450593: 1, 581670: 2, 319530: 2, 319534: 2, 581684: 1, 581692: 3, 188479: 2, 581722: 1, 319588: 3, 581739: 2, 581746: 6, 319604: 2, 581749: 2, 581751: 3, 450693: 101, 188552: 4, 581769: 16, 450709: 1, 450723: 10, 581798: 1, 188582: 2, 581800: 2, 57513: 2, 581799: 16, 581811: 15, 188605: 2, 581821: 3, 319692: 2, 450768: 3, 581845: 5, 581847: 7, 450777: 1, 581852: 4, 450783: 1, 581862: 1, 581864: 2, 581869: 2, 450815: 202, 450818: 8, 319746: 2, 581893: 1, 581894: 2, 581902: 3, 581906: 8, 188691: 4, 581914: 2, 450843: 2, 450864: 2, 581938: 2, 319799: 2, 319800: 102, 319807: 10, 450888: 3, 188762: 1, 581980: 15, 319838: 2, 57708: 1, 581998: 2, 450941: 1, 450943: 43, 450946: 7, 582019: 2, 57735: 7, 582025: 2, 582026: 3, 319882: 163, 582058: 4, 582060: 50, 582064: 2, 582067: 1, 451000: 1, 188856: 6, 451004: 2, 582085: 1, 582089: 1, 582099: 2, 582100: 17, 451030: 18, 451039: 2, 582114: 2, 582127: 5, 451056: 1, 582136: 1, 451073: 3, 451075: 2, 582153: 3, 582160: 6, 582163: 1, 582172: 4, 582189: 5, 451120: 13, 582193: 3, 451123: 5, 451137: 1, 582209: 2, 188997: 4, 582214: 5, 582219: 5, 582225: 5, 582241: 1, 451177: 1, 451187: 1, 582261: 11, 582263: 4, 582269: 4, 189065: 1, 582284: 1, 451220: 5, 189084: 5, 582302: 6, 189087: 1, 582318: 2, 320179: 6, 582336: 19, 582339: 4, 189131: 5, 451279: 101, 320225: 8, 189169: 3, 582387: 4, 582388: 2, 582396: 2, 58110: 158, 582399: 10, 451327: 9, 582400: 27, 582409: 2, 58122: 2, 582411: 2, 451353: 24, 320290: 2, 451367: 2, 582444: 9, 582445: 2, 582446: 8, 582447: 9, 582454: 3, 451383: 37, 582465: 1, 320322: 7, 582467: 2, 451399: 2, 451403: 1, 451404: 50, 451407: 2, 582489: 4, 582492: 1, 582499: 3, 320356: 37, 582514: 3, 320373: 2, 582518: 5, 320376: 1, 320378: 2, 320383: 44, 451462: 1, 320391: 5, 451466: 1, 189331: 50, 189333: 2, 582553: 3, 451484: 8, 582563: 2, 582564: 4, 582568: 3, 582574: 3, 320439: 1, 582591: 4, 582592: 5, 451523: 6, 58312: 50, 582612: 2, 320474: 2, 189405: 5, 582630: 7, 582631: 5, 320512: 2, 320516: 1, 451598: 1, 451601: 1, 582688: 3, 582697: 2, 582702: 4, 582704: 2, 189493: 2, 582716: 3, 582728: 2, 451664: 2, 582746: 3, 582749: 3, 451691: 3, 451694: 2, 582771: 6, 189558: 7, 582780: 5, 582783: 7, 451721: 60, 451723: 3, 189606: 6, 582830: 6, 582833: 4, 451767: 4, 582847: 3, 582854: 1, 451783: 4, 320713: 9, 58575: 6, 320720: 6, 189647: 101, 58578: 3, 582868: 4, 582887: 1, 582905: 8, 582912: 44, 451872: 3, 582945: 4, 451877: 2, 582958: 2, 582959: 2, 451918: 4, 451920: 7, 582996: 1, 583001: 4, 583003: 2, 583008: 1, 320866: 1, 583020: 5, 583030: 2, 583031: 2, 58742: 4, 320893: 1, 583045: 3, 451975: 3, 320906: 2, 583051: 4, 320912: 3, 583061: 6, 320930: 2, 452013: 1, 583086: 1, 320942: 1, 583090: 1, 320947: 1, 320951: 14, 583100: 1, 583103: 4, 320961: 10, 189891: 26, 583121: 2, 189911: 3, 583130: 2, 583132: 2, 583154: 9, 452083: 1, 583156: 1, 321015: 2, 321019: 55, 452095: 2, 452100: 25, 452103: 4, 189960: 4, 583182: 7, 583188: 5, 583195: 3, 452127: 1, 583204: 5, 583208: 2, 321065: 59, 189996: 155, 321077: 1, 452151: 3, 452155: 2, 583231: 1, 190015: 3, 58946: 2, 321091: 2, 583236: 5, 452176: 1, 452204: 3, 583277: 1, 583297: 2, 583305: 1, 583307: 2, 321168: 4, 583324: 1, 59039: 1, 452255: 3, 321189: 11, 321197: 3, 190126: 50, 321203: 5, 583351: 2, 583368: 2, 583374: 1, 583399: 1, 452331: 3, 452334: 2, 59150: 2, 583445: 42, 583452: 2, 583455: 1, 583471: 4, 452403: 39, 583479: 2, 321338: 6, 583485: 29, 583487: 3, 583495: 9, 190296: 1, 583527: 6, 583528: 2, 321385: 11, 452464: 2, 583539: 3, 321402: 5, 583548: 3, 583551: 2, 583563: 5, 583566: 5, 583567: 12, 583583: 2, 321444: 5, 452521: 2, 583605: 1, 452544: 14, 452547: 1, 321480: 1, 190421: 6, 583649: 9, 452577: 1, 583652: 3, 583654: 1, 583655: 2, 583669: 2, 452612: 7, 59397: 2, 583686: 2, 452620: 1, 583695: 5, 452624: 1, 583703: 1, 583714: 2, 321579: 3, 583731: 1, 583734: 1, 190532: 1, 583752: 1, 583753: 1, 583757: 14, 452705: 1, 452706: 3, 321639: 3, 583786: 6, 583787: 2, 321649: 2, 583817: 3, 583823: 2, 583828: 17, 583833: 1, 583859: 2, 452802: 56, 452815: 2, 583894: 1, 583895: 2, 583900: 1, 321757: 1, 583902: 4, 583903: 2, 583919: 1, 452848: 2, 452849: 4, 583933: 2, 583940: 1, 583941: 1, 452870: 3, 452876: 4, 583965: 5, 583967: 3, 452895: 2, 583969: 5, 452899: 20, 583972: 3, 583973: 3, 452906: 4, 583984: 5, 583986: 9, 583987: 5, 583990: 4, 190775: 3, 321857: 1, 321858: 3, 584005: 2, 584013: 4, 452947: 2, 321877: 1, 321878: 23, 584025: 2, 59749: 3, 584038: 6, 321906: 1, 584064: 2, 321927: 3, 584073: 2, 321954: 1, 190887: 7, 190890: 1, 190895: 101, 584120: 1, 453050: 10, 584142: 1, 190970: 4, 453124: 5, 322060: 2, 453143: 10, 322077: 6, 191049: 155, 453195: 2, 453197: 2, 453199: 1, 453203: 2, 453221: 1, 453238: 3, 191095: 28, 584339: 3, 322197: 1, 60066: 14, 60072: 101, 584364: 5, 584367: 1, 191166: 24, 453311: 4, 584385: 5, 584389: 2, 584396: 1, 322264: 5, 453351: 1, 584438: 15, 453367: 1, 584463: 2, 584471: 4, 191255: 1, 453407: 8, 584479: 6, 584522: 2, 453452: 1, 584543: 2, 584555: 2, 322421: 3, 584565: 2, 584586: 2, 584591: 4, 191387: 7, 191392: 2, 453539: 1, 584618: 4, 584624: 2, 584625: 2, 584629: 3, 584654: 3, 322551: 1, 584703: 102, 584704: 5, 584705: 4, 453634: 1, 584707: 3, 584709: 3, 453650: 2, 453658: 3, 584752: 2, 322614: 2, 584783: 2, 584793: 8, 322656: 4, 584801: 2, 322657: 5, 322661: 19, 584810: 2, 584834: 2, 584837: 2, 584840: 3, 191657: 1, 322740: 10, 584886: 5, 584891: 2, 584892: 2, 584896: 8, 191688: 1, 584919: 1, 584930: 4, 322794: 1, 584940: 2, 191730: 4, 453888: 3, 322822: 2, 191751: 3, 584968: 3, 584973: 29, 453904: 2, 453905: 25, 584980: 12, 584983: 1, 584990: 13, 585010: 4, 585017: 6, 60736: 42, 453954: 3, 453956: 1, 191818: 1, 453978: 2, 585056: 7, 585058: 8, 585059: 3, 585073: 1, 585082: 2, 454012: 5, 454016: 2, 322954: 1, 585101: 1, 454039: 3, 585120: 2, 585123: 3, 454056: 4, 585144: 4, 585145: 1, 191930: 5, 585153: 3, 585158: 1, 585161: 1, 585173: 1, 454108: 18, 454109: 2, 585186: 1, 585187: 3, 454143: 17, 585220: 6, 585230: 7, 454162: 2, 585253: 3, 192059: 2, 585282: 3, 454211: 27, 454213: 5, 61000: 2, 585309: 6, 585325: 2, 192112: 1, 454261: 2, 585346: 3, 192132: 155, 454306: 1, 323238: 39, 454316: 4, 454321: 1, 323256: 2, 585404: 7, 585426: 13, 192213: 3, 585430: 2, 323287: 28, 585433: 3, 585440: 3, 585442: 7, 454377: 1, 323318: 3, 585465: 11, 585474: 5, 323347: 2, 454420: 5, 454426: 1, 454429: 6, 585502: 2, 585504: 1, 585507: 5, 585508: 1, 61224: 4, 585530: 22, 585559: 1, 454493: 3, 454526: 2, 585599: 3, 454531: 4, 454533: 3, 585610: 2, 585616: 3, 454545: 5, 585642: 20, 192433: 56, 585654: 4, 454585: 42, 585661: 2, 454594: 1, 454595: 3, 585690: 3, 585691: 2, 454628: 3, 323562: 1, 585708: 1, 585715: 4, 192501: 3, 585736: 4, 585745: 6, 323602: 3, 585750: 4, 61468: 158, 585764: 5, 323638: 2, 585783: 2, 323639: 1, 323641: 2, 61497: 7, 585787: 1, 323646: 5, 454740: 3, 585812: 5, 585816: 2, 323673: 4, 585832: 3, 454762: 3, 454768: 1, 585875: 1, 585884: 2, 192669: 1, 585887: 5, 585894: 5, 61611: 4, 454834: 7, 585924: 3, 323796: 1, 585943: 5, 585954: 2, 61682: 2, 585978: 30, 585985: 2, 454940: 1, 454944: 8, 323873: 1, 586021: 1, 454951: 22, 586024: 6, 454952: 6, 61738: 158, 586026: 2, 454958: 4, 586036: 2, 586054: 3, 323912: 15, 323917: 3, 455006: 6, 586079: 2, 323944: 2, 586093: 44, 586095: 28, 586102: 1, 455037: 1, 455040: 7, 323970: 8, 586126: 2, 455056: 2, 61846: 3, 586134: 2, 192920: 4, 192923: 10, 324001: 5, 324005: 1, 586155: 3, 586158: 2, 324023: 3, 586176: 2, 455106: 5, 455109: 2, 455115: 4, 586197: 3, 586221: 3, 586222: 6, 586225: 6, 324083: 5, 586228: 1, 586241: 4, 586265: 4, 455198: 9, 586271: 4, 586273: 3, 193063: 1, 324155: 3, 586314: 3, 193102: 1, 324193: 1, 455269: 6, 586343: 11, 324202: 3, 586349: 6, 193142: 31, 324220: 1, 586376: 4, 586377: 8, 586388: 4, 586389: 2, 455316: 1, 455334: 4, 324272: 1, 324276: 7, 324287: 1, 586445: 2, 586446: 1, 586448: 7, 586449: 2, 455382: 2, 324311: 1, 455383: 6, 324319: 4, 586477: 2, 324334: 37, 455407: 13, 193268: 2, 455418: 5, 324354: 32, 586501: 1, 586505: 4, 324375: 1, 62232: 103, 455450: 5, 455454: 1, 324398: 3, 586542: 1, 586543: 4, 324406: 3, 586550: 4, 193348: 11, 586573: 2, 586590: 4, 586613: 1, 455543: 2, 455547: 2, 324475: 39, 586619: 3, 324476: 14, 586639: 6, 586644: 1, 455576: 4, 455579: 1, 324521: 2, 586667: 3, 586668: 3, 586671: 3, 62388: 9, 193460: 4, 586682: 7, 586684: 4, 62408: 1, 586713: 6, 586714: 2, 586717: 1, 586718: 4, 586719: 3, 62447: 158, 586739: 1, 455672: 5, 324600: 2, 193528: 1, 455677: 1, 586756: 4, 586769: 7, 62491: 2, 586780: 5, 62499: 5, 193578: 1, 455726: 6, 586800: 8, 586801: 11, 193588: 1, 586804: 4, 586815: 1, 586816: 2, 586826: 5, 62552: 5, 586843: 4, 586846: 3, 586849: 9, 586855: 4, 324714: 59, 586859: 4, 455788: 1, 455798: 5, 586881: 5, 586890: 14, 324750: 5, 324759: 2, 586903: 2, 586906: 1, 324762: 28, 193692: 1, 193693: 2, 586918: 1, 324789: 29, 455874: 4, 455876: 7, 455879: 2, 586963: 4, 455894: 3, 324828: 1, 324831: 2, 586977: 2, 324841: 3, 455913: 2, 587003: 1, 324873: 8, 587044: 3, 587045: 4, 587048: 7, 455981: 1, 587056: 2, 587070: 1, 324929: 3, 456002: 5, 456008: 10, 456018: 12, 456021: 1, 324958: 4, 456041: 3, 587114: 2, 456047: 59, 587129: 2, 587141: 1, 587142: 4, 587146: 5, 587154: 3, 325018: 2, 456098: 3, 193964: 1, 587182: 3, 587184: 1, 587188: 2, 587199: 5, 456133: 2, 325065: 2, 456137: 1, 587211: 4, 456139: 1, 456146: 3, 194015: 1, 456160: 1, 587248: 1, 587249: 2, 456183: 2, 587260: 1, 587279: 9, 456218: 3, 456221: 59, 194084: 2, 325156: 2, 456243: 11, 587316: 1, 456246: 5, 325175: 2, 456251: 3, 325182: 5, 587328: 9, 587331: 7, 456280: 2, 456291: 1, 194147: 28, 456297: 3, 194161: 24, 456306: 1, 587385: 6, 456317: 26, 587392: 2, 325276: 8, 587422: 4, 587423: 6, 587424: 1, 587425: 2, 587428: 1, 587429: 3, 325289: 158, 587433: 3, 587435: 2, 587442: 2, 456387: 2, 194244: 1, 456402: 6, 587478: 1, 456413: 3, 325342: 4, 587490: 12, 587496: 2, 587499: 14, 63212: 158, 587514: 2, 587515: 6, 587518: 13, 456451: 3, 456464: 5, 456465: 2, 194370: 2, 63304: 101, 587609: 8, 194409: 13, 325517: 1, 194446: 3, 456606: 9, 587680: 1, 587681: 3, 587685: 3, 587696: 3, 587727: 6, 325590: 2, 587734: 1, 194531: 3, 325608: 1, 456702: 8, 456709: 15, 587784: 2, 63497: 1, 587787: 4, 587792: 4, 587795: 10, 456728: 3, 325662: 5, 456742: 2, 587816: 2, 587820: 9, 456749: 2, 587824: 7, 325682: 1, 456755: 1, 587829: 3, 63545: 3, 456774: 2, 194633: 6, 587858: 2, 456786: 3, 456789: 4, 194676: 6, 456836: 1, 456885: 1, 456893: 2, 587991: 28, 587994: 3, 587995: 1, 587998: 1, 456926: 1, 456927: 7, 588001: 2, 588002: 6, 456935: 2, 588008: 1, 194799: 1, 456946: 1, 194805: 50, 588026: 1, 588032: 3, 63771: 3, 588064: 5, 588065: 1, 588078: 2, 588085: 4, 588088: 2, 457020: 4, 588107: 2, 325966: 3, 588115: 21, 588117: 1, 588131: 1, 588134: 8, 194920: 50, 588145: 28, 457083: 4, 588156: 5, 457088: 3, 588168: 2, 588169: 2, 588196: 2, 457138: 2, 326070: 2, 588215: 2, 195004: 1, 588227: 3, 588254: 7, 63977: 12, 326136: 7, 326137: 1, 588293: 4, 588295: 3, 588300: 2, 588309: 3, 457237: 3, 588313: 6, 588319: 5, 588323: 3, 457264: 4, 588340: 5, 457273: 8, 588367: 1, 326231: 2, 588382: 1, 195171: 1, 588398: 2, 457352: 14, 457353: 2, 457365: 7, 588462: 2, 457394: 1, 588466: 4, 457423: 42, 588535: 11, 588536: 1, 326393: 1, 588537: 1, 588539: 1, 326392: 2, 588538: 2, 588561: 6, 588571: 2, 457500: 42, 457502: 1, 588584: 2, 588589: 4, 588590: 3, 588591: 5, 588598: 1, 326462: 1, 588612: 1, 457557: 8, 588631: 5, 588633: 17, 588640: 32, 195424: 2, 457574: 3, 195439: 5, 588657: 7, 457588: 1, 588668: 6, 457602: 101, 588683: 6, 588688: 1, 588692: 12, 588694: 3, 588695: 1, 457625: 1, 588711: 12, 326571: 1, 457643: 10, 588723: 2, 588725: 1, 588730: 3, 588751: 5, 588754: 5, 457692: 3, 588775: 1, 326632: 2, 64490: 28, 588783: 1, 588785: 1, 457724: 4, 457738: 6, 326669: 3, 457756: 1, 588829: 1, 326702: 1, 588853: 7, 588859: 2, 326744: 4, 457847: 6, 326776: 2, 326792: 37, 588959: 1, 326817: 1, 326822: 37, 326830: 2, 588976: 7, 588985: 1, 195772: 2, 588992: 7, 588999: 2, 457929: 3, 589004: 7, 326863: 4, 589014: 1, 589016: 1, 589022: 4, 326891: 3, 457971: 2, 589047: 8, 589048: 4, 457980: 2, 457986: 3, 589079: 3, 589082: 2, 589083: 3, 458010: 2, 458017: 3, 458030: 3, 589110: 4, 195920: 1, 326994: 16, 327001: 60, 589145: 1, 195939: 26, 589163: 3, 195956: 155, 589174: 20, 327041: 1, 589194: 2, 458125: 5, 458126: 3, 458128: 3, 327056: 3, 589203: 3, 589209: 15, 589215: 6, 589217: 2, 589226: 2, 458161: 3, 458162: 4, 589258: 8, 589263: 3, 327121: 37, 327122: 3, 327125: 5, 327133: 1, 589286: 1, 589288: 3, 589289: 7, 458219: 2, 327147: 4, 196077: 17, 196082: 28, 589298: 2, 589306: 2, 589308: 2, 589318: 2, 589319: 4, 589322: 17, 589323: 7, 589326: 18, 327184: 4, 458261: 101, 589361: 5, 589366: 1, 589376: 3, 196166: 4, 589393: 28, 589398: 3, 196183: 4, 196199: 32, 589416: 2, 458346: 5, 458347: 1, 458350: 7, 589435: 2, 589449: 30, 589453: 4, 458392: 15, 589481: 1, 327341: 9, 327356: 3, 589501: 1, 458447: 2, 458451: 2, 196312: 3, 589528: 1, 65242: 56, 589541: 8, 458478: 1, 589551: 2, 589553: 2, 65273: 1, 589576: 8, 196367: 2, 589585: 2, 589594: 1, 327472: 1, 589623: 8, 327481: 1, 589640: 3, 458571: 1, 589646: 6, 589650: 5, 458579: 7, 589652: 6, 458623: 7, 65408: 4, 458629: 1, 458632: 22, 589704: 4, 589724: 1, 589743: 2, 589748: 1, 458678: 7, 327611: 1, 327615: 2, 458703: 7, 327631: 2, 589794: 1, 589798: 3, 589799: 5, 589801: 6, 589806: 4, 589820: 2, 589837: 1, 327697: 8, 65554: 6, 458785: 4, 589861: 8, 589862: 31, 589865: 1, 327728: 9, 196684: 2, 196694: 1, 589910: 2, 196697: 5, 589915: 3, 589941: 1, 589947: 6, 589974: 3, 589977: 4, 458907: 7, 589983: 6, 196785: 1, 327857: 1, 327861: 1, 590010: 3, 590011: 6, 590021: 1, 590023: 1, 196819: 2, 590065: 9, 196849: 4, 590068: 18, 590069: 3, 590076: 2, 590084: 1, 196874: 4, 590113: 4, 590127: 2, 196918: 1, 590142: 11, 590156: 1, 459086: 4, 590164: 4, 459095: 6, 590179: 8, 590186: 6, 459114: 10, 590189: 4, 590192: 7, 590221: 3, 590224: 6, 197019: 1, 590243: 3, 459171: 31, 590247: 59, 590256: 12, 590259: 3, 590261: 10, 590264: 3, 590266: 2, 590271: 3, 197058: 26, 459207: 2, 590291: 4, 197078: 2, 590297: 5, 590304: 2, 197096: 1, 459243: 2, 590318: 3, 459250: 1, 590324: 10, 590335: 3, 197142: 1, 590367: 1, 328224: 4, 590371: 4, 590377: 3, 590385: 39, 590411: 3, 590412: 1, 590414: 4, 590420: 5, 459371: 1, 197235: 4, 590457: 1, 590459: 3, 590462: 3, 590465: 6, 328322: 2, 590475: 1, 590504: 7, 197322: 1, 459471: 2, 197328: 1, 590543: 1, 590546: 10, 459481: 11, 328414: 7, 197358: 5, 590586: 2, 590601: 1, 590623: 2, 590624: 4, 590628: 4, 590629: 10, 590644: 1, 459588: 2, 197450: 1, 590666: 6, 459601: 2, 590673: 6, 590676: 3, 590688: 1, 459619: 5, 459622: 1, 590695: 2, 590717: 3, 328588: 6, 590735: 5, 590754: 3, 590760: 3, 328618: 7, 590767: 3, 590790: 3, 197577: 2, 328650: 1, 328651: 6, 590806: 1, 459739: 2, 66524: 3, 590820: 14, 590822: 6, 328680: 4, 590850: 59, 590862: 2, 590871: 2, 590882: 1, 197671: 2, 590888: 2, 590896: 3, 590909: 4, 590912: 9, 590921: 5, 590937: 10, 459873: 2, 66667: 1, 590958: 4, 66676: 55, 590980: 5, 328841: 4, 591003: 4, 328860: 1, 591007: 3, 591017: 2, 591021: 3, 328886: 14, 197815: 2, 591034: 7, 591037: 2, 591040: 9, 591043: 1, 197835: 1, 328909: 1, 591057: 1, 328916: 1, 591077: 5, 591081: 3, 197868: 1, 591087: 3, 591092: 2, 328951: 3, 591101: 2, 591119: 3, 591120: 2, 591127: 1, 197912: 2, 329005: 5, 197934: 2, 591156: 1, 329012: 59, 197947: 3, 591165: 1, 591167: 4, 591175: 4, 591180: 1, 329039: 5, 329040: 2, 591194: 12, 460126: 1, 591204: 4, 66932: 1, 329092: 34, 591236: 4, 329102: 3, 329104: 56, 198035: 1, 329109: 1, 329118: 158, 460192: 14, 591264: 3, 591275: 5, 460208: 4, 591282: 19, 591288: 3, 591295: 4, 67012: 41, 460230: 2, 591312: 2, 460241: 2, 591317: 1, 67039: 158, 329194: 1, 198122: 1, 591341: 1, 591344: 2, 67064: 158, 460281: 1, 591381: 1, 591382: 35, 329246: 1, 591421: 2, 67136: 2, 591427: 32, 460391: 5, 591467: 3, 460402: 1, 591487: 3, 591488: 2, 329349: 1, 591509: 4, 329368: 1, 591527: 3, 591535: 1, 591550: 3, 67268: 158, 591559: 2, 591562: 4, 460493: 3, 460501: 3, 591597: 3, 460529: 42, 591607: 3, 591609: 1, 460547: 4, 591647: 3, 198437: 6, 591655: 1, 591656: 4, 460584: 1, 591658: 6, 591662: 9, 591664: 2, 591665: 1, 460598: 2, 591671: 2, 198456: 1, 591673: 3, 591674: 1, 591686: 6, 198474: 1, 329548: 1, 591698: 3, 329555: 2, 460644: 14, 591722: 3, 591728: 25, 591729: 2, 591730: 19, 591734: 4, 460696: 2, 591776: 3, 591777: 2, 460707: 2, 591801: 1, 198586: 4, 460733: 7, 198594: 17, 460741: 16, 460748: 1, 591824: 12, 198609: 1, 591829: 3, 591831: 1, 591832: 1, 329691: 2, 591837: 2, 460767: 10, 591840: 2, 591842: 10, 198627: 10, 198636: 1, 460793: 4, 198659: 4, 591877: 1, 460805: 2, 591882: 8, 591883: 2, 329743: 8, 460819: 3, 591892: 3, 460839: 6, 460840: 3, 329784: 5, 591932: 7, 591933: 4, 591935: 5, 329802: 1, 591952: 7, 591955: 13, 591956: 1, 329818: 13, 329819: 50, 460894: 4, 591967: 1, 460902: 2, 591980: 5, 460918: 163, 591993: 3, 460934: 1, 592009: 2, 460945: 1, 592021: 6, 592023: 5, 592032: 1, 329889: 1, 592038: 41, 592041: 3, 460978: 59, 592054: 2, 592059: 6, 592064: 3, 592069: 2, 592075: 3, 592077: 1, 461024: 58, 67811: 5, 592112: 1, 198897: 1, 592124: 1, 592126: 10, 329986: 4, 592136: 2, 592141: 4, 592145: 1, 330002: 3, 198940: 6, 461086: 6, 461090: 5, 592173: 2, 461108: 2, 330040: 6, 592205: 5, 67931: 1, 592235: 1, 592246: 5, 592249: 11, 592255: 4, 461189: 3, 592262: 7, 592266: 5, 592311: 1, 199104: 155, 592321: 2, 592320: 1, 592323: 1, 330189: 1, 592345: 1, 461273: 3, 461275: 1, 461277: 1, 461284: 3, 461285: 2, 461287: 1, 461301: 1, 592377: 1, 461316: 9, 592404: 2, 592418: 8, 461348: 2, 592436: 2, 592437: 6, 592439: 9, 461367: 4, 592445: 2, 592446: 4, 592448: 1, 461390: 37, 199247: 28, 592466: 3, 592468: 2, 592470: 2, 461403: 3, 461404: 2, 199261: 2, 330344: 3, 592490: 4, 461420: 7, 461424: 1, 461434: 8, 461442: 2, 330375: 8, 199307: 3, 592528: 5, 592533: 4, 199317: 2, 461469: 12, 199326: 1, 592545: 1, 461480: 1, 592563: 1, 330422: 5, 592567: 15, 592568: 6, 592569: 5, 461503: 1, 592579: 3, 592585: 12, 461522: 1, 330453: 4, 592615: 7, 592625: 5, 461564: 3, 592637: 1, 461571: 2, 199442: 33, 592673: 2, 592691: 3, 461619: 3, 461625: 2, 592711: 4, 592715: 5, 461651: 1, 461655: 2, 592729: 5, 330589: 3, 592752: 2, 461681: 1, 592754: 4, 461685: 1, 592759: 8, 199553: 1, 592770: 3, 68483: 5, 330631: 2, 592777: 4, 461714: 7, 461723: 34, 592805: 1, 592814: 1, 461752: 3, 461753: 1, 330685: 2, 461762: 2, 330695: 2, 592853: 1, 461782: 3, 592854: 2, 461785: 2, 592858: 1, 592857: 8, 461787: 3, 330733: 2, 592880: 1, 592897: 1, 592911: 6, 592924: 7, 592945: 6, 592946: 3, 592961: 2, 592967: 4, 330824: 2, 330826: 3, 592974: 9, 592977: 2, 68697: 1, 592990: 1, 592993: 3, 199780: 1, 593014: 4, 461944: 1, 593019: 2, 593031: 2, 68743: 1, 68750: 4, 199822: 3, 593044: 1, 593047: 1, 593050: 3, 593053: 2, 593057: 3, 593062: 1, 199849: 3, 593070: 3, 330927: 1, 330958: 6, 330962: 1, 593107: 2, 330969: 7, 593127: 12, 462064: 1, 593140: 6, 462082: 22, 199941: 5, 593174: 2, 593177: 4, 593179: 3, 593183: 3, 462112: 2, 462111: 2, 593191: 2, 331055: 5, 593210: 3, 462143: 4, 462151: 8, 593248: 1, 593263: 4, 593274: 3, 462202: 6, 593275: 9, 200066: 4, 200069: 6, 462214: 4, 593296: 2, 593297: 7, 69019: 2, 593315: 1, 593326: 4, 69042: 1, 462272: 1, 331210: 26, 331221: 1, 593377: 3, 69121: 1, 593417: 5, 593418: 1, 462350: 11, 462356: 1, 331296: 1, 593450: 8, 593471: 22, 200268: 2, 593504: 28, 593511: 1, 462439: 1, 462441: 7, 593515: 11, 593516: 2, 200304: 1, 593520: 2, 593530: 14, 200319: 2, 462466: 2, 200323: 3, 200324: 4, 593541: 1, 69254: 3, 331407: 5, 593559: 3, 69275: 2, 462511: 1, 200379: 1, 593595: 2, 593599: 2, 593617: 2, 593625: 5, 593626: 4, 593628: 2, 593636: 1, 593642: 3, 593665: 2, 593669: 2, 331543: 31, 593689: 2, 331548: 173, 593695: 1, 331555: 4, 69425: 37, 593721: 2, 593722: 11, 462654: 4, 331582: 155, 69438: 59, 200510: 2, 593743: 1, 593744: 2, 331602: 2, 462680: 2, 593757: 1, 593761: 1, 593763: 3, 593786: 1, 593798: 2, 593801: 2, 593804: 3, 331676: 2, 593825: 2, 200610: 7, 462762: 3, 462769: 2, 331701: 5, 331702: 5, 331719: 5, 462792: 2, 593868: 1, 593875: 8, 593876: 8, 200666: 2, 462812: 1, 593889: 2, 331753: 1, 593899: 2, 593905: 2, 593910: 3, 593926: 2, 593929: 1, 462868: 7, 593957: 4, 593971: 2, 331832: 13, 331834: 3, 331849: 1, 200783: 2, 594000: 1, 200810: 1, 462958: 1, 594031: 3, 462961: 2, 594040: 2, 594048: 7, 594049: 8, 594050: 2, 594059: 1, 594060: 5, 462997: 1, 463003: 5, 463005: 6, 594079: 2, 594086: 2, 331942: 2, 200872: 2, 69804: 1, 594094: 1, 594104: 1, 594105: 4, 594108: 2, 463050: 4, 463055: 16, 594132: 8, 594133: 4, 463062: 1, 331993: 11, 200925: 23, 332008: 2, 332026: 3, 463119: 3, 594192: 6, 594195: 2, 332056: 56, 201007: 3, 594238: 1, 463168: 3, 463171: 1, 594248: 4, 332105: 34, 201046: 155, 332131: 1, 332132: 1, 201059: 5, 594280: 8, 594282: 6, 332139: 7, 594292: 1, 463220: 1, 594297: 3, 463227: 2, 463232: 2, 594309: 3, 594313: 2, 594322: 5, 594326: 10, 332188: 196, 463277: 8, 594355: 1, 594364: 1, 332221: 3, 332222: 10, 332226: 6, 594380: 1, 594388: 4, 594389: 1, 594394: 2, 594395: 1, 594396: 1, 70110: 4, 463327: 1, 594405: 4, 594411: 3, 594417: 4, 463353: 1, 594432: 24, 594433: 1, 463366: 2, 594438: 2, 594440: 1, 463372: 4, 594478: 1, 594481: 1, 463411: 6, 463422: 2, 594497: 3, 332362: 2, 463442: 2, 70233: 1, 332401: 2, 594548: 1, 594556: 2, 594557: 3, 594568: 4, 201361: 1, 463518: 4, 463525: 8, 594598: 8, 594600: 7, 594610: 2, 594614: 7, 594628: 5, 594648: 2, 463581: 2, 332513: 2, 594665: 1, 594674: 2, 594682: 4, 594688: 4, 463643: 3, 594719: 28, 463649: 10, 463650: 2, 332579: 1, 594725: 6, 594727: 4, 463660: 2, 594739: 3, 463676: 4, 594763: 8, 594773: 2, 463711: 1, 594787: 1, 463716: 5, 463718: 3, 594791: 3, 463722: 1, 201580: 163, 594811: 4, 332688: 2, 594837: 3, 463778: 59, 201645: 2, 463790: 4, 594873: 1, 463814: 4, 594890: 3, 594891: 3, 594901: 7, 332773: 32, 463852: 1, 332796: 1, 463877: 2, 70662: 2, 332821: 2, 201750: 1, 332826: 1, 594973: 3, 594976: 8, 594980: 5, 594985: 2, 594987: 1, 463921: 15, 594995: 2, 594998: 2, 332866: 2, 595013: 1, 463953: 2, 463966: 1, 595043: 2, 595045: 1, 595049: 3, 595054: 1, 595073: 1, 332936: 1, 595087: 5, 595088: 3, 595091: 1, 464024: 1, 595100: 1, 595103: 15, 332968: 3, 464045: 3, 464046: 1, 464047: 4, 595121: 2, 332979: 2, 201915: 4, 595134: 26, 595135: 1, 332996: 10, 464073: 1, 464076: 1, 464085: 2, 595163: 2, 201949: 4, 595180: 3, 595187: 3, 595188: 1, 595194: 6, 201996: 4, 464147: 17, 595221: 28, 464153: 1, 595227: 1, 333091: 4, 464168: 2, 333100: 1, 595247: 3, 333105: 4, 595255: 4, 333112: 4, 70976: 2, 202051: 2, 464196: 22, 595269: 1, 202054: 1, 202055: 1, 202058: 50, 464215: 4, 595308: 8, 464242: 3, 464252: 2, 464259: 5, 333195: 2, 595351: 4, 595353: 4, 595355: 4, 464285: 1, 464294: 2, 595367: 2, 595393: 10, 595395: 7, 595401: 4, 71115: 5, 202194: 1, 464340: 1, 202203: 3, 595422: 5, 595429: 3, 595435: 1, 464363: 4, 464366: 2, 71154: 3, 595444: 2, 202231: 3, 333308: 5, 595472: 1, 464407: 1, 595482: 2, 595489: 3, 464418: 3, 595493: 4, 464422: 1, 333350: 3, 202278: 1, 71217: 1, 464434: 5, 333373: 2, 595519: 4, 595527: 1, 595530: 9, 464460: 2, 595539: 2, 595546: 6, 71283: 4, 464510: 6, 202369: 3, 464522: 1, 464536: 1, 595613: 2, 595615: 8, 464547: 3, 202407: 1, 333495: 2, 464583: 31, 464598: 8, 464602: 5, 464603: 2, 71387: 32, 464605: 1, 333543: 56, 202475: 1, 595697: 1, 333570: 1, 595729: 9, 595730: 3, 595745: 2, 595746: 1, 595748: 1, 464686: 11, 595760: 3, 202544: 4, 464692: 1, 464696: 101, 202559: 2, 595795: 1, 595797: 4, 595804: 3, 71516: 1, 595812: 5, 595823: 2, 202616: 1, 202622: 8, 595852: 4, 595861: 2, 71573: 59, 464790: 4, 71576: 41, 333722: 3, 333725: 2, 595870: 2, 595885: 1, 595891: 2, 595896: 4, 333756: 1, 333762: 5, 464842: 7, 595916: 2, 595918: 3, 595924: 1, 595952: 1, 595954: 1, 595960: 1, 595971: 2, 464907: 2, 202768: 41, 595999: 4, 333859: 2, 202811: 2, 71750: 1, 202831: 1, 202832: 6, 596056: 7, 596057: 4, 333915: 7, 333916: 8, 596064: 9, 596071: 3, 596087: 2, 596100: 6, 596112: 3, 596135: 5, 202924: 6, 596146: 1, 596147: 5, 596149: 5, 334025: 1, 596173: 6, 596183: 1, 596184: 2, 596191: 2, 596202: 2, 596203: 5, 596205: 6, 465135: 2, 596211: 6, 596213: 4, 596214: 7, 465144: 6, 596217: 1, 596220: 1, 465158: 2, 334086: 5, 334090: 2, 334104: 2, 596254: 2, 596262: 2, 465203: 1, 596299: 3, 596303: 4, 596308: 2, 465239: 1, 596330: 1, 72046: 3, 596336: 2, 72049: 5, 596337: 4, 203124: 2, 334196: 6, 72053: 4, 203146: 2, 596362: 2, 596373: 6, 596374: 5, 334234: 5, 334235: 2, 334236: 3, 596382: 15, 465311: 2, 596392: 1, 334260: 1, 596406: 6, 596412: 9, 465345: 3, 596421: 2, 596427: 4, 334315: 1, 596466: 6, 596467: 3, 72182: 56, 596472: 3, 465408: 4, 596488: 2, 596491: 2, 596508: 2, 596515: 2, 596518: 1, 465449: 1, 334379: 3, 465457: 2, 334389: 24, 596539: 1, 596553: 3, 465506: 7, 596585: 1, 596597: 2, 596598: 4, 596602: 1, 596604: 5, 596616: 12, 596618: 3, 596628: 4, 465563: 3, 596638: 2, 465576: 3, 596652: 4, 203440: 4, 596668: 2, 596671: 2, 596678: 3, 203469: 8, 596691: 1, 596697: 2, 465634: 1, 203495: 3, 596719: 9, 596722: 1, 596723: 12, 334588: 4, 596733: 3, 334602: 1, 334605: 5, 72466: 1, 203542: 1, 465687: 2, 596760: 4, 596761: 1, 465686: 1, 465695: 1, 596775: 1, 203560: 1, 596776: 2, 203562: 2, 465709: 1, 465713: 1, 596794: 1, 596805: 1, 465741: 2, 596813: 2, 596816: 7, 465749: 6, 596841: 7, 465772: 2, 596855: 5, 596859: 1, 596880: 6, 203668: 26, 465821: 2, 465836: 3, 203694: 13, 596914: 1, 596918: 5, 596924: 2, 596943: 7, 334800: 1, 596946: 13, 465877: 4, 596978: 2, 334835: 5, 596981: 3, 203766: 2, 596990: 15, 597001: 7, 334866: 1, 465941: 4, 597013: 4, 465953: 2, 597033: 6, 597034: 5, 597039: 2, 597040: 2, 597045: 1, 465974: 1, 597050: 3, 597052: 2, 597053: 1, 597063: 1, 465993: 6, 597075: 8, 597078: 5, 597084: 1, 597089: 4, 203874: 2, 466037: 6, 597113: 2, 597115: 4, 334973: 1, 203917: 3, 597135: 2, 597137: 1, 597150: 6, 466086: 2, 597161: 4, 466116: 1, 597199: 13, 597203: 3, 597215: 3, 466144: 1, 335083: 55, 597232: 2, 597237: 3, 597244: 8, 466179: 7, 466180: 4, 466187: 2, 466192: 101, 335128: 2, 597274: 12, 335132: 1, 597282: 4, 597283: 4, 597284: 1, 597292: 3, 73014: 1, 335162: 39, 466237: 7, 466247: 1, 466257: 1, 466259: 3, 597339: 18, 597341: 2, 597343: 11, 597344: 4, 335204: 6, 597349: 1, 597351: 1, 466293: 2, 466294: 1, 335230: 1, 466303: 1, 335232: 8, 597375: 4, 597380: 13, 466310: 3, 335244: 37, 597391: 1, 597395: 2, 466323: 4, 204182: 34, 597408: 2, 597411: 8, 597416: 1, 597417: 2, 597445: 2, 597452: 3, 335313: 13, 597457: 2, 466390: 4, 466430: 7, 204292: 12, 597513: 2, 597514: 8, 597517: 3, 597520: 4, 597521: 5, 335401: 55, 597548: 5, 597553: 1, 597592: 1, 597598: 3, 335464: 3, 597610: 2, 597612: 2, 73344: 155, 204416: 9, 335494: 2, 335496: 4, 204435: 32, 597654: 2, 466592: 13, 597666: 3, 597667: 3, 597670: 3, 597672: 6, 335541: 4, 466616: 4, 597694: 3, 597697: 23, 597698: 8, 597699: 3, 597701: 9, 204496: 3, 597722: 1, 597735: 7, 597738: 5, 597742: 12, 204528: 3, 466680: 3, 597769: 2, 597773: 18, 597776: 1, 335635: 1, 597793: 3, 466738: 2, 466743: 7, 597818: 1, 597820: 9, 597829: 1, 335698: 13, 597869: 2, 73586: 101, 466808: 1, 597889: 2, 597907: 5, 597914: 5, 597924: 2, 597925: 4, 466853: 3, 335788: 2, 466866: 5, 466870: 2, 73668: 18, 597965: 1, 597967: 2, 597970: 3, 466929: 1, 598005: 3, 598007: 15, 204804: 4, 335877: 10, 598024: 1, 466968: 5, 598052: 5, 598054: 5, 598060: 3, 335921: 3, 335924: 1, 598080: 6, 335945: 3, 467018: 13, 598090: 5, 467022: 3, 598097: 3, 73821: 56, 598110: 28, 335986: 1, 467090: 1, 467092: 3, 73885: 4, 598180: 2, 598184: 1, 204972: 1, 467123: 8, 467127: 1, 336082: 5, 598230: 4, 467161: 5, 205018: 39, 598236: 7, 598252: 1, 467185: 2, 598259: 3, 598262: 7, 467192: 3, 598264: 1, 598267: 6, 336126: 1, 598271: 4, 467202: 5, 598278: 3, 467215: 3, 598295: 2, 205080: 4, 467225: 2, 467228: 4, 467230: 2, 598313: 7, 467246: 1, 336188: 6, 598336: 4, 205121: 2, 598357: 4, 598359: 13, 598362: 1, 598367: 2, 598372: 1, 336234: 4, 336238: 2, 598395: 2, 74114: 1, 336264: 57, 336265: 4, 467339: 5, 467340: 6, 598418: 2, 598443: 4, 598449: 3, 467385: 22, 336320: 5, 598467: 1, 74182: 1, 205269: 50, 467418: 2, 598492: 1, 598495: 2, 598499: 1, 598539: 6, 467471: 6, 336400: 163, 598549: 5, 598551: 2, 598563: 7, 336425: 2, 598583: 9, 598586: 4, 598591: 2, 467526: 7, 598600: 1, 598616: 3, 336478: 1, 598625: 7, 205410: 2, 598630: 4, 598632: 3, 467568: 8, 467574: 1, 598653: 1, 598663: 1, 205454: 2, 467607: 3, 467610: 2, 598683: 5, 598689: 2, 598696: 14, 598705: 1, 598715: 12, 467644: 1, 467653: 3, 467654: 9, 336588: 1, 336593: 1, 467667: 1, 598741: 1, 467671: 2, 467697: 2, 598772: 1, 205562: 1, 336637: 2, 598783: 2, 598786: 13, 205574: 4, 598794: 3, 598806: 3, 205613: 2, 74544: 155, 467787: 8, 598868: 3, 598880: 2, 336738: 1, 467821: 3, 336764: 6, 598909: 1, 336769: 3, 336770: 3, 598917: 7, 467845: 1, 598920: 1, 598924: 8, 598925: 3, 74660: 3, 467878: 4, 598961: 3, 598967: 1, 205761: 3, 336834: 7, 598985: 2, 598989: 2, 598990: 2, 599002: 2, 599008: 1, 467936: 1, 467944: 60, 599026: 4, 599032: 1, 599039: 6, 467985: 1, 599072: 3, 599083: 3, 599090: 1, 205876: 6, 599094: 1, 599100: 1, 468033: 2, 599107: 1, 468036: 1, 599130: 1, 599141: 5, 468081: 8, 599171: 3, 599177: 1, 599183: 8, 599185: 3, 599193: 1, 468125: 2, 205986: 2, 599206: 1, 205999: 2, 599228: 15, 337106: 1, 468179: 4, 599254: 2, 206040: 3, 599259: 6, 599262: 2, 599268: 1, 599269: 2, 599281: 3, 468210: 1, 599282: 4, 599292: 1, 599301: 6, 599317: 1, 599323: 2, 468264: 1, 599339: 2, 599342: 2, 468276: 1, 599349: 4, 337207: 5, 599354: 3, 468282: 3, 599357: 2, 599358: 1, 468304: 3, 599383: 1, 599394: 2, 468325: 2, 599401: 5, 599424: 2, 599429: 2, 468367: 4, 599442: 5, 468381: 1, 599470: 2, 468425: 8, 468430: 3, 599508: 1, 599527: 1, 337394: 1, 599539: 1, 468492: 1, 337421: 168, 468508: 1, 206367: 1, 468520: 5, 468529: 2, 599602: 2, 337464: 2, 206399: 1, 468558: 3, 468561: 3, 599643: 1, 337501: 2, 599660: 2, 468588: 9, 75372: 4, 75391: 24, 337542: 1, 599703: 3, 337560: 5, 599708: 20, 599715: 5, 599717: 2, 599722: 6, 337580: 17, 468659: 2, 599733: 6, 599735: 2, 599736: 4, 468693: 3, 599766: 2, 468695: 2, 599765: 2, 599772: 3, 599773: 3, 599780: 7, 206567: 56, 599784: 1, 337651: 4, 468724: 5, 337653: 3, 468729: 2, 599803: 2, 599810: 2, 599814: 7, 337674: 37, 468747: 2, 599827: 2, 599831: 2, 337688: 57, 337694: 4, 468777: 2, 599854: 3, 599855: 16, 599865: 1, 468801: 3, 337737: 29, 599885: 5, 599896: 18, 599920: 11, 599921: 2, 206712: 6, 337785: 3, 468861: 5, 599945: 8, 599953: 4, 75671: 2, 206747: 13, 206748: 3, 206750: 1, 75691: 3, 599979: 3, 468911: 4, 337840: 4, 468914: 6, 75705: 7, 468925: 4, 206785: 3, 337863: 1, 600009: 2, 75732: 2, 337882: 6, 600028: 7, 468965: 4, 468967: 5, 600039: 4, 600041: 4, 600047: 2, 75783: 19, 337934: 16, 600085: 19, 600100: 1, 469034: 3, 600126: 18, 600127: 5, 337989: 3, 338006: 6, 600153: 5, 600155: 4, 600157: 3, 600158: 1, 600159: 4, 600165: 3, 600168: 2, 469100: 1, 469105: 1, 469107: 1, 600190: 1, 469119: 2, 600195: 1, 206983: 1, 600207: 3, 469154: 1, 75942: 28, 600232: 14, 600237: 9, 469167: 2, 469192: 3, 600266: 7, 469196: 3, 207055: 4, 469199: 101, 600276: 1, 600292: 2, 600309: 2, 600311: 13, 207095: 1, 338168: 6, 600315: 4, 600316: 44, 469244: 5, 600322: 1, 600333: 1, 600337: 2, 600339: 1, 76062: 163, 600356: 1, 469284: 1, 207142: 3, 600361: 3, 600362: 13, 600364: 5, 600370: 1, 207157: 25, 600376: 5, 207185: 34, 600403: 2, 469344: 3, 76130: 50, 469364: 2, 600439: 2, 469369: 2, 469374: 4, 600451: 4, 600452: 4, 207241: 3, 338314: 4, 469386: 4, 600464: 1, 469395: 1, 600470: 1, 600477: 1, 469418: 4, 600494: 5, 469432: 2, 600515: 1, 338376: 42, 469448: 6, 600525: 2, 600533: 3, 600534: 2, 469468: 8, 338403: 6, 338404: 3, 600552: 17, 338412: 2, 469488: 7, 600569: 2, 207357: 17, 600575: 3, 600580: 6, 76296: 1, 600589: 1, 600610: 1, 600617: 4, 600618: 2, 600621: 3, 600622: 14, 469556: 1, 600633: 2, 600640: 2, 338513: 2, 600658: 4, 600659: 6, 600660: 2, 338517: 3, 600662: 2, 469597: 2, 469601: 1, 600679: 6, 600703: 1, 600704: 1, 600709: 2, 469641: 1, 600719: 4, 600724: 7, 469654: 104, 469661: 3, 76448: 1, 600744: 1, 600757: 1, 600761: 4, 76480: 155, 600768: 3, 600797: 3, 338654: 2, 207596: 2, 600815: 6, 600828: 1, 600829: 1, 600830: 2, 600836: 9, 338694: 7, 600842: 1, 469776: 1, 600849: 3, 469795: 3, 600867: 3, 600874: 1, 469807: 2, 600913: 1, 600915: 6, 600917: 6, 76634: 22, 600923: 1, 469857: 2, 600937: 3, 469865: 1, 600959: 3, 207747: 3, 338819: 1, 600973: 3, 600975: 4, 469907: 101, 600992: 7, 600995: 2, 600998: 5, 76728: 4, 601023: 2, 601025: 3, 601028: 4, 76746: 1, 76748: 8, 601039: 4, 207823: 2, 207850: 26, 470005: 1, 338935: 1, 601084: 1, 338957: 1, 601101: 3, 338958: 10, 601104: 1, 470033: 1, 470038: 2, 601131: 4, 207924: 4, 601142: 2, 470071: 1, 207929: 24, 601147: 1, 470096: 5, 207954: 1, 470098: 5, 601173: 1, 601179: 4, 601189: 2, 601191: 1, 601193: 1, 339058: 29, 470132: 1, 470153: 7, 470156: 3, 601229: 6, 208028: 1, 601249: 2, 601255: 2, 208043: 2, 601278: 3, 339137: 5, 470214: 1, 470216: 4, 470233: 14, 339163: 3, 339176: 2, 601346: 3, 339203: 1, 601354: 1, 470286: 6, 470288: 4, 601361: 3, 601370: 17, 601377: 7, 601380: 2, 339242: 3, 208175: 1, 470325: 3, 601399: 7, 470328: 1, 601409: 4, 601411: 1, 601413: 5, 601421: 1, 601422: 1, 470356: 1, 601429: 7, 339293: 3, 601446: 2, 601450: 6, 601455: 3, 601456: 2, 601462: 1, 470390: 101, 339328: 2, 601483: 1, 601485: 1, 470437: 1, 601515: 1, 601516: 8, 601519: 4, 339378: 1, 470464: 31, 601543: 1, 339400: 12, 601546: 4, 601551: 2, 601552: 2, 601556: 3, 339420: 4, 601566: 2, 601587: 1, 601594: 7, 339452: 2, 601597: 7, 601614: 3, 339476: 3, 470561: 3, 601636: 6, 77354: 2, 601644: 1, 601654: 4, 601658: 2, 601673: 1, 601676: 1, 470605: 5, 601680: 3, 601685: 1, 470614: 3, 601687: 4, 339545: 2, 470625: 1, 77420: 2, 208495: 1, 601724: 4, 470657: 2, 601729: 2, 601732: 2, 470663: 1, 470665: 4, 601739: 4, 470688: 2, 470703: 2, 77495: 2, 601785: 2, 339641: 2, 470715: 4, 601790: 12, 601799: 1, 601820: 5, 470762: 6, 470766: 2, 601839: 1, 339698: 1, 339706: 2, 339711: 5, 601857: 7, 470786: 1, 470785: 1, 77572: 2, 601858: 7, 339718: 2, 601867: 1, 339744: 9, 601898: 6, 601899: 3, 601912: 17, 470841: 13, 470844: 1, 601933: 4, 601942: 3, 601943: 2, 601945: 3, 470879: 1, 470880: 4, 601954: 7, 208762: 2, 77693: 2, 77696: 3, 601988: 4, 601994: 1, 470926: 2, 208789: 7, 602017: 1, 602030: 1, 470962: 4, 602034: 3, 208820: 1, 470969: 3, 602043: 2, 602051: 1, 339907: 2, 602074: 2, 339930: 8, 602081: 5, 602083: 3, 471012: 1, 208869: 3, 339942: 56, 602104: 3, 602111: 3, 602119: 5, 77833: 1, 471054: 2, 602127: 4, 77840: 1, 471059: 5, 602135: 1, 602136: 2, 339992: 1, 602138: 1, 602143: 41, 77858: 163, 602150: 4, 602151: 4, 602155: 3, 602156: 3, 340013: 1, 602160: 2, 602167: 1, 602172: 3, 602194: 5, 602198: 3, 602200: 1, 340063: 2, 602208: 6, 602214: 5, 209006: 2, 77947: 18, 77949: 4, 602238: 3, 602242: 4, 77962: 1, 340107: 4, 340123: 4, 602270: 5, 602274: 2, 340131: 1, 209089: 1, 602323: 9, 78039: 1, 602331: 2, 471259: 4, 602339: 1, 340206: 32, 602362: 12, 602363: 1, 602366: 1, 471299: 1, 471301: 25, 602385: 2, 602387: 6, 471319: 3, 602409: 5, 78125: 55, 602421: 7, 602422: 1, 602423: 6, 340281: 2, 209210: 8, 340282: 1, 602437: 5, 602445: 6, 602459: 2, 602471: 3, 471408: 3, 471409: 7, 602488: 3, 209272: 1, 602491: 3, 209288: 4, 340424: 1, 209354: 17, 602574: 15, 471504: 4, 602578: 6, 471509: 2, 602581: 2, 471524: 6, 602609: 1, 602618: 5, 471549: 24, 471565: 2, 471568: 1, 209433: 158, 78371: 32, 209453: 44, 602675: 3, 602681: 1, 602685: 1, 602707: 15, 209496: 1, 471656: 1, 471658: 7, 471660: 4, 602751: 2, 209553: 4, 602812: 9, 602822: 3, 471750: 1, 602834: 3, 471772: 3, 602847: 3, 209633: 27, 471778: 3, 209638: 5, 602863: 4, 602868: 1, 602877: 2, 602882: 1, 602891: 3, 471826: 4, 602900: 1, 602906: 4, 602909: 3, 471848: 1, 602922: 4, 471857: 5, 209721: 32, 602943: 4, 602953: 4, 602958: 7, 602961: 4, 471901: 5, 471904: 4, 602978: 6, 602996: 1, 602997: 3, 602999: 4, 603000: 6, 471927: 34, 603003: 3, 603008: 2, 603012: 2, 471945: 2, 603019: 3, 471956: 3, 603030: 1, 603036: 3, 603038: 1, 209828: 158, 603044: 3, 209835: 41, 603051: 6, 603053: 4, 471985: 5, 603059: 1, 471996: 4, 472007: 5, 603082: 1, 603085: 3, 472026: 3, 603099: 3, 603101: 3, 603119: 8, 340978: 5, 603126: 3, 603157: 2, 472094: 2, 603172: 3, 603174: 5, 603175: 2, 472103: 2, 603185: 3, 78914: 14, 603211: 4, 603221: 2, 603246: 2, 603248: 3, 603251: 2, 603255: 1, 341111: 1, 341121: 3, 603268: 1, 472198: 1, 472213: 2, 603289: 8, 603290: 2, 79007: 59, 603298: 3, 603301: 4, 79014: 1, 341160: 2, 603314: 3, 603319: 2, 603328: 5, 603332: 6, 603334: 1, 603335: 4, 603337: 1, 341196: 26, 210134: 1, 603351: 2, 472285: 10, 603359: 3, 341216: 5, 210146: 3, 210152: 2, 341250: 2, 472327: 2, 603401: 1, 472334: 1, 341263: 6, 603412: 4, 341268: 1, 603414: 4, 603416: 3, 603431: 4, 603437: 2, 472368: 3, 472373: 1, 341303: 59, 472376: 1, 603449: 5, 472380: 15, 603453: 2, 472390: 2, 210252: 2, 603470: 1, 341335: 4, 603484: 3, 603485: 4, 603491: 2, 210276: 2, 603495: 3, 603496: 1, 603513: 3, 341370: 6, 79228: 18, 603526: 5, 603527: 6, 341382: 56, 341385: 5, 603533: 4, 603540: 7, 472468: 6, 472480: 2, 472483: 2, 472484: 1, 472487: 1, 603570: 5, 472505: 1, 603578: 2, 472509: 1, 341445: 2, 472519: 14, 472529: 1, 472537: 15, 603617: 1, 341479: 2, 341480: 1, 603623: 1, 210410: 2, 603634: 2, 210424: 3, 210425: 1, 603656: 1, 603658: 1, 472588: 1, 210456: 2, 603674: 1, 603686: 5, 603694: 4, 603697: 2, 603703: 10, 603713: 3, 603716: 1, 341579: 1, 472662: 1, 603741: 4, 603742: 1, 472684: 13, 603767: 2, 603774: 6, 603780: 56, 472714: 1, 472716: 3, 603788: 1, 603795: 2, 603800: 10, 603804: 5, 603807: 8, 472747: 6, 472750: 32, 603837: 2, 341695: 2, 341701: 6, 603847: 2, 603863: 3, 341720: 2, 472793: 7, 341722: 4, 341725: 5, 603873: 4, 472801: 3, 603880: 1, 603883: 9, 210669: 1, 603903: 3, 603916: 4, 603919: 2, 603921: 2, 603925: 2, 79651: 59, 603947: 1, 603956: 3, 210743: 1, 603960: 7, 79681: 1, 210758: 1, 472904: 4, 472905: 1, 603985: 3, 603986: 3, 472921: 2, 603994: 3, 341868: 1, 472953: 5, 472956: 2, 604042: 5, 472977: 1, 472978: 32, 604064: 15, 604067: 3, 341923: 5, 341925: 1, 473010: 4, 604085: 4, 473022: 3, 604099: 4, 210893: 6, 210897: 3, 604118: 1, 79831: 103, 604120: 2, 604121: 5, 604131: 14, 341994: 1, 473073: 1, 604147: 2, 604154: 3, 604161: 7, 604163: 2, 604164: 1, 473096: 42, 473122: 1, 604200: 1, 604209: 1, 604210: 5, 210998: 23, 473145: 2, 604226: 2, 604235: 2, 604239: 2, 604241: 2, 211025: 1, 604247: 3, 211039: 1, 604269: 3, 473223: 2, 211081: 4, 604300: 2, 604303: 1, 604319: 12, 604320: 5, 342187: 3, 604341: 3, 473271: 7, 604360: 4, 473288: 1, 604365: 1, 604369: 6, 604377: 1, 604384: 2, 473313: 1, 604387: 1, 604390: 2, 604393: 3, 211180: 1, 604396: 3, 604402: 3, 604434: 4, 473371: 3, 473372: 5, 604446: 7, 604447: 2, 211246: 55, 342326: 4, 604482: 8, 604490: 3, 211278: 5, 604494: 2, 604499: 5, 342363: 1, 473443: 7, 604517: 5, 604526: 3, 604531: 3, 342389: 1, 80255: 32, 342427: 1, 80292: 10, 342450: 3, 342451: 3, 211381: 3, 473527: 3, 604601: 1, 604602: 1, 473530: 1, 473531: 8, 211394: 2, 604611: 2, 604614: 8, 604619: 4, 80340: 1, 604643: 3, 604652: 2, 473586: 4, 342524: 21, 604674: 6, 473603: 3, 604678: 1, 604697: 4, 604698: 1, 604700: 2, 211488: 1, 473632: 2, 342562: 2, 604708: 5, 604710: 1, 604730: 1, 211517: 1, 604741: 1, 604762: 11, 604763: 3, 342630: 1, 80495: 26, 211568: 3, 80512: 1, 604804: 2, 604806: 3, 604807: 1, 342666: 52, 604815: 2, 211607: 1, 604825: 1, 604833: 5, 604840: 12, 604841: 10, 604842: 4, 604843: 11, 604844: 1, 473800: 5, 604876: 3, 604877: 3, 604880: 5, 80600: 4, 342746: 4, 604892: 3, 604898: 5, 342755: 34, 473835: 2, 473838: 1, 604914: 4, 342775: 155, 211704: 155, 604925: 1, 604941: 1, 342798: 10, 473874: 4, 473883: 1, 604964: 2, 473909: 1, 473911: 4, 342849: 4, 604995: 3, 342854: 10, 604998: 8, 473930: 1, 342861: 8, 605012: 17, 473941: 2, 80738: 155, 342890: 3, 80749: 2, 605038: 6, 605051: 1, 342913: 6, 605058: 2, 605059: 4, 80779: 3, 605076: 7, 474004: 3, 605081: 4, 605083: 1, 474014: 2, 342942: 3, 605089: 1, 605103: 2, 605104: 5, 474037: 2, 605120: 9, 605122: 2, 474052: 2, 342981: 9, 474055: 2, 80855: 3, 605150: 5, 605166: 2, 211961: 4, 605181: 1, 343038: 5, 343037: 3, 605186: 7, 605187: 3, 474118: 5, 474138: 1, 474143: 3, 605216: 1, 605218: 1, 605220: 6, 474152: 6, 605227: 11, 605242: 3, 474171: 1, 474172: 3, 605252: 2, 605254: 5, 605261: 41, 605266: 2, 605267: 16, 605276: 5, 605279: 3, 474210: 2, 474214: 16, 605294: 1, 605302: 3, 605305: 2, 605310: 1, 605315: 1, 605317: 1, 605321: 4, 474251: 4, 212108: 2, 605325: 3, 605326: 1, 212113: 5, 474258: 43, 605334: 7, 81046: 1, 212134: 7, 605355: 3, 81070: 7, 81074: 4, 605368: 1, 474297: 4, 474304: 4, 605380: 4, 605385: 4, 474316: 2, 605389: 6, 81125: 155, 605433: 2, 343289: 2, 343292: 3, 81149: 6, 212227: 2, 605445: 2, 605449: 1, 605450: 4, 605453: 8, 605457: 6, 81170: 1, 605464: 4, 605466: 1, 605468: 5, 605469: 1, 605483: 2, 343342: 2, 605523: 20, 605527: 3, 474462: 2, 605534: 2, 474465: 1, 212327: 3, 343408: 2, 605556: 2, 605568: 2, 605573: 5, 474502: 5, 212359: 2, 343438: 1, 605586: 3, 343460: 3, 605606: 1, 605611: 3, 343467: 1, 605613: 1, 605622: 1, 474564: 4, 605639: 8, 212430: 39, 474582: 40, 343512: 2, 605659: 9, 605660: 3, 343516: 3, 605662: 1, 605667: 2, 605670: 2, 605671: 1, 605676: 4, 605681: 3, 474625: 59, 212485: 3, 605704: 1, 343561: 50, 474635: 4, 474640: 5, 605717: 1, 605728: 5, 605751: 5, 212535: 1, 343623: 5, 605772: 1, 343628: 2, 605784: 1, 212568: 1, 605813: 3, 474743: 1, 474750: 1, 605828: 5, 605832: 13, 605841: 4, 605845: 1, 474779: 2, 212646: 8, 605867: 5, 605869: 2, 474802: 5, 605874: 3, 605877: 8, 474807: 1, 605881: 10, 605882: 2, 343740: 5, 605884: 4, 212674: 2, 212686: 66, 343759: 2, 605905: 5, 343762: 3, 474842: 3, 605919: 6, 605947: 2, 605953: 1, 474884: 2, 605957: 3, 605959: 2, 343827: 1, 605991: 3, 605994: 1, 343854: 4, 606002: 1, 474938: 2, 606018: 3, 606021: 5, 212806: 4, 474950: 2, 606024: 3, 606025: 31, 606041: 2, 212826: 3, 474975: 10, 606056: 12, 343912: 9, 343916: 4, 606061: 6, 212846: 4, 343917: 1, 606070: 1, 212859: 5, 606087: 2, 606095: 3, 606097: 1, 606101: 1, 475036: 5, 475042: 5, 475043: 1, 475052: 1, 475054: 11, 81844: 28, 606134: 2, 475083: 3, 475085: 2, 606171: 4, 606173: 2, 475108: 1, 606196: 2, 606211: 3, 475143: 1, 81932: 3, 606224: 2, 344090: 1, 213021: 6, 606242: 2, 475171: 1, 606246: 8, 344103: 42, 475182: 2, 475191: 3, 606268: 6, 344126: 5, 606277: 6, 606279: 4, 475217: 8, 606294: 4, 606297: 5, 606302: 17, 606303: 3, 606323: 1, 606325: 2, 606328: 8, 606337: 1, 82054: 1, 606352: 6, 475280: 4, 82090: 1, 606383: 3, 606384: 1, 344243: 5, 344252: 3, 213208: 155, 475352: 5, 606427: 4, 475356: 39, 82146: 3, 606446: 4, 475384: 1, 606458: 3, 475407: 41, 606484: 2, 475415: 1, 606491: 2, 475419: 1, 606494: 1, 606502: 9, 606510: 2, 606511: 3, 606515: 12, 606516: 2, 606522: 2, 475451: 2, 606535: 4, 475466: 2, 606541: 7, 606543: 16, 606544: 8, 606545: 1, 606551: 4, 475479: 10, 606561: 3, 606562: 1, 606563: 1, 606584: 4, 475516: 1, 475519: 1, 475521: 1, 606604: 3, 213405: 2, 475558: 7, 344495: 1, 606640: 2, 606641: 2, 344534: 44, 606679: 4, 344538: 2, 606683: 4, 606684: 4, 475613: 4, 606686: 1, 606685: 6, 475618: 3, 606695: 4, 82408: 2, 606717: 5, 606723: 2, 606733: 4, 606736: 5, 606738: 2, 606741: 7, 606742: 2, 344598: 2, 475682: 12, 606758: 1, 606761: 28, 606770: 9, 606771: 2, 606772: 1, 606781: 3, 475715: 1, 606788: 3, 606790: 6, 606808: 1, 606809: 4, 606812: 7, 344680: 4, 475754: 1, 606828: 2, 475757: 3, 475760: 2, 213617: 5, 606841: 4, 606844: 2, 606860: 6, 344727: 2, 475800: 2, 475801: 2, 475802: 5, 606883: 1, 606885: 3, 344758: 2, 82626: 31, 606918: 1, 344774: 6, 344775: 1, 475874: 1, 606947: 1, 475879: 1, 606957: 2, 606974: 4, 475903: 1, 606976: 7, 606978: 7, 213763: 10, 475910: 28, 606987: 5, 606988: 1, 475922: 8, 607007: 1, 607008: 1, 607026: 2, 82742: 37, 607038: 3, 607041: 1, 344897: 1, 475973: 8, 475975: 5, 607049: 7, 82780: 7, 476027: 11, 607099: 2, 476033: 5, 213911: 4, 213921: 7, 476072: 55, 476079: 9, 345013: 2, 607159: 6, 607171: 15, 607181: 11, 607184: 10, 476125: 1, 607209: 2, 607226: 5, 345087: 102, 214016: 1, 214026: 1, 607245: 2, 476179: 2, 607261: 5, 607273: 4, 607284: 2, 476215: 5, 214081: 41, 476234: 2, 607307: 2, 607317: 1, 607324: 7, 476253: 10, 476271: 3, 345203: 2, 607348: 3, 476278: 6, 607352: 3, 345215: 1, 607359: 4, 83086: 2, 214159: 3, 476306: 3, 476311: 1, 345240: 5, 476316: 2, 607395: 1, 607396: 1, 607400: 3, 607405: 7, 607407: 4, 607408: 3, 476341: 1, 607423: 1, 345284: 4, 476357: 4, 345285: 4, 345315: 1, 607459: 7, 476396: 5, 476401: 2, 214264: 2, 607485: 4, 607516: 13, 607518: 6, 607523: 2, 607524: 6, 476452: 34, 476451: 4, 345388: 1, 607542: 3, 214336: 4, 607554: 1, 476491: 1, 476494: 2, 214351: 2, 607566: 4, 607570: 2, 607571: 13, 607576: 1, 476507: 10, 607582: 4, 345439: 6, 607583: 2, 607601: 4, 607615: 5, 214403: 1, 607620: 1, 476548: 2, 476552: 3, 83341: 37, 476560: 7, 476561: 4, 607634: 3, 607648: 11, 345505: 12, 607651: 7, 607655: 6, 607662: 33, 607667: 9, 476607: 12, 607680: 7, 476610: 2, 607692: 8, 607699: 2, 607705: 2, 214508: 155, 607736: 4, 83450: 1, 345595: 5, 607742: 1, 607750: 6, 607761: 1, 83474: 6, 607765: 2, 476693: 1, 83479: 2, 607769: 2, 607771: 1, 214593: 2, 607811: 2, 607823: 3, 476756: 10, 345686: 2, 607830: 14, 607831: 4, 607843: 15, 607845: 2, 345707: 4, 83566: 4, 607855: 9, 476783: 10, 476786: 1, 607888: 2, 345765: 1, 607932: 1, 607935: 12, 476864: 5, 476865: 2, 607941: 9, 607945: 1, 345823: 2, 476908: 6, 476912: 2, 476927: 4, 608004: 3, 608010: 3, 476942: 1, 608039: 14, 476972: 1, 608045: 3, 214842: 2, 345926: 3, 477012: 16, 345940: 1, 608089: 2, 608100: 2, 477043: 3, 345987: 5, 608134: 3, 608136: 1, 345997: 1, 608145: 1, 214942: 2, 608166: 5, 608173: 2, 608175: 2, 608181: 7, 608183: 5, 214984: 6, 346059: 3, 608205: 1, 477138: 1, 83940: 2, 608235: 2, 608247: 4, 608248: 7, 83963: 3, 477180: 1, 346117: 1, 346139: 2, 608286: 1, 608312: 2, 608313: 7, 608318: 4, 608326: 1, 608327: 1, 477263: 5, 477265: 4, 608339: 3, 608341: 1, 477270: 3, 477275: 4, 608356: 7, 608357: 8, 608360: 1, 608370: 3, 477315: 5, 608388: 5, 477317: 1, 477321: 2, 608398: 1, 608407: 1, 84135: 1, 608425: 2, 346287: 20, 477376: 2, 477380: 6, 608453: 1, 346310: 3, 608454: 2, 608456: 4, 477384: 7, 215244: 14, 346316: 2, 608474: 1, 608480: 5, 608482: 1, 84194: 5, 608487: 3, 215276: 2, 608497: 1, 608514: 2, 477449: 4, 608522: 1, 608531: 3, 477463: 2, 608552: 3, 608556: 3, 477496: 1, 477501: 10, 477537: 6, 608611: 1, 608612: 7, 608619: 3, 608620: 1, 346477: 12, 477550: 2, 346491: 56, 608635: 1, 84350: 1, 608640: 5, 215433: 10, 608661: 8, 608668: 5, 346537: 4, 215467: 2, 84396: 59, 477637: 1, 346570: 3, 477648: 4, 477655: 3, 608727: 1, 608735: 2, 608746: 9, 346603: 1, 608752: 1, 608758: 4, 608768: 4, 346628: 37, 477701: 1, 477704: 16, 215560: 1, 608782: 28, 608791: 1, 608794: 1, 215582: 6, 608801: 4, 608812: 1, 215601: 5, 608822: 7, 477750: 4, 215608: 2, 477776: 5, 477777: 12, 608872: 2, 215666: 3, 608887: 9, 215683: 1, 608913: 1, 608914: 16, 608916: 5, 608918: 1, 608920: 4, 84638: 2, 477861: 2, 608934: 2, 477865: 12, 84656: 23, 215734: 5, 608967: 9, 477906: 1, 608988: 1, 84733: 3, 609027: 5, 477956: 4, 346893: 3, 477969: 4, 346898: 3, 346903: 101, 609048: 1, 609059: 7, 609060: 6, 346916: 2, 609061: 1, 346940: 12, 478013: 4, 346952: 2, 478033: 8, 84824: 66, 609112: 2, 609134: 1, 609139: 4, 609146: 17, 609150: 2, 347015: 28, 478088: 1, 347019: 7, 215950: 155, 609166: 7, 609169: 2, 609177: 2, 347034: 6, 609210: 4, 609237: 1, 609239: 2, 609241: 3, 609251: 1, 347110: 1, 609260: 2, 347119: 2, 84975: 1, 609271: 42, 609282: 2, 609286: 6, 216075: 1, 609297: 2, 478225: 1, 609306: 15, 609318: 1, 609321: 8, 609322: 3, 609328: 6, 609329: 3, 609331: 4, 609333: 2, 347206: 2, 609372: 2, 347239: 101, 609388: 2, 85104: 1, 347255: 9, 609411: 5, 347277: 9, 609429: 1, 609444: 3, 609448: 1, 609452: 4, 609459: 1, 85186: 4, 609494: 5, 347351: 3, 609508: 1, 609517: 2, 609520: 6, 347390: 1, 609549: 1, 609551: 2, 609552: 3, 478479: 4, 478483: 3, 609559: 7, 609594: 9, 609597: 9, 609600: 4, 216385: 2, 347463: 5, 609633: 2, 347491: 3, 609641: 3, 609642: 6, 609648: 1, 478577: 6, 347532: 1, 478611: 1, 347542: 37, 609688: 3, 609697: 6, 609703: 4, 609712: 1, 85429: 1, 478649: 1, 609722: 3, 478653: 6, 609728: 12, 478659: 5, 609741: 4, 609771: 3, 478700: 3, 609774: 15, 609780: 4, 216588: 1, 609806: 2, 609807: 1, 609808: 4, 609809: 2, 609813: 2, 609814: 1, 609816: 16, 609820: 4, 347680: 6, 609826: 5, 609828: 4, 347695: 8, 85557: 16, 347703: 39, 347715: 2, 347716: 2, 609870: 4, 609880: 3, 478810: 1, 609887: 1, 609898: 3, 478827: 3, 609903: 2, 609906: 3, 609915: 2, 609916: 1, 85629: 1, 347785: 3, 609930: 5, 478858: 2, 609932: 2, 478861: 4, 478862: 1, 85651: 1, 609942: 3, 609944: 2, 347803: 1, 347805: 3, 347818: 163, 478895: 24, 478909: 106, 609988: 1, 609989: 1, 609990: 3, 216783: 1, 85716: 1, 610019: 8, 478948: 2, 610020: 3, 85735: 2, 85738: 1, 610030: 2, 610034: 7, 610039: 6, 610043: 3, 610069: 1, 347935: 1, 479010: 5, 610085: 2, 479014: 26, 85822: 2, 610117: 1, 610119: 7, 610131: 3, 479066: 5, 347995: 2, 610144: 1, 610146: 2, 348003: 3, 348010: 7, 479086: 2, 348015: 24, 348020: 2, 610166: 3, 479094: 1, 610168: 10, 610172: 2, 610176: 3, 479105: 3, 479113: 4, 216970: 5, 348065: 6, 610219: 10, 85932: 2, 479151: 4, 348081: 9, 217015: 1, 479161: 3, 479166: 5, 479191: 3, 610268: 3, 85986: 2, 610284: 2, 348143: 1, 610293: 7, 610305: 10, 610311: 1, 610318: 2, 610329: 2, 610338: 4, 610341: 2, 479281: 10, 479288: 6, 610365: 4, 348224: 3, 479297: 6, 610370: 13, 610372: 3, 348228: 32, 610375: 2, 610376: 2, 610381: 1, 479326: 1, 348255: 3, 348279: 49, 610427: 1, 610440: 1, 610448: 1, 479377: 1, 610457: 1, 610461: 4, 610470: 2, 610475: 2, 610483: 2, 610491: 1, 479423: 1, 610506: 4, 610511: 3, 610519: 4, 479448: 2, 610525: 1, 348384: 37, 348388: 1, 610542: 1, 610544: 8, 479473: 3, 217332: 5, 610549: 2, 610554: 2, 479489: 2, 610573: 2, 217369: 1, 86298: 1, 610586: 3, 610593: 7, 610594: 3, 479532: 2, 348463: 2, 610608: 3, 610612: 8, 610614: 5, 610617: 2, 610618: 11, 348475: 1, 479562: 28, 610647: 2, 610652: 2, 479594: 11, 217471: 1, 86404: 2, 479632: 1, 479633: 1, 479639: 3, 86429: 155, 610724: 1, 217515: 2, 479680: 4, 348612: 158, 610762: 3, 348620: 7, 610768: 5, 610769: 6, 610782: 2, 610788: 2, 610789: 3, 610806: 7, 479737: 2, 479741: 2, 479745: 1, 86531: 4, 610823: 2, 217608: 2, 217607: 2, 479776: 6, 610849: 1, 610858: 3, 610872: 1, 348730: 2, 610880: 2, 86603: 9, 610898: 12, 348760: 5, 217690: 28, 479835: 4, 217693: 1, 217695: 4, 610924: 17, 610926: 3, 479877: 6, 479884: 2, 610959: 4, 479887: 4, 479897: 2, 217756: 1, 610985: 3, 610996: 1, 610999: 5, 611002: 1, 611006: 10, 217792: 1, 479955: 3, 86758: 2, 611051: 1, 611054: 2, 611055: 3, 611063: 2, 611079: 3, 348942: 20, 348949: 9, 86806: 3, 611103: 6, 611106: 9, 611108: 3, 611112: 4, 611117: 1, 217904: 2, 348986: 2, 611133: 2, 348989: 6, 480068: 1, 480069: 2, 480070: 3, 480076: 5, 611149: 2, 611152: 1, 611172: 1, 480102: 5, 611176: 3, 611178: 2, 349036: 1, 611181: 2, 611182: 4, 480112: 3, 611191: 1, 611197: 2, 480143: 3, 611216: 1, 480146: 3, 611220: 3, 611233: 2, 218025: 9, 611243: 2, 611253: 1, 611254: 3, 480195: 3, 611273: 2, 611288: 7, 349157: 1, 611310: 3, 611319: 1, 349184: 1, 611341: 4, 218169: 3, 611392: 2, 611395: 4, 480324: 3, 218184: 1, 611402: 6, 611404: 1, 480332: 1, 611415: 1, 611422: 10, 611424: 7, 611425: 10, 218238: 1, 611455: 12, 611457: 1, 611458: 4, 349313: 101, 611460: 2, 611459: 2, 611463: 23, 349319: 1, 611467: 1, 611498: 5, 480444: 3, 349373: 6, 480448: 1, 611522: 16, 611530: 8, 611532: 2, 611534: 4, 480464: 1, 611540: 1, 611541: 6, 611548: 3, 218332: 163, 611550: 3, 611552: 2, 218345: 3, 611569: 3, 611574: 3, 611575: 13, 611581: 3, 611585: 3, 611602: 10, 611608: 1, 611611: 4, 349471: 2, 611619: 4, 611632: 10, 611644: 5, 218438: 2, 480595: 11, 480597: 3, 349529: 3, 611675: 2, 611680: 3, 480615: 2, 611688: 18, 611695: 1, 611698: 2, 218497: 7, 611716: 1, 611723: 1, 611729: 2, 218528: 7, 349606: 3, 480687: 3, 218545: 7, 611761: 4, 611765: 2, 218551: 3, 218556: 4, 611780: 7, 611781: 5, 218567: 41, 480715: 1, 218573: 2, 611800: 2, 480729: 6, 480730: 60, 480739: 2, 480745: 5, 349674: 2, 349679: 2, 611827: 2, 349683: 3, 611840: 1, 611843: 15, 611851: 1, 480781: 1, 218644: 3, 611864: 1, 480793: 2, 611871: 2, 611882: 5, 611883: 7, 611887: 6, 349756: 43, 611903: 3, 480838: 6, 611924: 3, 611931: 3, 611933: 28, 349791: 2, 349795: 56, 611948: 1, 611950: 2, 611967: 2, 349826: 13, 611970: 1, 611973: 2, 218777: 2, 480964: 3, 612039: 1, 87756: 8, 480972: 6, 480977: 5, 349907: 59, 612075: 1, 612088: 3, 612090: 5, 218877: 1, 349953: 3, 218885: 155, 481032: 2, 218894: 2, 87830: 3, 612124: 2, 349981: 1, 612127: 6, 481056: 2, 612129: 3, 612131: 1, 218921: 1, 481072: 4, 612158: 3, 481087: 2, 481088: 1, 481089: 2, 612162: 3, 612167: 3, 350024: 1, 612177: 1, 612192: 4, 350057: 2, 87923: 7, 218996: 17, 481143: 19, 612222: 4, 612227: 8, 481158: 7, 350086: 3, 612232: 4, 350089: 2, 612234: 5, 350090: 2, 612244: 1, 612274: 7, 350135: 5, 612284: 7, 219090: 4, 612306: 1, 219106: 34, 612326: 1, 612329: 1, 481262: 2, 219118: 6, 612337: 5, 612339: 10, 481268: 101, 612345: 5, 481276: 1, 350206: 4, 612356: 5, 612368: 6, 612375: 4, 88121: 5, 612414: 10, 88130: 3, 219221: 2, 612441: 4, 612443: 5, 612464: 1, 350324: 2, 612479: 20, 612481: 1, 612501: 3, 612524: 4, 350381: 1, 612537: 2, 481470: 1, 350404: 2, 612571: 4, 219365: 2, 612623: 3, 612624: 13, 481551: 1, 612633: 3, 481561: 3, 88352: 9, 481568: 1, 350500: 1, 612649: 10, 612652: 16, 612677: 2, 612679: 2, 88395: 50, 481612: 6, 612690: 1, 350549: 59, 612715: 11, 612716: 10, 612718: 8, 612722: 2, 612723: 3, 612729: 4, 219513: 1, 612732: 4, 481668: 1, 88453: 101, 481671: 1, 481675: 2, 612752: 6, 612762: 4, 612772: 2, 481726: 5, 612812: 2, 612813: 5, 612822: 1, 481757: 1, 350687: 2, 350688: 4, 481762: 2, 612844: 5, 612849: 2, 612854: 4, 88567: 56, 612856: 1, 481787: 1, 219645: 40, 612865: 1, 612869: 6, 481809: 5, 612883: 5, 350749: 4, 219678: 4, 612895: 4, 612898: 3, 219683: 4, 612923: 3, 612924: 4, 219709: 2, 612927: 6, 612931: 3, 481859: 11, 481861: 23, 481869: 1, 481873: 1, 481892: 3, 350825: 3, 350828: 7, 350838: 2, 612985: 6, 612994: 4, 612995: 1, 481926: 15, 88710: 1, 613002: 4, 613019: 2, 613020: 2, 613024: 3, 613032: 2, 613034: 3, 613035: 1, 481964: 9, 88750: 5, 350895: 1, 350897: 7, 481970: 1, 88770: 1, 88788: 3, 350937: 51, 482013: 1, 613090: 6, 613092: 3, 613095: 2, 613099: 3, 613102: 2, 350968: 1, 613126: 4, 219921: 8, 482067: 7, 482070: 5, 613143: 2, 351001: 3, 613146: 1, 613152: 16, 613154: 2, 482110: 7, 351038: 4, 482112: 4, 613188: 5, 613189: 5, 219977: 1, 613198: 2, 613203: 2, 613212: 3, 613216: 6, 613224: 2, 613249: 7, 482179: 1, 351110: 6, 482183: 3, 613268: 2, 613275: 5, 613276: 2, 613280: 5, 220078: 1, 482222: 4, 613298: 1, 220087: 1, 613307: 2, 613310: 6, 613315: 5, 482245: 3, 351174: 1, 613328: 2, 613331: 2, 613332: 4, 351195: 2, 351199: 13, 482277: 1, 613352: 5, 482283: 1, 613367: 2, 613377: 9, 482307: 1, 613383: 7, 351246: 2, 89107: 6, 613395: 5, 613400: 1, 351257: 6, 613401: 1, 482340: 2, 482351: 22, 89156: 101, 613449: 5, 613478: 1, 613493: 4, 613515: 6, 613517: 6, 351377: 1, 613529: 1, 482460: 1, 613534: 1, 482479: 1, 613551: 3, 613554: 3, 482482: 1, 220344: 6, 482493: 20, 613565: 2, 351423: 1, 89289: 101, 613580: 3, 482521: 2, 613597: 2, 613598: 1, 482540: 3, 613612: 6, 482542: 3, 482547: 3, 613622: 2, 613640: 3, 482574: 31, 351510: 3, 613673: 3, 482603: 9, 220460: 1, 351541: 2, 351546: 1, 351552: 2, 351554: 2, 613701: 2, 613705: 6, 613708: 1, 482643: 2, 482649: 1, 613726: 1, 613730: 9, 613732: 6, 613736: 4, 613737: 4, 613739: 10, 613740: 2, 613745: 3, 220534: 101, 482681: 2, 613758: 6, 613759: 1, 482695: 3, 482704: 3, 613780: 2, 482716: 24, 613796: 5, 613799: 2, 613801: 3, 220586: 1, 613803: 7, 613807: 6, 613814: 3, 89530: 59, 351676: 1, 613835: 3, 351692: 1, 613839: 2, 613844: 4, 613854: 2, 482784: 3, 482789: 1, 613866: 9, 220659: 1, 613892: 3, 351764: 2, 613913: 1, 482843: 1, 613917: 4, 613928: 1, 482866: 25, 482870: 2, 482905: 8, 351837: 32, 351856: 5, 220786: 2, 220791: 59, 89725: 59, 351872: 155, 482948: 7, 220816: 2, 220817: 7, 483004: 3, 614087: 6, 614115: 1, 614119: 1, 614122: 5, 483051: 1, 89840: 1, 614130: 9, 614131: 8, 614135: 1, 614136: 2, 351994: 1, 220922: 1, 614140: 1, 614144: 2, 614156: 3, 352013: 6, 352014: 2, 614167: 1, 483099: 1, 483100: 3, 220955: 2, 614183: 1, 614186: 4, 220972: 3, 483121: 3, 614196: 2, 352056: 3, 220988: 1, 483139: 7, 483143: 1, 89935: 3, 352083: 3, 352092: 8, 614250: 3, 614251: 1, 614253: 1, 221042: 2, 483196: 4, 614270: 6, 614276: 1, 483204: 6, 221077: 5, 614295: 2, 614296: 3, 614311: 1, 614333: 2, 614339: 4, 90052: 2, 614344: 10, 483286: 2, 614370: 9, 614372: 5, 614374: 2, 483302: 3, 614380: 2, 483309: 1, 614390: 1, 483320: 3, 614396: 3, 483335: 1, 352267: 3, 614422: 4, 614424: 6, 483355: 2, 614429: 6, 614432: 21, 614433: 1, 483379: 2, 614462: 1, 614467: 7, 614476: 2, 483406: 6, 483410: 1, 483411: 12, 483414: 1, 483423: 1, 614506: 4, 614507: 3, 614508: 20, 483437: 16, 614512: 2, 483443: 1, 221303: 50, 614524: 1, 483455: 2, 90246: 26, 90248: 50, 614545: 1, 614550: 3, 614557: 3, 483496: 4, 614568: 1, 483497: 1, 614574: 2, 221363: 1, 352437: 6, 614582: 2, 483512: 1, 614594: 4, 614596: 2, 614599: 3, 221384: 9, 352461: 1, 352469: 6, 90330: 1, 221403: 6, 483553: 6, 614633: 8, 614636: 1, 614639: 3, 90353: 4, 614643: 1, 352500: 2, 483572: 6, 221435: 163, 614656: 13, 614657: 4, 614674: 2, 614676: 5, 352540: 1, 614689: 1, 483625: 2, 483629: 7, 352558: 2, 614705: 2, 614709: 4, 614710: 13, 483639: 2, 614719: 6, 483652: 2, 352594: 11, 221524: 1, 352606: 3, 614752: 1, 614753: 5, 483684: 3, 614757: 2, 614758: 4, 614759: 4, 352619: 1, 90477: 1, 352634: 101, 614781: 7, 614784: 5, 221569: 1, 614786: 4, 614799: 1, 614806: 1, 614813: 10, 614815: 1, 614816: 3, 352684: 4, 614829: 4, 483760: 1, 614833: 2, 614842: 11, 614843: 2, 483783: 3, 483785: 4, 614858: 3, 614866: 4, 352723: 1, 352722: 2, 352724: 2, 614882: 1, 483812: 1, 614890: 1, 614897: 1, 483827: 3, 483829: 23, 483836: 1, 352771: 2, 483846: 5, 221716: 11, 221719: 7, 483866: 2, 483870: 3, 90665: 2, 614956: 1, 614970: 7, 614974: 2, 483918: 1, 352855: 2, 221785: 1, 221791: 3, 615010: 1, 221797: 1, 615015: 1, 352871: 1, 483971: 1, 90755: 1, 483976: 5, 615049: 1, 221835: 1, 615055: 4, 352912: 2, 352922: 3, 615073: 3, 615078: 4, 615084: 4, 352942: 2, 615096: 1, 615109: 1, 615129: 2, 615133: 2, 484061: 2, 352995: 3, 352999: 3, 615155: 1, 221941: 1, 90875: 1, 615164: 1, 615168: 2, 615174: 3, 353034: 3, 484117: 2, 615193: 1, 615198: 4, 353064: 1, 615218: 4, 484156: 2, 353090: 3, 615234: 1, 222026: 3, 484172: 4, 615251: 4, 484182: 3, 615255: 3, 222039: 2, 484193: 4, 484195: 1, 484203: 2, 484204: 5, 353133: 14, 615277: 1, 615278: 7, 484208: 1, 615283: 4, 615286: 2, 615290: 1, 484223: 1, 615296: 1, 615304: 8, 615307: 4, 484238: 4, 484243: 2, 222116: 2, 615345: 13, 615346: 8, 615348: 3, 615351: 3, 615353: 2, 615356: 1, 615360: 5, 484290: 1, 615370: 6, 91089: 59, 484311: 2, 615393: 4, 615394: 1, 615398: 2, 484327: 3, 615400: 3, 615402: 4, 615403: 2, 615404: 5, 615407: 8, 615409: 1, 615415: 4, 484344: 10, 484345: 3, 484348: 4, 484353: 2, 222211: 24, 615428: 1, 484361: 3, 615436: 4, 484375: 1, 615448: 2, 615449: 1, 615450: 3, 222240: 3, 615465: 3, 484395: 6, 615468: 3, 615484: 18, 615490: 28, 615494: 6, 353353: 1, 615503: 5, 615510: 1, 615519: 2, 222312: 3, 484458: 3, 615540: 3, 222327: 2, 615543: 4, 615545: 2, 353419: 3, 484493: 5, 615570: 4, 615596: 3, 615599: 5, 615600: 2, 615601: 2, 222389: 8, 615606: 6, 615607: 3, 615612: 1, 222404: 161, 615626: 3, 484559: 3, 615637: 2, 615641: 1, 615647: 2, 484583: 9, 615667: 1, 91379: 101, 615669: 5, 615670: 1, 615691: 5, 484625: 11, 615700: 5, 615702: 2, 615706: 9, 615712: 1, 484642: 1, 615729: 3, 615735: 5, 353602: 1, 615751: 1, 615757: 1, 484687: 2, 91474: 4, 222550: 1, 615772: 8, 615775: 4, 615777: 3, 615781: 2, 222571: 2, 353647: 2, 222580: 32, 222586: 155, 615808: 2, 484742: 3, 222599: 3, 615822: 2, 615836: 4, 615840: 1, 615841: 5, 615852: 3, 615856: 3, 615858: 4, 615863: 3, 615864: 7, 615866: 1, 484797: 1, 484802: 3, 615875: 4, 615884: 3, 484825: 1, 615912: 6, 615917: 1, 484847: 1, 615922: 11, 484853: 6, 484855: 1, 615927: 1, 353792: 2, 484870: 4, 615944: 8, 615956: 3, 615957: 2, 615958: 1, 615960: 3, 353817: 1, 615962: 2, 484891: 1, 615968: 4, 353824: 4, 615970: 1, 353827: 2, 484900: 7, 484902: 2, 615984: 5, 91698: 3, 615995: 9, 615996: 6, 616002: 4, 222791: 3, 616013: 1, 484941: 9, 484945: 3, 616018: 1, 616021: 3, 616032: 1, 616039: 1, 222824: 2, 616041: 4, 222825: 1, 616051: 3, 353911: 4, 353916: 50, 484992: 2, 616069: 4, 484999: 22, 616086: 3, 616103: 7, 616104: 5, 616106: 1, 353962: 1, 616108: 5, 485038: 2, 485040: 7, 485043: 22, 485059: 1, 616141: 2, 616149: 6, 616160: 3, 616161: 2, 616166: 4, 616170: 2, 222959: 59, 616183: 7, 616184: 1, 485120: 1, 91911: 1, 616204: 1, 485137: 5, 616243: 1, 616244: 9, 485182: 11, 485185: 5, 616260: 9, 485191: 3, 223052: 1, 354134: 1, 223066: 2, 616282: 3, 616285: 1, 354154: 2, 223083: 1, 485230: 5, 223088: 5, 616313: 11, 616322: 2, 223119: 2, 616340: 2, 616354: 10, 616364: 2, 354228: 4, 223165: 4, 223166: 4, 616381: 2, 616384: 2, 354242: 1, 616399: 1, 354273: 40, 223205: 2, 485351: 7, 616432: 3, 485361: 4, 485371: 3, 616450: 21, 616460: 6, 354318: 10, 616476: 3, 616478: 2, 354345: 2, 616495: 6, 616497: 2, 616498: 5, 485426: 1, 616500: 5, 223288: 2, 354368: 7, 485440: 5, 616513: 2, 92239: 2, 616536: 2, 485466: 4, 616546: 4, 92259: 1, 616552: 1, 616582: 1, 616589: 2, 616591: 1, 354461: 3, 616610: 2, 616620: 2, 485573: 1, 616652: 12, 485581: 4, 616654: 8, 616657: 6, 485586: 1, 616663: 2, 616686: 2, 354545: 1, 616690: 1, 485620: 3, 616692: 2, 616696: 1, 616706: 2, 485635: 1, 354574: 53, 354575: 3, 92435: 2, 616733: 5, 616740: 1, 616742: 6, 616744: 2, 485677: 32, 616757: 1, 354620: 1, 616770: 2, 616776: 2, 616777: 3, 485716: 4, 616801: 1, 485732: 2, 616805: 1, 616807: 2, 616821: 1, 616822: 12, 616825: 3, 485755: 2, 616829: 25, 616831: 7, 616836: 4, 616839: 2, 616855: 2, 616858: 10, 354714: 5, 485791: 5, 616873: 1, 616883: 1, 616885: 29, 485822: 1, 354758: 1, 616916: 1, 485848: 4, 616921: 2, 354787: 3, 485867: 5, 223723: 1, 616946: 8, 223743: 3, 354816: 1, 354818: 2, 616962: 5, 616970: 5, 223757: 155, 616976: 2, 485922: 2, 617001: 3, 354858: 36, 485932: 2, 617006: 3, 354869: 1, 485957: 3, 485961: 1, 617042: 1, 354901: 2, 617046: 3, 485975: 1, 485974: 6, 485979: 1, 617058: 3, 223863: 35, 354938: 7, 486014: 1, 617096: 2, 617105: 1, 617124: 4, 617125: 4, 617126: 2, 486055: 7, 486056: 2, 486064: 4, 486065: 1, 354993: 6, 486069: 56, 617147: 3, 617154: 2, 617156: 4, 617165: 1, 617168: 5, 486103: 7, 486105: 7, 486107: 1, 355060: 8, 617205: 2, 617225: 1, 355082: 34, 355081: 3, 486162: 12, 355100: 8, 617244: 1, 92965: 4, 617258: 1, 224044: 23, 486193: 14, 617267: 1, 486196: 2, 355151: 1, 617298: 4, 93031: 1, 355191: 2, 355193: 50, 617341: 1, 617346: 1, 617350: 10, 617353: 10, 355213: 2, 617365: 2, 486293: 7, 617370: 2, 617374: 2, 617378: 2, 617381: 1, 617382: 3, 617385: 4, 355242: 3, 486326: 1, 355254: 5, 617402: 3, 617407: 2, 486347: 6, 617426: 4, 617431: 1, 617438: 2, 486371: 2, 486378: 1, 224237: 3, 224239: 5, 224244: 101, 486390: 3, 617468: 1, 355345: 1, 617491: 4, 355353: 3, 224283: 2, 617505: 2, 617515: 3, 355384: 2, 486459: 3, 617535: 26, 486465: 1, 617541: 1, 617542: 3, 486473: 4, 617548: 4, 486485: 1, 355414: 2, 617564: 1, 617566: 6, 486503: 2, 486504: 6, 355453: 31, 355456: 22, 355465: 1, 617609: 1, 224400: 4, 93334: 163, 224407: 42, 617626: 3, 617629: 1, 617630: 2, 93346: 1, 617640: 3, 355497: 1, 486568: 1, 617643: 3, 617642: 3, 617645: 3, 355503: 1, 93364: 41, 617652: 4, 617659: 1, 617664: 1, 617668: 8, 617672: 3, 617676: 28, 224482: 3, 617708: 2, 224493: 5, 617718: 1, 617732: 4, 617740: 1, 93453: 155, 617744: 4, 93464: 1, 486691: 2, 224547: 3, 617769: 6, 617773: 7, 486702: 1, 617781: 2, 617790: 1, 617792: 2, 355652: 9, 355661: 1, 617807: 4, 617808: 2, 224591: 1, 617810: 4, 224595: 1, 617811: 1, 617813: 5, 355676: 5, 355678: 1, 486755: 5, 617830: 1, 617846: 2, 617848: 8, 93569: 1, 617859: 2, 486796: 1, 617881: 6, 617883: 2, 617888: 2, 355745: 1, 617897: 1, 486835: 3, 93639: 2, 486867: 4, 486872: 3, 617947: 3, 617949: 5, 486884: 1, 617960: 3, 224754: 1, 486901: 3, 617978: 7, 617979: 12, 617981: 4, 617985: 1, 355848: 56, 617994: 4, 617995: 2, 618002: 3, 355859: 2, 618004: 2, 224794: 1, 618011: 5, 486942: 3, 618018: 3, 355878: 41, 618023: 2, 618039: 2, 355896: 2, 618046: 2, 618053: 4, 618057: 7, 618074: 1, 487006: 1, 618082: 2, 618085: 3, 224871: 1, 355948: 31, 618102: 10, 618105: 2, 618106: 4, 618108: 2, 618113: 8, 487048: 2, 487051: 3, 487058: 58, 93843: 2, 355992: 1, 618151: 9, 356008: 1, 487080: 2, 618154: 11, 618166: 1, 618169: 6, 618173: 3, 356048: 5, 356049: 1, 618210: 1, 487149: 3, 356088: 7, 618237: 14, 618239: 3, 618244: 6, 487178: 5, 618262: 2, 356124: 3, 356125: 1, 618273: 1, 618274: 13, 93992: 59, 618280: 1, 618284: 1, 618285: 3, 225069: 4, 94006: 1, 618309: 1, 487243: 1, 356173: 1, 487249: 1, 225106: 3, 487267: 4, 356199: 1, 618343: 2, 487287: 5, 618359: 2, 618364: 3, 618366: 9, 618369: 3, 618395: 9, 94109: 1, 618400: 6, 94115: 24, 487334: 2, 487336: 8, 618412: 1, 618413: 1, 356269: 7, 487343: 4, 225205: 155, 618424: 8, 618426: 2, 356294: 59, 618449: 3, 618459: 4, 618463: 2, 618473: 3, 618475: 2, 487411: 34, 94201: 180, 618521: 9, 618524: 4, 356385: 7, 487463: 3, 618536: 4, 356395: 1, 618544: 2, 225346: 1, 618568: 5, 356430: 1, 487505: 13, 487506: 6, 487522: 17, 618599: 1, 618616: 1, 618622: 3, 618631: 1, 225416: 59, 225417: 3, 356495: 1, 618641: 3, 618642: 5, 356503: 26, 618650: 2, 487598: 67, 225455: 1, 356533: 4, 618683: 1, 225469: 3, 225478: 101, 94410: 2, 356555: 5, 487638: 2, 225499: 1, 356577: 1, 356578: 5, 225513: 37, 618730: 2, 94444: 10, 356590: 2, 618738: 1, 487672: 1, 487673: 16, 618784: 4, 618797: 2, 487737: 6, 618813: 17, 618815: 5, 618820: 2, 225610: 1, 225614: 2, 618832: 1, 487761: 3, 356691: 4, 487763: 15, 618852: 9, 618853: 2, 618859: 2, 618862: 7, 618867: 2, 618873: 4, 487815: 2, 618891: 7, 487830: 8, 618903: 5, 618905: 1, 356770: 6, 618915: 8, 618919: 8, 618921: 6, 487854: 2, 94643: 1, 618939: 5, 618941: 20, 487871: 2, 618947: 1, 487876: 4, 618950: 4, 618954: 2, 225762: 2, 356838: 7, 618987: 3, 487937: 4, 619012: 4, 619015: 2, 619016: 2, 619020: 8, 619021: 1, 356882: 1, 94742: 7, 487965: 3, 619038: 6, 487971: 6, 487976: 1, 487980: 1, 225837: 1, 619055: 4, 619057: 3, 619079: 1, 619086: 1, 356948: 2, 488024: 1, 619101: 4, 488038: 3, 225901: 1, 94829: 1, 619119: 1, 619121: 1, 619127: 1, 225916: 3, 619138: 3, 619139: 1, 488066: 1, 488068: 10, 488070: 8, 225934: 3, 94871: 2, 357019: 3, 619170: 2, 619180: 1, 357038: 2, 488110: 3, 357046: 6, 619194: 2, 619196: 17, 488126: 2, 619200: 5, 619210: 6, 357068: 2, 226009: 5, 619246: 1, 619248: 2, 488187: 2, 619260: 2, 226054: 2, 488205: 5, 226064: 2, 488216: 1, 619290: 1, 619293: 2, 488221: 1, 619306: 1, 619310: 4, 619313: 3, 619314: 4, 488246: 1, 488247: 2, 357183: 5, 619333: 2, 357191: 4, 619339: 4, 619355: 5, 488284: 31, 619364: 2, 357234: 37, 619399: 3, 357256: 2, 619400: 12, 357258: 1, 619403: 2, 619409: 1, 619411: 4, 226201: 4, 619430: 2, 488359: 3, 619432: 1, 619435: 1, 619443: 9, 357301: 4, 619445: 1, 619447: 13, 619448: 3, 226241: 4, 619458: 1, 95176: 1, 226255: 6, 357330: 1, 619475: 2, 488406: 3, 488407: 2, 488412: 1, 619501: 1, 488430: 1, 619505: 5, 619511: 3, 488440: 4, 488441: 7, 488444: 8, 619519: 3, 226303: 1, 95231: 50, 619523: 8, 226318: 4, 488464: 23, 488495: 3, 226357: 3, 619574: 2, 95287: 9, 357433: 8, 226365: 2, 488518: 2, 619593: 1, 357451: 6, 357453: 7, 95320: 2, 619617: 1, 488545: 1, 619619: 1, 619621: 2, 619622: 4, 619624: 9, 619626: 1, 619634: 1, 488577: 4, 488579: 6, 488580: 1, 357508: 1, 488587: 3, 226446: 13, 619663: 4, 488591: 2, 619668: 10, 619691: 3, 619692: 1, 357554: 4, 488628: 5, 226486: 1, 619733: 3, 619742: 2, 619747: 2, 357616: 3, 488692: 4, 619773: 2, 226564: 1, 488709: 6, 619780: 2, 357640: 2, 357649: 2, 619796: 8, 619802: 4, 619807: 3, 619818: 1, 619820: 2, 226608: 8, 488761: 4, 619834: 1, 488778: 1, 357723: 1, 357729: 39, 619878: 1, 619901: 1, 357765: 22, 619910: 4, 619912: 6, 619913: 3, 619916: 4, 619918: 3, 619921: 2, 619927: 1, 619933: 2, 226718: 4, 488862: 3, 488863: 1, 619938: 3, 488869: 1, 619945: 1, 619946: 15, 619952: 4, 95666: 1, 619959: 2, 488893: 16, 488900: 3, 488912: 3, 619993: 2, 95740: 1, 620029: 5, 357889: 1, 357890: 1, 620037: 4, 620053: 5, 489002: 3, 620076: 1, 620087: 3, 489020: 2, 620097: 1, 620105: 7, 357961: 1, 226893: 155, 620117: 3, 620124: 2, 620126: 4, 226910: 3, 489073: 3, 620149: 3, 620154: 2, 358017: 1, 620164: 2, 620167: 4, 620189: 4, 620190: 2, 489127: 156, 620200: 3, 620202: 4, 226988: 1, 620207: 4, 489137: 2, 358074: 4, 489149: 1, 620231: 7, 620236: 3, 620237: 2, 620239: 2, 227024: 5, 95954: 59, 227026: 4, 489185: 2, 620262: 2, 358121: 7, 620267: 3, 227051: 18, 489199: 2, 358139: 10, 96001: 59, 620301: 4, 620303: 2, 620307: 2, 358186: 3, 620334: 5, 489265: 4, 489268: 5, 620355: 1, 620367: 4, 358227: 1, 620372: 2, 620382: 2, 620387: 2, 620393: 2, 489325: 2, 358254: 5, 620402: 4, 489336: 1, 96120: 42, 489343: 1, 620420: 4, 358277: 20, 489354: 2, 620447: 2, 620448: 2, 489380: 6, 620455: 3, 227243: 2, 489392: 1, 620477: 2, 620478: 4, 620485: 3, 489419: 2, 620496: 3, 489427: 6, 227289: 3, 620507: 5, 620510: 2, 358366: 8, 489447: 1, 620520: 4, 358381: 2, 489455: 3, 227316: 2, 489465: 3, 620540: 3, 620550: 1, 620555: 3, 620556: 1, 227343: 8, 489492: 10, 489509: 8, 358447: 4, 358456: 5, 620606: 3, 489535: 1, 358465: 1, 620614: 2, 620616: 5, 620617: 1, 620619: 4, 620621: 3, 489562: 13, 96348: 44, 620637: 1, 620647: 3, 620650: 8, 620652: 7, 620658: 4, 358514: 5, 96379: 9, 96385: 4, 489632: 1, 358560: 10, 489635: 6, 489639: 3, 358593: 1, 620745: 2, 227533: 1, 96463: 1, 358616: 6, 620765: 6, 620766: 3, 620770: 1, 358648: 5, 489724: 1, 620800: 13, 489732: 1, 96528: 9, 620826: 14, 620827: 7, 620828: 5, 358684: 6, 620829: 5, 620831: 4, 489759: 4, 489760: 1, 227620: 2, 358695: 11, 358696: 2, 620852: 4, 620853: 1, 489791: 5, 227649: 1, 620878: 6, 620884: 2, 620886: 4, 489820: 2, 489827: 3, 620901: 13, 489833: 1, 620921: 4, 620922: 3, 620930: 7, 96655: 4, 358800: 2, 620948: 16, 620958: 2, 620976: 2, 358834: 3, 489907: 5, 489908: 1, 358856: 4, 621004: 2, 358862: 4, 358867: 1, 227807: 7, 621030: 4, 358888: 3, 621041: 2, 96757: 3, 621056: 1, 621063: 1, 621064: 2, 489993: 2, 621075: 1, 358939: 1, 621086: 2, 358955: 3, 621107: 1, 358963: 23, 621111: 1, 96841: 20, 621143: 1, 621148: 3, 490077: 3, 621151: 1, 621157: 1, 621159: 3, 621160: 1, 621161: 14, 621166: 2, 621169: 3, 490097: 9, 621170: 1, 490103: 41, 490125: 5, 621200: 7, 490128: 4, 621204: 2, 227992: 2, 621218: 3, 359077: 37, 359088: 4, 621245: 2, 621246: 6, 359104: 2, 621250: 3, 228035: 1, 490187: 1, 359119: 6, 359120: 3, 621271: 2, 490201: 1, 228059: 2, 621285: 1, 228070: 59, 621289: 4, 228077: 1, 228079: 23, 490227: 4, 359157: 21, 621302: 5, 359168: 2, 621312: 1, 228106: 2, 621330: 1, 621334: 3, 97047: 2, 490263: 18, 621338: 1, 359196: 7, 490271: 3, 490275: 1, 621348: 1, 228133: 2, 490277: 4, 97067: 1, 97071: 59, 490289: 1, 621365: 2, 621367: 2, 490296: 9, 97088: 1, 621377: 1, 621384: 1, 490324: 2, 490325: 2, 490326: 3, 359257: 2, 359259: 1, 359265: 6, 621410: 18, 490338: 5, 359272: 1, 621422: 1, 621423: 9, 228210: 3, 621436: 4, 621449: 1, 359309: 52, 621454: 2, 621455: 21, 228249: 2, 490396: 3, 490405: 2, 490409: 1, 621484: 2, 621488: 2, 97208: 14, 621500: 1, 621504: 5, 621505: 4, 359361: 5, 621507: 1, 490436: 1, 228291: 2, 621511: 12, 490444: 1, 621517: 3, 359382: 1, 621539: 4, 97253: 2, 621547: 3, 359403: 2, 359408: 39, 621554: 3, 621565: 3, 490494: 1, 490495: 6, 490497: 2, 621578: 4, 621592: 3, 621608: 2, 621612: 1, 621620: 1, 490565: 1, 490591: 3, 621666: 3, 621669: 2, 490599: 4, 490600: 1, 490602: 8, 621676: 5, 621677: 7, 621681: 2, 359541: 3, 490613: 37, 490628: 3, 621701: 11, 621702: 4, 359559: 5, 621704: 7, 490633: 9, 621707: 1, 621726: 1, 359590: 1, 490665: 3, 228524: 5, 621742: 2, 621744: 8, 490678: 2, 490679: 1, 621756: 7, 490688: 3, 359623: 3, 359624: 2, 621772: 4, 621773: 2, 228572: 26, 228579: 2, 621799: 5, 359662: 6, 621827: 2, 621843: 3, 359709: 4, 490793: 7, 621868: 14, 359746: 4, 621892: 2, 621893: 4, 621902: 1, 621905: 2, 490835: 3, 228693: 1, 490838: 11, 490839: 4, 490840: 10, 621948: 4, 621952: 4, 621962: 5, 621972: 1, 621975: 1, 97687: 4, 359834: 1, 490908: 1, 621983: 2, 621985: 4, 621988: 3, 359847: 1, 621995: 2, 359855: 11, 359869: 101, 490941: 7, 490947: 2, 228805: 1, 97735: 10, 490957: 1, 622031: 1, 622063: 2, 622067: 10, 622084: 1, 97801: 1, 622093: 4, 622094: 3, 622096: 4, 622106: 1, 622107: 28, 228905: 3, 622124: 9, 622125: 3, 228912: 1, 622131: 4, 491063: 2, 622142: 2, 360005: 31, 228936: 3, 622161: 1, 622169: 1, 622170: 2, 491113: 4, 491116: 1, 228986: 1, 491134: 1, 491145: 1, 491146: 1, 622224: 6, 622242: 3, 360100: 4, 622246: 3, 622253: 2, 491186: 5, 491188: 4, 622265: 2, 622269: 3, 622278: 3, 622286: 2, 622289: 2, 622298: 6, 491231: 4, 622306: 1, 622312: 6, 229097: 3, 229111: 55, 622331: 1, 360216: 5, 360218: 5, 491298: 4, 622373: 2, 622379: 4, 622382: 1, 229171: 7, 622404: 2, 491337: 1, 360270: 8, 491351: 1, 491362: 6, 229223: 4, 622444: 9, 360305: 3, 360312: 3, 229250: 24, 360343: 1, 622491: 2, 622494: 5, 360363: 1, 360365: 1, 622511: 2, 491463: 4, 229327: 1, 360405: 7, 491478: 4, 622552: 1, 622558: 1, 622564: 1, 229352: 1, 360440: 2, 622592: 3, 622613: 2, 491550: 18, 229409: 41, 360481: 12, 622631: 2, 229415: 1, 622644: 3, 622647: 7, 622650: 2, 491588: 4, 491592: 14, 622667: 6, 360528: 1, 622673: 6, 622675: 4, 491606: 4, 622679: 1, 622682: 3, 229470: 3, 491618: 1, 622712: 2, 622713: 42, 622717: 7, 622718: 4, 622719: 1, 622722: 3, 622723: 3, 622724: 2, 229519: 155, 491663: 2, 622760: 4, 360617: 1, 622762: 5, 491694: 1, 622767: 4, 491706: 1, 622784: 3, 360656: 6, 98519: 1, 622815: 7, 622819: 4, 491759: 2, 98551: 1, 622854: 6, 360730: 31, 622882: 1, 622883: 2, 360740: 5, 622897: 10, 491825: 3, 229687: 16, 491836: 1, 360766: 8, 229706: 101, 622924: 8, 622935: 3, 622936: 3, 622956: 9, 622957: 2, 622960: 2, 98704: 3, 622993: 1, 622995: 3, 622998: 5, 491931: 1, 623009: 5, 360866: 26, 98725: 1, 491943: 2, 623016: 1, 623033: 2, 229819: 3, 623040: 1, 623050: 1, 623051: 2, 360912: 155, 491989: 2, 491993: 5, 229855: 14, 491999: 3, 229862: 23, 98795: 1, 623084: 1, 98798: 27, 623098: 1, 623100: 5, 623103: 1, 623117: 3, 492050: 6, 492055: 14, 492059: 2, 623134: 4, 492065: 2, 98878: 5, 623167: 8, 229951: 6, 623181: 1, 623191: 3, 623197: 2, 623204: 2, 623207: 2, 98926: 59, 361073: 2, 361080: 1, 492154: 6, 623230: 3, 623234: 9, 623243: 1, 623246: 3, 361112: 3, 230045: 2, 623267: 3, 623272: 1, 361135: 4, 623280: 1, 623282: 1, 492212: 1, 361153: 7, 492252: 8, 492257: 3, 623343: 1, 623355: 4, 623371: 2, 230155: 5, 99084: 101, 492302: 3, 99088: 1, 492310: 3, 623387: 2, 492320: 28, 492323: 3, 623396: 2, 361254: 1, 623401: 1, 623405: 2, 623418: 4, 623420: 3, 361279: 12, 492358: 5, 623432: 3, 623433: 1, 492367: 4, 623456: 17, 492384: 3, 623464: 6, 623470: 3, 230271: 6, 99208: 155, 623503: 3, 623504: 3, 623508: 3, 623519: 7, 361379: 2, 623524: 2, 492470: 9, 361408: 6, 623553: 9, 623555: 1, 492489: 5, 492514: 3, 623592: 3, 623596: 2, 361453: 4, 230382: 4, 623615: 6, 492544: 1, 623616: 3, 623620: 2, 492549: 1, 623622: 8, 623621: 1, 361484: 3, 623630: 4, 623631: 9, 623643: 1, 99359: 6, 623660: 2, 623666: 5, 623668: 1, 230453: 6, 230452: 2, 492599: 2, 492624: 3, 623698: 6, 492638: 1, 492641: 7, 99427: 3, 623716: 3, 492643: 5, 623721: 3, 492652: 2, 623731: 4, 623734: 4, 99449: 14, 623743: 1, 99461: 1, 361606: 101, 492679: 22, 361608: 2, 230537: 2, 230545: 1, 492691: 2, 492696: 3, 492701: 3, 623775: 11, 623781: 5, 623782: 3, 623783: 4, 230565: 1, 492719: 1, 230577: 17, 623800: 1, 623813: 17, 492741: 4, 492744: 9, 623817: 5, 623819: 2, 99533: 3, 623823: 4, 361691: 9, 492766: 1, 492777: 9, 623855: 10, 492783: 3, 361716: 1, 623866: 1, 623873: 4, 99586: 50, 492809: 1, 361755: 1, 99611: 3, 623903: 2, 623905: 4, 492833: 3, 230694: 2, 623917: 1, 492850: 3, 492853: 6, 361792: 3, 623941: 5, 623942: 1, 623943: 4, 230726: 2, 623945: 4, 492870: 4, 492871: 12, 492877: 4, 492878: 3, 492885: 3, 623962: 1, 492896: 2, 361825: 1, 492910: 3, 623987: 7, 623990: 1, 623991: 3, 99708: 2, 623999: 3, 624010: 1, 492958: 7, 624031: 2, 624039: 7, 624042: 2, 361900: 1, 492980: 3, 230838: 18, 492989: 3, 624072: 4, 624088: 3, 493021: 6, 230881: 155, 493025: 2, 624114: 8, 493053: 2, 230911: 3, 230926: 55, 361999: 3, 624149: 6, 493080: 2, 362008: 1, 624153: 10, 493083: 8, 624155: 2, 362023: 155, 362036: 31, 624186: 2, 493114: 4, 624187: 3, 624190: 8, 362056: 24, 230985: 1, 362060: 18, 362066: 4, 230996: 7, 493144: 4, 362077: 3, 493149: 2, 493151: 4, 493156: 3, 362092: 6, 624240: 5, 493173: 3, 624246: 4, 624261: 1, 493203: 4, 493204: 14, 624283: 4, 624292: 13, 231089: 3, 624309: 2, 100026: 2, 362173: 1, 362175: 1, 624320: 4, 362176: 5, 493253: 1, 493255: 6, 493257: 1, 624332: 1, 493266: 2, 493267: 3, 624340: 6, 624341: 5, 362199: 1, 362208: 16, 624358: 3, 100072: 2, 493313: 8, 493314: 2, 493318: 6, 362251: 3, 100111: 2, 624413: 8, 624415: 5, 624417: 5, 231203: 1, 624423: 3, 493351: 1, 493356: 1, 624430: 5, 624441: 1, 231230: 2, 624453: 1, 624454: 2, 624457: 3, 624461: 2, 493408: 2, 100196: 5, 493414: 11, 493415: 5, 624486: 11, 493418: 1, 624492: 1, 624493: 2, 100208: 59, 624499: 8, 624511: 2, 362368: 3, 362370: 1, 624520: 1, 624527: 5, 624528: 15, 362395: 3, 493489: 10, 493497: 1, 362428: 2, 624573: 6, 624577: 2, 493507: 1, 624594: 1, 624597: 1, 493534: 9, 493536: 3, 493538: 11, 493539: 6, 624612: 4, 362469: 7, 624615: 1, 493544: 3, 493554: 1, 624631: 1, 231417: 2, 624639: 3, 624640: 2, 624645: 4, 624651: 2, 624670: 1, 624671: 5, 624677: 4, 624679: 1, 624692: 1, 624712: 3, 624715: 6, 493644: 3, 362572: 28, 100430: 1, 624729: 3, 624731: 3, 493681: 1, 624754: 5, 362612: 57, 624757: 4, 624758: 5, 362627: 2, 624775: 28, 493715: 7, 624789: 4, 493721: 5, 624798: 1, 624806: 4, 362669: 10, 624821: 1, 362677: 3, 624824: 2, 624828: 2, 493763: 18, 624836: 3, 624851: 11, 100574: 3, 624870: 7, 100586: 4, 493804: 2, 624879: 1, 493807: 10, 362746: 3, 624897: 6, 493827: 3, 493830: 1, 493843: 21, 493844: 2, 493851: 3, 493854: 5, 624935: 3, 624936: 5, 624940: 2, 624954: 5, 493883: 37, 624973: 2, 493906: 3, 624979: 1, 624996: 3, 624997: 2, 362854: 1, 625000: 3, 625003: 3, 625004: 2, 362868: 6, 493946: 2, 493948: 2, 493951: 1, 625031: 7, 625047: 2, 625055: 4, 493995: 3, 625067: 8, 625069: 7, 493998: 2, 494000: 1, 494002: 2, 625081: 2, 625082: 7, 625084: 4, 362949: 9, 625094: 2, 625107: 6, 231895: 4, 625114: 42, 494042: 6, 100845: 4, 625136: 6, 625146: 7, 625151: 2, 625160: 1, 231950: 1, 231968: 2, 625186: 4, 625189: 2, 494125: 4, 625219: 2, 494152: 4, 625228: 2, 363099: 6, 494173: 1, 494176: 1, 625248: 1, 625264: 2, 494203: 1, 625281: 2, 494217: 2, 101003: 26, 494222: 1, 625295: 4, 363162: 155, 625307: 3, 625343: 2, 625348: 5, 494289: 23, 363219: 2, 494292: 2, 625387: 10, 625401: 6, 625403: 5, 625407: 2, 625410: 3, 625411: 3, 363269: 3, 494344: 5, 494347: 1, 625420: 3, 494356: 1, 494370: 2, 625456: 3, 625460: 2, 625481: 10, 494411: 1, 232270: 1, 625489: 4, 494418: 3, 625494: 2, 494425: 3, 101212: 1, 232299: 7, 625517: 8, 494449: 6, 625525: 8, 494459: 9, 494461: 1, 494464: 1, 625565: 5, 363426: 37, 625573: 2, 625574: 2, 494505: 3, 494507: 3, 625579: 4, 494508: 4, 101303: 6, 232375: 28, 625598: 9, 363461: 2, 625605: 4, 494547: 3, 625623: 1, 625628: 2, 494563: 3, 625636: 10, 625639: 1, 101356: 1, 494572: 3, 625650: 13, 625659: 2, 625663: 7, 494597: 1, 494599: 4, 494601: 1, 625710: 2, 363567: 4, 101432: 2, 625721: 5, 625726: 1, 625741: 3, 625770: 2, 625785: 41, 625800: 1, 494729: 1, 625817: 9, 494758: 2, 625840: 2, 494776: 2, 363705: 1, 625850: 1, 232634: 4, 625852: 15, 101567: 39, 625862: 5, 625878: 2, 625880: 1, 363738: 11, 363739: 3, 232673: 4, 494818: 4, 625894: 6, 625895: 1, 625896: 7, 625906: 4, 625907: 2, 494836: 2, 625925: 3, 625931: 7, 625952: 4, 494882: 4, 625965: 3, 625967: 3, 232755: 6, 232756: 8, 494910: 2, 363840: 2, 494919: 1, 626000: 8, 626003: 3, 363882: 4, 626028: 5, 494956: 6, 626030: 6, 626035: 2, 232823: 3, 494973: 2, 494977: 4, 626050: 3, 363907: 1, 626052: 5, 494983: 2, 626056: 5, 494988: 1, 626068: 1, 494999: 2, 626072: 13, 232865: 3, 626082: 1, 495011: 2, 626089: 3, 626093: 8, 626106: 4, 495034: 2, 495036: 6, 363971: 1, 626120: 10, 495050: 1, 363980: 3, 626126: 2, 626131: 4, 626138: 4, 626142: 2, 495071: 6, 626143: 4, 626145: 7, 626146: 1, 626147: 7, 626149: 6, 626152: 4, 626160: 7, 232945: 1, 626170: 1, 232960: 2, 626176: 2, 495109: 9, 495113: 1, 495118: 4, 364049: 1, 495130: 4, 626205: 2, 626221: 1, 364081: 15, 364087: 56, 626232: 5, 626234: 1, 495181: 2, 626262: 4, 626263: 4, 233050: 12, 495198: 5, 495204: 1, 495208: 1, 495219: 1, 364152: 2, 626303: 4, 626307: 1, 495238: 1, 364168: 1, 495243: 3, 626317: 7, 626318: 1, 233103: 6, 626329: 2, 495258: 7, 626335: 11, 626337: 4, 626340: 1, 626344: 2, 626347: 3, 626357: 5, 626358: 3, 626361: 2, 364220: 2, 626374: 9, 233166: 5, 626394: 3, 626396: 3, 626411: 2, 364276: 32, 495349: 3, 233212: 3, 364285: 155, 626431: 3, 626448: 1, 626453: 1, 626467: 2, 364326: 8, 626474: 17, 495406: 2, 102194: 1, 495415: 4, 626488: 5, 626493: 7, 626494: 5, 626507: 4, 626519: 1, 495448: 3, 495447: 3, 626520: 4, 626524: 2, 626525: 1, 626530: 1, 626535: 3, 364395: 2, 626539: 4, 626542: 7, 626545: 5, 364402: 1, 495485: 10, 495486: 3, 626578: 4, 495517: 4, 626591: 3, 495529: 3, 495531: 2, 626604: 1, 626609: 9, 626610: 5, 626613: 2, 626624: 5, 495552: 2, 626636: 29, 495574: 7, 233433: 3, 626651: 2, 626655: 5, 102372: 2, 495589: 3, 626681: 11, 626682: 3, 626685: 4, 626689: 1, 626691: 2, 233481: 2, 626705: 17, 495634: 7, 495636: 1, 364565: 13, 495642: 1, 364575: 4, 102431: 3, 626721: 7, 626723: 7, 102436: 1, 626727: 4, 626729: 1, 364597: 32, 495673: 6, 495674: 1, 364613: 3, 364625: 2, 626773: 2, 364647: 14, 626802: 3, 364659: 32, 626806: 1, 495735: 4, 626807: 2, 495737: 4, 626810: 3, 626811: 1, 364669: 32, 626815: 6, 626829: 3, 495763: 6, 364692: 31, 495768: 6, 626842: 7, 495774: 4, 626847: 3, 626851: 3, 626854: 3, 626868: 1, 495806: 4, 495809: 1, 626902: 3, 233688: 1, 364769: 3, 626915: 1, 626918: 11, 495850: 6, 626922: 1, 626926: 2, 495854: 1, 626943: 3, 626946: 1, 102659: 8, 364806: 4, 626954: 1, 626958: 3, 626961: 4, 495896: 2, 626972: 3, 495905: 6, 626984: 13, 626989: 14, 626990: 4, 626995: 3, 627001: 2, 495935: 3, 495936: 5, 495940: 1, 495945: 2, 627017: 1, 627019: 1, 627021: 2, 627022: 14, 627023: 4, 627024: 5, 627027: 2, 233812: 1, 233818: 1, 495973: 16, 495975: 2, 495982: 1, 627062: 1, 102774: 23, 627064: 3, 233853: 6, 627087: 3, 233876: 50, 102812: 2, 364957: 2, 496034: 2, 496058: 3, 364987: 5, 233917: 5, 627154: 5, 233940: 2, 496090: 1, 365029: 3, 627177: 3, 233964: 2, 627183: 2, 627185: 13, 627187: 3, 365058: 9, 627203: 4, 627216: 10, 365074: 1, 365076: 5, 627221: 4, 234006: 3, 365087: 56, 365088: 56, 627233: 1, 627235: 7, 627241: 3, 627249: 5, 365107: 55, 496193: 2, 627269: 2, 627273: 2, 102988: 5, 234061: 5, 627280: 2, 365141: 2, 627287: 7, 627290: 1, 627294: 2, 103008: 3, 234085: 1, 627316: 3, 627321: 2, 365178: 13, 365179: 101, 365181: 1, 496258: 7, 627338: 1, 627344: 3, 365215: 3, 627372: 9, 627374: 7, 496305: 1, 627387: 3, 627388: 5, 627396: 2, 627399: 1, 234186: 3, 365259: 1, 627406: 2, 234193: 2, 627412: 3, 627415: 2, 627418: 5, 627427: 1, 496357: 3, 627431: 1, 627432: 2, 365294: 1, 234223: 28, 627438: 1, 627441: 2, 627449: 1, 234241: 3, 627468: 3, 365326: 3, 627475: 3, 627476: 2, 234266: 5, 496413: 1, 627490: 6, 627495: 15, 627497: 3, 234294: 1, 627515: 3, 627516: 9, 627521: 4, 627522: 2, 627529: 14, 103245: 155, 365392: 1, 627540: 2, 627541: 1, 627571: 8, 234359: 24, 627578: 5, 627597: 1, 103318: 1, 627608: 2, 627612: 1, 496546: 1, 627622: 10, 627625: 5, 234423: 3, 627642: 6, 365502: 3, 365514: 6, 496592: 2, 496593: 2, 627667: 7, 627669: 1, 627670: 2, 627672: 2, 627678: 2, 627680: 3, 627682: 4, 627687: 6, 103402: 5, 627690: 6, 627701: 13, 234485: 59, 627711: 1, 627717: 1, 627718: 2, 103431: 6, 103432: 4, 627738: 2, 627739: 3, 627741: 2, 365598: 4, 627744: 2, 627771: 6, 627772: 5, 627773: 4, 627781: 3, 627799: 1, 365669: 1, 627829: 3, 365688: 1, 627837: 5, 627838: 3, 627839: 5, 496782: 1, 365724: 10, 627869: 3, 627870: 2, 103587: 1, 365741: 7, 627892: 2, 627893: 2, 627894: 3, 627897: 2, 627909: 8, 627912: 8, 627916: 6, 365773: 5, 627921: 8, 234716: 24, 496860: 2, 103653: 24, 627951: 1, 627953: 3, 627955: 3, 496887: 2, 627959: 2, 627963: 5, 496903: 3, 627985: 3, 496924: 2, 365854: 4, 496932: 4, 365861: 1, 496934: 2, 628007: 1, 628033: 3, 365894: 2, 628052: 1, 496982: 3, 628054: 3, 365912: 34, 365914: 34, 628058: 2, 628065: 3, 628066: 6, 628083: 2, 628093: 1, 628098: 2, 628106: 9, 628107: 9, 365969: 5, 628129: 2, 365987: 2, 628135: 1, 628136: 2, 365994: 8, 366006: 1, 628151: 2, 497081: 4, 234942: 4, 628164: 7, 628168: 4, 628169: 3, 628170: 7, 497098: 1, 628178: 4, 628190: 2, 628194: 1, 497125: 4, 497131: 8, 628204: 1, 628212: 11, 366087: 5, 628232: 1, 366093: 1, 235030: 3, 366110: 3, 628259: 1, 628260: 9, 628267: 1, 628269: 4, 235055: 4, 497205: 4, 628301: 1, 366158: 2, 628306: 2, 628311: 1, 628320: 3, 497258: 2, 497264: 5, 628340: 2, 366197: 41, 497269: 2, 366200: 5, 366203: 5, 497299: 1, 104083: 2, 497313: 9, 235177: 15, 628398: 2, 366258: 3, 628407: 14, 628410: 13, 104127: 56, 628417: 1, 628420: 1, 235212: 1, 497359: 2, 366288: 2, 235222: 5, 628439: 7, 628441: 2, 497370: 4, 628449: 4, 628472: 5, 497400: 16, 628475: 4, 628476: 5, 628477: 2, 497412: 1, 104203: 5, 628495: 3, 497428: 28, 366371: 42, 497452: 15, 628528: 2, 497462: 101, 235319: 2, 497483: 2, 104293: 1, 628586: 3, 628592: 2, 628593: 5, 628596: 7, 628605: 2, 628611: 3, 497546: 9, 235406: 10, 104334: 3, 104337: 1, 628630: 4, 497570: 1, 497571: 3, 497587: 4, 628662: 8, 628663: 5, 628665: 8, 235457: 2, 628689: 3, 497618: 4, 497622: 7, 497632: 3, 628707: 7, 235516: 7, 628743: 31, 628746: 2, 628747: 2, 497695: 2, 628776: 2, 497706: 1, 497729: 2, 628801: 1, 628805: 4, 497740: 1, 628815: 16, 628820: 3, 628827: 4, 497767: 5, 497768: 1, 628839: 2, 104551: 3, 497771: 5, 628852: 7, 235639: 9, 235641: 1, 628858: 1, 628862: 5, 628870: 3, 497801: 2, 104594: 1, 104595: 3, 628894: 7, 628895: 1, 235684: 1, 628902: 10, 628905: 3, 628908: 2, 497842: 2, 104630: 1, 628922: 3, 497856: 2, 628937: 11, 366794: 3, 628938: 3, 628946: 1, 628951: 1, 628956: 2, 628957: 5, 628960: 6, 628962: 2, 235760: 11, 497917: 3, 628991: 6, 629001: 4, 629002: 1, 629008: 11, 629017: 3, 497945: 1, 629019: 4, 629022: 4, 497952: 3, 497954: 2, 497957: 12, 629030: 3, 497981: 1, 497993: 8, 235857: 5, 498001: 14, 629075: 1, 629110: 2, 629120: 5, 366976: 4, 498050: 8, 498051: 6, 629133: 5, 367005: 4, 367008: 2, 235944: 1, 629181: 11, 629196: 5, 629198: 2, 629199: 2, 367056: 1, 629208: 2, 629209: 3, 629212: 2, 629214: 5, 498154: 4, 498155: 37, 629226: 4, 236028: 2, 629245: 2, 104962: 4, 629253: 1, 236037: 3, 498193: 3, 629267: 4, 498203: 4, 498214: 37, 236074: 2, 629293: 2, 629294: 16, 105009: 1, 498235: 3, 367166: 2, 236098: 2, 629318: 1, 236115: 4, 236116: 1, 498267: 1, 367198: 26, 498282: 3, 367210: 10, 498284: 32, 629360: 2, 236149: 5, 629372: 2, 629375: 3, 629376: 3, 629377: 3, 498307: 4, 629383: 5, 629384: 1, 629385: 2, 629388: 29, 105104: 2, 498323: 3, 629405: 2, 105124: 4, 629418: 3, 367278: 101, 498383: 1, 629455: 2, 629462: 4, 498413: 3, 629497: 3, 236286: 7, 498432: 1, 367374: 1, 629518: 3, 498453: 3, 629534: 5, 629539: 3, 629545: 2, 629552: 4, 236341: 23, 498487: 1, 498488: 1, 629564: 2, 629567: 4, 629584: 4, 367448: 101, 629593: 3, 629594: 2, 236380: 2, 629598: 1, 629606: 2, 367474: 6, 629621: 1, 629624: 4, 498564: 9, 629642: 7, 629648: 1, 629656: 1, 105373: 2, 236447: 1, 629674: 2, 236459: 4, 236462: 1, 498607: 2, 629689: 9, 629703: 2, 498631: 23, 629705: 3, 629706: 6, 498647: 1, 629720: 10, 629736: 1, 498665: 5, 629738: 1, 498671: 17, 629753: 5, 629755: 10, 498684: 5, 236548: 6, 367633: 4, 629779: 3, 629780: 6, 629783: 9, 498715: 3, 629790: 1, 367648: 1, 629815: 2, 236599: 2, 629820: 1, 629825: 8, 367684: 13, 498769: 8, 498770: 6, 105560: 2, 498788: 1, 498789: 1, 498801: 3, 629875: 3, 498804: 1, 105602: 2, 629895: 5, 236680: 50, 629908: 1, 629921: 3, 629925: 8, 629929: 2, 367798: 2, 629945: 3, 629953: 15, 105675: 4, 367821: 4, 498912: 8, 629993: 1, 629994: 1, 367866: 3, 630019: 7, 630020: 2, 498949: 7, 630023: 3, 367882: 2, 236818: 2, 630043: 2, 630045: 1, 630055: 4, 105768: 1, 367923: 3, 498996: 3, 630073: 2, 105789: 3, 630083: 4, 630091: 3, 630109: 2, 367968: 5, 236899: 4, 630128: 5, 630136: 17, 630144: 4, 368002: 4, 630154: 2, 630158: 3, 368014: 12, 368035: 37, 236964: 4, 630186: 4, 630187: 11, 368043: 8, 630198: 13, 236990: 37, 236997: 1, 368071: 4, 630216: 3, 630218: 7, 630220: 1, 105938: 3, 237014: 2, 237031: 1, 499185: 3, 630264: 1, 630269: 4, 630271: 6, 630282: 4, 499216: 3, 499223: 2, 499224: 3, 237084: 1, 630304: 2, 630314: 1, 237100: 6, 368175: 2, 630321: 1, 630329: 3, 630331: 6, 630342: 2, 499272: 4, 630347: 1, 630349: 3, 499280: 2, 630371: 10, 499300: 37, 630375: 3, 237167: 2, 630390: 3, 499336: 6, 630410: 20, 630413: 3, 237202: 2, 630429: 3, 106141: 1, 630440: 2, 106153: 155, 499372: 1, 499379: 2, 630477: 8, 630482: 5, 630484: 3, 237268: 3, 630504: 15, 630512: 1, 630513: 3, 630514: 1, 499451: 2, 630523: 5, 106235: 7, 499454: 2, 237311: 11, 368388: 2, 630540: 7, 630546: 1, 630548: 6, 630552: 5, 499486: 9, 499490: 4, 499496: 20, 630574: 17, 499514: 2, 630588: 4, 368449: 4, 499532: 1, 499545: 59, 630618: 1, 499549: 3, 630621: 3, 499551: 3, 630623: 5, 499558: 2, 499568: 1, 630649: 2, 630650: 8, 630652: 1, 630653: 10, 630668: 1, 368531: 3, 499604: 3, 368534: 5, 368536: 5, 630681: 2, 630684: 6, 368546: 2, 499627: 37, 368556: 2, 630709: 6, 499638: 41, 237497: 13, 630714: 7, 630715: 4, 499644: 8, 106434: 2, 630723: 1, 630730: 4, 630734: 3, 630739: 5, 368608: 5, 368611: 1, 499683: 2, 106482: 2, 368646: 12, 630791: 6, 368652: 45, 237584: 56, 630810: 4, 630811: 1, 630815: 2, 106541: 40, 237614: 60, 499757: 7, 630833: 1, 630835: 5, 368703: 1, 106559: 1, 630849: 6, 630863: 2, 368719: 3, 106580: 7, 499802: 3, 368734: 3, 630890: 13, 630897: 1, 630900: 3, 630909: 2, 237696: 2, 499842: 2, 499856: 2, 630929: 1, 630935: 2, 499863: 1, 630946: 3, 630968: 1, 630973: 1, 630983: 5, 630999: 1, 631006: 4, 499938: 4, 631011: 2, 631013: 3, 631017: 2, 368887: 6, 106747: 2, 631036: 2, 631037: 4, 499979: 6, 631053: 2, 106771: 1, 106780: 28, 631070: 1, 631074: 3, 631085: 5, 500020: 1, 631102: 2, 631105: 3, 368964: 2, 631111: 4, 631115: 1, 500044: 3, 500050: 1, 237907: 1, 500054: 2, 368984: 7, 500057: 101, 631132: 6, 106846: 3, 500062: 1, 631140: 1, 500084: 2, 631158: 7, 106887: 2, 631175: 4, 369034: 3, 500108: 60, 631184: 2, 631186: 1, 631198: 5, 369057: 2, 369058: 43, 369060: 1, 631209: 5, 631221: 7, 500154: 9, 631235: 1, 500170: 1, 631249: 6, 631260: 5, 631261: 5, 631264: 17, 500196: 3, 631269: 10, 106983: 1, 500205: 3, 500221: 2, 369155: 14, 107015: 59, 500232: 3, 631308: 1, 631316: 5, 369173: 10, 238113: 10, 631335: 4, 238120: 1, 500269: 5, 631372: 2, 631375: 1, 631379: 1, 500311: 1, 500312: 5, 631389: 2, 107103: 10, 369254: 1, 631403: 1, 631405: 3, 631425: 1, 631426: 1, 631446: 1, 107171: 1, 500394: 1, 107179: 2, 631472: 1, 631479: 3, 500407: 1, 238272: 2, 631494: 2, 631499: 4, 631506: 1, 238295: 2, 107234: 1, 631523: 6, 369382: 2, 631531: 12, 631532: 4, 500461: 2, 631534: 2, 500465: 5, 631538: 1, 631540: 2, 631542: 14, 631552: 1, 631553: 12, 631556: 4, 107271: 27, 631571: 5, 500510: 6, 107295: 3, 631586: 2, 631588: 2, 500521: 9, 500523: 14, 500526: 5, 500532: 4, 238389: 59, 631605: 10, 500533: 3, 631624: 2, 631630: 2, 369488: 1, 500565: 4, 631639: 4, 238428: 2, 631645: 3, 631646: 4, 631649: 1, 500581: 1, 631656: 4, 631658: 4, 369515: 1, 631680: 1, 500615: 6, 500618: 2, 500619: 3, 369556: 5, 631711: 2, 500642: 5, 631717: 2, 500662: 4, 238518: 1, 369593: 44, 631741: 1, 107455: 2, 369608: 27, 500694: 2, 631769: 2, 500698: 4, 107494: 2, 631787: 3, 631792: 10, 631793: 2, 369670: 1, 631820: 5, 107544: 4, 631848: 1, 500777: 1, 500783: 4, 500785: 13, 369722: 2, 238655: 60, 631880: 2, 369739: 3, 631885: 2, 369748: 3, 107605: 155, 631893: 4, 500834: 1, 500836: 1, 107621: 2, 238693: 17, 369771: 2, 631916: 3, 631929: 6, 369791: 2, 631936: 2, 238720: 2, 631937: 1, 369808: 3, 500884: 5, 500886: 1, 631965: 2, 500899: 3, 631971: 2, 631976: 2, 500905: 1, 238774: 20, 369850: 5, 631998: 4, 632004: 1, 500935: 5, 632014: 2, 500942: 1, 632020: 2, 632021: 1, 500953: 4, 107745: 32, 632040: 3, 632042: 2, 632047: 3, 632059: 2, 238849: 41, 500994: 9, 238850: 1, 632068: 2, 632076: 1, 632079: 2, 369935: 2, 632100: 2, 501048: 1, 632127: 6, 369993: 9, 632139: 3, 632150: 3, 632156: 1, 370016: 1, 632161: 7, 632163: 10, 501096: 3, 632169: 5, 632170: 1, 632172: 6, 501104: 7, 238965: 5, 501127: 1, 501131: 3, 370063: 1, 632219: 2, 239006: 1, 501154: 2, 501155: 7, 632235: 1, 501171: 2, 632244: 10, 370114: 2, 632258: 3, 632260: 3, 370116: 1, 370117: 37, 370126: 1, 632271: 5, 632273: 3, 370129: 5, 239059: 1, 107995: 1, 501221: 3, 632294: 6, 370158: 2, 632308: 2, 632322: 2, 501254: 3, 632332: 4, 501273: 1, 632364: 8, 501295: 5, 632369: 1, 501298: 4, 501299: 5, 632372: 5, 370243: 1, 632396: 6, 632400: 2, 632413: 7, 632418: 2, 501348: 2, 108145: 1, 632447: 2, 632463: 7, 632464: 1, 632474: 2, 501405: 9, 501426: 1, 501440: 1, 108225: 2, 632514: 3, 239310: 1, 632536: 2, 632557: 4, 370421: 3, 632571: 4, 501512: 2, 632586: 10, 632592: 2, 108306: 2, 501536: 4, 239399: 1, 632619: 2, 501558: 2, 632637: 1, 632640: 2, 632642: 17, 632643: 3, 239426: 3, 370530: 8, 239468: 2, 632686: 1, 632688: 5, 370545: 1, 501621: 5, 501622: 1, 501625: 2, 632700: 2, 370573: 41, 501646: 2, 501659: 1, 632735: 1, 632741: 8, 501681: 1, 632756: 3, 632761: 5, 632764: 5, 370620: 8, 632777: 3, 501723: 2, 632798: 5, 370665: 7, 370668: 2, 370672: 4, 370676: 6, 370680: 2, 632830: 5, 632835: 3, 632838: 3, 501770: 1, 501775: 3, 370708: 28, 501791: 9, 370720: 1, 632870: 3, 239657: 2, 632875: 1, 370734: 7, 632880: 2, 239667: 37, 370765: 1, 501844: 1, 632917: 14, 501852: 1, 239711: 1, 370800: 3, 501889: 24, 501890: 6, 239747: 1, 501898: 56, 370836: 3, 501909: 1, 370837: 24, 239775: 1, 501921: 2, 632994: 3, 501926: 1, 632999: 2, 501930: 2, 501931: 2, 239803: 1, 501948: 11, 239805: 2, 239807: 7, 633024: 3, 633023: 6, 108740: 2, 633032: 2, 633040: 2, 501969: 16, 108762: 2, 501988: 1, 633066: 4, 633070: 3, 370938: 7, 633091: 2, 633104: 17, 370974: 1, 370995: 2, 633140: 6, 633144: 7, 502074: 5, 502075: 6, 371009: 1, 633155: 5, 633165: 2, 633169: 4, 371039: 1, 633186: 3, 633189: 5, 633190: 2, 502120: 2, 502122: 3, 108907: 1, 633202: 2, 239987: 1, 633210: 4, 633223: 7, 108940: 17, 502163: 1, 633236: 4, 633238: 3, 371104: 2, 633255: 1, 633258: 5, 371115: 26, 240053: 37, 633278: 3, 240064: 6, 502215: 2, 633289: 3, 633291: 2, 633296: 2, 371162: 2, 633312: 2, 502245: 4, 502247: 6, 633319: 1, 502251: 12, 371180: 1, 502257: 1, 633337: 2, 633345: 10, 633347: 6, 633358: 7, 240145: 1, 502291: 2, 633387: 2, 633392: 3, 633393: 2, 240178: 35, 502322: 1, 633404: 3, 240192: 1, 633428: 4, 371298: 1, 633452: 3, 502388: 13, 633477: 8, 633479: 6, 633480: 3, 502432: 2, 109218: 28, 502436: 6, 633518: 14, 633519: 8, 633521: 5, 240306: 158, 502450: 2, 371391: 1, 633538: 9, 633553: 3, 502488: 2, 240353: 2, 371426: 2, 633575: 1, 633584: 1, 502520: 6, 633603: 2, 633604: 3, 633608: 4, 633618: 3, 633632: 3, 633642: 2, 371518: 28, 371523: 3, 240455: 1, 502603: 5, 502607: 1, 502608: 1, 633681: 1, 502611: 1, 371542: 2, 502622: 2, 633709: 4, 633713: 7, 240498: 6, 502645: 1, 633719: 13, 633729: 4, 633732: 5, 633733: 7, 502662: 1, 633735: 9, 240529: 2, 502674: 1, 633748: 4, 633755: 7, 633757: 7, 633760: 5, 240570: 2, 633790: 2, 633796: 1, 633806: 3, 371675: 1, 371678: 6, 502766: 3, 240629: 1, 633846: 8, 633852: 5, 633853: 5, 633855: 6, 633868: 3, 633871: 1, 633872: 2, 633877: 3, 109592: 155, 502809: 4, 502813: 3, 633890: 2, 502819: 12, 371751: 2, 633903: 1, 633931: 14, 371797: 1, 371799: 11, 633944: 4, 502879: 19, 502884: 101, 633959: 3, 633970: 4, 633971: 3, 109691: 7, 633981: 1, 633986: 2, 371843: 1, 502917: 3, 502921: 2, 502922: 2, 502927: 31, 634009: 3, 634016: 3, 634024: 4, 502955: 1, 634035: 4, 502970: 3, 240837: 55, 634075: 6, 634076: 7, 634077: 3, 503006: 5, 503005: 1, 503010: 6, 240867: 1, 503013: 2, 634086: 3, 634089: 2, 240883: 1, 634100: 1, 503039: 1, 503043: 1, 634116: 2, 240912: 4, 109841: 2, 634136: 3, 503066: 3, 634138: 2, 634141: 2, 109854: 1, 503078: 2, 240938: 6, 372013: 3, 503088: 2, 634167: 4, 372034: 2, 634193: 3, 240977: 10, 372051: 1, 503125: 3, 109914: 24, 503133: 6, 634212: 2, 503141: 7, 503154: 4, 634228: 4, 634233: 3, 634238: 3, 503168: 1, 503173: 1, 372106: 6, 372107: 5, 372115: 4, 503194: 3, 372123: 1, 241052: 4, 634282: 2, 634290: 4, 634296: 7, 372153: 3, 110012: 3, 634303: 12, 110029: 3, 241116: 37, 634351: 4, 503289: 3, 634366: 1, 110083: 3, 503300: 3, 634378: 1, 503307: 3, 634387: 2, 634399: 7, 634400: 2, 634412: 3, 503343: 1, 634430: 6, 634434: 1, 634437: 2, 503368: 4, 372301: 4, 634449: 1, 634455: 2, 634472: 8, 241259: 6, 634484: 14, 503414: 1, 503416: 1, 503418: 1, 503420: 3, 634496: 1, 634499: 3, 503431: 2, 634503: 4, 503434: 4, 241290: 1, 634514: 3, 634516: 3, 503459: 2, 634546: 2, 372406: 1, 241336: 2, 634556: 2, 503488: 4, 634562: 4, 241355: 55, 503510: 5, 372444: 1, 634589: 2, 634590: 3, 372450: 2, 634598: 5, 503527: 2, 110326: 1, 372478: 2, 372479: 2, 372483: 2, 634635: 6, 241429: 1, 634648: 1, 503579: 2, 372511: 3, 634656: 1, 503586: 3, 503590: 3, 372525: 1, 634672: 1, 634674: 5, 372530: 3, 503608: 14, 503609: 6, 634683: 4, 634699: 7, 241483: 1, 503641: 2, 503642: 3, 634723: 1, 634726: 2, 372584: 1, 503664: 4, 634742: 7, 634746: 1, 241539: 2, 503685: 3, 110470: 6, 634775: 6, 503708: 11, 110493: 1, 634782: 2, 503713: 1, 372646: 5, 372649: 7, 503725: 1, 634800: 1, 110516: 163, 503761: 5, 372692: 1, 634839: 8, 503772: 2, 634854: 1, 634868: 5, 634880: 1, 241666: 19, 634894: 4, 372756: 3, 634908: 1, 372765: 4, 241705: 2, 241716: 1, 503862: 2, 634941: 7, 372806: 11, 372809: 2, 372811: 4, 372819: 1, 634969: 5, 372839: 37, 503912: 2, 503918: 4, 503924: 1, 634997: 3, 110711: 27, 635000: 4, 110715: 2, 372860: 1, 503933: 1, 503932: 1, 241789: 9, 503934: 20, 241792: 1, 241799: 101, 635016: 3, 503970: 2, 372900: 101, 635047: 6, 635064: 3, 635065: 2, 372933: 4, 110794: 1, 504016: 6, 635089: 1, 504018: 5, 635113: 3, 504044: 3, 110828: 61, 635124: 1, 635127: 3, 241914: 158, 635135: 4, 504065: 56, 504075: 37, 635158: 1, 635160: 3, 635188: 3, 635190: 3, 635194: 8, 635196: 3, 635197: 1, 504143: 7, 504149: 2, 373084: 58, 504159: 5, 504164: 4, 635237: 8, 635236: 1, 504167: 1, 242030: 1, 504175: 4, 635250: 2, 635258: 3, 110988: 28, 635277: 2, 504204: 6, 242060: 6, 242076: 3, 504231: 1, 373160: 1, 635305: 4, 635306: 5, 242090: 3, 373164: 3, 504241: 1, 504245: 8, 635317: 3, 373176: 39, 504253: 3, 111038: 158, 635337: 1, 635343: 10, 373204: 1, 242137: 2, 635358: 5, 635360: 3, 635363: 1, 242152: 31, 635374: 2, 242163: 14, 635388: 1, 635391: 4, 504321: 2, 635416: 2, 504344: 5, 504346: 26, 504348: 6, 635422: 2, 635427: 4, 635428: 1, 635430: 13, 635450: 9, 242238: 4, 635455: 4, 111173: 7, 242250: 5, 504402: 2, 635479: 5, 373345: 2, 111205: 5, 242278: 3, 635495: 1, 373351: 2, 373366: 1, 373373: 13, 373374: 56, 635519: 1, 504452: 4, 635526: 5, 504454: 1, 635533: 8, 635534: 1, 504462: 3, 635537: 6, 242329: 1, 504475: 5, 635551: 7, 635554: 13, 635555: 13, 635556: 2, 635561: 5, 635570: 6, 373433: 22, 504509: 3, 635587: 11, 373445: 1, 504518: 2, 635591: 3, 504523: 1, 635597: 2, 635598: 11, 504527: 1, 111315: 34, 504538: 3, 504539: 59, 635616: 3, 242402: 2, 373478: 2, 635624: 4, 635628: 2, 242428: 4, 373510: 6, 504584: 1, 635658: 3, 635661: 1, 373518: 2, 635662: 1, 635665: 3, 635667: 1, 504595: 3, 373530: 2, 635675: 3, 635678: 3, 635679: 3, 373553: 6, 504635: 39, 635708: 3, 635715: 11, 504651: 1, 635725: 2, 504655: 9, 504661: 4, 635734: 5, 504662: 1, 635743: 3, 635754: 2, 373612: 6, 635763: 2, 635765: 7, 242565: 4, 635791: 10, 242575: 6, 373663: 2, 635808: 7, 242592: 2, 373669: 24, 504752: 5, 242615: 34, 635836: 3, 635839: 2, 635841: 9, 373707: 37, 111566: 39, 635857: 2, 635860: 10, 635862: 7, 373718: 2, 635866: 6, 635886: 7, 635887: 6, 635893: 4, 373749: 1, 111609: 6, 504826: 1, 504825: 1, 504829: 5, 504830: 1, 504844: 2, 504854: 2, 635932: 3, 373792: 3, 635941: 4, 635943: 1, 242735: 5, 635957: 3, 635958: 13, 373816: 2, 635969: 1, 635974: 4, 635983: 2, 242771: 1, 635998: 1, 636003: 5, 242790: 4, 636007: 1, 636012: 13, 242808: 1, 373891: 2, 373892: 3, 504974: 1, 636050: 2, 373908: 8, 504982: 23, 636060: 5, 504998: 5, 373933: 4, 636089: 3, 111811: 164, 373957: 2, 373959: 4, 505034: 3, 505035: 2, 636111: 3, 636114: 2, 636115: 1, 242899: 3, 636126: 2, 505055: 3, 636129: 4, 373986: 4, 505060: 3, 373999: 1, 242932: 3, 636166: 17, 505106: 2, 636182: 5, 374038: 2, 111896: 2, 636185: 3, 636187: 2, 242982: 1, 636201: 2, 242987: 1, 636209: 1, 505153: 6, 243010: 1, 243011: 2, 374083: 1, 243012: 1, 636228: 8, 243016: 3, 111946: 50, 505162: 1, 636238: 1, 636247: 2, 505177: 1, 374108: 1, 505184: 1, 636264: 6, 374124: 3, 636272: 7, 505217: 4, 374147: 4, 636292: 3, 636299: 1, 636304: 1, 636308: 1, 243096: 4, 243099: 2, 636315: 10, 505245: 1, 636317: 3, 505243: 1, 505269: 1, 505282: 38, 636381: 3, 636382: 4, 374238: 2, 112098: 1, 243171: 1, 636390: 17, 374260: 3, 636404: 3, 243208: 1, 636430: 7, 636431: 2, 505360: 2, 374287: 4, 636459: 5, 636463: 3, 505401: 1, 374330: 39, 505405: 16, 374335: 6, 636483: 2, 505415: 6, 636494: 3, 636499: 1, 112222: 1, 374379: 14, 636536: 4, 374397: 59, 636544: 4, 243340: 1, 636563: 2, 374441: 2, 243373: 1, 636598: 1, 374459: 6, 505533: 3, 243391: 5, 636619: 4, 505548: 2, 505552: 1, 636626: 7, 636630: 21, 636632: 3, 243430: 4, 636647: 2, 112365: 155, 636655: 8, 636665: 10, 636666: 4, 374536: 1, 636685: 1, 636690: 9, 636715: 3, 636716: 3, 636729: 2, 374587: 104, 636740: 4, 374598: 41, 505671: 1, 243533: 5, 374615: 11, 636760: 4, 243547: 2, 505711: 3, 505714: 1, 636791: 1, 374647: 19, 243577: 1, 374651: 2, 505723: 2, 505730: 1, 636811: 5, 636816: 1, 505747: 8, 243604: 1, 636821: 3, 505755: 2, 374688: 59, 374691: 1, 636843: 2, 505772: 5, 243640: 50, 112577: 59, 505808: 4, 505813: 1, 636896: 3, 636897: 3, 374756: 1, 243685: 4, 636901: 8, 636906: 1, 636927: 5, 636928: 2, 505857: 56, 505858: 1, 636933: 3, 505863: 4, 636955: 1, 374825: 1, 374828: 4, 374829: 1, 636979: 6, 505908: 3, 636981: 1, 636983: 2, 374841: 1, 112701: 227, 112706: 3, 243803: 12, 637024: 3, 637025: 1, 637030: 7, 637032: 4, 505977: 3, 637051: 2, 505984: 1, 374917: 1, 637071: 4, 112783: 6, 637087: 1, 374945: 3, 374947: 2, 637101: 3, 506030: 7, 637104: 1, 637114: 1, 243901: 3, 637124: 3, 112842: 6, 637142: 6, 637145: 7, 112863: 3, 637152: 21, 506081: 1, 637155: 1, 243939: 3, 506087: 3, 637159: 1, 637166: 2, 637167: 4, 375025: 4, 637176: 1, 637179: 2, 243969: 2, 243971: 1, 637192: 4, 506120: 2, 112905: 1, 637206: 6, 506135: 3, 243992: 42, 506137: 4, 375062: 4, 637212: 2, 637213: 17, 637220: 3, 637223: 1, 637230: 3, 506159: 1, 506163: 6, 506168: 4, 506178: 1, 506179: 5, 637265: 7, 637267: 11, 637268: 3, 637276: 3, 637286: 1, 637296: 21, 506229: 4, 506233: 3, 637311: 2, 506244: 14, 637342: 4, 637343: 3, 637344: 4, 244139: 1, 506291: 12, 637365: 1, 637370: 3, 637375: 1, 637377: 4, 637383: 1, 506317: 1, 506330: 2, 506337: 1, 113122: 1, 506343: 1, 637418: 2, 375274: 2, 506352: 3, 113138: 5, 637426: 9, 506357: 2, 637438: 3, 375307: 62, 375312: 1, 375318: 3, 637472: 3, 506403: 2, 244261: 1, 637480: 4, 244279: 6, 375352: 1, 506439: 7, 375372: 1, 506448: 5, 637539: 1, 375395: 2, 637545: 21, 375413: 2, 637560: 5, 637569: 2, 637577: 6, 637579: 7, 244368: 4, 506519: 1, 506522: 1, 506523: 1, 637629: 28, 506568: 4, 506573: 2, 506575: 2, 506577: 8, 637650: 3, 637655: 6, 637669: 3, 244459: 3, 637679: 20, 637681: 14, 375540: 1, 375542: 1, 113400: 4, 637689: 3, 637690: 5, 375545: 3, 637692: 1, 506624: 46, 506625: 6, 506626: 2, 506627: 1, 637702: 1, 506635: 3, 506638: 3, 244496: 1, 244502: 3, 637725: 6, 637729: 1, 506658: 2, 637734: 2, 375601: 4, 244533: 3, 506681: 1, 506684: 1, 637766: 3, 506705: 3, 375634: 6, 506708: 2, 506709: 3, 506715: 2, 506716: 6, 506717: 14, 506718: 8, 506729: 1, 375672: 3, 637861: 3, 637862: 1, 637873: 2, 244665: 4, 637889: 1, 637893: 2, 244682: 4, 637900: 2, 637901: 3, 637902: 4, 244687: 1, 375761: 1, 506844: 1, 637919: 7, 637931: 3, 506859: 8, 244719: 2, 375822: 2, 637978: 5, 506909: 23, 637983: 7, 506912: 3, 637996: 6, 637998: 5, 506926: 1, 638000: 1, 638021: 1, 638027: 7, 375886: 14, 638031: 3, 506973: 3, 638046: 3, 506976: 2, 506980: 4, 638055: 2, 638059: 8, 113771: 11, 375921: 2, 638066: 1, 113793: 2, 375951: 16, 507023: 3, 638096: 2, 638105: 4, 638110: 6, 638112: 2, 638124: 1, 507063: 1, 507079: 9, 638153: 4, 113866: 1, 638155: 4, 638157: 2, 507089: 2, 638164: 5, 113876: 1, 638179: 3, 638182: 3, 244969: 3, 507116: 1, 638193: 3, 507122: 5, 638207: 2, 638219: 2, 638234: 3, 507166: 12, 245030: 4, 638251: 2, 638260: 1, 507195: 2, 507196: 6, 507199: 4, 376131: 2, 638284: 2, 507212: 12, 376142: 41, 245080: 7, 245082: 2, 638324: 1, 507257: 2, 638335: 3, 507271: 4, 638349: 14, 507285: 1, 638372: 6, 638376: 3, 245170: 4, 507326: 1, 376255: 1, 376263: 2, 638408: 1, 638432: 6, 507369: 1, 638451: 2, 376307: 1, 507382: 2, 638455: 1, 507386: 4, 638461: 4, 638476: 8, 638479: 11, 638482: 2, 638485: 3, 638488: 2, 376346: 1, 507426: 4, 638502: 4, 507432: 1, 638506: 2, 507437: 5, 507439: 3, 507446: 8, 638519: 1, 638520: 12, 245308: 1, 507456: 1, 638533: 9, 638535: 4, 507470: 2, 507471: 3, 638545: 5, 376403: 37, 638548: 3, 507479: 5, 638565: 1, 376428: 2, 638573: 6, 376429: 6, 507506: 4, 638579: 5, 507519: 11, 638596: 1, 638601: 3, 638602: 4, 376463: 9, 638608: 3, 507538: 1, 638612: 3, 638615: 2, 638616: 3, 507546: 1, 376475: 1, 638626: 4, 638639: 6, 114352: 4, 507571: 1, 638644: 3, 638648: 3, 507578: 2, 376519: 158, 638671: 1, 507600: 1, 638677: 6, 376533: 2, 376536: 3, 638686: 1, 638687: 1, 638688: 2, 638696: 1, 114419: 2, 245495: 3, 638714: 11, 507647: 39, 507658: 5, 114451: 2, 507667: 2, 638747: 1, 507682: 1, 245557: 1, 638774: 2, 507711: 5, 114497: 41, 507730: 2, 638810: 3, 507744: 2, 638817: 3, 507759: 1, 638840: 3, 507769: 3, 638867: 2, 507801: 6, 376730: 1, 245660: 2, 507810: 3, 114596: 1, 376745: 5, 638890: 4, 638893: 1, 376753: 2, 114612: 6, 507829: 1, 638914: 5, 638916: 4, 638919: 5, 638920: 4, 638921: 2, 507857: 10, 507862: 4, 507864: 1, 638949: 2, 638954: 5, 376813: 1, 638959: 3, 507888: 1, 638962: 4, 638964: 1, 376826: 2, 638980: 5, 638991: 25, 376849: 6, 638996: 2, 639000: 4, 639009: 8, 507959: 6, 639041: 2, 507976: 1, 507977: 3, 639055: 1, 114769: 2, 639076: 3, 508015: 2, 639094: 2, 508029: 10, 639110: 1, 639116: 2, 639119: 5, 508056: 31, 639131: 1, 508066: 4, 508070: 4, 639145: 6, 639146: 3, 508075: 16, 245944: 8, 639161: 1, 377019: 4, 508100: 5, 377045: 1, 245973: 7, 245976: 2, 639193: 4, 639206: 3, 508135: 2, 114921: 4, 377069: 7, 639216: 3, 639217: 22, 377075: 1, 508148: 1, 114933: 14, 508161: 1, 639237: 2, 639238: 10, 114958: 2, 639247: 2, 377107: 2, 508183: 4, 639263: 1, 246061: 6, 639284: 1, 639295: 1, 246109: 4, 639332: 23, 508260: 1, 508262: 1, 639352: 3, 639355: 4, 639356: 4, 115072: 2, 639386: 2, 639393: 3, 508322: 1, 508323: 3, 508324: 7, 639399: 3, 377256: 4, 508329: 1, 639402: 7, 377259: 4, 639418: 1, 377278: 10, 639424: 5, 508359: 1, 508369: 3, 639445: 3, 639454: 9, 639457: 1, 377314: 1, 377319: 1, 377330: 2, 377337: 4, 639482: 2, 639485: 1, 115202: 3, 508424: 1, 639499: 1, 639501: 2, 508432: 7, 508438: 1, 115227: 5, 639521: 17, 639523: 11, 377392: 2, 377393: 1, 508467: 3, 377399: 1, 639544: 4, 508474: 2, 508477: 9, 639553: 3, 639556: 2, 508496: 5, 508499: 2, 639591: 7, 639593: 4, 639602: 3, 115323: 4, 639619: 2, 639621: 2, 639622: 3, 639630: 4, 639635: 1, 377495: 4, 508571: 1, 639650: 2, 508581: 4, 639661: 1, 639663: 4, 508598: 6, 508600: 3, 639674: 3, 508610: 3, 377538: 2, 508611: 2, 639685: 1, 508621: 7, 639695: 3, 508637: 1, 115421: 1, 639718: 4, 639719: 6, 508658: 60, 508664: 9, 508666: 2, 639751: 4, 639766: 1, 639769: 3, 639771: 3, 377642: 7, 508717: 2, 508719: 2, 639791: 3, 115520: 1, 639811: 4, 377669: 56, 508742: 11, 508746: 3, 508747: 6, 508749: 4, 508753: 17, 639827: 2, 377689: 1, 639845: 2, 639856: 3, 508787: 7, 508791: 2, 639864: 3, 639868: 3, 508796: 2, 639871: 1, 377733: 5, 639884: 6, 639893: 3, 508837: 2, 246694: 1, 508840: 2, 639915: 6, 377775: 1, 508849: 2, 639936: 1, 639950: 4, 508879: 3, 377816: 1, 246744: 4, 508890: 8, 639975: 4, 377843: 5, 377845: 104, 639997: 1, 115711: 2, 508927: 4, 508930: 6, 508931: 2, 508940: 1, 640022: 5, 508958: 10, 640035: 4, 640040: 1, 508970: 3, 640046: 6, 640053: 4, 377909: 1, 377911: 4, 246844: 1, 640069: 3, 640071: 1, 640072: 2, 115792: 3, 640087: 1, 640110: 1, 640115: 2, 640116: 4, 115830: 42, 509046: 2, 377978: 2, 640124: 3, 640143: 6, 640144: 4, 640148: 13, 509095: 3, 509096: 3, 640169: 1, 640173: 3, 378035: 2, 378042: 5, 509115: 6, 640206: 5, 640208: 9, 640216: 3, 509150: 1, 640224: 2, 509157: 2, 640241: 2, 640242: 6, 640247: 3, 509191: 1, 509192: 1, 640268: 5, 640270: 3, 640272: 1, 509204: 2, 115991: 55, 115994: 1, 640283: 13, 640298: 2, 640299: 2, 640300: 3, 640304: 1, 640305: 2, 247094: 3, 509257: 2, 509285: 11, 640374: 17, 509307: 1, 247168: 59, 640386: 3, 640393: 3, 247192: 1, 247196: 5, 640414: 1, 509345: 14, 509349: 1, 640422: 2, 509354: 2, 509357: 1, 640437: 5, 640439: 1, 247223: 5, 640465: 4, 247249: 2, 640466: 6, 509402: 2, 509403: 3, 378332: 2, 378334: 3, 378339: 1, 509417: 4, 509418: 4, 509419: 1, 509422: 1, 640501: 3, 509430: 6, 640526: 9, 640528: 5, 378393: 1, 640552: 5, 640554: 5, 378412: 3, 509484: 1, 640558: 4, 640565: 2, 509499: 5, 509502: 2, 640579: 3, 509507: 2, 509510: 1, 640588: 2, 509518: 2, 640594: 4, 247379: 1, 247382: 3, 509532: 4, 509536: 4, 509541: 2, 247399: 155, 640618: 2, 509550: 2, 509554: 2, 509557: 1, 116344: 1, 378492: 4, 378495: 2, 640657: 17, 509607: 2, 247469: 37, 640710: 3, 509641: 1, 640714: 2, 509653: 3, 640741: 16, 640769: 1, 640770: 5, 509704: 3, 509707: 1, 509709: 3, 509711: 3, 116507: 5, 640796: 5, 509728: 2, 509733: 13, 640816: 1, 509765: 23, 116549: 2, 509768: 4, 640843: 3, 509785: 2, 247670: 5, 640894: 2, 640910: 6, 509839: 3, 640915: 6, 509844: 2, 247708: 3, 640924: 1, 640926: 1, 640928: 1, 247721: 3, 247724: 5, 378799: 23, 640966: 5, 640985: 1, 378850: 4, 247778: 1, 378860: 3, 641007: 3, 509939: 16, 116724: 7, 509944: 2, 641034: 4, 378917: 3, 509993: 3, 116778: 6, 641068: 1, 378926: 3, 510012: 1, 641084: 8, 510018: 2, 641100: 4, 641101: 1, 247887: 5, 510032: 3, 378973: 3, 641125: 4, 641137: 1, 378995: 1, 510084: 2, 379020: 2, 247955: 3, 379029: 3, 641174: 2, 379030: 4, 247957: 1, 641181: 2, 510112: 5, 641194: 1, 641200: 2, 379058: 1, 641213: 1, 510146: 2, 379075: 1, 641229: 2, 641230: 4, 510170: 3, 641250: 1, 248034: 3, 510180: 3, 379113: 2, 248043: 6, 248050: 4, 510214: 3, 641289: 2, 510222: 5, 641294: 8, 641296: 22, 641305: 2, 641310: 6, 510240: 4, 510251: 3, 510252: 3, 641339: 1, 510274: 13, 248135: 4, 379210: 1, 510286: 6, 641360: 4, 641361: 3, 510290: 4, 379219: 56, 510303: 1, 641379: 10, 641380: 2, 510309: 1, 641384: 9, 248179: 2, 641397: 3, 510326: 4, 510329: 2, 641408: 2, 379270: 9, 641422: 4, 641423: 1, 379282: 2, 641429: 2, 510358: 45, 641431: 2, 510359: 9, 510362: 2, 641453: 1, 248243: 6, 379316: 4, 510416: 3, 510426: 2, 641509: 1, 641516: 1, 641522: 2, 117236: 4, 641527: 3, 641534: 1, 641539: 7, 510478: 8, 510484: 4, 117270: 101, 641558: 6, 641559: 2, 510489: 2, 641561: 3, 117275: 6, 379436: 2, 641588: 12, 379446: 2, 641591: 1, 641592: 2, 379450: 3, 641597: 4, 641610: 3, 510539: 9, 248402: 12, 379475: 2, 510556: 1, 510558: 2, 641631: 3, 117343: 1, 510568: 1, 641647: 1, 641658: 1, 641660: 1, 510594: 62, 641670: 5, 641671: 9, 641672: 1, 641678: 1, 379539: 4, 641686: 3, 641688: 1, 641690: 6, 641695: 1, 510634: 8, 248494: 155, 510638: 2, 510639: 23, 117433: 155, 641723: 1, 641727: 1, 510661: 3, 641735: 3, 248524: 1, 641750: 7, 379608: 1, 379611: 1, 379615: 4, 379616: 2, 641764: 5, 641774: 2, 641776: 2, 641777: 2, 641781: 2, 510722: 5, 641796: 5, 641801: 3, 379658: 1, 510740: 10, 641814: 3, 248607: 1, 641830: 2, 379687: 1, 248618: 50, 510779: 5, 510781: 4, 510790: 4, 379743: 1, 641889: 1, 510818: 2, 510821: 10, 510822: 1, 510823: 6, 510825: 1, 379758: 55, 641903: 1, 248688: 3, 379767: 101, 641916: 2, 510845: 2, 510856: 2, 379787: 2, 641949: 1, 379814: 11, 641958: 1, 510890: 3, 379819: 2, 641966: 3, 510896: 2, 641978: 2, 641987: 2, 641992: 2, 510920: 8, 641995: 12, 510926: 1, 379873: 7, 642022: 3, 379880: 5, 379885: 3, 510965: 2, 510970: 1, 510972: 1, 510974: 1, 248835: 1, 117767: 1, 642056: 12, 510992: 1, 510993: 2, 642072: 3, 379933: 1, 642078: 28, 248868: 7, 642089: 2, 511019: 4, 642097: 2, 511044: 3, 117832: 2, 248905: 5, 642123: 3, 642124: 1, 511053: 1, 642126: 4, 380001: 6, 642145: 2, 642150: 3, 642151: 3, 380017: 42, 248947: 7, 511092: 2, 511100: 2, 642196: 8, 380054: 6, 511132: 2, 511141: 1, 511148: 4, 642224: 7, 511156: 4, 642231: 2, 642236: 2, 642239: 5, 511179: 1, 642252: 3, 511185: 2, 642259: 1, 511187: 2, 642262: 4, 642273: 3, 511211: 1, 511214: 1, 380151: 3, 642297: 6, 249083: 2, 642299: 3, 118015: 7, 249098: 31, 642326: 2, 118039: 1, 642342: 10, 642344: 5, 511275: 1, 511282: 7, 511286: 1, 511287: 2, 249145: 1, 511300: 2, 511301: 1, 642375: 5, 380236: 3, 642399: 5, 642400: 1, 642403: 3, 642405: 1, 642408: 4, 249198: 2, 511343: 9, 511349: 1, 511360: 1, 642452: 1, 511383: 6, 642455: 5, 642458: 2, 642459: 3, 642460: 4, 511398: 1, 511411: 3, 642484: 1, 642504: 1, 511434: 12, 642507: 6, 642525: 5, 118245: 7, 249328: 2, 511479: 1, 642551: 8, 642553: 2, 511482: 5, 642557: 3, 642558: 2, 642559: 4, 642570: 1, 642578: 1, 642589: 1, 511519: 3, 511520: 4, 642596: 5, 642598: 4, 642604: 1, 249393: 1, 118322: 1, 511543: 1, 511544: 10, 511548: 1, 511563: 2, 642642: 9, 642643: 2, 511573: 2, 511576: 3, 642656: 3, 642659: 6, 249444: 1, 511594: 4, 642683: 6, 249470: 4, 249474: 3, 118407: 3, 642704: 10, 249494: 3, 511644: 2, 642719: 3, 642726: 3, 642729: 9, 642730: 5, 642731: 4, 511665: 3, 642749: 8, 642751: 10, 380609: 8, 511702: 12, 511707: 11, 642782: 1, 642812: 7, 642821: 4, 511753: 1, 380682: 5, 511763: 5, 642835: 5, 118547: 2, 249626: 1, 642847: 11, 642871: 1, 380737: 10, 642882: 2, 642885: 4, 380741: 4, 249674: 2, 249679: 7, 642895: 2, 642898: 5, 642915: 3, 118641: 2, 642936: 4, 380793: 39, 249720: 1, 642939: 1, 642942: 2, 642944: 2, 642949: 7, 642955: 1, 642958: 7, 642982: 3, 642995: 2, 118712: 1, 380863: 2, 511937: 41, 380871: 1, 511949: 2, 511952: 3, 380886: 10, 643033: 5, 643038: 1, 249826: 2, 249842: 4, 643059: 2, 511990: 2, 643067: 2, 643074: 3, 380931: 4, 512007: 3, 643095: 1, 643097: 1, 512032: 3, 118817: 1, 512040: 3, 643117: 3, 512051: 8, 380984: 26, 380986: 1, 512060: 3, 643134: 2, 643140: 3, 643145: 2, 512073: 16, 381006: 1, 643153: 4, 643168: 2, 512096: 2, 118882: 1, 643170: 4, 643172: 2, 118884: 3, 512112: 1, 381040: 2, 512115: 2, 643188: 2, 118901: 3, 512122: 1, 643209: 4, 118923: 4, 381074: 2, 250008: 3, 643225: 1, 643230: 4, 643235: 5, 512166: 3, 512173: 1, 643248: 3, 512183: 2, 118976: 1, 643266: 7, 512197: 1, 512205: 2, 643281: 2, 381139: 1, 643287: 9, 643294: 3, 643298: 4, 381156: 1, 119018: 2, 643315: 3, 643331: 3, 512278: 13, 381209: 1, 512284: 6, 512290: 1, 643375: 6, 643389: 5, 643404: 5, 512334: 2, 643410: 1, 381288: 1, 643443: 3, 643445: 5, 512374: 14, 512379: 2, 119172: 14, 643464: 2, 119186: 24, 643495: 2, 643496: 5, 512425: 2, 512432: 3, 381360: 3, 250291: 160, 381367: 4, 512445: 1, 512449: 2, 512459: 8, 512460: 3, 643531: 2, 643534: 1, 250321: 4, 643538: 3, 512470: 21, 643551: 1, 643561: 1, 512490: 1, 643565: 7, 643566: 1, 643572: 6, 512510: 6, 643587: 14, 512534: 1, 381469: 4, 381476: 14, 512553: 28, 643630: 3, 250415: 42, 512560: 4, 512566: 2, 643645: 20, 119357: 158, 643646: 3, 250432: 3, 381504: 1, 643654: 3, 381511: 3, 643657: 1, 250445: 41, 643667: 2, 381526: 6, 381527: 14, 512612: 2, 643685: 2, 643702: 29, 512659: 2, 643738: 2, 643743: 3, 643765: 2, 643766: 6, 512695: 4, 512701: 2, 250558: 37, 250559: 37, 512703: 2, 643779: 1, 512709: 2, 381638: 2, 643785: 3, 643788: 1, 512716: 5, 643790: 12, 643792: 2, 250577: 6, 643811: 3, 381674: 2, 512750: 1, 643829: 2, 643850: 5, 643852: 1, 119567: 1, 643866: 1, 643867: 3, 250650: 5, 512824: 1, 381758: 9, 643915: 1, 643924: 3, 643938: 2, 643944: 7, 643945: 6, 643947: 9, 643966: 4, 381823: 1, 381822: 1, 381836: 1, 643988: 6, 119702: 1, 643991: 4, 381858: 10, 512942: 2, 644015: 2, 644020: 2, 644024: 2, 381880: 6, 512965: 3, 644037: 5, 512967: 2, 644047: 2, 119760: 2, 512976: 3, 513011: 2, 250870: 3, 513017: 2, 513022: 3, 250882: 1, 644102: 1, 644106: 1, 644110: 7, 381966: 1, 381970: 3, 381974: 1, 513047: 2, 644121: 4, 513052: 1, 644132: 2, 644135: 3, 250919: 2, 382000: 1, 644153: 6, 382009: 13, 644163: 7, 644170: 4, 644182: 7, 644191: 4, 644205: 2, 644213: 15, 382069: 2, 382071: 3, 644218: 10, 644221: 4, 251007: 2, 644238: 1, 251035: 3, 513193: 1, 644268: 2, 644273: 2, 644277: 1, 382137: 155, 513219: 4, 513221: 1, 120014: 8, 251088: 2, 644305: 3, 513241: 2, 644322: 5, 513252: 2, 644333: 4, 382191: 1, 382223: 14, 644374: 3, 513306: 2, 120096: 4, 644392: 4, 644394: 2, 644411: 3, 513339: 3, 382276: 3, 644423: 3, 382292: 4, 644437: 1, 382294: 17, 251227: 2, 644457: 2, 644461: 9, 644468: 3, 251255: 2, 644471: 3, 251258: 6, 513410: 2, 513418: 5, 513426: 4, 644500: 4, 513430: 2, 644503: 5, 644502: 4, 513434: 2, 644521: 6, 513450: 11, 644522: 28, 513456: 3, 644534: 1, 513475: 1, 382406: 102, 644551: 1, 382408: 13, 382409: 3, 644559: 2, 382415: 2, 644564: 1, 513493: 1, 644566: 5, 644598: 2, 382458: 2, 644615: 3, 513554: 3, 251422: 101, 251423: 3, 513568: 1, 644641: 1, 251426: 1, 644654: 2, 644656: 2, 644658: 2, 644659: 2, 513594: 2, 644669: 4, 644672: 6, 644681: 7, 644684: 3, 382541: 1, 513620: 2, 644693: 11, 513629: 3, 644702: 3, 644711: 8, 644713: 1, 513660: 1, 513667: 1, 644744: 3, 382608: 3, 644759: 2, 644766: 5, 382623: 1, 513702: 3, 382632: 8, 513707: 16, 120493: 1, 644787: 2, 513727: 3, 513729: 6, 644831: 2, 644832: 6, 382689: 1, 644834: 3, 382697: 11, 644844: 2, 644856: 6, 251647: 1, 513793: 2, 382724: 1, 251655: 26, 120594: 31, 644884: 5, 644889: 3, 644890: 4, 513824: 1, 382754: 1, 513831: 1, 382760: 5, 382764: 6, 120623: 1, 513841: 8, 513843: 2, 644916: 7, 513845: 4, 251702: 155, 644919: 2, 251704: 2, 644921: 2, 644920: 2, 513849: 7, 513846: 2, 644930: 11, 644932: 3, 513880: 2, 644961: 1, 644964: 2, 251748: 4, 513896: 16, 513897: 4, 251763: 1, 513908: 1, 513917: 2, 382847: 1, 644994: 2, 645005: 1, 120719: 24, 645012: 1, 382877: 2, 382886: 57, 645031: 3, 513966: 6, 251825: 1, 513969: 4, 645051: 1, 513982: 2, 513990: 1, 513998: 1, 645077: 1, 514020: 1, 645097: 1, 645098: 3, 645099: 3, 645103: 6, 645105: 2, 645106: 3, 251897: 4, 645119: 4, 645127: 4, 382998: 2, 645144: 6, 645145: 1, 645152: 21, 514081: 4, 251936: 1, 383008: 4, 120881: 1, 645184: 9, 514120: 5, 251978: 1, 645197: 4, 645201: 2, 383072: 2, 645223: 14, 645227: 4, 514158: 1, 252016: 2, 645232: 4, 383101: 2, 645247: 5, 645261: 2, 514191: 2, 120976: 6, 645269: 6, 645273: 3, 645275: 8, 645293: 10, 383150: 7, 645295: 6, 645299: 2, 252086: 4, 645308: 21, 514245: 6, 514248: 3, 645321: 4, 514251: 1, 645326: 3, 645348: 3, 645357: 7, 383238: 6, 514317: 3, 383247: 11, 252179: 3, 514331: 5, 645412: 4, 252196: 1, 645421: 11, 514354: 5, 645427: 26, 514355: 8, 383283: 1, 252218: 50, 514377: 2, 383312: 1, 645457: 2, 645460: 4, 645470: 3, 645481: 11, 383343: 1, 383345: 38, 252281: 6, 383355: 4, 514440: 6, 514442: 5, 121231: 34, 645519: 1, 514452: 7, 514458: 1, 514459: 1, 645535: 2, 645536: 3, 514491: 3, 514498: 1, 121282: 2, 383433: 1, 645585: 4, 514518: 1, 121304: 10, 252385: 1, 645604: 1, 252394: 1, 514558: 4, 121345: 2, 514561: 7, 645639: 3, 252425: 1, 514586: 14, 514591: 12, 121391: 1, 645682: 2, 645684: 21, 252469: 1, 514616: 5, 514623: 2, 645695: 2, 645702: 1, 645714: 6, 645725: 3, 514654: 2, 514655: 2, 645728: 2, 121439: 2, 121441: 28, 121442: 6, 514660: 6, 645789: 7, 645798: 2, 645800: 1, 645801: 3, 645802: 4, 645816: 3, 252603: 5, 645882: 3, 252683: 2, 383759: 2, 645910: 5, 121636: 1, 645933: 21, 252722: 2, 645941: 2, 645948: 2, 252733: 1, 252734: 3, 645954: 3, 383811: 16, 645960: 1, 514897: 7, 514899: 7, 383829: 3, 645974: 11, 383836: 3, 645985: 21, 645986: 21, 514918: 2, 252774: 26, 383853: 2, 645997: 4, 252790: 6, 646008: 1, 646016: 2, 646035: 1, 646040: 6, 121757: 50, 646047: 3, 646050: 4, 383926: 1, 383931: 8, 252860: 1, 646080: 2, 646096: 3, 646098: 4, 646101: 2, 646108: 8, 252895: 1, 646125: 4, 383986: 1, 646132: 1, 646133: 6, 646150: 8, 646157: 1, 646166: 25, 384030: 4, 646182: 7, 646183: 17, 646192: 4, 252986: 1, 646213: 21, 646223: 4, 646226: 4, 646227: 3, 515168: 3, 515179: 5, 646277: 3, 646281: 5, 515210: 3, 646291: 4, 253077: 50, 122008: 6, 122032: 22, 515257: 1, 122045: 1, 515262: 6, 384190: 5, 253122: 7, 646339: 5, 646340: 1, 253137: 1, 515285: 22, 515309: 5, 646386: 4, 515315: 5, 515316: 1, 122105: 1, 646395: 4, 646401: 6, 515342: 2, 646426: 11, 515366: 1, 515370: 1, 646442: 1, 253231: 2, 253232: 6, 384307: 2, 646454: 6, 384313: 1, 122169: 8, 646471: 1, 384328: 1, 122188: 55, 646480: 1, 515414: 3, 384345: 3, 384347: 15, 646508: 2, 122221: 2, 646510: 2, 515441: 1, 646518: 4, 646526: 4, 384385: 4, 515459: 3, 646541: 2, 384403: 3, 515476: 4, 646561: 2, 646570: 2, 515499: 2, 253355: 2, 384429: 1, 515508: 3, 384446: 1, 646593: 5, 646601: 24, 646606: 3, 253399: 1, 646619: 1, 384476: 1, 515578: 1, 515582: 2, 515594: 9, 515596: 2, 515598: 1, 646672: 6, 253457: 44, 384544: 5, 253484: 4, 646700: 19, 646708: 4, 515658: 5, 384594: 1, 384609: 3, 253537: 4, 384622: 2, 515701: 4, 515715: 2, 646796: 4, 646798: 5, 646801: 4, 646803: 4, 384663: 9, 253599: 55, 253608: 1, 515754: 3, 646829: 8, 253613: 10, 253614: 1, 515760: 5, 384688: 5, 384692: 3, 646849: 7, 646850: 3, 515778: 3, 646852: 18, 384720: 2, 384721: 2, 646872: 1, 515802: 1, 122599: 155, 646896: 6, 646901: 41, 253685: 155, 384759: 1, 515832: 2, 253689: 1, 515835: 5, 646909: 10, 253697: 1, 646915: 4, 253699: 37, 515845: 3, 646930: 1, 646937: 2, 646956: 5, 515895: 5, 384831: 6, 646976: 2, 646984: 3, 647000: 8, 515929: 3, 253788: 155, 384860: 1, 647018: 4, 253802: 3, 647022: 1, 122741: 31, 253815: 2, 647043: 4, 516026: 2, 122837: 1, 647127: 4, 647128: 12, 516064: 5, 516065: 13, 647137: 3, 516073: 3, 122866: 2, 253943: 8, 516088: 1, 647167: 3, 122882: 1, 647172: 4, 122884: 2, 516110: 4, 516119: 4, 385048: 2, 385055: 1, 516130: 5, 254018: 3, 647240: 1, 647245: 2, 647249: 2, 385135: 2, 385143: 1, 516221: 7, 647298: 2, 516230: 2, 647302: 3, 647322: 4, 647324: 2, 647328: 21, 647330: 7, 385189: 2, 647340: 2, 516269: 1, 254131: 5, 647358: 6, 647359: 2, 123077: 2, 385230: 2, 516304: 5, 516306: 2, 516307: 1, 385238: 5, 516310: 1, 516339: 6, 385269: 101, 516347: 103, 516350: 1, 385292: 2, 254228: 1, 254235: 1, 647457: 2, 647460: 2, 516391: 5, 516392: 18, 647480: 2, 647492: 5, 647493: 2, 254276: 1, 647509: 11, 516437: 3, 647516: 14, 647521: 4, 647527: 3, 647532: 9, 647555: 2, 385413: 2, 647564: 2, 385422: 5, 647578: 3, 516513: 2, 385444: 10, 516517: 4, 516519: 1, 516521: 2, 516522: 1, 647601: 3, 516541: 31, 647624: 1, 516558: 14, 516565: 1, 123364: 4, 647657: 5, 647667: 2, 647669: 1, 516598: 1, 516602: 7, 647674: 21, 516605: 3, 516606: 2, 647680: 3, 385545: 39, 385559: 2, 516646: 1, 647733: 1, 647738: 11, 647745: 7, 647746: 3, 516679: 6, 647758: 3, 516700: 7, 385634: 2, 647787: 8, 647788: 5, 647792: 4, 647798: 3, 385658: 41, 123517: 6, 516735: 4, 516737: 2, 516740: 1, 647815: 4, 516743: 4, 516747: 1, 123538: 2, 385684: 4, 516770: 3, 647845: 4, 254643: 1, 385722: 6, 516795: 2, 254661: 4, 123591: 1, 647885: 1, 516813: 1, 647891: 7, 516822: 1, 647895: 3, 647898: 5, 647899: 3, 516830: 1, 254694: 1, 516839: 5, 516848: 3, 516868: 1, 647949: 4, 647952: 3, 647954: 6, 647974: 7, 647977: 2, 516910: 5, 385840: 27, 647991: 8, 254784: 2, 516934: 3, 648030: 19, 385892: 59, 254824: 6, 516971: 8, 254828: 7, 385904: 6, 648049: 8, 385908: 1, 385909: 9, 648075: 15, 517008: 1, 648085: 1, 385943: 4, 517021: 4, 648102: 4, 385959: 2, 648107: 6, 517039: 3, 517045: 14, 385991: 2, 648135: 3, 254924: 43, 648143: 1, 254930: 4, 386007: 2, 648162: 5, 517092: 39, 648165: 3, 517098: 15, 648180: 6, 517108: 2, 648183: 21, 648185: 4, 386048: 1, 517132: 5, 648214: 2, 517152: 2, 648229: 4, 517161: 34, 386092: 38, 517166: 3, 517174: 2, 648249: 14, 648250: 6, 255038: 9, 517186: 2, 648261: 3, 517210: 1, 255079: 1, 255086: 4, 648316: 2, 517245: 101, 386175: 39, 386183: 6, 648328: 2, 124040: 101, 648331: 1, 517270: 2, 124066: 1, 648355: 3, 386218: 4, 386220: 4, 517294: 11, 386226: 2, 648374: 4, 386234: 2, 386235: 3, 648381: 2, 648387: 4, 648388: 4, 648393: 4, 648396: 4, 517339: 2, 255195: 4, 517341: 4, 648432: 5, 517360: 1, 648434: 2, 517368: 1, 517386: 11, 648466: 1, 386327: 1, 517404: 6, 648480: 2, 124196: 1, 255281: 2, 648498: 14, 124218: 1, 648507: 4, 648509: 2, 648510: 1, 255296: 5, 517440: 4, 255301: 1, 255302: 3, 648526: 9, 255314: 1, 648531: 1, 648534: 4, 648536: 1, 517464: 8, 255330: 158, 648549: 9, 648550: 1, 255342: 1, 648559: 2, 648577: 1, 386435: 3, 648585: 2, 517518: 1, 517525: 3, 255386: 2, 517559: 2, 648632: 3, 386491: 6, 648635: 9, 517566: 65, 124360: 59, 255445: 2, 648668: 2, 648679: 7, 386540: 4, 648696: 1, 517631: 1, 648707: 5, 255494: 3, 386569: 4, 648721: 1, 517652: 1, 517657: 6, 517659: 10, 517664: 1, 648743: 11, 648746: 3, 648748: 7, 124467: 155, 648765: 2, 517711: 1, 255568: 2, 648789: 1, 648805: 4, 386674: 2, 517750: 2, 386680: 59, 386682: 5, 648831: 7, 386688: 1, 386712: 1, 648858: 5, 648859: 6, 648860: 7, 648878: 3, 648880: 2, 648883: 3, 517818: 1, 255676: 2, 648899: 3, 517829: 1, 517836: 3, 255692: 1, 255699: 1, 517846: 6, 648920: 3, 255706: 2, 648925: 4, 124641: 10, 648929: 4, 648933: 21, 648936: 6, 648942: 3, 517878: 5, 517879: 6, 517884: 3, 648956: 4, 386816: 1, 648964: 2, 517894: 2, 255751: 2, 648970: 4, 255757: 3, 648975: 1, 386844: 8, 648988: 1, 386847: 6, 517934: 3, 517945: 5, 255817: 2, 649034: 5, 649039: 4, 649041: 14, 517973: 8, 649049: 10, 649050: 3, 649051: 3, 124781: 13, 255855: 101, 386933: 3, 649082: 3, 386950: 1, 649107: 4, 386965: 2, 518060: 6, 649133: 22, 255916: 4, 518065: 28, 649147: 1, 649150: 1, 649154: 4, 518094: 2, 518099: 1, 518100: 1, 255965: 2, 649182: 5, 124905: 1, 518122: 1, 124919: 8, 518138: 2, 649216: 1, 518148: 3, 256004: 3, 649223: 1, 649229: 2, 649231: 6, 256016: 4, 518165: 4, 256021: 3, 518177: 2, 518187: 2, 518190: 5, 124983: 39, 649273: 3, 518208: 1, 518222: 2, 518232: 8, 518234: 2, 518238: 3, 518240: 4, 518243: 3, 256101: 55, 518245: 11, 649329: 3, 649331: 1, 518260: 8, 649333: 22, 649346: 4, 518300: 7, 387234: 1, 649382: 5, 387239: 59, 125114: 51, 518337: 1, 387268: 1, 387284: 9, 649429: 2, 649431: 9, 125144: 5, 256217: 4, 518362: 2, 125160: 18, 518383: 3, 125169: 3, 649462: 3, 125176: 163, 518392: 2, 518399: 5, 649481: 3, 649485: 1, 649490: 3, 387351: 1, 387354: 26, 518430: 3, 256289: 1, 518433: 3, 518441: 3, 518442: 1, 649516: 10, 649524: 2, 649526: 1, 518463: 2, 649548: 1, 649553: 1, 387447: 1, 518520: 7, 125306: 155, 518524: 7, 649608: 1, 518536: 60, 256400: 14, 518550: 7, 649624: 7, 387480: 5, 649627: 1, 649631: 1, 518575: 5, 387516: 5, 649664: 2, 649677: 21, 649683: 2, 387548: 2, 518626: 4, 649702: 8, 649718: 2, 649724: 4, 256509: 2, 256510: 1, 649734: 2, 649760: 3, 256548: 1, 649766: 3, 518696: 3, 387633: 7, 518705: 1, 518714: 2, 518716: 2, 518720: 1, 518724: 3, 256585: 2, 518731: 2, 518735: 5, 649810: 6, 518757: 1, 649835: 3, 256625: 2, 518774: 2, 649852: 17, 649855: 1, 649864: 4, 387722: 2, 649870: 3, 649878: 14, 649885: 6, 387749: 31, 649893: 1, 649895: 9, 518825: 2, 518827: 1, 387762: 4, 518835: 2, 649907: 1, 518838: 42, 518841: 2, 387778: 1, 387795: 55, 387797: 4, 125656: 4, 256731: 5, 649975: 3, 649983: 2, 387849: 1, 518929: 4, 518930: 7, 650005: 6, 125720: 5, 518938: 1, 650029: 3, 387885: 14, 650034: 4, 650043: 3, 518972: 1, 518976: 4, 650052: 1, 518986: 4, 650060: 2, 125774: 9, 387926: 55, 387930: 2, 650076: 2, 519007: 9, 519026: 2, 125819: 1, 256895: 2, 519047: 2, 519050: 3, 519057: 1, 650132: 1, 387999: 3, 256938: 32, 388020: 4, 650179: 3, 256971: 4, 650192: 1, 650199: 1, 650204: 2, 519134: 3, 519137: 4, 650210: 2, 650211: 5, 388065: 104, 388067: 1, 650231: 5, 650239: 2, 650241: 3, 519170: 2, 388100: 10, 519172: 1, 650267: 1, 519201: 2, 650277: 1, 388133: 4, 125994: 1, 650283: 2, 519235: 2, 650310: 1, 650313: 1, 650316: 6, 388173: 6, 519249: 42, 650326: 3, 650327: 1, 650329: 2, 650332: 3, 519261: 1, 257140: 5, 650357: 4, 519290: 2, 126076: 5, 519296: 4, 650369: 3, 519300: 2, 650400: 1, 650405: 1, 519334: 4, 519335: 3, 257192: 1, 650410: 5, 650412: 21, 388276: 2, 650440: 3, 519372: 3, 650447: 8, 388304: 2, 650449: 11, 388308: 3, 126166: 1, 388311: 8, 519388: 3, 257248: 3, 257250: 2, 257251: 2, 519395: 1, 388330: 3, 650487: 3, 388344: 14, 388346: 1, 388352: 23, 519425: 3, 257311: 4, 650530: 6, 388386: 34, 650544: 1, 519497: 1, 650571: 2, 650598: 3, 650599: 3, 519528: 4, 388455: 5, 388466: 1, 388486: 1, 519563: 9, 650638: 7, 519577: 4, 519579: 1, 650661: 7, 650665: 5, 519596: 2, 126382: 26, 519599: 1, 650687: 4, 650691: 2, 650692: 3, 126410: 2, 388567: 15, 388570: 1, 650733: 1, 257522: 11, 650738: 8, 650743: 2, 388605: 3, 650749: 2, 650763: 1, 650765: 3, 650785: 3, 126500: 2, 519722: 3, 650806: 8, 257598: 2, 650819: 5, 650825: 3, 650833: 2, 650836: 8, 388693: 4, 650837: 4, 388694: 1, 388716: 1, 388717: 3, 257657: 3, 650876: 4, 519808: 6, 257668: 2, 388741: 3, 388743: 3, 650888: 2, 519816: 5, 257675: 2, 650902: 7, 519833: 4, 388766: 11, 519851: 4, 650923: 5, 519854: 3, 519856: 2, 650949: 3, 126667: 1, 388824: 1, 257758: 2, 651011: 2, 651017: 3, 519952: 2, 388889: 3, 651033: 2, 257834: 3, 126768: 1, 519992: 6, 257853: 3, 651070: 2, 388928: 2, 651078: 3, 651083: 1, 651087: 2, 651097: 2, 520026: 1, 520029: 3, 388958: 2, 651105: 3, 520037: 49, 388975: 1, 126834: 1, 257921: 1, 389002: 3, 651151: 10, 126867: 3, 651162: 3, 520091: 2, 126874: 3, 520093: 5, 126890: 1, 651179: 1, 651184: 2, 651201: 10, 257986: 1, 520133: 1, 651213: 20, 389071: 1, 389075: 1, 651224: 2, 520154: 6, 520157: 4, 651230: 3, 651231: 1, 520159: 2, 520168: 1, 651246: 9, 520179: 22, 520192: 4, 258062: 1, 651288: 2, 651290: 7, 651300: 6, 127015: 15, 651312: 4, 389173: 2, 258112: 13, 520260: 1, 651334: 3, 520267: 10, 520272: 2, 651351: 1, 651362: 1, 389236: 42, 651383: 9, 651384: 1, 258169: 7, 258171: 60, 389244: 5, 258173: 17, 651391: 2, 520319: 1, 389250: 2, 520330: 2, 520333: 2, 651415: 1, 258201: 1, 520348: 12, 520357: 24, 127145: 9, 258219: 2, 389295: 3, 651449: 2, 651462: 2, 389325: 6, 651471: 1, 520403: 6, 389332: 28, 651477: 1, 520407: 7, 520414: 6, 651501: 21, 651502: 21, 389363: 2, 651514: 2, 651518: 1, 651525: 6, 651535: 1, 651538: 5, 258323: 4, 651563: 10, 651577: 4, 520524: 1, 651599: 4, 389458: 4, 389512: 57, 520604: 2, 520629: 3, 651703: 4, 520650: 2, 651730: 4, 389590: 9, 389593: 1, 520671: 22, 651752: 3, 389618: 15, 520691: 7, 520712: 2, 258580: 4, 520745: 4, 651825: 4, 520753: 6, 520757: 5, 127543: 3, 258626: 1, 520776: 1, 389705: 2, 389706: 2, 651861: 1, 651874: 7, 258662: 3, 520814: 4, 651897: 3, 127612: 2, 651904: 2, 258688: 9, 520834: 3, 389767: 2, 520841: 3, 520842: 4, 389772: 4, 651924: 10, 651931: 1, 258719: 4, 127655: 155, 651948: 6, 520887: 2, 520890: 7, 520894: 3, 520896: 2, 258759: 158, 651984: 1, 651986: 5, 651990: 3, 651994: 3, 389855: 1, 520928: 3, 520933: 2, 520951: 1, 127737: 163, 652027: 5, 258815: 6, 520961: 1, 389891: 1, 127751: 1, 389899: 3, 389905: 1, 520978: 3, 520982: 4, 127770: 1, 652066: 5, 389937: 2, 652102: 2, 521044: 1, 389973: 5, 652117: 5, 258912: 1, 389992: 4, 521075: 9, 390003: 2, 652149: 3, 390007: 8, 521080: 2, 127865: 23, 127869: 5, 521099: 2, 127886: 2, 652179: 1, 258971: 5, 390060: 5, 652204: 3, 521137: 2, 127923: 1, 258995: 1, 652237: 4, 521173: 1, 521177: 1, 521188: 2, 259048: 101, 521201: 2, 652279: 1, 390140: 1, 652315: 1, 521251: 2, 652326: 2, 521260: 4, 521262: 4, 521263: 6, 128050: 2, 652340: 4, 521270: 4, 521275: 6, 259132: 3, 652352: 1, 652371: 4, 521304: 1, 652379: 1, 259166: 50, 521312: 1, 390246: 9, 652391: 2, 390248: 4, 390249: 5, 390252: 7, 259195: 7, 652433: 2, 128149: 41, 521368: 7, 128152: 23, 521375: 3, 390306: 1, 652453: 7, 521394: 37, 521397: 4, 259256: 1, 652473: 8, 521405: 1, 652477: 1, 652482: 8, 521411: 3, 521412: 4, 259272: 1, 521424: 4, 652545: 7, 652546: 1, 390402: 1, 521477: 7, 390420: 39, 652564: 3, 521499: 4, 652578: 1, 652580: 2, 652586: 5, 652589: 3, 128317: 101, 652607: 7, 390464: 3, 652613: 2, 259413: 1, 652645: 2, 128384: 6, 521602: 2, 652676: 5, 259460: 41, 652679: 6, 652681: 2, 521613: 1, 652687: 4, 390549: 1, 521623: 1, 652719: 2, 652726: 1, 652732: 5, 521665: 2, 652757: 8, 652760: 5, 652761: 4, 652781: 4, 259586: 2, 259596: 2, 390669: 4, 521748: 1, 521751: 3, 390682: 1, 652845: 5, 652850: 2, 652851: 8, 521780: 6, 521783: 2, 652857: 2, 390720: 8, 652868: 3, 390728: 3, 521803: 9, 652877: 1, 390737: 1, 521810: 2, 521811: 1, 390744: 1, 390747: 2, 521821: 3, 652896: 1, 652898: 8, 521826: 2, 652906: 4, 390762: 7, 652920: 6, 521851: 5, 521855: 1, 652931: 1, 521868: 3, 390798: 5, 652942: 2, 652969: 6, 652974: 5, 521910: 6, 652984: 2, 521912: 7, 652987: 1, 521920: 2, 390850: 3, 652995: 1, 652998: 2, 521931: 3, 390861: 1, 653011: 7, 653015: 3, 390880: 1, 653043: 3, 390907: 1, 653058: 28, 653076: 3, 522007: 6, 522009: 6, 259868: 32, 653085: 3, 390947: 2, 259878: 4, 653097: 8, 390956: 5, 522048: 1, 653125: 1, 259911: 3, 259914: 14, 653133: 3, 522062: 59, 259938: 1, 653183: 3, 128900: 2, 653188: 6, 391046: 2, 391051: 2, 522124: 2, 522126: 101, 522132: 1, 653206: 7, 653210: 7, 522139: 1, 653228: 2, 522168: 4, 522171: 4, 653247: 1, 128963: 1, 653260: 7, 522198: 5, 522200: 4, 522207: 5, 391137: 9, 391139: 1, 522212: 1, 522216: 2, 391147: 1, 522227: 1, 653315: 5, 522252: 3, 391182: 5, 391183: 155, 653337: 4, 391195: 32, 653357: 1, 260142: 4, 653360: 1, 653367: 1, 522300: 2, 653378: 9, 653381: 2, 129093: 11, 653390: 5, 522332: 3, 653441: 1, 129155: 2, 522373: 3, 653445: 3, 653456: 7, 653477: 4, 653485: 5, 522417: 1, 653495: 3, 653501: 1, 522434: 1, 522435: 1, 653527: 1, 653528: 1, 522461: 8, 653536: 2, 522466: 3, 522475: 5, 653547: 5, 391408: 3, 522486: 2, 391418: 3, 391422: 9, 653568: 1, 653581: 1, 653588: 3, 522528: 3, 391457: 4, 653602: 3, 653609: 4, 522561: 4, 522568: 8, 522569: 3, 522594: 2, 653678: 10, 391545: 1, 653696: 2, 522626: 2, 522628: 2, 522630: 1, 653714: 1, 522645: 1, 653728: 8, 653730: 1, 129445: 3, 522661: 5, 653736: 2, 653753: 5, 522688: 2, 653763: 8, 653770: 5, 391638: 4, 653790: 4, 653797: 9, 391660: 24, 653817: 1, 653820: 3, 522749: 2, 391701: 4, 653848: 3, 653854: 8, 522782: 10, 129570: 2, 653860: 6, 522790: 4, 653892: 1, 653903: 1, 653904: 1, 391760: 2, 391759: 3, 129619: 2, 522844: 9, 522850: 2, 653923: 2, 653926: 2, 129648: 3, 391793: 4, 391799: 4, 653950: 1, 653953: 17, 391815: 1, 653969: 9, 522906: 3, 522910: 11, 522912: 3, 129705: 3, 260784: 4, 654002: 2, 260786: 3, 654018: 2, 260803: 8, 522948: 2, 522958: 4, 522968: 5, 522990: 2, 522991: 1, 654068: 5, 654071: 1, 654083: 7, 654091: 5, 523021: 1, 654097: 6, 654102: 3, 654106: 3, 523055: 2, 654129: 4, 654131: 5, 654142: 1, 654144: 2, 654174: 5, 523107: 2, 523112: 9, 523113: 2, 523114: 1, 523115: 13, 523119: 2, 129905: 59, 523121: 3, 392072: 2, 392076: 1, 129939: 1, 523158: 3, 523163: 1, 523165: 4, 654239: 16, 392107: 1, 654257: 9, 523189: 1, 523203: 8, 523204: 10, 523205: 1, 523212: 5, 392148: 101, 392149: 25, 130017: 1, 654309: 2, 392173: 1, 392176: 6, 523256: 5, 654331: 4, 654340: 1, 523268: 2, 392205: 3, 392209: 4, 392219: 2, 654369: 3, 523303: 2, 523305: 1, 523308: 1, 654382: 5, 523312: 6, 523318: 22, 261183: 2, 654403: 1, 523340: 9, 523341: 1, 130131: 1, 392291: 1, 654437: 3, 654440: 2, 392298: 2, 261235: 1, 654478: 5, 654487: 5, 654492: 2, 392358: 3, 392362: 4, 523443: 1, 523457: 3, 523469: 2, 130254: 1, 261329: 3, 523481: 39, 654561: 3, 392434: 6, 523509: 5, 654592: 2, 523521: 1, 392452: 32, 523526: 2, 392462: 13, 523540: 2, 523552: 8, 523553: 8, 523554: 4, 523557: 3, 392489: 5, 523577: 22, 654652: 2, 654676: 4, 523606: 3, 523609: 3, 654708: 2, 392574: 1, 523647: 3, 654722: 1, 654739: 5, 392598: 3, 523674: 9, 523676: 3, 654749: 1, 654752: 4, 523682: 7, 392613: 2, 130474: 1, 523692: 1, 261568: 3, 654786: 3, 261583: 2, 523737: 3, 654818: 5, 654827: 3, 654837: 1, 654866: 4, 523822: 5, 654897: 13, 523847: 6, 261704: 104, 130635: 2, 392779: 9, 654939: 4, 523871: 6, 523875: 1, 392808: 2, 392809: 3, 523883: 1, 523894: 1, 523895: 2, 654972: 3, 654973: 2, 261775: 1, 654997: 2, 523938: 7, 261795: 2, 655013: 4, 392876: 1, 130736: 2, 392890: 12, 130746: 9, 655038: 2, 523969: 5, 523971: 8, 655054: 1, 523982: 4, 261845: 3, 523990: 2, 655068: 1, 655073: 5, 261867: 8, 524014: 2, 655095: 1, 261883: 1, 392958: 6, 655104: 3, 392961: 3, 655106: 4, 524032: 3, 392965: 2, 524041: 3, 392972: 5, 655121: 3, 524051: 1, 655125: 8, 524066: 9, 655141: 4, 655144: 2, 393007: 1, 524084: 2, 393015: 1, 655160: 2, 261948: 3, 393030: 8, 655177: 4, 524121: 2, 261980: 59, 130910: 41, 130918: 3, 393065: 2, 655211: 2, 655218: 2, 524146: 1, 262007: 3, 130936: 2, 524159: 1, 655232: 4, 262053: 1, 524201: 1, 655278: 2, 655289: 3, 655309: 7, 524248: 3, 655320: 2, 524250: 2, 131037: 1, 262117: 10, 655334: 11, 655339: 2, 524271: 2})"
      ]
     },
     "execution_count": 145,
     "metadata": {},
     "output_type": "execute_result"
    }
   ],
   "source": [
    "G.degree(largest_cc)"
   ]
  },
  {
   "cell_type": "code",
   "execution_count": 146,
   "metadata": {},
   "outputs": [
    {
     "data": {
      "text/plain": [
       "<Figure size 1080x720 with 0 Axes>"
      ]
     },
     "metadata": {},
     "output_type": "display_data"
    },
    {
     "data": {
      "image/png": "[encoded data removed]",
      "text/plain": [
       "<Figure size 432x288 with 1 Axes>"
      ]
     },
     "metadata": {
      "needs_background": "light"
     },
     "output_type": "display_data"
    }
   ],
   "source": [
    "import collections\n",
    "degree_sequence = sorted([d for n, d in G.degree(largest_cc)], reverse=True)  # degree sequence\n",
    "# print \"Degree sequence\", degree_sequence\n",
    "degreeCount = collections.Counter(degree_sequence)\n",
    "deg, cnt = zip(*degreeCount.items())\n",
    "\n",
    "plt.figure(figsize=(15,10))\n",
    "fig, ax = plt.subplots()\n",
    "plt.bar((deg),(cnt))\n",
    "#, width=0.80, color='b'\n",
    "plt.title(\"Degree Histogram\")\n",
    "plt.ylabel(\"Count\")\n",
    "plt.xlabel(\"Degree\")\n",
    "ax.set_ylim([0,2000])\n",
    "#ax.set_xticks([d + 0.4 for d in deg])\n",
    "#ax.set_xticklabels(deg)\n",
    "plt.show()"
   ]
  },
  {
   "cell_type": "code",
   "execution_count": 147,
   "metadata": {},
   "outputs": [
    {
     "data": {
      "text/plain": [
       "<Figure size 1080x720 with 0 Axes>"
      ]
     },
     "metadata": {},
     "output_type": "display_data"
    },
    {
     "data": {
      "image/png": "[encoded data removed]",
      "text/plain": [
       "<Figure size 432x288 with 1 Axes>"
      ]
     },
     "metadata": {
      "needs_background": "light"
     },
     "output_type": "display_data"
    }
   ],
   "source": [
    "import collections\n",
    "degree_sequence = sorted([d for n, d in G.degree()], reverse=True)  # degree sequence\n",
    "# print \"Degree sequence\", degree_sequence\n",
    "degreeCount = collections.Counter(degree_sequence)\n",
    "deg, cnt = zip(*degreeCount.items())\n",
    "\n",
    "plt.figure(figsize=(15,10))\n",
    "fig, ax = plt.subplots()\n",
    "plt.scatter(np.log(deg), np.log(cnt))\n",
    "#, width=0.80, color='b'\n",
    "plt.title(\"Degree Histogram\")\n",
    "plt.ylabel(\"Count\")\n",
    "plt.xlabel(\"Degree\")\n",
    "#ax.set_ylim([0,2000])\n",
    "#ax.set_xticks([d + 0.4 for d in deg])\n",
    "#ax.set_xticklabels(deg)\n",
    "plt.show()"
   ]
  },
  {
   "cell_type": "code",
   "execution_count": 148,
   "metadata": {},
   "outputs": [],
   "source": [
    "#average_degree = sum(G.degree(largest_cc).values())/len(G.degree(largest_cc))"
   ]
  },
  {
   "cell_type": "markdown",
   "metadata": {},
   "source": [
    "We can see that it is a steeply decreasing distribution with a flat tail. A log-log shows that it follows power law till the end (because of not having enough data points to go to infinity). \n",
    "\n",
    "The distribution of this largest connected component seems quite similar to the distribution of the network as a whole so we can use this as representative of the network for analysis.\n",
    "\n",
    "The largest connected component potentially reflects the largest criminal network we can see.\n",
    "\n",
    "**Problem 4.3(j)**"
   ]
  },
  {
   "cell_type": "code",
   "execution_count": 149,
   "metadata": {},
   "outputs": [
    {
     "name": "stdout",
     "output_type": "stream",
     "text": [
      "Density of the component:  0.0003556454848657796\n"
     ]
    }
   ],
   "source": [
    "print( 'Density of the component: ', nx.density(largest_cc))"
   ]
  },
  {
   "cell_type": "code",
   "execution_count": 150,
   "metadata": {},
   "outputs": [
    {
     "name": "stdout",
     "output_type": "stream",
     "text": [
      "Clustering (unweighted):  0.4784259694538959\n"
     ]
    }
   ],
   "source": [
    "print( 'Clustering (unweighted): ', nx.average_clustering(largest_cc))"
   ]
  },
  {
   "cell_type": "code",
   "execution_count": 151,
   "metadata": {},
   "outputs": [
    {
     "name": "stdout",
     "output_type": "stream",
     "text": [
      "Clustering (weighted):  0.006007783646767325\n"
     ]
    }
   ],
   "source": [
    "print( 'Clustering (weighted): ', nx.average_clustering(largest_cc, weight='weight'))"
   ]
  },
  {
   "cell_type": "code",
   "execution_count": 152,
   "metadata": {},
   "outputs": [
    {
     "name": "stdout",
     "output_type": "stream",
     "text": [
      "Diameter: 48\n"
     ]
    }
   ],
   "source": [
    "#nx.diameter(largest_cc)\n",
    "print ('Diameter:', 48)"
   ]
  },
  {
   "cell_type": "markdown",
   "metadata": {},
   "source": [
    "We can see here that the largest component has high clustering : 48%(unweighted). This means that if A and B have committed crimes together and B and C have committed crimes together, its 48% likely that A and C have also committed crime together *at least once*. \n",
    "This suggests a good closeness between members of the network.\n",
    "\n",
    "However if we look at weighted clustering the value reduces significantly. This means that A and B could have been caught together many times while B and C been caught together only a few times. This means the probability A and C will be caught together is quite low.\n",
    "\n",
    "The diameter is 48 in a network of 20,000 nodes. This means that the furthest separated members of this network are separated by 46 nodes between them. Again this suggests that the network is a large criminal network, with many branches (density is low). \n",
    "\n",
    "**Problem 4.3(k)**"
   ]
  },
  {
   "cell_type": "code",
   "execution_count": 153,
   "metadata": {},
   "outputs": [
    {
     "name": "stdout",
     "output_type": "stream",
     "text": [
      "Number of crimes committed by youngsters without an adult: 0\n"
     ]
    }
   ],
   "source": [
    "cooffendyouth=cooffend[(cooffend['Jeunes']>0) & (cooffend['Adultes']==0) ]\n",
    "#df[(df['A']>0) & (df['B']>0) & (df['C']>0)]\n",
    "print('Number of crimes committed by youngsters without an adult:', len(cooffendyouth))"
   ]
  },
  {
   "cell_type": "markdown",
   "metadata": {},
   "source": [
    "This is a surprising result: No crime is such that only youngsters are caught. This could be due to some sampling bias or just something very fascinating. \n",
    "\n",
    "First lets see if there are more adults or more youth in crimes where they are both present.\n",
    "\n",
    "**Problem 4.3(l)**"
   ]
  },
  {
   "cell_type": "code",
   "execution_count": 154,
   "metadata": {},
   "outputs": [
    {
     "name": "stdout",
     "output_type": "stream",
     "text": [
      "When Youths and Adults are both involved in a crime: \n",
      "Average Youths : 1.4771567649991202\n",
      "Average Adults : 2.8064629640490293\n"
     ]
    }
   ],
   "source": [
    "offendyouth=cooffend[(cooffend['Jeunes']>0) ]\n",
    "print ('When Youths and Adults are both involved in a crime: ')\n",
    "print ('Average Youths :', offendyouth['Jeunes'].mean())\n",
    "print ('Average Adults :',offendyouth['Adultes'].mean())\n"
   ]
  },
  {
   "cell_type": "markdown",
   "metadata": {},
   "source": [
    "This is an interesting result. This means most of the times multiple adults are there with fewer youth. This could be that seniors in a gang are \"training\" juniors. This could also be because an adult would not go with multiple juniors for risk of someone messing up.\n",
    "\n",
    "Let us now try to look at types of crime which have both adults and youths"
   ]
  },
  {
   "cell_type": "code",
   "execution_count": 155,
   "metadata": {},
   "outputs": [
    {
     "name": "stdout",
     "output_type": "stream",
     "text": [
      "Total number of crimes: 17051\n"
     ]
    }
   ],
   "source": [
    "print('Total number of crimes:', len(offendyouth))"
   ]
  },
  {
   "cell_type": "code",
   "execution_count": 156,
   "metadata": {},
   "outputs": [
    {
     "data": {
      "text/plain": [
       "21201    1606\n",
       "21203    1110\n",
       "21405    1074\n",
       "1430     1038\n",
       "21409     982\n",
       "Name: NCD1, dtype: int64"
      ]
     },
     "execution_count": 156,
     "metadata": {},
     "output_type": "execute_result"
    }
   ],
   "source": [
    "(offendyouth['NCD1'].value_counts()).head()\n",
    "\n"
   ]
  },
  {
   "cell_type": "markdown",
   "metadata": {},
   "source": [
    "The most common crimes are:\n",
    "\n",
    "'INTRO PAR EFFR. DANS RES.' (code: 21201, count: 1606, almost 10%)\n",
    "\n",
    "'INTRO EF. ETA. COM. PUBL.' (code: 21203, count: 1110)\n",
    "\n",
    "'VOL 5000$ - A L''ETALAGE' (code: 21405, count: 1074)\n",
    "\n",
    "This suggests that some crimes turn up a significantly greater number of times than others so very specific crimes are committed by youth and adult.\n",
    "\n",
    "The most common crime committed by youths is 'Breaking into a residence'. It would be interesting to think of why this is the most common crime.\n",
    "\n",
    "**Problem 4.3(m)**\n",
    "\n",
    "I will first analyse which criminals have low degree but high eigen centrality. This means they themselves have committed few crimes but are associated with people who have committed high crimes.\n",
    "This could help us prevent these people from joining networks of seasoned criminals. We could also use them to gain information on these seasoned criminals.\n",
    "\n",
    "low degree and high eigen_centrality\n",
    "municiplaty of highest degree\n",
    "which areas have more crime"
   ]
  },
  {
   "cell_type": "code",
   "execution_count": null,
   "metadata": {},
   "outputs": [],
   "source": []
  }
 ],
 "metadata": {
  "kernelspec": {
   "display_name": "Python 3",
   "language": "python",
   "name": "python3"
  },
  "language_info": {
   "codemirror_mode": {
    "name": "ipython",
    "version": 3
   },
   "file_extension": ".py",
   "mimetype": "text/x-python",
   "name": "python",
   "nbconvert_exporter": "python",
   "pygments_lexer": "ipython3",
   "version": "3.7.4"
  }
 },
 "nbformat": 4,
 "nbformat_minor": 2
}
